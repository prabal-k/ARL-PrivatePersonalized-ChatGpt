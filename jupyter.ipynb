{
 "cells": [
  {
   "cell_type": "code",
   "execution_count": 1,
   "metadata": {},
   "outputs": [
    {
     "name": "stderr",
     "output_type": "stream",
     "text": [
      "c:\\Users\\Prabal Kuinkel\\Desktop\\ARL-Intern\\privategpt\\privategpt\\Lib\\site-packages\\sentence_transformers\\cross_encoder\\CrossEncoder.py:11: TqdmWarning: IProgress not found. Please update jupyter and ipywidgets. See https://ipywidgets.readthedocs.io/en/stable/user_install.html\n",
      "  from tqdm.autonotebook import tqdm, trange\n",
      "c:\\Users\\Prabal Kuinkel\\Desktop\\ARL-Intern\\privategpt\\privategpt\\Lib\\site-packages\\guardrails\\validators\\__init__.py:51: FutureWarning: \n",
      "    Importing validators from `guardrails.validators` is deprecated.\n",
      "    All validators are now available in the Guardrails Hub. Please install\n",
      "    and import them from the hub instead. All validators will be\n",
      "    removed from this module in the next major release.\n",
      "\n",
      "    Install with: `guardrails hub install hub://<namespace>/<validator_name>`\n",
      "    Import as: from guardrails.hub import `ValidatorName`\n",
      "    \n",
      "  warn(\n"
     ]
    }
   ],
   "source": [
    "# to load the fine tuned model\n",
    "from langchain.llms import CTransformers \n",
    "from langchain_community.utilities import SQLDatabase   #To interact with the database\n",
    "from langchain_experimental.sql import SQLDatabaseChain #To create a chain of llm and database chain\n",
    "from langchain.embeddings import HuggingFaceEmbeddings  #To load the embedding model from hugging face\n",
    "from langchain.vectorstores import Chroma               #Chroma Vectorstore\n",
    "from langchain.prompts import FewShotPromptTemplate     #To create fewshot template that servers as reference for the llm\n",
    "from langchain.chains.sql_database.prompt import PROMPT_SUFFIX,_mysql_prompt \n",
    "from langchain.prompts.prompt import PromptTemplate     #Prompt template for llm input\n",
    "from sentence_transformers import SentenceTransformer   #To load the embedding model\n",
    "from guardrails import Guard, OnFailAction              #To implement guardrails \n",
    "from guardrails.hub import CompetitorCheck, ToxicLanguage\n",
    "from guardrails.hub import ProfanityFree\n",
    "from sklearn.metrics.pairwise import cosine_similarity  "
   ]
  },
  {
   "cell_type": "code",
   "execution_count": 2,
   "metadata": {},
   "outputs": [],
   "source": [
    "#Loading the model from local storage and adjusting the necessary parameter . \n",
    "#temperature parameter ranges from 0 to 1 where lower value means less creative with straightforward response where higher values means more creative but chances of response being inaccurate\n",
    "#max_new_tokens is context window for llm (i.e total tokens llm can accept at a time) \n",
    "#context_length is the number of tokens  that can be generated as response by llm\n",
    "llm = CTransformers(model=\"model\\original-metallama-5epoch-graphofloss.Q5_0.gguf\",\n",
    "                        model_type=\"llama\", config={'max_new_tokens':60,'temperature':0.5,'context_length': 2990})"
   ]
  },
  {
   "cell_type": "code",
   "execution_count": 3,
   "metadata": {},
   "outputs": [
    {
     "name": "stdout",
     "output_type": "stream",
     "text": [
      "\n",
      "CREATE TABLE transactions (\n",
      "\tid INTEGER NOT NULL AUTO_INCREMENT, \n",
      "\t`Account_No` VARCHAR(20) NOT NULL, \n",
      "\t`Withdrawal_amount` DECIMAL(15, 2) DEFAULT '0.00', \n",
      "\t`Deposit_amount` DECIMAL(15, 2) DEFAULT '0.00', \n",
      "\t`Balance_amount` DECIMAL(15, 2) DEFAULT '0.00', \n",
      "\t`Data` DATE NOT NULL, \n",
      "\ttransaction_details VARCHAR(100) DEFAULT '', \n",
      "\t`Value_date` DATE, \n",
      "\t`Date` DATE, \n",
      "\tPRIMARY KEY (id)\n",
      ")ENGINE=InnoDB DEFAULT CHARSET=utf8mb4 COLLATE utf8mb4_0900_ai_ci\n",
      "\n",
      "/*\n",
      "3 rows from transactions table:\n",
      "id\tAccount_No\tWithdrawal_amount\tDeposit_amount\tBalance_amount\tData\ttransaction_details\tValue_date\tDate\n",
      "1\t40906174\t10946.00\t0.00\t35953.00\t2016-01-01\tEntertainment\t2016-01-01\tNone\n",
      "2\t40906174\t0.00\t908145.00\t944098.00\t2016-01-01\t\t2016-01-01\tNone\n",
      "3\t40906174\t17385.00\t0.00\t-926713.00\t2016-01-01\tEntertainment\t2016-01-01\tNone\n",
      "*/\n"
     ]
    }
   ],
   "source": [
    "# MySQL connection URI\n",
    "username = 'root'  #username \n",
    "password = 'prabal9869' #password\n",
    "host = '127.0.0.1'  #host\n",
    "dbname = 'arl_bank2'  # Database name\n",
    "\n",
    "# Constructing the MySQL URI\n",
    "mysql_uri = f\"mysql+pymysql://{username}:{password}@{host}/{dbname}\"\n",
    "\n",
    "# # Initializing SQLDatabase object for MySQL\n",
    "db = SQLDatabase.from_uri(mysql_uri, sample_rows_in_table_info=3)\n",
    "print(db.table_info)"
   ]
  },
  {
   "cell_type": "code",
   "execution_count": 4,
   "metadata": {},
   "outputs": [],
   "source": [
    "#Creating a database chain\n",
    "db_chain = SQLDatabaseChain.from_llm(llm=llm,db=db,verbose=True)"
   ]
  },
  {
   "cell_type": "markdown",
   "metadata": {},
   "source": [
    "# FEW SHORT LEARNING"
   ]
  },
  {
   "cell_type": "code",
   "execution_count": 5,
   "metadata": {},
   "outputs": [],
   "source": [
    "# # #Few_shorts\n",
    "\n",
    "# # #This few shots example consists of more questions that the model was not trained on and the model uses these as references.\n",
    "\n",
    "# few_shots=[\n",
    "#     {\n",
    "#         'Question':\"what is my Income of last 3 months. ?\",\n",
    "#         'SQLQuery':\"\"\"SELECT SUM(Deposit_amount) AS Total_Income FROM transactions WHERE Value_date >= DATE_SUB(CURRENT_DATE(), INTERVAL 3 MONTH) \"\"\",\n",
    "#         'SQLResult':\"1530205868\",\n",
    "#         'Answer':\"The income of last 3 months is 1530205868 .\"\n",
    "#     } ,\n",
    "     \n",
    "# #      {\n",
    "# #         'Question':\"waht is my Savings of last 2 year  \",\n",
    "\n",
    "# #         'SQLQuery':\"\"\"SELECT YEAR(Value_date) AS Year, SUM(Deposit_amount) - SUM(Withdrawal_amount) AS Net_Savings FROM transactions WHERE Value_date >= DATE_SUB(CURRENT_DATE(), INTERVAL 2 YEAR) GROUP BY YEAR(Value_date) \"\"\",\n",
    "# #         'SQLResult':\"\"\"\n",
    "# #        [(2022, Decimal('2270453')),\n",
    "# #     (2023, Decimal('-895783')),\n",
    "# #     (2024, Decimal('-912470'))]\n",
    "\n",
    "# #         \"\"\",\n",
    "# #         'Answer':\"\"\"Your savings of last 2 year are:\n",
    "# #          2022:RS. 2270453, 2023:RS.-895783 \n",
    "# #                 2024:RS. -912470 .\"\"\"\n",
    "# #     }\n",
    "\n",
    "# # ,\n",
    "#     {\n",
    "#         'Question':\"How many transactions did I make in last 2 week  \",\n",
    "#         'SQLQuery':\"\"\"SELECT COUNT(*) AS Total_Transactions FROM transactions WHERE Value_date >= DATE_SUB(CURRENT_DATE(), INTERVAL 2 WEEK)  \"\"\",\n",
    "#         'SQLResult':\"162\",\n",
    "#         'Answer':\"You made 162 transactions in last 2 week.\"\n",
    "#     }\n",
    "#     ,\n",
    "#      {\n",
    "#         'Question':\"How much Amount did i spent last week   \",\n",
    "#         'SQLQuery':\"\"\"SELECT SUM(Withdrawal_amount) AS Total_Spending FROM transactions WHERE year(value_date) = year(curdate()) and week(value_date)=week(curdate())-1  \"\"\",\n",
    "#         'SQLResult':\"626764\",\n",
    "#         'Answer':\"You spent total RS. 626764 last week .\"\n",
    "#     }\n",
    "#     , {\n",
    "#         'Question': \"what is my Expenses for each day this month ?\",\n",
    "#         'SQLQuery': \"\"\"SELECT value_date, SUM(Withdrawal_amount) AS Total_Expenses FROM transactions WHERE YEAR(Value_date) = YEAR(CURRENT_DATE()) AND MONTH(Value_date) = MONTH(CURRENT_DATE()) GROUP BY value_date \"\"\",\n",
    "#         'SQLResult':\n",
    "#         \"\"\"\n",
    "# [(2024, 6, 2, Decimal('183648')),\n",
    "# (2024, 6, 3, Decimal('80666')),\n",
    "# (2024, 6, 4, Decimal('135504')),\n",
    "# (2024, 6, 5, Decimal('92031')),\n",
    "# (2024, 6, 6, Decimal('118475')),\n",
    "# (2024, 6, 7, Decimal('16440')),\n",
    "# (2024, 6, 9, Decimal('62112')),\n",
    "# (2024, 6, 10, Decimal('10331'))]\n",
    "# \"\"\"\n",
    "#         ,\n",
    "#         'Answer': \"\"\"The total_expenses for each day of this month are:\n",
    "#         2024 June, 2:RS. 183648,\n",
    "#         2024 June, 3:RS. 80666,\n",
    "#         2024 June, 4:RS. 135504,\n",
    "#         2024 June, 5:RS. 92031,\n",
    "#         2024 June, 6:RS. 118475,\n",
    "#         2024 June, 7:RS. 16440,\n",
    "#         2024 June, 9:RS. 62112,\n",
    "#         2024 June, 10:RS. 10331\n",
    "#         \"\"\"\n",
    "#     },\n",
    "#     # {\n",
    "#     #     'Question':\"What is my savings of previous year for each month \",\n",
    "#     #     'SQLQuery':\"\"\"SELECT year(Value_date), MONTH(Value_date) AS Month, (SUM(Deposit_amount) - SUM(Withdrawal_amount)) AS Total_Savings FROM transactions WHERE YEAR(Value_date) = YEAR(CURRENT_DATE() - INTERVAL 1 YEAR) GROUP BY year(value_date), MONTH(Value_date) ORDER BY MONTH(Value_date); \"\"\",\n",
    "#     #     'SQLResult':\"\"\"\n",
    "#     #    [(2023, 1, Decimal('-311244')),\n",
    "#     #     (2023, 2, Decimal('9101')),\n",
    "#     #     (2023, 3, Decimal('3476')),\n",
    "#     #     (2023, 4, Decimal('-15971')),\n",
    "#     #     (2023, 5, Decimal('322249')),\n",
    "#     #     (2023, 6, Decimal('-172560')),\n",
    "#     #     (2023, 7, Decimal('361471')),\n",
    "#     #     (2023, 8, Decimal('-446844')),\n",
    "#     #     (2023, 9, Decimal('93215')),\n",
    "#     #     (2023, 10, Decimal('-73917')),\n",
    "#     #     (2023, 11, Decimal('294502')),\n",
    "#     #     (2023, 12, Decimal('-404028'))]\n",
    "#     #     \"\"\",\n",
    "#     #     'Answer':\"\"\"\n",
    "#     #     Your Savings for each month of previous year are:\n",
    "#     #     January:RS. -311244, February:RS. 9101, March:RS. 3476\n",
    "#     #     April:RS. -15971, May:RS. 322249, June:RS. -172560\n",
    "#     #     July:RS. 361471, August:RS. -446844, September:RS. 93215\n",
    "#     #     October:RS. -73917, November:RS. 294502, December:RS. -404028 \"\"\"\n",
    "#     # },\n",
    "#      {\n",
    "#         'Question':\"how much amount I Save each year\",\n",
    "#         'SQLQuery':\"\"\"SELECT YEAR(Value_date) AS Year,SUM(Deposit_amount) - SUM(Withdrawal_amount) AS Savings FROM transactions GROUP BY YEAR(Value_date) \"\"\",\n",
    "#         'SQLResult':\"\"\"\n",
    "#       [(2021, Decimal('497766')),\n",
    "#         (2022, Decimal('272458')),\n",
    "#         (2023, Decimal('-340550')),\n",
    "#         (2024, Decimal('-148114'))]\n",
    "#        \"\"\",\n",
    "#         'Answer':\"\"\"You saved following amount each year:\n",
    "#                 2021:RS. 497766, 2022:RS. 272458, 2023:RS. -340550\n",
    "#                 2024:RS. -148114 \"\"\"\n",
    "#     }\n",
    "  \n",
    "\n",
    "#     #&&&&&&&&&&&&&&&&&&&&\n",
    "#     ,\n",
    "#      {\n",
    "#         'Question':\"What is my spendings/Expenses of each day of last week  \",\n",
    "#         'SQLQuery':\"\"\"SELECT DATE(Value_date) AS Date, SUM(Withdrawal_amount) AS Total_Spending FROM transactions WHERE  YEAR(Value_date) = YEAR(CURDATE()) AND week(Value_date) = week(CURDATE())-1 GROUP BY DATE(Value_date)\"\"\",\n",
    "#         'SQLResult':\"\"\"\n",
    "#        [(2024-07-14, Decimal('12500000')),\n",
    "#     (2024-07-15, Decimal('4900000')),\n",
    "#     (2024-07-16, Decimal('3901373')),\n",
    "#     (2024-07-17, Decimal('4400000')),\n",
    "#     (2024-07-18, Decimal('4800000')),\n",
    "#     (2024-07-19, Decimal('2700000'))]\n",
    "#         \"\"\",\n",
    "#         'Answer':\"\"\"You spend following amount each day last week:\n",
    "#         July 14:RS. 12500000, July 15:RS. 3901373, July 16:RS. 3901373, July 17:RS. 4400000, July 18:RS. 4800000, July 19:RS. 2700000 \"\"\"\n",
    "#     }\n",
    "#     ,\n",
    "#     {\n",
    "#         'Question':\"How much Amount did i spent this year ?\",\n",
    "#         'SQLQuery':\"\"\"SELECT sum(Withdrawal_amount) AS Total_Expenses FROM transactions WHERE year(Value_date) = year(curdate()) \"\"\",\n",
    "#         'SQLResult':\"\"\"[( Decimal('6527128485'))]\"\"\",\n",
    "#         'Answer':\"You spent RS. 6527128485 this year\"\n",
    "#     },\n",
    "#     {\n",
    "#     'Question': \"What is my consistent income in last 2 months ?\",\n",
    "#     'SQLQuery': \"\"\"SELECT AVG(Monthly_Income) AS Consistent_Income \n",
    "#     FROM (SELECT YEAR(Value_date) AS Year, MONTH(Value_date) AS Month, SUM(Deposit_amount) AS Monthly_Income FROM transactions WHERE  Value_date >= \n",
    "#     DATE_SUB(CURRENT_DATE(), INTERVAL 2 MONTH) AND \n",
    "#     GROUP BY  YEAR(Value_date), MONTH(Value_date)) AS Income_Last_3_Months;\n",
    "#     \"\"\",\n",
    "#     'SQLResult': \"2466666.6667\",\n",
    "#     'Answer': \"The consistent income of last 2 months is RS. 2466666.6667\"\n",
    "# }\n",
    "# #     ,\n",
    "# #     {\n",
    "# #         'Question':\"amount/money saved each month previous year ?\",\n",
    "# #         'SQLQuery':\"\"\"SELECT YEAR(Value_date) AS Year, MONTH(Value_date) AS Month, SUM(Deposit_amount) - SUM(Withdrawal_amount) AS Savings FROM transactions WHERE YEAR(Value_date) = YEAR(DATE_SUB(CURRENT_DATE(), INTERVAL 1 YEAR)) GROUP BY YEAR(Value_date), MONTH(Value_date) \"\"\",\n",
    "# #         'SQLResult':\"\"\"\n",
    "# # [(2023, 1, Decimal('-311244')),\n",
    "# # (2023, 2, Decimal('9101')),\n",
    "# # (2023, 3, Decimal('3476')),\n",
    "# # (2023, 4, Decimal('-15971')),\n",
    "# # (2023, 5, Decimal('322249')),\n",
    "# # (2023, 6, Decimal('-172560')),\n",
    "# # (2023, 7, Decimal('361471')),\n",
    "# # (2023, 8, Decimal('-446844')),\n",
    "# # (2023, 9, Decimal('93215')),\n",
    "# # (2023, 10, Decimal('-73917')),\n",
    "# # (2023, 11, Decimal('294502')),\n",
    "# # (2023, 12, Decimal('-404028'))]\n",
    "# #         \"\"\",\n",
    "# #         'Answer':\"\"\"You saved following amounts previous year :\n",
    "# #         January: -311244, February: 9101, March: 3476, April: -15971, May: 322249, June: 172560, July: 361471, \n",
    "# #         August: 446844, September: 93215, October: 73917, November: 294502, December: 404028 \"\"\"\n",
    "# #     }\n",
    "#     ,\n",
    "# {\n",
    "#     'Question': \"What was my total income last quarter ?\",\n",
    "#     'SQLQuery': \"\"\"SELECT SUM(Deposit_amount) AS Total_Income FROM transactions WHERE YEAR(Value_date) = YEAR(CURRENT_DATE()) AND QUARTER(Value_date) = QUARTER(CURRENT_DATE()) - 1 \"\"\",\n",
    "#     'SQLResult':\"2055417596\",\n",
    "#     'Answer':\"Your total income last quater was RS. 2055417596.\"\n",
    "# }\n",
    "#      ,\n",
    "#       {\n",
    "#         'Question':\"income of the previous year \",\n",
    "#         'SQLQuery':\"\"\"SELECT SUM(Deposit_amount) AS Total_Income FROM transactions WHERE YEAR(Value_date) = YEAR(CURRENT_DATE()) - 1 \"\"\",\n",
    "#         'SQLResult':\"38593214103\",\n",
    "#         'Answer':\"Your income previous ysear was 38593214103.\"\n",
    "#     }\n",
    "#     # ,\n",
    "#     #   {\n",
    "#     #     'Question':\"income of the first 4 month of previous year \",\n",
    "#     #     'SQLQuery':\"\"\"SELECT SUM(Deposit_amount) AS Total_Income FROM transactions WHERE MONTH(Value_date) IN (1,2,3,4) AND YEAR(Value_date) = YEAR(CURRENT_DATE) - 1 \"\"\",\n",
    "#     #     'SQLResult':\"17847505444\",\n",
    "#     #     'Answer':\"Your income of first 4 month of previous year was 17847505444.\"\n",
    "#     # }\n",
    "# #     ,\n",
    "# #     {\n",
    "# #     'Question': \"amount I lost each year?\",\n",
    "# #     'SQLQuery': \"\"\" SELECT YEAR(Value_date) AS Year,SUM(Withdrawal_amount) - SUM(Deposit_amount) AS Losses FROM transactions GROUP BY YEAR(Value_date) \"\"\",\n",
    "# #     'SQLResult': \"\"\"[\n",
    "# #         (2022, Decimal('256395842')),\n",
    "# #         (2023, Decimal('552520828')),\n",
    "# #         (2024, Decimal('505236609')),\n",
    "# #         (2021, Decimal('1251859488')),\n",
    "# #         (2020, Decimal('694854538'))]\"\"\"\n",
    "# #     ,\n",
    "# #     'Answer': \"You lost RS. 694854538 in 2020, RS. 1251859488 in 2021, RS. 256395842 in 2022,RS. 552520828 in 2023, and RS. 505236609 in 2024.\"\n",
    "# # }\n",
    "# ,\n",
    "# {\n",
    "#     \"Question\": \"What is my average spendings of last 11 transactions?\",\n",
    "#     \"SQLQuery\": \"\"\"SELECT AVG(Withdrawal_amount) AS Average_Spending FROM (SELECT Withdrawal_amount FROM transactions WHERE Withdrawal_amount \n",
    "#                 IS NOT NULL ORDER BY Value_date DESC LIMIT 11) AS Last11Transactions\"\"\",\n",
    "#     \"SQLResult\":\"1138377.5455\",\n",
    "#     'Answer': \"1138377.5455 is your average spendings of last 11 transactions .\" \n",
    "# }\n",
    "# ,\n",
    "# {\n",
    "#     'Question': \"How much did I spend each quarter this year?\",\n",
    "#     'SQLQuery': \"\"\"SELECT QUARTER(Value_date) AS Quarter, SUM(Withdrawal_amount) AS Total_Spending\n",
    "#                    FROM transactions WHERE YEAR(Value_date) = YEAR(CURRENT_DATE()) GROUP BY QUARTER(Value_date)\"\"\",\n",
    "#     'SQLResult':\"\"\"[(1, Decimal('5885524375')),\n",
    "#                     (2, Decimal('2689194690')),\n",
    "#                     (3, Decimal('263256582'))]\"\"\",\n",
    "#     'Answer': \"\"\"Spendings for each quater is :\n",
    "#                     Quarter-1:RS. 5885524375, Quarter-2:RS. 2689194690, Quarter-3:RS. 263256582\"\"\"\n",
    "# }\n",
    "\n",
    "# # ,\n",
    "\n",
    "# # {\n",
    "# #     'Question': \"In which date did i make my highest transaction of this month and what was the amount?\",\n",
    "# #     'SQLQuery': \"SELECT Value_date, MAX(Withdrawal_amount) AS Highest_Transaction_Amount FROM transactions WHERE Value_date >= DATE_SUB(CURRENT_DATE(), INTERVAL 1 MONTH) GROUP BY Value_date ORDER BY Highest_Transaction_Amount DESC LIMIT 1\",\n",
    "# #     'SQLResult': \"[(2024-06-25, Decimal('10000000'))]\",\n",
    "# #     'Answer': \"You made the highest transaction on Junt 25th and the amount is RS. 10000000\"\n",
    "# # }\n",
    "# # ,\n",
    "# #  {\n",
    "# #         'Question': \"How much amount did I spent on February month ?\",\n",
    "# #         'SQLQuery': \"\"\"SELECT SUM(Withdrawal_amount) AS Spending_February FROM transactions WHERE YEAR(Value_date) = YEAR(CURRENT_DATE()) AND MONTH(Value_date) = 2\"\"\",\n",
    "# #         'SQLResult': \"1985783353\",\n",
    "# #         'Answer': \"You spent RS. 1985783353 on February month.\"\n",
    "# #     }\n",
    "#     # ,\n",
    "# #     {\n",
    "# #         'Question': \"What were my total expenditures by month in the previous year?\",\n",
    "# #         'SQLQuery': \"\"\"SELECT YEAR(Value_date) AS Year, MONTH(Value_date) AS Month, SUM(Withdrawal_amount) AS Total_Expenditures FROM transactions WHERE YEAR(Value_date) = YEAR(CURRENT_DATE()) - 1 GROUP BY YEAR(Value_date), MONTH(Value_date)\"\"\",\n",
    "# #         'SQLResult':\"\"\"[(2023, 1, Decimal('4530730974')), (2023, 2, Decimal('4616646063')), (2023, 3, Decimal('5276664685')), (2023, 4, Decimal('4571039249')), (2023, 5, Decimal('3557364039')), (2023, 6, Decimal('3262112460')), (2023, 7, Decimal('3142750834')), (2023, 8, Decimal('2875423837')), (2023, 9, Decimal('2727745395')), (2023, 10, Decimal('2537575257')), (2023, 11, Decimal('2818821756')), (2023, 12, Decimal('2246381750'))]\"\"\",\n",
    "# #         'Answer': \"\"\"Expenditure for each month previous year:\n",
    "# #             January:RS. 4530730974, February: RS. 4616646063, March: RS. 5276664685, April: RS. 4571039249, May:RS. 3557364039, June: RS. 3262112460, July:RS. 3142750834, August:RS. 2875423837, September:RS. 2727745395, October:RS. 2537575257, November:RS. 2818821756, December:RS. 2246381750 \"\"\"\n",
    "# # }\n",
    "\n",
    "# # ,{\n",
    "# #         'Question': \"Which is my highest earning month this year ? I also want the amount along with month\",\n",
    "# #         'SQLQuery': \"\"\"SELECT MONTH(Value_date) AS Month, SUM(Deposit_amount) AS Total_Earnings FROM transactions WHERE YEAR(Value_date) = YEAR(CURRENT_DATE()) GROUP BY MONTH(Value_date) ORDER BY Total_Earnings DESC limit 1\"\"\",\n",
    "# #     'SQLResult': \"[(1, Decimal('1893013978'))]\",\n",
    "# #         'Answer': \"Your highest earning month this year is June with amount 1893013978.\"\n",
    "# #     }\n",
    "#     ,{\n",
    "#         'Question': \"What was my total spending last week? \",\n",
    "#         'SQLQuery': \"\"\"SELECT sum(Withdrawal_amount) AS Total_Expenses FROM transactions WHERE  YEAR(Value_date) = YEAR(CURDATE()) AND week(Value_date) = week(CURDATE())-1  \"\"\",\n",
    "#         'SQLResult': \"33201373\",\n",
    "#         'Answer': \"Your total expenses last week was RS. 33201373.\"\n",
    "#     },\n",
    "# #     {\n",
    "# #     \"Question\": \"Can you give me a breakdown of my expenses for each day this week?\",\n",
    "# #     \"SQLQuery\": \"SELECT DATE(Value_date) AS Date, SUM(Withdrawal_amount) AS Daily_Expenses FROM transactions WHERE YEAR(Value_date) = YEAR(CURDATE()) AND WEEK(Value_date) = WEEK(CURDATE()) GROUP BY DATE(Value_date) ORDER BY Date ASC\",\n",
    "# #     'SQLResult':\"\"\"(2024-07-21, Decimal('9967448')),\n",
    "# #         (2024-07-22, Decimal(32142360'))\"\"\",\n",
    "# #     'Answer': \"Daily expenses for the week: July 21st: RS. 9967448, July 22nd: RS. 32142360.\"\n",
    "# # },\n",
    "# # # {\n",
    "# # #         'Question': \"How much did i save last month as my account number is 409000493201 \",\n",
    "# # #         'SQLQuery': \"\"\"  SELECT  SUM(Deposit_amount) - SUM(Withdrawal_amount) AS Total_Savings\n",
    "# # # FROM transactions WHERE year(value_date) = year(curdate()) and month(value_date)=month(curdate()) -1 AND Account_No = '409000493201';\n",
    "# # # \"\"\",\n",
    "# # #     'SQLResult': \"89804\",\n",
    "# # #         'Answer': \"Your savings last month was RS. 89804.\"\n",
    "# # #     }\n",
    "# # #     ,\n",
    "#     {\n",
    "#         'Question': \"What is my total income and total spending this month \",\n",
    "#         'SQLQuery': \"\"\"  SELECT SUM(Deposit_amount) AS Total_Income, SUM(Withdrawal_amount) AS Total_Spending FROM transactions WHERE YEAR(Value_date) = YEAR(CURRENT_DATE()) AND MONTH(Value_date) = MONTH(CURRENT_DATE()) ; \"\"\",\n",
    "#     'SQLResult': \"[(Decimal('4700000'), Decimal('4610196'))]\",\n",
    "#         'Answer': \"Your total income this month is RS. 4700000 and total spending is RS. 4610196 .\"\n",
    "#     },\n",
    "#     {\n",
    "#     'Question': \"Breakdown my expenses for each week for the last month \",\n",
    "#     'SQLQuery': \"\"\"SELECT WEEK(Value_date) AS Week, SUM(Withdrawal_amount) AS Weekly_Expenses FROM transactions WHERE Value_date >= DATE_SUB(LAST_DAY(DATE_SUB(CURDATE(), INTERVAL 1 MONTH)), INTERVAL DAY(LAST_DAY(DATE_SUB(CURDATE(), INTERVAL 1 MONTH)))-1 DAY) AND Value_date <= LAST_DAY(DATE_SUB(CURDATE(), INTERVAL 1 MONTH)) GROUP BY 1 \"\"\",\n",
    "#     'SQLResult': \"\"\"[(22, Decimal('1113224')),\n",
    "#                     (23, Decimal('1030576')),\n",
    "#                     (23, Decimal('1394682')),\n",
    "#                     (24, Decimal('847515')),\n",
    "#                     (25, Decimal('224199'))]\"\"\",\n",
    "#     'Answer': \"\"\" Your expenses were:\n",
    "#     1st week : RS. 1113224,\n",
    "#     2nd week :RS. 1030576,\n",
    "#     3rd week: RS. 1394682,\n",
    "#     4th week:RS. 847515 , \n",
    "#     5th week:RS. 224199\"\"\"\n",
    "  \n",
    "# }\n",
    "# ,\n",
    "# {\n",
    "#         'Question': \"What is my total income for this year so far ? \",\n",
    "#         'SQLQuery': \"\"\"SELECT SUM(Deposit_amount) AS Total_Income \n",
    "# FROM transactions WHERE YEAR(Value_date) = YEAR(CURDATE()) ;\n",
    "#  \"\"\",\n",
    "#     'SQLResult': \"59000000\",\n",
    "#         'Answer': \"The total income this year is RS. 59000000 \"\n",
    "#     },\n",
    "#     {\n",
    "#         'Question': \"How much did I spend in the last quarter of the previous year?\",\n",
    "#         'SQLQuery': \"\"\"SELECT SUM(Withdrawal_amount) AS Total_Spending \n",
    "# FROM transactions \n",
    "# WHERE YEAR(Value_date) = YEAR(CURDATE()) - 1 \n",
    "# AND QUARTER(Value_date) = 4; \"\"\",\n",
    "#     'SQLResult': \"32120960\",\n",
    "#         'Answer': \"Your spendings of last quater is RS.32120960 \"\n",
    "#     },\n",
    "#     {\n",
    "#         'Question':  \"Can you give me a monthly breakdown of my income for the past 6 months?\",\n",
    "#         'SQLQuery': \"\"\" SELECT YEAR(Value_date) AS Year, MONTH(Value_date) AS Month, SUM(Deposit_amount) AS Monthly_Income \n",
    "# FROM transactions \n",
    "# WHERE Value_date >= DATE_SUB(CURDATE(), INTERVAL 6 MONTH) \n",
    "# GROUP BY YEAR(Value_date), MONTH(Value_date);\"\"\",\n",
    "#     'SQLResult': \"\"\"[(2024,1, Decimal('715160')),\n",
    "#                     (2024,2, Decimal('4584217')),\n",
    "#                     (2024,3, Decimal('9112141')),\n",
    "#                     (2024,4, Decimal('11443808')),\n",
    "#                     (2024,5, Decimal('5411781')),\n",
    "#                     (2024,6, Decimal('4700000')),\n",
    "#                     (2024,7, Decimal('2100000'))]\"\"\",\n",
    "#         'Answer': \"\"\"Here is the breakdown of your monthly income for past 6 months:\n",
    "#         January: RS. 715160,\n",
    "#         February: RS. 4584217,\n",
    "#         March: RS. 9112141,\n",
    "#         April: RS. 11443808,\n",
    "#         May: RS. 5411781,\n",
    "#         June: RS. 4700000,\n",
    "#         July: RS. 2100000\n",
    "#         \"\"\"\n",
    "#     },\n",
    "#     {\n",
    "#         'Question': \"What is the total amount of money deposited over the past year \",\n",
    "#         'SQLQuery': \"\"\" SELECT SUM(Deposit_amount) AS Total_Deposits \n",
    "# FROM transactions \n",
    "# WHERE YEAR(Value_date) = YEAR(CURDATE()) - 1 \"\"\",\n",
    "#     'SQLResult': \"39109096\",\n",
    "#         'Answer': \"The total amount of money deposited over the past year is Rs. 39109096\"\n",
    "#     },\n",
    "#     #$$$$$$\n",
    "\n",
    "# # {\n",
    "# #     'Question': \"What were my total losses for each month last year \",\n",
    "# #     'SQLQuery': \"\"\"SELECT MONTH(Value_date) AS Month, SUM(Withdrawal_amount) - SUM(Deposit_amount) AS Monthly_Losses \n",
    "# #                    FROM transactions \n",
    "# #                    WHERE YEAR(Value_date) = YEAR(CURDATE()) - 1 \n",
    "# #                    GROUP BY MONTH(Value_date);\"\"\",\n",
    "# #     'SQLResult': \"\"\"[(1, Decimal('463794')),\n",
    "# #                     (2, Decimal('-5936')),\n",
    "# #                     (3, Decimal('-262405')),\n",
    "# #                     (4, Decimal('403300')),\n",
    "# #                     (5, Decimal('-170150')),\n",
    "# #                     (6, Decimal('-363342')),\n",
    "# #                     (7, Decimal('456354')),\n",
    "# #                     (8, Decimal('-486051')),\n",
    "# #                     (9, Decimal('267825')),\n",
    "# #                     (10, Decimal('-179758')),\n",
    "# #                     (11, Decimal('74787')),\n",
    "# #                     (12, Decimal('-122188'))]\"\"\",\n",
    "# #     'Answer': \"\"\"Your loss for each month last year is:\n",
    "# #     January: RS. 463794,\n",
    "# #      February:RS.-5936,\n",
    "# #      March:RS. -262405,\n",
    "# #      April:RS. 403300,\n",
    "# #      May:RS. -170150,\n",
    "# #      June:RS. -363342,\n",
    "# #      July:RS. 456354,\n",
    "# #      August:RS. -486051,\n",
    "# #      September:RS. 267825,\n",
    "# #      October:RS. -179758,\n",
    "# #      November:RS. 74787,\n",
    "# #      December:RS. -122188\"\"\"\n",
    "# # },\n",
    "# {\n",
    "#     'Question': \"What is the highest single deposit amount made this year \",\n",
    "#     'SQLQuery': \"\"\"SELECT MAX(Deposit_amount) AS Highest_Deposit \n",
    "#                    FROM transactions \n",
    "#                    WHERE YEAR(Value_date) = YEAR(CURDATE()) \"\"\",\n",
    "#     'SQLResult': \"615753\",\n",
    "#     'Answer': \"The highest deposit made this year is RS. 615753\"\n",
    "# }\n",
    "# ,\n",
    "# {\n",
    "#     'Question': \"Can you show my total savings for each quarter of the current year \",\n",
    "#     'SQLQuery': \"\"\"SELECT QUARTER(Value_date) AS Quarter, SUM(Deposit_amount) - SUM(Withdrawal_amount) AS Quarterly_Savings \n",
    "#                    FROM transactions \n",
    "#                    WHERE YEAR(Value_date) = YEAR(CURDATE()) \n",
    "#                    GROUP BY QUARTER(Value_date);\"\"\",\n",
    "#     'SQLResult': \"\"\"[(1, Decimal('-566948')),\n",
    "#                     (2, Decimal('-74404')),\n",
    "#                     (3, Decimal('44031'))]\"\"\",\n",
    "#     'Answer': \"1st quater : you lossed RS. -566948 ,2nd quater : you lossed RS. 74404 ,3rd quater : you earned RS 44031\"\n",
    "# },\n",
    "# #From below down the model has not been fine tuned with the question\n",
    "# {\n",
    "#     'Question': \"I want to buy a car worth RS. 5,00,000 in next 2 years . So how much should i save each month to buy the car for account number 1 \",\n",
    "#     'SQLQuery': \"\"\"SELECT round(AVG(Monthly_Savings),0) AS Average_Monthly_Savings\n",
    "# FROM (\n",
    "#     SELECT YEAR(Value_date) AS Year, MONTH(Value_date) AS Month, \n",
    "#            SUM(Deposit_amount - Withdrawal_amount) AS Monthly_Savings\n",
    "#     FROM transactions where Account_No='1'\n",
    "#     GROUP BY YEAR(Value_date), MONTH(Value_date)\n",
    "    \n",
    "# ) AS Monthly_Savings_Calculation;\"\"\",\n",
    "#     'SQLResult': \"\"\"9385\"\"\",\n",
    "#     'Answer': \"\"\"So your average monthly saving is RS 9385 .\n",
    "#     Lets think step by step:\n",
    "#         step-1) Determine Total Number of Months:\n",
    "#         Time frame: 2 years (12 months in 1 year So 2 years * 12 months = 24) = 24 months\n",
    "#     step-2) Calculate Required Monthly Savings:\n",
    "#         Target amount: RS 500000\n",
    "#         Required monthly savings:(It is obtained by dividing the total amount by Time frame) i.e RS. 500000 / 24 months = RS. 20,833.33\n",
    "#     step-3) Compare Current Savings with Required Savings:\n",
    "#         Current average monthly savings: RS 9385\n",
    "#         Difference needed:  RS 20,833.33 - RS 9385 = RS. 11,448.33\n",
    "#     step-4) Conclusion: To reach the goal of saving RS 5,00,000 in 2 years. increase monthly savings to RS 20,833.33 .The additional amount to save each month is RS. 11,448.33 \"\"\"\n",
    "# }\n",
    "# ,\n",
    "# {\n",
    "#     'Question': \"I want to buy a car worth RS 6,00,000 in next 3 years . So how much should i save each month to buy the car ? as my account number is 409000438611. \",\n",
    "#     'SQLQuery': \"\"\"SELECT AVG(Monthly_Savings) AS Average_Monthly_Savings\n",
    "# FROM (\n",
    "#     SELECT YEAR(Value_date) AS Year, MONTH(Value_date) AS Month, \n",
    "#            SUM(Deposit_amount - Withdrawal_amount) AS Monthly_Savings\n",
    "#     FROM transactions\n",
    "#     WHERE Account_No = '409000438611'\n",
    "#     GROUP BY YEAR(Value_date), MONTH(Value_date)\n",
    "# ) AS Monthly_Savings_Calculation;\"\"\",\n",
    "#     'SQLResult': \"\"\"9627.44\"\"\",\n",
    "#     'Answer': \"\"\"Lets think step by step:\n",
    "#         step-1) Determine Total Number of Months:\n",
    "#         Time frame: 3 years (12 months in 1 year So 3 years * 12 months = 36) = 36 months\n",
    "\n",
    "#     step-2) Calculate Required Monthly Savings:\n",
    "#         Target amount: RS 6,00,000\n",
    "#         Required monthly savings:(It is obtained by dividing the total amount by Time frame)RS 600000 / 36 months = RS 16,666.67\n",
    "\n",
    "#     step-3) Compare Current Savings with Required Savings:\n",
    "#         Current average monthly savings: RS 9627.44\n",
    "#         Difference needed: RS 16,666.67 - RS 9,627.44 = RS 7,039.23\n",
    "\n",
    "#     step-4) Conclusion: To reach the goal of saving RS 6,00,000 in 3 years, increase monthly savings to RS 16,666.67 The additional amount to save each month is RS 7,039.23\"\"\"\n",
    "# }\n",
    "# ,\n",
    "\n",
    "#     {\n",
    "#     \"Question\": \"How many transactions did I make last quarter ? \",\n",
    "#     \"SQLQuery\": \"SELECT COUNT(*) AS Total_Transactions FROM transactions WHERE YEAR(Value_date) = YEAR(CURRENT_DATE()) AND QUARTER(Value_date) = QUARTER(CURRENT_DATE()) - 1 \",\n",
    "#     'SQLResult': \"\"\"145\"\"\",\n",
    "#     'Answer': \"\"\"You made 145 transactions last quater.\"\"\"\n",
    "# }\n",
    "# # ,\n",
    "# # {\n",
    "# #     \"Question\": \"What is my net worth as of today?\",\n",
    "# #     \"SQLQuery\": \"SELECT Balance_amount AS Net_Worth FROM transactions WHERE Account_No = '409000493201' ORDER BY Value_date DESC LIMIT 1;\",\n",
    "# #     'SQLResult': \"\"\"743583 \"\"\",\n",
    "# #     'Answer': \"\"\"Your net worth as of today is RS. 743583\"\"\"\n",
    "# # }\n",
    "# ,\n",
    "# {\n",
    "#     'Question': \"How many withdrawals did I make this year?\",\n",
    "#     'SQLQuery': \"\"\"SELECT COUNT(*) AS Total_Withdrawals\n",
    "#                    FROM transactions WHERE YEAR(Value_date) = YEAR(CURRENT_DATE()) \"\"\",\n",
    "#     'SQLResult': \"\"\"19695 \"\"\",\n",
    "#     'Answer': \"\"\"Your made 19695 transaction this year.\"\"\"\n",
    "# },\n",
    "\n",
    "# {\n",
    "#     'Question': \"What is my largest withdrawal amount this year?\",\n",
    "#     'SQLQuery': \"\"\"SELECT MAX(Withdrawal_amount) AS Largest_Withdrawal\n",
    "#                    FROM transactions\n",
    "#                    WHERE YEAR(Value_date) = YEAR(CURRENT_DATE())\"\"\",\n",
    "#     'SQLResult': \"\"\"354000000 \"\"\",\n",
    "#     'Answer': \"\"\"Your largest withdrawal amount this year is RS. 354000000\"\"\"\n",
    "# }\n",
    "\n",
    "# ]\n",
    "\n"
   ]
  },
  {
   "cell_type": "code",
   "execution_count": 6,
   "metadata": {},
   "outputs": [],
   "source": [
    "few_shots =[\n",
    "    # {\n",
    "    #     'Question': \"How much amount did I earned this month ?  \",\n",
    "    #     'SQLQuery': \"\"\"SELECT SUM(Deposit_amount) AS Total_Earned_This_Month FROM transactions where year(value_date)=Year(curdate()) and month(Value_date) = month(curdate()) ;\n",
    "    #     \"\"\",\n",
    "    #      'SQLResult': \"690000\",\n",
    "    #     'Answer': \"You earned RS 6,90,000 this month\"\n",
    " \n",
    "    # },\n",
    "#     {\n",
    "#     'Question': \"What was my consistent income in last 4 months for account number x?\",\n",
    "#     'SQLQuery': \"\"\"SELECT AVG(Monthly_Income) AS Consistent_Income FROM (SELECT YEAR(Value_date) AS Year, MONTH(Value_date) AS Month, SUM(Deposit_amount) AS Monthly_Income FROM transactions WHERE Value_date >= DATE_SUB(CURRENT_DATE(), INTERVAL 4 MONTH) AND Account_No='x' GROUP BY  YEAR(Value_date), MONTH(Value_date)) AS Income_Last_3_Months;\"\"\",\n",
    "#     'SQLResult': \"246666645.6667\",\n",
    "#     'Answer': \"The consistent income of last 4 months is RS. 24,66,66,645.6667\"\n",
    "# }\n",
    "# ,\n",
    "#     {\n",
    "#         'Question': \"How many transactions I make in last 40 days?\",\n",
    "#         'SQLQuery': \"\"\"SELECT COUNT(*) AS transaction FROM transactions WHERE Value_date >= DATE_SUB(CURRENT_DATE(), INTERVAL 40 DAY); \"\"\",\n",
    "#     'SQLResult': \"123\",\n",
    "#     'Answer': \"You made total of 123 transaction within last 40 days.\"\n",
    "#     }\n",
    "#     ,\n",
    "#         {\n",
    "#     \"Question\": \"Can you give me a breakdown of my expenses for each day this week ?\",\n",
    "#     \"SQLQuery\": \"SELECT DATE(Value_date) AS Date, SUM(Withdrawal_amount) AS Daily_Expenses FROM transactions WHERE YEAR(Value_date) = YEAR(CURDATE()) AND WEEK(Value_date) = WEEK(CURDATE()) GROUP BY DATE(Value_date) ORDER BY Date ASC\",\n",
    "#     'SQLResult':\"\"\"(2024-07-21, Decimal('9967448')),\n",
    "#         (2024-07-22, Decimal(32142360'))\"\"\",\n",
    "#     'Answer': \"Daily expenses for the week: July 21st: RS. 9967448, July 22nd: RS. 32142360.\"\n",
    "#   }\n",
    "#   ,\n",
    "#      {\n",
    "#     'Question': \"What is the total number of transactions this year ?\",\n",
    "#     'SQLQuery': \"\"\"SELECT COUNT(*) AS Total_Transactions FROM transactions WHERE YEAR(Value_date) = YEAR(CURRENT_DATE());\"\"\"\n",
    "#     ,\n",
    "#     'SQLResult': \"1542\",\n",
    "#     'Answer': \"You made 1542 transactions this year.\"\n",
    "# }\n",
    "# ,\n",
    "{\n",
    "    'Question': \"How much amount did i earned last year ?\",\n",
    "    'SQLQuery': \"\"\"SELECT SUM(Deposit_amount) AS Earned FROM transactions WHERE YEAR(Value_date) = YEAR(CURRENT_DATE) - 1;\"\"\"\n",
    "    ,\n",
    "    'SQLResult': \"1542\",\n",
    "    'Answer': \"You made 1542 transactions this year. </s>\"\n",
    "},\n",
    "{\n",
    "    'Question': \"I want to buy a car worth RS. 5,00,000 in next 2 years . So how much should i save each month to buy the car . \",\n",
    "    'SQLQuery': \"\"\"SELECT round(AVG(Monthly_Savings),0) AS Average_Monthly_Savings FROM (SELECT YEAR(Value_date) AS Year, MONTH(Value_date) AS Month, SUM(Deposit_amount - Withdrawal_amount) AS Monthly_Savings FROM transactions GROUP BY YEAR(Value_date), MONTH(Value_date)) AS Monthly_Savings_Calculation;\"\"\",\n",
    "    'SQLResult': \"\"\"9385\"\"\",\n",
    "    'Answer': \"\"\"So your average monthly saving is RS 9385 .\n",
    "    Lets think step by step:\n",
    "        step-1) Determine Total Number of Months:\n",
    "        Time frame: 2 years (12 months in 1 year So 2 years * 12 months = 24) = 24 months\n",
    "    step-2) Calculate Required Monthly Savings:\n",
    "        Target amount: RS 500000\n",
    "        Required monthly savings:(It is obtained by dividing the total amount by Time frame) i.e RS. 500000 / 24 months = RS. 20,833.33\n",
    "    step-3) Compare Current Savings with Required Savings:\n",
    "        Current average monthly savings: RS 9385\n",
    "        Difference needed:  RS 20,833.33 - RS 9385 = RS. 11,448.33\n",
    "    step-4) Conclusion: To reach the goal of saving RS 500,000 in 2 years. increase monthly savings to RS 20,833.33 .The additional amount to save each month is RS. 11,448.33 </s>\"\"\"\n",
    "}\n",
    ",\n",
    "{\n",
    "    'Question': \"Can you give me a short description about my spendings of this month ?\",\n",
    "    'SQLQuery': \"\"\"SELECT COUNT(*) AS number_of_transactions,SUM(Withdrawal_amount) AS total_spending,MAX(Withdrawal_amount) AS highest_transaction_amount FROM transactions WHERE year(Value_date) =year(curdate()) And month(value_date) = month(curdate()) ;\"\"\"\n",
    "    ,\n",
    "    'SQLResult': \"\"\"[(Decimal('2772')),\n",
    "                    (Decimal('529053340')),\n",
    "                    (Decimal('10000000')),\n",
    "                    ( Decimal('0'))]\"\"\",\n",
    "    'Answer': \"You made 2772 transaction , spend RS 529,053,340 in total , RS 10,000,000 and RS 0 was you highest and lowest spending of this month .  </s>\"\n",
    "}\n",
    ",\n",
    " {\n",
    "    'Question': \"What was my net worth for account number x in year 2022 ? \",\n",
    "    'SQLQuery': \"\"\"SELECT Balance_amount AS Net_Worth FROM transactions where account_no='x' and year(value_date)='2022' ORDER BY Value_date DESC LIMIT 1; \"\"\",\n",
    "    'SQLResult':'1283234',\n",
    "    'Answer':\"Your networth in 2022 was RS 12,83,234\"\n",
    " }\n",
    "# ,\n",
    "#  {\n",
    "#     'Question': \"What is my current net worth for account number x ? \",\n",
    "#     'SQLQuery': \"\"\"SELECT Balance_amount AS Net_Worth FROM transactions where account_no='x' ORDER BY Value_date DESC LIMIT 1; \"\"\",\n",
    "#     'SQLResult':'1283234',\n",
    "#     'Answer':\"Your current networth is RS 12,83,234\"\n",
    "    \n",
    "#     }\n",
    "# ,\n",
    "#  {\n",
    "#         'Question': \"What is the total amount that i earned in last 4 month?\",\n",
    "#         'SQLQuery': \"\"\"SELECT SUM(Deposit_amount) AS Earned FROM transactions WHERE Value_date >= DATE_SUB(CURRENT_DATE, INTERVAL 4 MONTH) ;\"\"\"\n",
    "#         ,\n",
    "#     'SQLResult': \"3413412\",\n",
    "#     'Answer': \"You Earned Total of RS 34,13,412 in last 4 month.\"\n",
    "#     }\n",
    "]"
   ]
  },
  {
   "cell_type": "code",
   "execution_count": 7,
   "metadata": {},
   "outputs": [],
   "source": [
    "import os\n",
    "from langchain.prompts import SemanticSimilarityExampleSelector\n"
   ]
  },
  {
   "cell_type": "code",
   "execution_count": 8,
   "metadata": {},
   "outputs": [],
   "source": [
    "\n",
    "# Define the path to save the vector store\n",
    "CHROMA_DIR = \"vectorstore/chroma\"\n",
    "CHROMA_DB_PATH = os.path.join(CHROMA_DIR, \"index\")"
   ]
  },
  {
   "cell_type": "code",
   "execution_count": 9,
   "metadata": {},
   "outputs": [
    {
     "name": "stdout",
     "output_type": "stream",
     "text": [
      "Directory created or already exists: vectorstore/chroma\n"
     ]
    }
   ],
   "source": [
    "try:\n",
    "    # Ensure the vectorstore directory exists\n",
    "    os.makedirs(CHROMA_DIR, exist_ok=True)\n",
    "    print(f\"Directory created or already exists: {CHROMA_DIR}\")\n",
    "except FileNotFoundError as e:\n",
    "    print(f\"Error creating directory: {e}\")\n",
    "except Exception as e:\n",
    "    print(f\"An unexpected error occurred: {e}\")"
   ]
  },
  {
   "cell_type": "code",
   "execution_count": 10,
   "metadata": {},
   "outputs": [
    {
     "name": "stderr",
     "output_type": "stream",
     "text": [
      "c:\\Users\\Prabal Kuinkel\\Desktop\\ARL-Intern\\privategpt\\privategpt\\Lib\\site-packages\\langchain_core\\_api\\deprecation.py:119: LangChainDeprecationWarning: The class `HuggingFaceEmbeddings` was deprecated in LangChain 0.2.2 and will be removed in 0.3.0. An updated version of the class exists in the langchain-huggingface package and should be used instead. To use it run `pip install -U langchain-huggingface` and import as `from langchain_huggingface import HuggingFaceEmbeddings`.\n",
      "  warn_deprecated(\n",
      "c:\\Users\\Prabal Kuinkel\\Desktop\\ARL-Intern\\privategpt\\privategpt\\Lib\\site-packages\\huggingface_hub\\file_download.py:1132: FutureWarning: `resume_download` is deprecated and will be removed in version 1.0.0. Downloads always resume when possible. If you want to force a new download, use `force_download=True`.\n",
      "  warnings.warn(\n"
     ]
    }
   ],
   "source": [
    "\n",
    "# sentence-transformers/all-mpnet-base-v2\n",
    "# sentence-transformers/all-MiniLM-L6-v2\n",
    "# multi-qa-MiniLM-L6-cos-v1\n",
    "# sentence-transformers/multi-qa-MiniLM-L6-cos-v1\n",
    "# BAAI/bge-m3\n",
    "embeddings = HuggingFaceEmbeddings(model_name='sentence-transformers/all-MiniLM-L6-v2')"
   ]
  },
  {
   "cell_type": "code",
   "execution_count": 11,
   "metadata": {},
   "outputs": [
    {
     "name": "stdout",
     "output_type": "stream",
     "text": [
      "Loading embeddings from existing Chroma vector store.\n"
     ]
    }
   ],
   "source": [
    "# Check if the vector store already exists\n",
    "if os.path.exists(CHROMA_DB_PATH):\n",
    "    print(\"Loading embeddings from existing Chroma vector store.\")\n",
    "    vectorstore = Chroma(persist_directory=CHROMA_DB_PATH, embedding_function=embeddings)\n",
    "else:\n",
    "    print(\"Creating new embeddings and saving to Chroma vector store.\")\n",
    "    # Create embeddings and vector store\n",
    "    to_vectorize = [\" \".join(example.values()) for example in few_shots]\n",
    "    vectorstore = Chroma.from_texts(to_vectorize, embeddings, metadatas=few_shots, persist_directory=CHROMA_DB_PATH)\n",
    "    vectorstore.persist()\n",
    "    print(f\"New embeddings created and saved at: {CHROMA_DB_PATH}\")"
   ]
  },
  {
   "cell_type": "code",
   "execution_count": 12,
   "metadata": {},
   "outputs": [],
   "source": [
    "#Selecting the most appropriate example from vectorstore that servers as reference for llm to generate response to unseen user questions\n",
    "example_selector = SemanticSimilarityExampleSelector(\n",
    "    vectorstore=vectorstore,\n",
    "    k=1,\n",
    ")"
   ]
  },
  {
   "cell_type": "code",
   "execution_count": 13,
   "metadata": {},
   "outputs": [],
   "source": [
    "# # Define the custom prompt for SQL database interactions\n",
    "# custom_mysql_prompt = \"\"\"\n",
    "# You are a MySQL expert. Given an input question, first create a syntactically correct MySQL query to run, then look at the results of the query and return the answer to the input question. Prepare the correct MySQL query by looking at the top {top_k} similar queries.\n",
    "# Unless the user specifies in the question a specific number of examples to obtain, query for at most {top_k} results using the LIMIT clause as per MySQL. You can order the results to return the most informative data in the database.\n",
    "# Never query for all columns from a table. You must query only the columns that are needed to answer the question.\n",
    "# Pay attention to use only the column names you can see in the tables below. Be careful to not query for columns that do not exist. \n",
    "# Pay attention to use CURDATE() function to get the current date, if the question involves \"today\",\"this year\",\"this month\" ,\"this week\".\n",
    "\n",
    "# Table information:\n",
    "# 1. `transactions` with columns: `Account_No`, `Date`, `Transaction_details`, `Value_date`, `Withdrawal_amount`, `Deposit_amount`, `Balance_amount`\n",
    "\n",
    "# Remember to only use the provided table columns and structure your queries to handle the specified requests accurately.Only answer the question given by the user and dont assume any question by yourself.\n",
    "#  \"\"\""
   ]
  },
  {
   "cell_type": "code",
   "execution_count": 14,
   "metadata": {},
   "outputs": [],
   "source": [
    "# # Define the custom prompt for SQL database interactions\n",
    "# custom_mysql_prompt = \"\"\"You are an expert in converting natural language into MySQL query.Only use the columns that are specified and needed to answer the question.\n",
    "# Use query for at most {top_k} results.\n",
    "# Table information:\n",
    "# 1. `transactions` with columns: `Account_No`, `Date`, `Transaction_details`, `Value_date`, `Withdrawal_amount`, `Deposit_amount`, `Balance_amount`\n",
    "# \"\"\""
   ]
  },
  {
   "cell_type": "code",
   "execution_count": 15,
   "metadata": {},
   "outputs": [],
   "source": [
    "# mysql_prompt = \"\"\"You are an expert in converting natural language questions into MySQL queries. Your task is to generate a syntactically correct MySQL query based on the given input question, execute the query, and then provide an answer based on the query results.\n",
    "# Here is the database schema defined by create statement. CREATE TABLE transactions ( `Account_No` VARCHAR(50) NOT NULL, `Transaction_details` TEXT, `Withdrawal_amount` INTEGER, `Deposit_amount` INTEGER, `Balance_amount` INTEGER, `Value_date` DATE, `Date` DATE )\n",
    "# Pay attention to use CURDATE() function to get the current date, if the question involves \"today\",\"this year\",\"this month\" ,\"this week\",\"last month\",\"last week\",\"last year\".\n",
    "# Pay attention to only answer the single question of the user at a time .\"\"\"\n"
   ]
  },
  {
   "cell_type": "code",
   "execution_count": 16,
   "metadata": {},
   "outputs": [],
   "source": [
    "mysql_prompt = \"\"\"\n",
    "You are an expert in converting natural language questions into MySQL queries. Your task is to generate a syntactically correct MySQL query based on the given input question, execute the query, and then provide an answer based on the query results.\n",
    "Here is the database schema defined by create statement. CREATE TABLE transactions ( `Account_No` VARCHAR(50) NOT NULL, `Transaction_details` TEXT, `Withdrawal_amount` INTEGER, `Deposit_amount` INTEGER, `Balance_amount` INTEGER, `Value_date` DATE, `Date` DATE )\n",
    "Guidelines:\n",
    "1. Construct a MySQL query to fetch data relevant to the user's question. Ensure the query is syntactically correct.\n",
    "2. If the question does not specify the number of examples, use the LIMIT clause to restrict the results to at most {top_k} entries as a reference (but do not copy the same answer).\n",
    "3. Query only the necessary columns needed to answer the question. Avoid selecting all columns from a table.\n",
    "4. Only use the column names specified in the table schema below. Do not reference any non-existent columns. Ensure each column name corresponds to the correct table.\n",
    "6. Base your answer solely on the data returned in the SQLResult. Avoid assumptions beyond the provided data.\n",
    "7. Answer only the first question of the user and stop the response immediately and do not generate further Question and SQLQuery .\n",
    "8. Strictly your response should consist of single SQLQuery , single SQLResult and single Answer .\n",
    "\n",
    "Format:\n",
    "Question: [\"The user's question\"]\n",
    "SQLQuery: [\"Your MySQL query\"]\n",
    "SQLResult: [\"The result of the MySQL query\"]\n",
    "Answer: [\"The answer based on the SQLResult\"]\n",
    "\n",
    "\"\"\"\n"
   ]
  },
  {
   "cell_type": "code",
   "execution_count": 17,
   "metadata": {},
   "outputs": [
    {
     "name": "stdout",
     "output_type": "stream",
     "text": [
      "Only use the following tables:\n",
      "{table_info}\n",
      "\n",
      "Question: {input}\n"
     ]
    }
   ],
   "source": [
    "print(PROMPT_SUFFIX)"
   ]
  },
  {
   "cell_type": "code",
   "execution_count": 18,
   "metadata": {},
   "outputs": [],
   "source": [
    "#Creating a format for the generating the reponse\n",
    "example_prompt = PromptTemplate(\n",
    "    input_variables=[\"Question\", \"SQLQuery\", \"SQLResult\",\"Answer\",],\n",
    "    template=\"\\nQuestion: {Question}\\nSQLQuery: {SQLQuery}\\nSQLResult: {SQLResult}\\nAnswer: {Answer}\",\n",
    ")"
   ]
  },
  {
   "cell_type": "code",
   "execution_count": 19,
   "metadata": {},
   "outputs": [
    {
     "name": "stdout",
     "output_type": "stream",
     "text": [
      "input_variables=['Answer', 'Question', 'SQLQuery', 'SQLResult'] template='\\nQuestion: {Question}\\nSQLQuery: {SQLQuery}\\nSQLResult: {SQLResult}\\nAnswer: {Answer}'\n"
     ]
    }
   ],
   "source": [
    "print(example_prompt)"
   ]
  },
  {
   "cell_type": "code",
   "execution_count": 20,
   "metadata": {},
   "outputs": [
    {
     "name": "stdout",
     "output_type": "stream",
     "text": [
      "Only use the following tables:\n",
      "{table_info}\n",
      "\n",
      "Question: {input}\n"
     ]
    }
   ],
   "source": [
    "print(PROMPT_SUFFIX)"
   ]
  },
  {
   "cell_type": "code",
   "execution_count": 21,
   "metadata": {},
   "outputs": [],
   "source": [
    "suffix_eg=\"Question: {input}\""
   ]
  },
  {
   "cell_type": "code",
   "execution_count": 22,
   "metadata": {},
   "outputs": [
    {
     "name": "stdout",
     "output_type": "stream",
     "text": [
      "Question: {input}\n"
     ]
    }
   ],
   "source": [
    "print(suffix_eg)"
   ]
  },
  {
   "cell_type": "code",
   "execution_count": 23,
   "metadata": {},
   "outputs": [
    {
     "name": "stdout",
     "output_type": "stream",
     "text": [
      "[{'Answer': 'You made 1542 transactions this year. </s>', 'Question': 'How much amount did i earned last year ?', 'SQLQuery': 'SELECT SUM(Deposit_amount) AS Earned FROM transactions WHERE YEAR(Value_date) = YEAR(CURRENT_DATE) - 1;', 'SQLResult': '1542'}]\n"
     ]
    }
   ],
   "source": [
    "selected_examples = example_selector.select_examples(\n",
    "    {\"Question\": \"How much I earned in total last month for account number 409000493201?\"}\n",
    ")\n",
    "print(selected_examples)"
   ]
  },
  {
   "cell_type": "code",
   "execution_count": 24,
   "metadata": {},
   "outputs": [],
   "source": [
    "#Formatting the fewshot template\n",
    "few_shot_prompt = FewShotPromptTemplate(\n",
    "    example_selector=example_selector,\n",
    "    example_prompt=example_prompt,\n",
    "    prefix=mysql_prompt,\n",
    "    suffix=\"Question: {input} \",\n",
    "    input_variables=[\"input\",\"top_k\"], #These variables are used in the prefix and suffix\n",
    ")"
   ]
  },
  {
   "cell_type": "code",
   "execution_count": 25,
   "metadata": {},
   "outputs": [],
   "source": [
    "new_chain = SQLDatabaseChain.from_llm(llm, db, verbose=True, prompt=few_shot_prompt)"
   ]
  },
  {
   "cell_type": "code",
   "execution_count": 26,
   "metadata": {},
   "outputs": [
    {
     "data": {
      "text/plain": [
       "FewShotPromptTemplate(input_variables=['input', 'top_k'], example_selector=SemanticSimilarityExampleSelector(vectorstore=<langchain_community.vectorstores.chroma.Chroma object at 0x00000275B0423ED0>, k=1, example_keys=None, input_keys=None, vectorstore_kwargs=None), example_prompt=PromptTemplate(input_variables=['Answer', 'Question', 'SQLQuery', 'SQLResult'], template='\\nQuestion: {Question}\\nSQLQuery: {SQLQuery}\\nSQLResult: {SQLResult}\\nAnswer: {Answer}'), suffix='Question: {input} ', prefix='\\nYou are an expert in converting natural language questions into MySQL queries. Your task is to generate a syntactically correct MySQL query based on the given input question, execute the query, and then provide an answer based on the query results.\\nHere is the database schema defined by create statement. CREATE TABLE transactions ( `Account_No` VARCHAR(50) NOT NULL, `Transaction_details` TEXT, `Withdrawal_amount` INTEGER, `Deposit_amount` INTEGER, `Balance_amount` INTEGER, `Value_date` DATE, `Date` DATE )\\nGuidelines:\\n1. Construct a MySQL query to fetch data relevant to the user\\'s question. Ensure the query is syntactically correct.\\n2. If the question does not specify the number of examples, use the LIMIT clause to restrict the results to at most {top_k} entries as a reference (but do not copy the same answer).\\n3. Query only the necessary columns needed to answer the question. Avoid selecting all columns from a table.\\n4. Only use the column names specified in the table schema below. Do not reference any non-existent columns. Ensure each column name corresponds to the correct table.\\n6. Base your answer solely on the data returned in the SQLResult. Avoid assumptions beyond the provided data.\\n7. Answer only the first question of the user and stop the response immediately and do not generate further Question and SQLQuery .\\n8. Strictly your response should consist of single SQLQuery , single SQLResult and single Answer .\\n\\nFormat:\\nQuestion: [\"The user\\'s question\"]\\nSQLQuery: [\"Your MySQL query\"]\\nSQLResult: [\"The result of the MySQL query\"]\\nAnswer: [\"The answer based on the SQLResult\"]\\n\\n')"
      ]
     },
     "execution_count": 26,
     "metadata": {},
     "output_type": "execute_result"
    }
   ],
   "source": [
    "few_shot_prompt"
   ]
  },
  {
   "cell_type": "code",
   "execution_count": 27,
   "metadata": {},
   "outputs": [
    {
     "name": "stdout",
     "output_type": "stream",
     "text": [
      "['How much amount did i earned last year ?', 'I want to buy a car worth RS. 5,00,000 in next 2 years . So how much should i save each month to buy the car .', 'Can you give me a short description about my spendings of this month ?', 'What was my net worth for account number x in year 2022 ?']\n"
     ]
    }
   ],
   "source": [
    "example_questions = [shot['Question'].strip() for shot in few_shots]\n",
    "print(example_questions)"
   ]
  },
  {
   "cell_type": "code",
   "execution_count": 28,
   "metadata": {},
   "outputs": [
    {
     "name": "stderr",
     "output_type": "stream",
     "text": [
      "c:\\Users\\Prabal Kuinkel\\Desktop\\ARL-Intern\\privategpt\\privategpt\\Lib\\site-packages\\huggingface_hub\\file_download.py:1132: FutureWarning: `resume_download` is deprecated and will be removed in version 1.0.0. Downloads always resume when possible. If you want to force a new download, use `force_download=True`.\n",
      "  warnings.warn(\n"
     ]
    }
   ],
   "source": [
    "# sentence-transformers/all-mpnet-base-v2\n",
    "# sentence-transformers/all-MiniLM-L6-v2\n",
    "# multi-qa-MiniLM-L6-cos-v1\n",
    "# sentence-transformers/multi-qa-MiniLM-L6-cos-v1\n",
    "# BAAI/bge-m3\n",
    "\n",
    "model = SentenceTransformer('sentence-transformers/all-MiniLM-L6-v2')\n"
   ]
  },
  {
   "cell_type": "code",
   "execution_count": 29,
   "metadata": {},
   "outputs": [],
   "source": [
    "example_embeddings = model.encode(example_questions)"
   ]
  },
  {
   "cell_type": "code",
   "execution_count": 30,
   "metadata": {},
   "outputs": [],
   "source": [
    "# Function to determine if a user question is relevant to the database context\n",
    "def is_question_relevant(user_question, similarity_threshold=0.40):\n",
    "    user_embedding = model.encode([user_question])[0]  \n",
    "    \n",
    "    # calculating the cosine similarity between user question and example questions\n",
    "    similarity_scores = cosine_similarity(user_embedding.reshape(1, -1), example_embeddings)[0]\n",
    "    print(similarity_scores)\n",
    "    \n",
    "    max_similarity_score = max(similarity_scores)\n",
    "    print(max_similarity_score)\n",
    "    return max_similarity_score > similarity_threshold"
   ]
  },
  {
   "cell_type": "code",
   "execution_count": 31,
   "metadata": {},
   "outputs": [],
   "source": [
    "#Setting uo the guard rail for profanity,toxiclanguage etc.\n",
    "guard = Guard().use_many(\n",
    "    CompetitorCheck([\"khalti\", \"fusemachine\",\"Deerhold\",\"Deerwalk\",\"Cotiviti\"], on_fail=OnFailAction.EXCEPTION),\n",
    "    ToxicLanguage(threshold=0.9, validation_method=\"sentence\", on_fail=OnFailAction.EXCEPTION),\n",
    "    ProfanityFree(on_fail=OnFailAction.EXCEPTION))\n"
   ]
  },
  {
   "cell_type": "code",
   "execution_count": 32,
   "metadata": {},
   "outputs": [],
   "source": [
    "# Function to handle user queries\n",
    "def handle_user_query(user_question):\n",
    "    if is_question_relevant(user_question):\n",
    "        return True\n",
    "    else:\n",
    "        return \"Your Question is not Relevant to the Context\""
   ]
  },
  {
   "cell_type": "code",
   "execution_count": 33,
   "metadata": {},
   "outputs": [],
   "source": [
    "acc_no = \"account number is 409000493201 ?\""
   ]
  },
  {
   "cell_type": "code",
   "execution_count": 34,
   "metadata": {},
   "outputs": [
    {
     "name": "stdout",
     "output_type": "stream",
     "text": [
      "How much amount did i save this week ?\n"
     ]
    }
   ],
   "source": [
    "# User question in natural language\n",
    "user_question = \"How much amount did i save this week ?\"\n",
    "print(user_question)"
   ]
  },
  {
   "cell_type": "code",
   "execution_count": 35,
   "metadata": {},
   "outputs": [],
   "source": [
    "selected_examples = example_selector.select_examples(\n",
    "    {\"Question\": f\"user_question\"}\n",
    ")"
   ]
  },
  {
   "cell_type": "code",
   "execution_count": 36,
   "metadata": {},
   "outputs": [
    {
     "name": "stdout",
     "output_type": "stream",
     "text": [
      "[{'Answer': 'You made 2772 transaction , spend RS 529,053,340 in total , RS 10,000,000 and RS 0 was you highest and lowest spending of this month .  </s>', 'Question': 'Can you give me a short description about my spendings of this month ?', 'SQLQuery': 'SELECT COUNT(*) AS number_of_transactions,SUM(Withdrawal_amount) AS total_spending,MAX(Withdrawal_amount) AS highest_transaction_amount FROM transactions WHERE year(Value_date) =year(curdate()) And month(value_date) = month(curdate()) ;', 'SQLResult': \"[(Decimal('2772')),\\n                    (Decimal('529053340')),\\n                    (Decimal('10000000')),\\n                    ( Decimal('0'))]\"}]\n"
     ]
    }
   ],
   "source": [
    "print(selected_examples)"
   ]
  },
  {
   "cell_type": "code",
   "execution_count": 37,
   "metadata": {},
   "outputs": [
    {
     "name": "stdout",
     "output_type": "stream",
     "text": [
      "[0.5717039  0.43311968 0.41985965 0.41888162]\n",
      "0.5717039\n"
     ]
    }
   ],
   "source": [
    "try:\n",
    "    # Validate the user question\n",
    "    guard.validate(user_question)  # If validation fails, an exception will be thrown\n",
    "    # If validation passes, handle the user query\n",
    "    response = handle_user_query(user_question)\n",
    "except Exception as e:\n",
    "    response = str(e)"
   ]
  },
  {
   "cell_type": "code",
   "execution_count": 38,
   "metadata": {},
   "outputs": [
    {
     "name": "stdout",
     "output_type": "stream",
     "text": [
      "True\n"
     ]
    }
   ],
   "source": [
    "print(response)"
   ]
  },
  {
   "cell_type": "code",
   "execution_count": 39,
   "metadata": {},
   "outputs": [
    {
     "name": "stderr",
     "output_type": "stream",
     "text": [
      "c:\\Users\\Prabal Kuinkel\\Desktop\\ARL-Intern\\privategpt\\privategpt\\Lib\\site-packages\\langchain_core\\_api\\deprecation.py:119: LangChainDeprecationWarning: The method `Chain.__call__` was deprecated in langchain 0.1.0 and will be removed in 0.3.0. Use invoke instead.\n",
      "  warn_deprecated(\n"
     ]
    },
    {
     "name": "stdout",
     "output_type": "stream",
     "text": [
      "\n",
      "\n",
      "\u001b[1m> Entering new SQLDatabaseChain chain...\u001b[0m\n",
      "How much amount did i save this week ?\n",
      "SQLQuery:\u001b[32;1m\u001b[1;3mSELECT SUM(Deposit_amount) AS Total_Savings FROM transactions WHERE year(Value_date) =year(curdate()) And week(value_date) = week(curdate()); ;\u001b[0m\n",
      "SQLResult: \u001b[33;1m\u001b[1;3m[(Decimal('1856034.00'),)]\u001b[0m\n",
      "Answer:"
     ]
    }
   ],
   "source": [
    "if response==True:\n",
    "    result=new_chain(user_question)\n",
    "else:\n",
    "    print(response)"
   ]
  },
  {
   "cell_type": "code",
   "execution_count": null,
   "metadata": {},
   "outputs": [],
   "source": [
    "result"
   ]
  },
  {
   "cell_type": "code",
   "execution_count": null,
   "metadata": {},
   "outputs": [],
   "source": [
    "result[\"result\"].strip('\\n')"
   ]
  },
  {
   "cell_type": "code",
   "execution_count": null,
   "metadata": {},
   "outputs": [],
   "source": [
    "extracted_result = result['result'].split('\\n')[0].strip()\n",
    "print(extracted_result)"
   ]
  },
  {
   "cell_type": "code",
   "execution_count": null,
   "metadata": {},
   "outputs": [],
   "source": [
    "a=\"TypeError: string indices must be integers, not 'str'\"\n"
   ]
  },
  {
   "cell_type": "code",
   "execution_count": null,
   "metadata": {},
   "outputs": [],
   "source": [
    "a.split(\" \")[0].strip()"
   ]
  }
 ],
 "metadata": {
  "kernelspec": {
   "display_name": "privategpt",
   "language": "python",
   "name": "python3"
  },
  "language_info": {
   "codemirror_mode": {
    "name": "ipython",
    "version": 3
   },
   "file_extension": ".py",
   "mimetype": "text/x-python",
   "name": "python",
   "nbconvert_exporter": "python",
   "pygments_lexer": "ipython3",
   "version": "3.11.7"
  }
 },
 "nbformat": 4,
 "nbformat_minor": 2
}

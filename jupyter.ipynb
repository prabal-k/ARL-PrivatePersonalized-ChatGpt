{
 "cells": [
  {
   "cell_type": "code",
   "execution_count": 1,
   "metadata": {},
   "outputs": [],
   "source": [
    "from langchain.llms import CTransformers  # to load the llama2 model"
   ]
  },
  {
   "cell_type": "code",
   "execution_count": 2,
   "metadata": {},
   "outputs": [
    {
     "name": "stderr",
     "output_type": "stream",
     "text": [
      "c:\\Users\\Prabal Kuinkel\\Desktop\\ARL-Intern\\privategpt\\privategpt\\Lib\\site-packages\\tqdm\\auto.py:21: TqdmWarning: IProgress not found. Please update jupyter and ipywidgets. See https://ipywidgets.readthedocs.io/en/stable/user_install.html\n",
      "  from .autonotebook import tqdm as notebook_tqdm\n"
     ]
    }
   ],
   "source": [
    "llm = CTransformers(model=\"model\\llama-2-7b-chat.ggmlv3.q4_0.bin\",\n",
    "                        model_type=\"llama\", config={'max_new_tokens':3800,'temperature': 0.5,'context_length': 3600})"
   ]
  },
  {
   "cell_type": "code",
   "execution_count": 3,
   "metadata": {},
   "outputs": [
    {
     "name": "stdout",
     "output_type": "stream",
     "text": [
      "\n",
      "CREATE TABLE transactions (\n",
      "\t`Account_No` VARCHAR(50) NOT NULL, \n",
      "\t`Transaction_details` TEXT, \n",
      "\t`Withdrawal_amount` INTEGER, \n",
      "\t`Deposit_amount` INTEGER, \n",
      "\t`Balance_amount` INTEGER, \n",
      "\t`Value_date` DATE, \n",
      "\t`Date` DATE\n",
      ")ENGINE=InnoDB DEFAULT CHARSET=utf8mb4 COLLATE utf8mb4_0900_ai_ci\n",
      "\n",
      "/*\n",
      "3 rows from transactions table:\n",
      "Account_No\tTransaction_details\tWithdrawal_amount\tDeposit_amount\tBalance_amount\tValue_date\tDate\n",
      "409000611074'\tTRF FROM  Indiaforensic SERVICES\t0\t1000000\t1000000\t2022-10-05\t2022-10-05\n",
      "409000611074'\tTRF FROM  Indiaforensic SERVICES\t0\t1000000\t2000000\t2022-10-11\t2022-10-11\n",
      "409000611074'\tFDRL/INTERNAL FUND TRANSFE\t0\t500000\t2500000\t2022-10-24\t2022-10-24\n",
      "*/\n"
     ]
    }
   ],
   "source": [
    "from langchain_community.utilities import SQLDatabase\n",
    "\n",
    "\n",
    "# MySQL connection URI\n",
    "username = 'root'\n",
    "password = 'prabal9869'\n",
    "host = '127.0.0.1'\n",
    "dbname = 'arl_bank'  # Database name\n",
    "\n",
    "# Constructing the MySQL URI\n",
    "mysql_uri = f\"mysql+pymysql://{username}:{password}@{host}/{dbname}\"\n",
    "\n",
    "# # Initializing SQLDatabase object for MySQL\n",
    "db = SQLDatabase.from_uri(mysql_uri, sample_rows_in_table_info=3)\n",
    "print(db.table_info)"
   ]
  },
  {
   "cell_type": "code",
   "execution_count": 4,
   "metadata": {},
   "outputs": [],
   "source": [
    "from langchain_experimental.sql import SQLDatabaseChain\n",
    "\n",
    "db_chain = SQLDatabaseChain.from_llm(llm=llm,db=db,verbose=True)\n"
   ]
  },
  {
   "cell_type": "markdown",
   "metadata": {},
   "source": [
    "# FEW SHORT LEARNING"
   ]
  },
  {
   "cell_type": "code",
   "execution_count": 5,
   "metadata": {},
   "outputs": [],
   "source": [
    "few_shots=[\n",
    "    {\n",
    "        'Question':\"What is my income in my last 3 months.My Account Number is 409000493201'. ?\",\n",
    "        'SQLQuery':\"\"\"SELECT SUM(Deposit_amount) AS Total_Income FROM transactions WHERE Account_No = \"409000493201'\" AND Value_date >= DATE_SUB(CURRENT_DATE(), INTERVAL 3 MONTH);\n",
    "        \"\"\",\n",
    "        'SQLResult':\"16725509\",\n",
    "        'Answer':\"16725509 is the income of last 3 months.\"\n",
    "    },\n",
    "\n",
    "    {\n",
    "        'Question':\"What is the total expenses of last 8 months for account number 409000611074' ?\",\n",
    "        'SQLQuery':\"\"\"SELECT SUM(Withdrawal_amount) AS Total_Expenses FROM transactions WHERE \n",
    "Account_No = \"409000611074'\" AND Value_date >= DATE_SUB(CURRENT_DATE(), INTERVAL 8 MONTH);\n",
    "        \"\"\",\n",
    "        'SQLResult':\"75124046\",\n",
    "        'Answer':\"75124046 is the total expenses of last 8 months.\"\n",
    "    },\n",
    "      {\n",
    "        'Question':\"How much did I save last month as my account number is 409000493201'  ?\",\n",
    "        'SQLQuery':\"\"\"SELECT (SUM(Deposit_amount) - SUM(Withdrawal_amount)) AS Savings_Last_Month FROM \n",
    "transactions WHERE Account_No = \"409000493201'\" AND YEAR(Value_date) = YEAR(CURRENT_DATE() \n",
    "- INTERVAL 1 MONTH) AND MONTH(Value_date) = MONTH(CURRENT_DATE() - INTERVAL 1 MONTH);\n",
    "        \"\"\",\n",
    "        'SQLResult':\"-193509\",\n",
    "        'Answer':\"You saved -193509 last month.\"\n",
    "    },\n",
    "    {\n",
    "        'Question':\"How many transactions did I make in last 2 week as my account number is 409000493201' \",\n",
    "        'SQLQuery':\"\"\"SELECT COUNT(*) AS Total_Transactions FROM transactions WHERE \n",
    "Account_No = \"409000493201'\" AND Value_date >= DATE_SUB(CURRENT_DATE(), INTERVAL 2 WEEK);\n",
    "        \"\"\",\n",
    "        'SQLResult':\"24\",\n",
    "        'Answer':\"You made 24 transactions in last 2 week.\"\n",
    "    },\n",
    "     {\n",
    "        'Question':\"What was my total spending last week as my account number is 409000493201' \",\n",
    "        'SQLQuery':\"\"\"SELECT SUM(Withdrawal_amount) AS Total_Spending FROM transactions WHERE Account_No = \"409000493201'\" AND \n",
    "Value_date >= DATE_SUB(CURRENT_DATE(), INTERVAL 1 WEEK);\n",
    "        \"\"\",\n",
    "        'SQLResult':\"515559\",\n",
    "        'Answer':\"515559 is your total spending last week.\"\n",
    "    }\n",
    "#     ,\n",
    "#     {\n",
    "#         'Question': \"Give me a breakdown of my income and expenses for each day this month as my account number is  409000493201' ?\",\n",
    "#         'SQLQuery': \"\"\"SELECT Date, SUM(Deposit_amount) AS Total_income ,SUM(Withdrawal_amount) AS Total_Expenses \n",
    "# FROM transactions \n",
    "# WHERE Account_No = \"409000493201'\"\n",
    "# AND YEAR(Value_date) = YEAR(CURRENT_DATE())\n",
    "# AND MONTH(Value_date) = MONTH(CURRENT_DATE())\n",
    "# GROUP BY Date;\n",
    "# \"\"\",\n",
    "#         'SQLResult':\n",
    "#         \"\"\"\n",
    "# Date              Total_income          Total_Expenses\n",
    "# 2024-06-02         200000                 183648\n",
    "# 2024-06-03         0                      80666\n",
    "# 2024-06-04         200000                 135504\n",
    "# 2024-06-05         0                      92031\n",
    "# 2024-06-06         0                      118475\n",
    "# 2024-06-07         300000                 16440\n",
    "# 2024-06-09         0                      62112\n",
    "# 2024-06-10         0                      10331\n",
    "# \"\"\"    ,\n",
    "#         'Answer': \"\"\" Result:\n",
    "# Date              Total_income          Total_Expenses\n",
    "# 2024-06-02         200000                 183648\n",
    "# 2024-06-03         0                      80666\n",
    "# 2024-06-04         200000                 135504\n",
    "# 2024-06-05         0                      92031\n",
    "# 2024-06-06         0                      118475\n",
    "# 2024-06-07         300000                 16440\n",
    "# 2024-06-09         0                      62112\n",
    "# 2024-06-10         0                     10331\n",
    "# \"\"\"         \n",
    "#     }\n",
    "    , {\n",
    "        'Question': \"Give me a breakdown of my expenses for each day this month as my account number is  409000493201' ?\",\n",
    "        'SQLQuery': \"\"\"SELECT Date, SUM(Withdrawal_amount) AS Total_Expenses \n",
    "FROM transactions \n",
    "WHERE Account_No = \"409000493201'\"\n",
    "AND YEAR(Value_date) = YEAR(CURRENT_DATE())\n",
    "AND MONTH(Value_date) = MONTH(CURRENT_DATE())\n",
    "GROUP BY Date;\n",
    "\"\"\",\n",
    "        'SQLResult':\n",
    "        \"\"\"\n",
    "Date                        Total_Expenses\n",
    "2024-06-02                   183648\n",
    "2024-06-03                   80666\n",
    "2024-06-04                   135504\n",
    "2024-06-05                   92031\n",
    "2024-06-06                   118475\n",
    "2024-06-07                   16440\n",
    "2024-06-09                   62112\n",
    "2024-06-10                   10331\n",
    "\"\"\"\n",
    "        ,\n",
    "        'Answer': \"\"\"The total_expenses is 183648,80666,135504,92031,118475,16440,62112,10331 for the year 2024 month of 6 and date 02,03,04,05,06,07,09 and 10.  \"\"\"         \n",
    "    }\n",
    "]\n"
   ]
  },
  {
   "cell_type": "code",
   "execution_count": 6,
   "metadata": {},
   "outputs": [
    {
     "name": "stderr",
     "output_type": "stream",
     "text": [
      "c:\\Users\\Prabal Kuinkel\\Desktop\\ARL-Intern\\privategpt\\privategpt\\Lib\\site-packages\\langchain_core\\_api\\deprecation.py:119: LangChainDeprecationWarning: The class `HuggingFaceEmbeddings` was deprecated in LangChain 0.2.2 and will be removed in 0.3.0. An updated version of the class exists in the langchain-huggingface package and should be used instead. To use it run `pip install -U langchain-huggingface` and import as `from langchain_huggingface import HuggingFaceEmbeddings`.\n",
      "  warn_deprecated(\n",
      "c:\\Users\\Prabal Kuinkel\\Desktop\\ARL-Intern\\privategpt\\privategpt\\Lib\\site-packages\\huggingface_hub\\file_download.py:1132: FutureWarning: `resume_download` is deprecated and will be removed in version 1.0.0. Downloads always resume when possible. If you want to force a new download, use `force_download=True`.\n",
      "  warnings.warn(\n"
     ]
    }
   ],
   "source": [
    "from langchain.prompts import SemanticSimilarityExampleSelector\n",
    "from langchain.embeddings import HuggingFaceEmbeddings\n",
    "from langchain.vectorstores import Chroma\n",
    "import json\n",
    "\n",
    "\n",
    "embeddings = HuggingFaceEmbeddings(model_name='sentence-transformers/all-MiniLM-L6-v2')\n",
    "\n",
    "# Convert lists and dictionaries to JSON strings\n",
    "# Convert lists and dictionaries to JSON strings, filtering out None values\n",
    "to_vectorize = [\n",
    "    \" \".join(\n",
    "        [json.dumps(value) if isinstance(value, (list, dict)) else (value if value is not None else \"\") for value in example.values()]\n",
    "    )\n",
    "    for example in few_shots\n",
    "]\n"
   ]
  },
  {
   "cell_type": "code",
   "execution_count": 7,
   "metadata": {},
   "outputs": [
    {
     "data": {
      "text/plain": [
       "['What is my income in my last 3 months.My Account Number is 409000493201\\'. ? SELECT SUM(Deposit_amount) AS Total_Income FROM transactions WHERE Account_No = \"409000493201\\'\" AND Value_date >= DATE_SUB(CURRENT_DATE(), INTERVAL 3 MONTH);\\n         16725509 16725509 is the income of last 3 months.',\n",
       " 'What is the total expenses of last 8 months for account number 409000611074\\' ? SELECT SUM(Withdrawal_amount) AS Total_Expenses FROM transactions WHERE \\nAccount_No = \"409000611074\\'\" AND Value_date >= DATE_SUB(CURRENT_DATE(), INTERVAL 8 MONTH);\\n         75124046 75124046 is the total expenses of last 8 months.',\n",
       " 'How much did I save last month as my account number is 409000493201\\'  ? SELECT (SUM(Deposit_amount) - SUM(Withdrawal_amount)) AS Savings_Last_Month FROM \\ntransactions WHERE Account_No = \"409000493201\\'\" AND YEAR(Value_date) = YEAR(CURRENT_DATE() \\n- INTERVAL 1 MONTH) AND MONTH(Value_date) = MONTH(CURRENT_DATE() - INTERVAL 1 MONTH);\\n         -193509 You saved -193509 last month.',\n",
       " 'How many transactions did I make in last 2 week as my account number is 409000493201\\'  SELECT COUNT(*) AS Total_Transactions FROM transactions WHERE \\nAccount_No = \"409000493201\\'\" AND Value_date >= DATE_SUB(CURRENT_DATE(), INTERVAL 2 WEEK);\\n         24 You made 24 transactions in last 2 week.',\n",
       " 'What was my total spending last week as my account number is 409000493201\\'  SELECT SUM(Withdrawal_amount) AS Total_Spending FROM transactions WHERE Account_No = \"409000493201\\'\" AND \\nValue_date >= DATE_SUB(CURRENT_DATE(), INTERVAL 1 WEEK);\\n         515559 515559 is your total spending last week.',\n",
       " 'Give me a breakdown of my expenses for each day this month as my account number is  409000493201\\' ? SELECT Date, SUM(Withdrawal_amount) AS Total_Expenses \\nFROM transactions \\nWHERE Account_No = \"409000493201\\'\"\\nAND YEAR(Value_date) = YEAR(CURRENT_DATE())\\nAND MONTH(Value_date) = MONTH(CURRENT_DATE())\\nGROUP BY Date;\\n \\nDate                        Total_Expenses\\n2024-06-02                   183648\\n2024-06-03                   80666\\n2024-06-04                   135504\\n2024-06-05                   92031\\n2024-06-06                   118475\\n2024-06-07                   16440\\n2024-06-09                   62112\\n2024-06-10                   10331\\n The total_expenses is 183648,80666,135504,92031,118475,16440,62112,10331 for the year 2024 month of 6 and date 02,03,04,05,06,07,09 and 10.  ']"
      ]
     },
     "execution_count": 7,
     "metadata": {},
     "output_type": "execute_result"
    }
   ],
   "source": [
    "to_vectorize "
   ]
  },
  {
   "cell_type": "code",
   "execution_count": 8,
   "metadata": {},
   "outputs": [],
   "source": [
    "\n",
    "# Convert metadata to JSON strings, replacing None with an empty string\n",
    "metadatas = [\n",
    "    {k: json.dumps(v) if isinstance(v, (list, dict)) else (v if v is not None else \"\") for k, v in example.items()}\n",
    "    for example in few_shots\n",
    "]\n",
    "\n",
    "vectorstore = Chroma.from_texts(to_vectorize, embeddings, metadatas=metadatas)"
   ]
  },
  {
   "cell_type": "code",
   "execution_count": 9,
   "metadata": {},
   "outputs": [
    {
     "data": {
      "text/plain": [
       "[{'Question': \"What is my income in my last 3 months.My Account Number is 409000493201'. ?\",\n",
       "  'SQLQuery': 'SELECT SUM(Deposit_amount) AS Total_Income FROM transactions WHERE Account_No = \"409000493201\\'\" AND Value_date >= DATE_SUB(CURRENT_DATE(), INTERVAL 3 MONTH);\\n        ',\n",
       "  'SQLResult': '16725509',\n",
       "  'Answer': '16725509 is the income of last 3 months.'},\n",
       " {'Question': \"What is the total expenses of last 8 months for account number 409000611074' ?\",\n",
       "  'SQLQuery': 'SELECT SUM(Withdrawal_amount) AS Total_Expenses FROM transactions WHERE \\nAccount_No = \"409000611074\\'\" AND Value_date >= DATE_SUB(CURRENT_DATE(), INTERVAL 8 MONTH);\\n        ',\n",
       "  'SQLResult': '75124046',\n",
       "  'Answer': '75124046 is the total expenses of last 8 months.'},\n",
       " {'Question': \"How much did I save last month as my account number is 409000493201'  ?\",\n",
       "  'SQLQuery': 'SELECT (SUM(Deposit_amount) - SUM(Withdrawal_amount)) AS Savings_Last_Month FROM \\ntransactions WHERE Account_No = \"409000493201\\'\" AND YEAR(Value_date) = YEAR(CURRENT_DATE() \\n- INTERVAL 1 MONTH) AND MONTH(Value_date) = MONTH(CURRENT_DATE() - INTERVAL 1 MONTH);\\n        ',\n",
       "  'SQLResult': '-193509',\n",
       "  'Answer': 'You saved -193509 last month.'},\n",
       " {'Question': \"How many transactions did I make in last 2 week as my account number is 409000493201' \",\n",
       "  'SQLQuery': 'SELECT COUNT(*) AS Total_Transactions FROM transactions WHERE \\nAccount_No = \"409000493201\\'\" AND Value_date >= DATE_SUB(CURRENT_DATE(), INTERVAL 2 WEEK);\\n        ',\n",
       "  'SQLResult': '24',\n",
       "  'Answer': 'You made 24 transactions in last 2 week.'},\n",
       " {'Question': \"What was my total spending last week as my account number is 409000493201' \",\n",
       "  'SQLQuery': 'SELECT SUM(Withdrawal_amount) AS Total_Spending FROM transactions WHERE Account_No = \"409000493201\\'\" AND \\nValue_date >= DATE_SUB(CURRENT_DATE(), INTERVAL 1 WEEK);\\n        ',\n",
       "  'SQLResult': '515559',\n",
       "  'Answer': '515559 is your total spending last week.'},\n",
       " {'Question': \"Give me a breakdown of my expenses for each day this month as my account number is  409000493201' ?\",\n",
       "  'SQLQuery': 'SELECT Date, SUM(Withdrawal_amount) AS Total_Expenses \\nFROM transactions \\nWHERE Account_No = \"409000493201\\'\"\\nAND YEAR(Value_date) = YEAR(CURRENT_DATE())\\nAND MONTH(Value_date) = MONTH(CURRENT_DATE())\\nGROUP BY Date;\\n',\n",
       "  'SQLResult': '\\nDate                        Total_Expenses\\n2024-06-02                   183648\\n2024-06-03                   80666\\n2024-06-04                   135504\\n2024-06-05                   92031\\n2024-06-06                   118475\\n2024-06-07                   16440\\n2024-06-09                   62112\\n2024-06-10                   10331\\n',\n",
       "  'Answer': 'The total_expenses is 183648,80666,135504,92031,118475,16440,62112,10331 for the year 2024 month of 6 and date 02,03,04,05,06,07,09 and 10.  '}]"
      ]
     },
     "execution_count": 9,
     "metadata": {},
     "output_type": "execute_result"
    }
   ],
   "source": [
    "metadatas"
   ]
  },
  {
   "cell_type": "code",
   "execution_count": 10,
   "metadata": {},
   "outputs": [
    {
     "data": {
      "text/plain": [
       "[{'Answer': '16725509 is the income of last 3 months.',\n",
       "  'Question': \"What is my income in my last 3 months.My Account Number is 409000493201'. ?\",\n",
       "  'SQLQuery': 'SELECT SUM(Deposit_amount) AS Total_Income FROM transactions WHERE Account_No = \"409000493201\\'\" AND Value_date >= DATE_SUB(CURRENT_DATE(), INTERVAL 3 MONTH);\\n        ',\n",
       "  'SQLResult': '16725509'}]"
      ]
     },
     "execution_count": 10,
     "metadata": {},
     "output_type": "execute_result"
    }
   ],
   "source": [
    "example_selector = SemanticSimilarityExampleSelector(\n",
    "    vectorstore=vectorstore,\n",
    "    k=1,\n",
    ")\n",
    "example_selector.select_examples({\"Question\": \"Do dogs bark?\"})"
   ]
  },
  {
   "cell_type": "code",
   "execution_count": 11,
   "metadata": {},
   "outputs": [],
   "source": [
    "# Define the custom prompt for SQL database interactions\n",
    "custom_mysql_prompt = \"\"\"You are an expert in converting natural language into MySQL queries.\n",
    "Table information:\n",
    "1. `transactions` with columns: `Account_No`, `Date`, `Transaction_details`, `Value_date`, `Withdrawal_amount`, `Deposit_amount`, `Balance_amount`\n",
    "Follow these instructions carefully to ensure accuracy:\n",
    "1. Strictly Pay attention to use only the column names you see in the above Table information and dont try to use table and column names that are not mentioned above .\n",
    "2. Before proceeding, check if the columns mentioned in the user's natural language query are found in the database. If not found, respond with \"Sorry, I don't have access to the information.\" and terminate the process of generating the SQL Query.\n",
    "3. Use the CURDATE() function to get the current date when the question involves \"today,\" \"last month,\" \"last year,\" or \"last week.\"\n",
    "4. Ensure that your queries are syntactically correct and optimized for performance.\n",
    "5. Provide clear, accurate, and concise SQL queries without making assumptions beyond the given data.\n",
    "\n",
    "Use queries for at most {top_k} results.\n",
    "Remember to only use the provided table columns and structure your queries to handle the specified requests accurately.\"\"\"\n"
   ]
  },
  {
   "cell_type": "code",
   "execution_count": 12,
   "metadata": {},
   "outputs": [],
   "source": [
    "from langchain.prompts import FewShotPromptTemplate\n",
    "from langchain.chains.sql_database.prompt import PROMPT_SUFFIX"
   ]
  },
  {
   "cell_type": "code",
   "execution_count": 13,
   "metadata": {},
   "outputs": [],
   "source": [
    "from langchain.prompts.prompt import PromptTemplate\n",
    "\n",
    "example_prompt = PromptTemplate(\n",
    "    input_variables=[\"Question\", \"SQLQuery\", \"SQLResult\",\"Answer\",],\n",
    "    template=\"\\nQuestion: {Question}\\nSQLQuery: {SQLQuery}\\nSQLResult: {SQLResult}\\nAnswer: {Answer}\",\n",
    ")"
   ]
  },
  {
   "cell_type": "code",
   "execution_count": 14,
   "metadata": {},
   "outputs": [
    {
     "name": "stdout",
     "output_type": "stream",
     "text": [
      "Only use the following tables:\n",
      "{table_info}\n",
      "\n",
      "Question: {input}\n"
     ]
    }
   ],
   "source": [
    "print(PROMPT_SUFFIX)"
   ]
  },
  {
   "cell_type": "code",
   "execution_count": 15,
   "metadata": {},
   "outputs": [],
   "source": [
    "suffix_eg=\"Question: {input}\""
   ]
  },
  {
   "cell_type": "code",
   "execution_count": 16,
   "metadata": {},
   "outputs": [
    {
     "name": "stdout",
     "output_type": "stream",
     "text": [
      "Question: {input}\n"
     ]
    }
   ],
   "source": [
    "print(suffix_eg)"
   ]
  },
  {
   "cell_type": "code",
   "execution_count": 17,
   "metadata": {},
   "outputs": [],
   "source": [
    "few_shot_prompt = FewShotPromptTemplate(\n",
    "    example_selector=example_selector,\n",
    "    example_prompt=example_prompt,\n",
    "    prefix=custom_mysql_prompt,\n",
    "    suffix=suffix_eg,\n",
    "    input_variables=[\"input\", \"top_k\"], #These variables are used in the prefix and suffix\n",
    ")"
   ]
  },
  {
   "cell_type": "code",
   "execution_count": 18,
   "metadata": {},
   "outputs": [],
   "source": [
    "new_chain = SQLDatabaseChain.from_llm(llm, db, verbose=True, prompt=few_shot_prompt)\n"
   ]
  },
  {
   "cell_type": "code",
   "execution_count": 19,
   "metadata": {},
   "outputs": [
    {
     "name": "stdout",
     "output_type": "stream",
     "text": [
      "input_variables=['input', 'top_k'] example_selector=SemanticSimilarityExampleSelector(vectorstore=<langchain_community.vectorstores.chroma.Chroma object at 0x000001EFD01C98D0>, k=1, example_keys=None, input_keys=None, vectorstore_kwargs=None) example_prompt=PromptTemplate(input_variables=['Answer', 'Question', 'SQLQuery', 'SQLResult'], template='\\nQuestion: {Question}\\nSQLQuery: {SQLQuery}\\nSQLResult: {SQLResult}\\nAnswer: {Answer}') suffix='Question: {input}' prefix='You are an expert in converting natural language into MySQL queries.\\nTable information:\\n1. `transactions` with columns: `Account_No`, `Date`, `Transaction_details`, `Value_date`, `Withdrawal_amount`, `Deposit_amount`, `Balance_amount`\\nFollow these instructions carefully to ensure accuracy:\\n1. Strictly Pay attention to use only the column names you see in the above Table information and dont try to use table and column names that are not mentioned above .\\n2. Before proceeding, check if the columns mentioned in the user\\'s natural language query are found in the database. If not found, respond with \"Sorry, I don\\'t have access to the information.\" and terminate the process of generating the SQL Query.\\n3. Use the CURDATE() function to get the current date when the question involves \"today,\" \"last month,\" \"last year,\" or \"last week.\"\\n4. Ensure that your queries are syntactically correct and optimized for performance.\\n5. Provide clear, accurate, and concise SQL queries without making assumptions beyond the given data.\\n\\nUse queries for at most {top_k} results.\\nRemember to only use the provided table columns and structure your queries to handle the specified requests accurately.'\n"
     ]
    }
   ],
   "source": [
    "print(few_shot_prompt)"
   ]
  },
  {
   "cell_type": "code",
   "execution_count": 20,
   "metadata": {},
   "outputs": [],
   "source": [
    "# result = new_chain(\"What was my total earning last week as my account number is 409000493201'\")"
   ]
  },
  {
   "cell_type": "code",
   "execution_count": 21,
   "metadata": {},
   "outputs": [
    {
     "name": "stderr",
     "output_type": "stream",
     "text": [
      "c:\\Users\\Prabal Kuinkel\\Desktop\\ARL-Intern\\privategpt\\privategpt\\Lib\\site-packages\\huggingface_hub\\file_download.py:1132: FutureWarning: `resume_download` is deprecated and will be removed in version 1.0.0. Downloads always resume when possible. If you want to force a new download, use `force_download=True`.\n",
      "  warnings.warn(\n"
     ]
    }
   ],
   "source": [
    "# example questions related to the database schema\n",
    "example_questions = [\n",
    "    \"What is my income/earning in the last 3 months?\",\n",
    "    \"What are my total expenses for the past year?\",\n",
    "    \"How many transactions did I make last week?\",\n",
    "    \"Give me a breakdown of my expenses for each day this month\"\n",
    "]\n",
    "from sentence_transformers import SentenceTransformer\n",
    "\n",
    "model = SentenceTransformer('sentence-transformers/all-mpnet-base-v2')"
   ]
  },
  {
   "cell_type": "code",
   "execution_count": 22,
   "metadata": {},
   "outputs": [],
   "source": [
    "example_embeddings = model.encode(example_questions)\n"
   ]
  },
  {
   "cell_type": "code",
   "execution_count": 23,
   "metadata": {},
   "outputs": [],
   "source": [
    "from sklearn.metrics.pairwise import cosine_similarity  \n",
    "# Function to determine if a user question is relevant to the database context\n",
    "def is_question_relevant(user_question, similarity_threshold=0.7):\n",
    "    # Compute semantic embedding for the user's question\n",
    "    user_embedding = model.encode([user_question])[0]  \n",
    "    \n",
    "    # calculating the cosine similarity between user question and example questions\n",
    "    similarity_scores = cosine_similarity(user_embedding.reshape(1, -1), example_embeddings)[0]\n",
    "    \n",
    "    # Check if maximum similarity score exceeds the threshold\n",
    "    max_similarity_score = max(similarity_scores)\n",
    "    return max_similarity_score > similarity_threshold"
   ]
  },
  {
   "cell_type": "code",
   "execution_count": 28,
   "metadata": {},
   "outputs": [],
   "source": [
    "# Function to handle user queries\n",
    "def handle_user_query(user_question):\n",
    "    if is_question_relevant(user_question):\n",
    "        return db_chain(user_question)\n",
    "    else:\n",
    "        # user asked question is out of context\n",
    "        return \"bad question.\""
   ]
  },
  {
   "cell_type": "code",
   "execution_count": 29,
   "metadata": {},
   "outputs": [
    {
     "name": "stderr",
     "output_type": "stream",
     "text": [
      "c:\\Users\\Prabal Kuinkel\\Desktop\\ARL-Intern\\privategpt\\privategpt\\Lib\\site-packages\\langchain_core\\_api\\deprecation.py:119: LangChainDeprecationWarning: The method `Chain.__call__` was deprecated in langchain 0.1.0 and will be removed in 0.3.0. Use invoke instead.\n",
      "  warn_deprecated(\n"
     ]
    },
    {
     "name": "stdout",
     "output_type": "stream",
     "text": [
      "\n",
      "\n",
      "\u001b[1m> Entering new SQLDatabaseChain chain...\u001b[0m\n",
      "How much did i spent each day last month ?\n",
      "SQLQuery:"
     ]
    }
   ],
   "source": [
    "user_question = \"How much did i spent each day last month ?\"\n",
    "response = handle_user_query(user_question)\n",
    "print(response)"
   ]
  },
  {
   "cell_type": "code",
   "execution_count": 26,
   "metadata": {},
   "outputs": [],
   "source": [
    "# query = result['query']\n",
    "# sql_result = result['result']\n",
    "\n",
    "# def generate_final_answer(query, sql_result):\n",
    "#     prompt = f\"The result of the query '{query}' is '{sql_result}'. Please provide a complete answer based on this result.\"\n",
    "#     return llm.generate([prompt])\n",
    "\n"
   ]
  },
  {
   "cell_type": "code",
   "execution_count": 27,
   "metadata": {},
   "outputs": [],
   "source": [
    "# final_answer = generate_final_answer(query, sql_result)\n",
    "# print(final_answer)"
   ]
  },
  {
   "cell_type": "code",
   "execution_count": null,
   "metadata": {},
   "outputs": [],
   "source": []
  }
 ],
 "metadata": {
  "kernelspec": {
   "display_name": "privategpt",
   "language": "python",
   "name": "python3"
  },
  "language_info": {
   "codemirror_mode": {
    "name": "ipython",
    "version": 3
   },
   "file_extension": ".py",
   "mimetype": "text/x-python",
   "name": "python",
   "nbconvert_exporter": "python",
   "pygments_lexer": "ipython3",
   "version": "3.11.7"
  }
 },
 "nbformat": 4,
 "nbformat_minor": 2
}

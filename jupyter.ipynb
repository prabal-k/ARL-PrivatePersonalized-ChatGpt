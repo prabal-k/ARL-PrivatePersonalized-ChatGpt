{
 "cells": [
  {
   "cell_type": "code",
   "execution_count": 1,
   "metadata": {},
   "outputs": [],
   "source": [
    "from langchain.llms import CTransformers  # to load the llama2 model"
   ]
  },
  {
   "cell_type": "code",
   "execution_count": 2,
   "metadata": {},
   "outputs": [
    {
     "name": "stderr",
     "output_type": "stream",
     "text": [
      "c:\\Users\\Prabal Kuinkel\\Desktop\\ARL-Intern\\privategpt\\privategpt\\Lib\\site-packages\\tqdm\\auto.py:21: TqdmWarning: IProgress not found. Please update jupyter and ipywidgets. See https://ipywidgets.readthedocs.io/en/stable/user_install.html\n",
      "  from .autonotebook import tqdm as notebook_tqdm\n"
     ]
    }
   ],
   "source": [
    "llm = CTransformers(model=\"model\\Tinyllama-150-50-200-210-80Epoch f32.gguf\",\n",
    "                        model_type=\"llama\", config={'max_new_tokens':3990,'temperature':100,'context_length': 3990})"
   ]
  },
  {
   "cell_type": "code",
   "execution_count": 3,
   "metadata": {},
   "outputs": [],
   "source": [
    "# llm(\" Please write me a SQL statement that answers the following question: How many transactions did I make this month \")"
   ]
  },
  {
   "cell_type": "code",
   "execution_count": 4,
   "metadata": {},
   "outputs": [
    {
     "name": "stdout",
     "output_type": "stream",
     "text": [
      "\n",
      "CREATE TABLE transactions (\n",
      "\t`Account_No` VARCHAR(50) NOT NULL, \n",
      "\t`Transaction_details` TEXT, \n",
      "\t`Withdrawal_amount` INTEGER, \n",
      "\t`Deposit_amount` INTEGER, \n",
      "\t`Balance_amount` INTEGER, \n",
      "\t`Value_date` DATE, \n",
      "\t`Date` DATE\n",
      ")COLLATE utf8mb4_0900_ai_ci ENGINE=InnoDB DEFAULT CHARSET=utf8mb4\n",
      "\n",
      "/*\n",
      "3 rows from transactions table:\n",
      "Account_No\tTransaction_details\tWithdrawal_amount\tDeposit_amount\tBalance_amount\tValue_date\tDate\n",
      "409000611074\tTRF FROM  Indiaforensic SERVICES\t0\t1000000\t1000000\t2022-11-11\t2022-11-11\n",
      "409000611074\tTRF FROM  Indiaforensic SERVICES\t0\t1000000\t2000000\t2022-11-17\t2022-11-17\n",
      "409000611074\tFDRL/INTERNAL FUND TRANSFE\t0\t500000\t2500000\t2022-11-30\t2022-11-30\n",
      "*/\n"
     ]
    }
   ],
   "source": [
    "from langchain_community.utilities import SQLDatabase\n",
    "\n",
    "\n",
    "# MySQL connection URI\n",
    "username = 'root'\n",
    "password = 'prabal9869'\n",
    "host = '127.0.0.1'\n",
    "dbname = 'arl_bank'  # Database name\n",
    "\n",
    "# Constructing the MySQL URI\n",
    "mysql_uri = f\"mysql+pymysql://{username}:{password}@{host}/{dbname}\"\n",
    "\n",
    "# # Initializing SQLDatabase object for MySQL\n",
    "db = SQLDatabase.from_uri(mysql_uri, sample_rows_in_table_info=3)\n",
    "print(db.table_info)"
   ]
  },
  {
   "cell_type": "code",
   "execution_count": 5,
   "metadata": {},
   "outputs": [],
   "source": [
    "from langchain_experimental.sql import SQLDatabaseChain\n",
    "\n",
    "db_chain = SQLDatabaseChain.from_llm(llm=llm,db=db,verbose=True)\n"
   ]
  },
  {
   "cell_type": "markdown",
   "metadata": {},
   "source": [
    "# FEW SHORT LEARNING"
   ]
  },
  {
   "cell_type": "code",
   "execution_count": 6,
   "metadata": {},
   "outputs": [],
   "source": [
    "#Few_shorts\n",
    "\n",
    "few_shots=[\n",
    "    {\n",
    "        'Question':\" Income of last 3 months. ?\",\n",
    "        'SQLQuery':\"\"\"SELECT SUM(Deposit_amount) AS Total_Income FROM transactions WHERE Value_date >= DATE_SUB(CURRENT_DATE(), INTERVAL 3 MONTH) \"\"\",\n",
    "        'SQLResult':\"1530205868\",\n",
    "        'Answer':\"The income of last 3 months is 1530205868 .\"\n",
    "    }\n",
    "    ,\n",
    "\n",
    "    {\n",
    "        'Question':\"Total expenses/spendings of last 8 months ?\",\n",
    "        'SQLQuery':\"\"\"SELECT SUM(Withdrawal_amount) AS Total_Expenses FROM transactions WHERE Value_date >= DATE_SUB(CURRENT_DATE(), INTERVAL 8 MONTH) \"\"\",\n",
    "        'SQLResult':\"11274528407\",\n",
    "        'Answer':\"The total expenses of last 8 months is 11274528407 .\"\n",
    "    }\n",
    "    ,\n",
    "      {\n",
    "        'Question':\"Total saving of last month  ?\",\n",
    "        'SQLQuery':\"\"\"SELECT (SUM(Deposit_amount) - SUM(Withdrawal_amount)) AS Savings_Last_Month FROM transactions YEAR(Value_date) = YEAR(CURRENT_DATE() - INTERVAL 1 MONTH) AND MONTH(Value_date) = MONTH(CURRENT_DATE() - INTERVAL 1 MONTH); \"\"\",\n",
    "        'SQLResult':\"-193509\",\n",
    "        'Answer':\"You lost -193509 last month.\"\n",
    "    }\n",
    ",\n",
    "    {\n",
    "        'Question':\"How many transactions did I make in last 2 week  \",\n",
    "        'SQLQuery':\"\"\"SELECT COUNT(*) AS Total_Transactions FROM transactions WHERE Value_date >= DATE_SUB(CURRENT_DATE(), INTERVAL 2 WEEK) \"\"\",\n",
    "        'SQLResult':\"162\",\n",
    "        'Answer':\"You made 162 transactions in last 2 week.\"\n",
    "    },\n",
    "     {\n",
    "        'Question':\"Amount spent last week\",\n",
    "        'SQLQuery':\"\"\"SELECT SUM(Withdrawal_amount) AS Total_Spending FROM transactions WHERE Value_date >= DATE_SUB(CURRENT_DATE(), INTERVAL 1 WEEK) \"\"\",\n",
    "        'SQLResult':\"59831261\",\n",
    "        'Answer':\"You spent total 59831261 last week .\"\n",
    "    }\n",
    "    , {\n",
    "        'Question': \"Expenses for each day this month ?\",\n",
    "        'SQLQuery': \"\"\"SELECT Date, SUM(Withdrawal_amount) AS Total_Expenses FROM transactions WHERE YEAR(Value_date) = YEAR(CURRENT_DATE()) AND MONTH(Value_date) = MONTH(CURRENT_DATE()) GROUP BY Date \"\"\",\n",
    "        'SQLResult':\n",
    "        \"\"\"\n",
    "[(2024, 6, 2, Decimal('183648')),\n",
    "(2024, 6, 3, Decimal('80666')),\n",
    "(2024, 6, 4, Decimal('135504')),\n",
    "(2024, 6, 5, Decimal('92031')),\n",
    "(2024, 6, 6, Decimal('118475')),\n",
    "(2024, 6, 7, Decimal('16440')),\n",
    "(2024, 6, 9, Decimal('62112')),\n",
    "(2024, 6, 10, Decimal('10331'))]\n",
    "\"\"\"\n",
    "        ,\n",
    "        'Answer': \"\"\"The total_expenses for each day of this month are:\n",
    "        2024 June, 2: 183648,\n",
    "        2024 June, 3: 80666,\n",
    "        2024 June, 4: 135504,\n",
    "        2024 June, 5: 92031,\n",
    "        2024 June, 6: 118475,\n",
    "        2024 June, 7: 16440,\n",
    "        2024 June, 9: 62112,\n",
    "        2024 June, 10: 10331\n",
    "        \"\"\"\n",
    "    },\n",
    "    {\n",
    "        'Question':\"savings of previous year for each month \",\n",
    "        'SQLQuery':\"\"\"SELECT year(Value_date), MONTH(Value_date) AS Month, (SUM(Deposit_amount) - SUM(Withdrawal_amount)) AS Total_Savings FROM transactions WHERE YEAR(Value_date) = YEAR(CURRENT_DATE() - INTERVAL 1 YEAR) GROUP BY year(value_date), MONTH(Value_date) ORDER BY MONTH(Value_date); \"\"\",\n",
    "        'SQLResult':\"\"\"\n",
    "       [(2023, 1, Decimal('-311244')),\n",
    "        (2023, 2, Decimal('9101')),\n",
    "        (2023, 3, Decimal('3476')),\n",
    "        (2023, 4, Decimal('-15971')),\n",
    "        (2023, 5, Decimal('322249')),\n",
    "        (2023, 6, Decimal('-172560')),\n",
    "        (2023, 7, Decimal('361471')),\n",
    "        (2023, 8, Decimal('-446844')),\n",
    "        (2023, 9, Decimal('93215')),\n",
    "        (2023, 10, Decimal('-73917')),\n",
    "        (2023, 11, Decimal('294502')),\n",
    "        (2023, 12, Decimal('-404028'))]\n",
    "        \"\"\",\n",
    "        'Answer':\"\"\"\n",
    "        Your Savings for each month of previous year are:\n",
    "        January: -311244, February: 9101, March: 3476\n",
    "        April: -15971, May: 322249, June: -172560\n",
    "        July: 361471, August: -446844, September: 93215\n",
    "        October: -73917, November: 294502, December: -404028 \"\"\"\n",
    "    },\n",
    "     {\n",
    "        'Question':\"Amount Saved each year\",\n",
    "        'SQLQuery':\"\"\"SELECT YEAR(Value_date) AS Year,SUM(Deposit_amount) - SUM(Withdrawal_amount) AS Savings FROM transactions GROUP BY YEAR(Value_date) \"\"\",\n",
    "        'SQLResult':\"\"\"\n",
    "      [(2021, Decimal('497766')),\n",
    "        (2022, Decimal('272458')),\n",
    "        (2023, Decimal('-340550')),\n",
    "        (2024, Decimal('-148114'))]\n",
    "       \"\"\",\n",
    "        'Answer':\"\"\"You saved following amount each year:\n",
    "                2021:497766, 2022:272458, 2023:-340550\n",
    "                2024:-148114 \"\"\"\n",
    "    }\n",
    "    ,\n",
    "     {\n",
    "        'Question':\"Savings of last 2 year  \",\n",
    "        'SQLQuery':\"\"\"SELECT YEAR(Value_date) AS Year, SUM(Deposit_amount) - SUM(Withdrawal_amount) AS Net_Savings FROM transactions WHERE Value_date >= DATE_SUB(CURRENT_DATE(), INTERVAL 2 YEAR) GROUP BY YEAR(Value_date) \"\"\",\n",
    "        'SQLResult':\"\"\"\n",
    "       [(2022, Decimal('2270453')),\n",
    "    (2023, Decimal('-895783')),\n",
    "    (2024, Decimal('-912470'))]\n",
    "\n",
    "        \"\"\",\n",
    "        'Answer':\"\"\"Your savings of last 2 year are:\n",
    "         2022:2270453, 2023:-895783 \n",
    "                2024:-912470 .\"\"\"\n",
    "    }\n",
    "    ,\n",
    "     {\n",
    "        'Question':\"Expenses of each day of last week  \",\n",
    "        'SQLQuery':\"\"\"SELECT DATE(Value_date) AS Date, SUM(Withdrawal_amount) AS Total_Spending FROM transactions WHERE Value_date >= DATE_SUB(CURDATE(), INTERVAL 1 WEEK) GROUP BY DATE(Value_date) \"\"\",\n",
    "        'SQLResult':\"\"\"\n",
    "       [(2024, 6, 6, Decimal('118475')),\n",
    "    (2024, 6, 7, Decimal('16440')),\n",
    "    (2024, 6, 9, Decimal('62112')),\n",
    "    (2024, 6, 10, Decimal('10331'))]\n",
    "        \"\"\",\n",
    "        'Answer':\"\"\"You spend following amount each day last week:\n",
    "        June 6: 118475, June 7: 16440, June 9: 62112, June 10: 10331 \"\"\"\n",
    "    },\n",
    "    {\n",
    "        'Question':\"Amount spent this year ?\",\n",
    "        'SQLQuery':\"\"\"SELECT year(Value_date) as Year,sum(Withdrawal_amount) AS Total_Expenses FROM transactions WHERE year(Value_date) = year(curdate()) group by year(Value_date) \"\"\",\n",
    "        'SQLResult':\"\"\"(2024, Decimal('6527128485'))\"\"\",\n",
    "        'Answer':\"You spent 6527128485 on 2024\"\n",
    "    },\n",
    "    {\n",
    "        'Question':\"amount/money saved each month previous year ?\",\n",
    "        'SQLQuery':\"\"\"SELECT YEAR(Value_date) AS Year, MONTH(Value_date) AS Month, SUM(Deposit_amount) - SUM(Withdrawal_amount) AS Savings FROM transactions WHERE YEAR(Value_date) = YEAR(CURRENT_DATE - INTERVAL 1 YEAR) GROUP BY YEAR(Value_date), MONTH(Value_date) \"\"\",\n",
    "        'SQLResult':\"\"\"\n",
    "[(2023, 1, Decimal('-311244')),\n",
    "(2023, 2, Decimal('9101')),\n",
    "(2023, 3, Decimal('3476')),\n",
    "(2023, 4, Decimal('-15971')),\n",
    "(2023, 5, Decimal('322249')),\n",
    "(2023, 6, Decimal('-172560')),\n",
    "(2023, 7, Decimal('361471')),\n",
    "(2023, 8, Decimal('-446844')),\n",
    "(2023, 9, Decimal('93215')),\n",
    "(2023, 10, Decimal('-73917')),\n",
    "(2023, 11, Decimal('294502')),\n",
    "(2023, 12, Decimal('-404028'))]\n",
    "        \"\"\",\n",
    "        'Answer':\"\"\"You saved following amounts previous year :\n",
    "        January: -311244, February: 9101, March: 3476, April: -15971, May: 322249, June: 172560, July: 361471, \n",
    "        August: 446844, September: 93215, October: 73917, November: 294502, December: 404028 \"\"\"\n",
    "    },\n",
    "{\n",
    "    'Question': \"What is my total income last quarter?\",\n",
    "    'SQLQuery': \"\"\"SELECT SUM(Deposit_amount) AS Total_Income FROM transactions WHERE YEAR(Value_date) = YEAR(CURRENT_DATE()) AND QUARTER(Value_date) = QUARTER(CURRENT_DATE()) - 1\"\"\",\n",
    "    'SQLResult':\"2055417596\",\n",
    "    'Answer':\"Your total income last quater was 2055417596.\"\n",
    "}\n",
    "     ,\n",
    "      {\n",
    "        'Question':\"income of the previous year \",\n",
    "        'SQLQuery':\"\"\"SELECT SUM(Deposit_amount) AS Total_Income FROM transactions WHERE YEAR(Value_date) = YEAR(CURRENT_DATE) - 1 \"\"\",\n",
    "        'SQLResult':\"38593214103\",\n",
    "        'Answer':\"Your income previous ysear was 38593214103.\"\n",
    "    }\n",
    "    ,\n",
    "      {\n",
    "        'Question':\"income of the first 4 month of previous year \",\n",
    "        'SQLQuery':\"\"\"SELECT SUM(Deposit_amount) AS Total_Income FROM transactions WHERE MONTH(Value_date) IN (1,2,3,4) AND YEAR(Value_date) = YEAR(CURRENT_DATE) - 1 \"\"\",\n",
    "        'SQLResult':\"17847505444\",\n",
    "        'Answer':\"Your income of first 4 month of previous year was 17847505444.\"\n",
    "    },\n",
    "    {\n",
    "    'Question': \"amount I lost each year?\",\n",
    "    'SQLQuery': \"\"\" SELECT YEAR(Value_date) AS Year,SUM(Withdrawal_amount) - SUM(Deposit_amount) AS Losses FROM transactions GROUP BY YEAR(Value_date) \"\"\",\n",
    "    'SQLResult': \"\"\"[\n",
    "        (2022, Decimal('256395842')),\n",
    "        (2023, Decimal('552520828')),\n",
    "        (2024, Decimal('505236609')),\n",
    "        (2021, Decimal('1251859488')),\n",
    "        (2020, Decimal('694854538'))]\"\"\"\n",
    "    ,\n",
    "    'Answer': \"You lost 694854538 in 2020, 1251859488 in 2021, 256395842 in 2022, 552520828 in 2023, and -505236609 in 2024.\"\n",
    "},\n",
    "{\n",
    "    \"Question\": \"What is my average spendings of last 11 transactions?\",\n",
    "    \"SQLQuery\": \"SELECT AVG(Withdrawal_amount) AS Average_Spending FROM (SELECT Withdrawal_amount FROM transactions WHERE Withdrawal_amount IS NOT NULL ORDER BY Value_date DESC LIMIT 11) AS Last11Transactions\",\n",
    "    \"SQLResult\":\"1138377.5455\",\n",
    "    'Answer': \"1138377.5455 is your average spendings of last 11 transactions .\"\n",
    "\n",
    "}\n",
    ",\n",
    "{\n",
    "    'Question': \"How much did I spend each quarter this year?\",\n",
    "    'SQLQuery': \"\"\"SELECT QUARTER(Value_date) AS Quarter, SUM(Withdrawal_amount) AS Total_Spending\n",
    "                   FROM transactions\n",
    "                   WHERE YEAR(Value_date) = YEAR(CURRENT_DATE())\n",
    "                   GROUP BY QUARTER(Value_date)\"\"\",\n",
    "     'SQLResult':\"\"\"(1, Decimal(5885524375')),\n",
    "        (2, Decimal(2689194690')),\n",
    "        (3, Decimal(263256582'))\"\"\",\n",
    "    'Answer': \"\"\"Spendings for each quater is :\n",
    "    Quarter-1: 5885524375, Quarter-2: 2689194690, Quarter-3: 263256582\n",
    "         \"\"\"\n",
    "},\n",
    "{\n",
    "    'Question': \"In which date did i make my highest transaction of this month and what was the amount?\",\n",
    "    'SQLQuery': \"SELECT Value_date, MAX(Withdrawal_amount) AS Highest_Transaction_Amount FROM transactions WHERE Value_date >= DATE_SUB(CURRENT_DATE(), INTERVAL 1 MONTH) GROUP BY Value_date ORDER BY Highest_Transaction_Amount DESC LIMIT 1\",\n",
    "    'SQLResult': \"(2024-06-25, Decimal('10000000'))\",\n",
    "    'Answer': \"You made the highest transaction on Junt 25th and the amount is 10000000\"\n",
    "},\n",
    " {\n",
    "        'Question': \"How much amount did I spent on February month ?\",\n",
    "        'SQLQuery': \"\"\"SELECT SUM(Withdrawal_amount) AS Spending_February FROM transactions WHERE YEAR(Value_date) = YEAR(CURRENT_DATE()) AND MONTH(Value_date) = 2\"\"\",\n",
    "        'SQLResult': \"1985783353\",\n",
    "        'Answer': \"You spent 1985783353 on February month.\"\n",
    "    },\n",
    "    {\n",
    "        'Question': \"What were my total expenditures by month in the previous year?\",\n",
    "        'SQLQuery': \"\"\"SELECT YEAR(Value_date) AS Year, MONTH(Value_date) AS Month, SUM(Withdrawal_amount) AS Total_Expenditures FROM transactions WHERE YEAR(Value_date) = YEAR(CURRENT_DATE()) - 1 GROUP BY YEAR(Value_date), MONTH(Value_date)\"\"\",\n",
    "        'SQLResult':\"\"\"[(2023, 1, Decimal('4530730974')), (2023, 2, Decimal('4616646063')), (2023, 3, Decimal('5276664685')), (2023, 4, Decimal('4571039249')), (2023, 5, Decimal('3557364039')), (2023, 6, Decimal('3262112460')), (2023, 7, Decimal('3142750834')), (2023, 8, Decimal('2875423837')), (2023, 9, Decimal('2727745395')), (2023, 10, Decimal('2537575257')), (2023, 11, Decimal('2818821756')), (2023, 12, Decimal('2246381750'))]\"\"\",\n",
    "        'Answer': \"\"\"Expenditure for each month previous year:\n",
    "            January: 4530730974, February: 4616646063, March: 5276664685, April: 4571039249, May: 3557364039, June: 3262112460, July: 3142750834, August: 2875423837, September: 2727745395, October: 2537575257, November: 2818821756, December: 2246381750 \"\"\"\n",
    "}\n",
    "\n",
    ",{\n",
    "        'Question': \"Which is my highest earning month this year ? I also want the amount along with month\",\n",
    "        'SQLQuery': \"\"\"SELECT MONTH(Value_date) AS Month, SUM(Deposit_amount) AS Total_Earnings FROM transactions WHERE YEAR(Value_date) = YEAR(CURRENT_DATE()) GROUP BY MONTH(Value_date) ORDER BY Total_Earnings DESC limit 1\"\"\",\n",
    "    'SQLResult': \"[(1, Decimal('1893013978'))]\",\n",
    "        'Answer': \"Your highest earning month this year is June with amount 1893013978.\"\n",
    "    }\n",
    "\n",
    "]\n",
    "\n"
   ]
  },
  {
   "cell_type": "code",
   "execution_count": 7,
   "metadata": {},
   "outputs": [],
   "source": [
    "# # Define a function to transform the few_shots into the desired format\n",
    "# import json\n",
    "# def transform_few_shots(few_shots):\n",
    "#     transformed = []\n",
    "#     for shot in few_shots:\n",
    "#         input_text = shot['Question']\n",
    "#         output_text = shot['Answer']\n",
    "#         reformatted_text = f'<s>[INST] {input_text} [/INST] {output_text} </s>'\n",
    "#         transformed.append({'text': reformatted_text})\n",
    "#     return transformed\n",
    "\n",
    "# # Transform the few_shots\n",
    "# transformed_few_shots = transform_few_shots(few_shots)\n",
    "\n",
    "# # Save the transformed few_shots to a file\n",
    "# with open('transformed_few_shots.json', 'w') as f:\n",
    "#     json.dump(transformed_few_shots, f, indent=4)"
   ]
  },
  {
   "cell_type": "code",
   "execution_count": 8,
   "metadata": {},
   "outputs": [
    {
     "name": "stderr",
     "output_type": "stream",
     "text": [
      "c:\\Users\\Prabal Kuinkel\\Desktop\\ARL-Intern\\privategpt\\privategpt\\Lib\\site-packages\\langchain_core\\_api\\deprecation.py:119: LangChainDeprecationWarning: The class `HuggingFaceEmbeddings` was deprecated in LangChain 0.2.2 and will be removed in 0.3.0. An updated version of the class exists in the langchain-huggingface package and should be used instead. To use it run `pip install -U langchain-huggingface` and import as `from langchain_huggingface import HuggingFaceEmbeddings`.\n",
      "  warn_deprecated(\n",
      "c:\\Users\\Prabal Kuinkel\\Desktop\\ARL-Intern\\privategpt\\privategpt\\Lib\\site-packages\\huggingface_hub\\file_download.py:1132: FutureWarning: `resume_download` is deprecated and will be removed in version 1.0.0. Downloads always resume when possible. If you want to force a new download, use `force_download=True`.\n",
      "  warnings.warn(\n"
     ]
    }
   ],
   "source": [
    "from langchain.prompts import SemanticSimilarityExampleSelector\n",
    "from langchain.embeddings import HuggingFaceEmbeddings\n",
    "from langchain.vectorstores import Chroma\n",
    "\n",
    "embeddings = HuggingFaceEmbeddings(model_name='sentence-transformers/all-MiniLM-L6-v2')\n",
    "\n",
    "to_vectorize = [\" \".join(example.values()) for example in few_shots]"
   ]
  },
  {
   "cell_type": "code",
   "execution_count": 9,
   "metadata": {},
   "outputs": [
    {
     "data": {
      "text/plain": [
       "[' Income of last 3 months. ? SELECT SUM(Deposit_amount) AS Total_Income FROM transactions WHERE Value_date >= DATE_SUB(CURRENT_DATE(), INTERVAL 3 MONTH)  1530205868 The income of last 3 months is 1530205868 .',\n",
       " 'Total expenses/spendings of last 8 months ? SELECT SUM(Withdrawal_amount) AS Total_Expenses FROM transactions WHERE Value_date >= DATE_SUB(CURRENT_DATE(), INTERVAL 8 MONTH)  11274528407 The total expenses of last 8 months is 11274528407 .',\n",
       " 'Total saving of last month  ? SELECT (SUM(Deposit_amount) - SUM(Withdrawal_amount)) AS Savings_Last_Month FROM transactions YEAR(Value_date) = YEAR(CURRENT_DATE() - INTERVAL 1 MONTH) AND MONTH(Value_date) = MONTH(CURRENT_DATE() - INTERVAL 1 MONTH);  -193509 You lost -193509 last month.',\n",
       " 'How many transactions did I make in last 2 week   SELECT COUNT(*) AS Total_Transactions FROM transactions WHERE Value_date >= DATE_SUB(CURRENT_DATE(), INTERVAL 2 WEEK)  162 You made 162 transactions in last 2 week.',\n",
       " 'Amount spent last week SELECT SUM(Withdrawal_amount) AS Total_Spending FROM transactions WHERE Value_date >= DATE_SUB(CURRENT_DATE(), INTERVAL 1 WEEK)  59831261 You spent total 59831261 last week .',\n",
       " \"Expenses for each day this month ? SELECT Date, SUM(Withdrawal_amount) AS Total_Expenses FROM transactions WHERE YEAR(Value_date) = YEAR(CURRENT_DATE()) AND MONTH(Value_date) = MONTH(CURRENT_DATE()) GROUP BY Date  \\n[(2024, 6, 2, Decimal('183648')),\\n(2024, 6, 3, Decimal('80666')),\\n(2024, 6, 4, Decimal('135504')),\\n(2024, 6, 5, Decimal('92031')),\\n(2024, 6, 6, Decimal('118475')),\\n(2024, 6, 7, Decimal('16440')),\\n(2024, 6, 9, Decimal('62112')),\\n(2024, 6, 10, Decimal('10331'))]\\n The total_expenses for each day of this month are:\\n        2024 June, 2: 183648,\\n        2024 June, 3: 80666,\\n        2024 June, 4: 135504,\\n        2024 June, 5: 92031,\\n        2024 June, 6: 118475,\\n        2024 June, 7: 16440,\\n        2024 June, 9: 62112,\\n        2024 June, 10: 10331\\n        \",\n",
       " \"savings of previous year for each month  SELECT year(Value_date), MONTH(Value_date) AS Month, (SUM(Deposit_amount) - SUM(Withdrawal_amount)) AS Total_Savings FROM transactions WHERE YEAR(Value_date) = YEAR(CURRENT_DATE() - INTERVAL 1 YEAR) GROUP BY year(value_date), MONTH(Value_date) ORDER BY MONTH(Value_date);  \\n       [(2023, 1, Decimal('-311244')),\\n        (2023, 2, Decimal('9101')),\\n        (2023, 3, Decimal('3476')),\\n        (2023, 4, Decimal('-15971')),\\n        (2023, 5, Decimal('322249')),\\n        (2023, 6, Decimal('-172560')),\\n        (2023, 7, Decimal('361471')),\\n        (2023, 8, Decimal('-446844')),\\n        (2023, 9, Decimal('93215')),\\n        (2023, 10, Decimal('-73917')),\\n        (2023, 11, Decimal('294502')),\\n        (2023, 12, Decimal('-404028'))]\\n         \\n        Your Savings for each month of previous year are:\\n        January: -311244, February: 9101, March: 3476\\n        April: -15971, May: 322249, June: -172560\\n        July: 361471, August: -446844, September: 93215\\n        October: -73917, November: 294502, December: -404028 \",\n",
       " \"Amount Saved each year SELECT YEAR(Value_date) AS Year,SUM(Deposit_amount) - SUM(Withdrawal_amount) AS Savings FROM transactions GROUP BY YEAR(Value_date)  \\n      [(2021, Decimal('497766')),\\n        (2022, Decimal('272458')),\\n        (2023, Decimal('-340550')),\\n        (2024, Decimal('-148114'))]\\n        You saved following amount each year:\\n                2021:497766, 2022:272458, 2023:-340550\\n                2024:-148114 \",\n",
       " \"Savings of last 2 year   SELECT YEAR(Value_date) AS Year, SUM(Deposit_amount) - SUM(Withdrawal_amount) AS Net_Savings FROM transactions WHERE Value_date >= DATE_SUB(CURRENT_DATE(), INTERVAL 2 YEAR) GROUP BY YEAR(Value_date)  \\n       [(2022, Decimal('2270453')),\\n    (2023, Decimal('-895783')),\\n    (2024, Decimal('-912470'))]\\n\\n         Your savings of last 2 year are:\\n         2022:2270453, 2023:-895783 \\n                2024:-912470 .\",\n",
       " \"Expenses of each day of last week   SELECT DATE(Value_date) AS Date, SUM(Withdrawal_amount) AS Total_Spending FROM transactions WHERE Value_date >= DATE_SUB(CURDATE(), INTERVAL 1 WEEK) GROUP BY DATE(Value_date)  \\n       [(2024, 6, 6, Decimal('118475')),\\n    (2024, 6, 7, Decimal('16440')),\\n    (2024, 6, 9, Decimal('62112')),\\n    (2024, 6, 10, Decimal('10331'))]\\n         You spend following amount each day last week:\\n        June 6: 118475, June 7: 16440, June 9: 62112, June 10: 10331 \",\n",
       " \"Amount spent this year ? SELECT year(Value_date) as Year,sum(Withdrawal_amount) AS Total_Expenses FROM transactions WHERE year(Value_date) = year(curdate()) group by year(Value_date)  (2024, Decimal('6527128485')) You spent 6527128485 on 2024\",\n",
       " \"amount/money saved each month previous year ? SELECT YEAR(Value_date) AS Year, MONTH(Value_date) AS Month, SUM(Deposit_amount) - SUM(Withdrawal_amount) AS Savings FROM transactions WHERE YEAR(Value_date) = YEAR(CURRENT_DATE - INTERVAL 1 YEAR) GROUP BY YEAR(Value_date), MONTH(Value_date)  \\n[(2023, 1, Decimal('-311244')),\\n(2023, 2, Decimal('9101')),\\n(2023, 3, Decimal('3476')),\\n(2023, 4, Decimal('-15971')),\\n(2023, 5, Decimal('322249')),\\n(2023, 6, Decimal('-172560')),\\n(2023, 7, Decimal('361471')),\\n(2023, 8, Decimal('-446844')),\\n(2023, 9, Decimal('93215')),\\n(2023, 10, Decimal('-73917')),\\n(2023, 11, Decimal('294502')),\\n(2023, 12, Decimal('-404028'))]\\n         You saved following amounts previous year :\\n        January: -311244, February: 9101, March: 3476, April: -15971, May: 322249, June: 172560, July: 361471, \\n        August: 446844, September: 93215, October: 73917, November: 294502, December: 404028 \",\n",
       " 'What is my total income last quarter? SELECT SUM(Deposit_amount) AS Total_Income FROM transactions WHERE YEAR(Value_date) = YEAR(CURRENT_DATE()) AND QUARTER(Value_date) = QUARTER(CURRENT_DATE()) - 1 2055417596 Your total income last quater was 2055417596.',\n",
       " 'income of the previous year  SELECT SUM(Deposit_amount) AS Total_Income FROM transactions WHERE YEAR(Value_date) = YEAR(CURRENT_DATE) - 1  38593214103 Your income previous ysear was 38593214103.',\n",
       " 'income of the first 4 month of previous year  SELECT SUM(Deposit_amount) AS Total_Income FROM transactions WHERE MONTH(Value_date) IN (1,2,3,4) AND YEAR(Value_date) = YEAR(CURRENT_DATE) - 1  17847505444 Your income of first 4 month of previous year was 17847505444.',\n",
       " \"amount I lost each year?  SELECT YEAR(Value_date) AS Year,SUM(Withdrawal_amount) - SUM(Deposit_amount) AS Losses FROM transactions GROUP BY YEAR(Value_date)  [\\n        (2022, Decimal('256395842')),\\n        (2023, Decimal('552520828')),\\n        (2024, Decimal('505236609')),\\n        (2021, Decimal('1251859488')),\\n        (2020, Decimal('694854538'))] You lost 694854538 in 2020, 1251859488 in 2021, 256395842 in 2022, 552520828 in 2023, and -505236609 in 2024.\",\n",
       " 'What is my average spendings of last 11 transactions? SELECT AVG(Withdrawal_amount) AS Average_Spending FROM (SELECT Withdrawal_amount FROM transactions WHERE Withdrawal_amount IS NOT NULL ORDER BY Value_date DESC LIMIT 11) AS Last11Transactions 1138377.5455 1138377.5455 is your average spendings of last 11 transactions .',\n",
       " \"How much did I spend each quarter this year? SELECT QUARTER(Value_date) AS Quarter, SUM(Withdrawal_amount) AS Total_Spending\\n                   FROM transactions\\n                   WHERE YEAR(Value_date) = YEAR(CURRENT_DATE())\\n                   GROUP BY QUARTER(Value_date) (1, Decimal(5885524375')),\\n        (2, Decimal(2689194690')),\\n        (3, Decimal(263256582')) Spendings for each quater is :\\n    Quarter-1: 5885524375, Quarter-2: 2689194690, Quarter-3: 263256582\\n         \",\n",
       " \"In which date did i make my highest transaction of this month and what was the amount? SELECT Value_date, MAX(Withdrawal_amount) AS Highest_Transaction_Amount FROM transactions WHERE Value_date >= DATE_SUB(CURRENT_DATE(), INTERVAL 1 MONTH) GROUP BY Value_date ORDER BY Highest_Transaction_Amount DESC LIMIT 1 (2024-06-25, Decimal('10000000')) You made the highest transaction on Junt 25th and the amount is 10000000\",\n",
       " 'How much amount did I spent on February month ? SELECT SUM(Withdrawal_amount) AS Spending_February FROM transactions WHERE YEAR(Value_date) = YEAR(CURRENT_DATE()) AND MONTH(Value_date) = 2 1985783353 You spent 1985783353 on February month.',\n",
       " \"What were my total expenditures by month in the previous year? SELECT YEAR(Value_date) AS Year, MONTH(Value_date) AS Month, SUM(Withdrawal_amount) AS Total_Expenditures FROM transactions WHERE YEAR(Value_date) = YEAR(CURRENT_DATE()) - 1 GROUP BY YEAR(Value_date), MONTH(Value_date) [(2023, 1, Decimal('4530730974')), (2023, 2, Decimal('4616646063')), (2023, 3, Decimal('5276664685')), (2023, 4, Decimal('4571039249')), (2023, 5, Decimal('3557364039')), (2023, 6, Decimal('3262112460')), (2023, 7, Decimal('3142750834')), (2023, 8, Decimal('2875423837')), (2023, 9, Decimal('2727745395')), (2023, 10, Decimal('2537575257')), (2023, 11, Decimal('2818821756')), (2023, 12, Decimal('2246381750'))] Expenditure for each month previous year:\\n            January: 4530730974, February: 4616646063, March: 5276664685, April: 4571039249, May: 3557364039, June: 3262112460, July: 3142750834, August: 2875423837, September: 2727745395, October: 2537575257, November: 2818821756, December: 2246381750 \",\n",
       " \"Which is my highest earning month this year ? I also want the amount along with month SELECT MONTH(Value_date) AS Month, SUM(Deposit_amount) AS Total_Earnings FROM transactions WHERE YEAR(Value_date) = YEAR(CURRENT_DATE()) GROUP BY MONTH(Value_date) ORDER BY Total_Earnings DESC limit 1 [(1, Decimal('1893013978'))] Your highest earning month this year is June with amount 1893013978.\"]"
      ]
     },
     "execution_count": 9,
     "metadata": {},
     "output_type": "execute_result"
    }
   ],
   "source": [
    "to_vectorize "
   ]
  },
  {
   "cell_type": "code",
   "execution_count": 10,
   "metadata": {},
   "outputs": [],
   "source": [
    "vectorstore = Chroma.from_texts(to_vectorize, embeddings, metadatas=few_shots)"
   ]
  },
  {
   "cell_type": "code",
   "execution_count": 11,
   "metadata": {},
   "outputs": [
    {
     "data": {
      "text/plain": [
       "[{'Answer': 'Your income previous ysear was 38593214103.',\n",
       "  'Question': 'income of the previous year ',\n",
       "  'SQLQuery': 'SELECT SUM(Deposit_amount) AS Total_Income FROM transactions WHERE YEAR(Value_date) = YEAR(CURRENT_DATE) - 1 ',\n",
       "  'SQLResult': '38593214103'},\n",
       " {'Answer': 'Your income of first 4 month of previous year was 17847505444.',\n",
       "  'Question': 'income of the first 4 month of previous year ',\n",
       "  'SQLQuery': 'SELECT SUM(Deposit_amount) AS Total_Income FROM transactions WHERE MONTH(Value_date) IN (1,2,3,4) AND YEAR(Value_date) = YEAR(CURRENT_DATE) - 1 ',\n",
       "  'SQLResult': '17847505444'}]"
      ]
     },
     "execution_count": 11,
     "metadata": {},
     "output_type": "execute_result"
    }
   ],
   "source": [
    "example_selector = SemanticSimilarityExampleSelector(\n",
    "    vectorstore=vectorstore,\n",
    "    k=2,\n",
    ")\n",
    "example_selector.select_examples({\"Question\": \"Show me the breakdown of my monthly income in the previous year.\"})\n",
    "\n",
    "# give me the Breakdown of income for each day this week as my account number is 409000493201'"
   ]
  },
  {
   "cell_type": "code",
   "execution_count": 12,
   "metadata": {},
   "outputs": [],
   "source": [
    "# # Define the custom prompt for SQL database interactions\n",
    "# custom_mysql_prompt = \"\"\"\n",
    "# You are a MySQL expert. Given an input question, first create a syntactically correct MySQL query to run, then look at the results of the query and return the answer to the input question. Prepare the correct MySQL query by looking at the top {top_k} similar queries.\n",
    "# Unless the user specifies in the question a specific number of examples to obtain, query for at most {top_k} results using the LIMIT clause as per MySQL. You can order the results to return the most informative data in the database.\n",
    "# Never query for all columns from a table. You must query only the columns that are needed to answer the question.\n",
    "# Pay attention to use only the column names you can see in the tables below. Be careful to not query for columns that do not exist. \n",
    "# Pay attention to use CURDATE() function to get the current date, if the question involves \"today\",\"this year\",\"this month\" ,\"this week\".\n",
    "\n",
    "# Table information:\n",
    "# 1. `transactions` with columns: `Account_No`, `Date`, `Transaction_details`, `Value_date`, `Withdrawal_amount`, `Deposit_amount`, `Balance_amount`\n",
    "\n",
    "# Remember to only use the provided table columns and structure your queries to handle the specified requests accurately.Only answer the question given by the user and dont assume any question by yourself.\n",
    "#  \"\"\""
   ]
  },
  {
   "cell_type": "code",
   "execution_count": 13,
   "metadata": {},
   "outputs": [],
   "source": [
    "# # Define the custom prompt for SQL database interactions\n",
    "# custom_mysql_prompt = \"\"\"You are an expert in converting natural language into MySQL query.Only use the columns that are specified and needed to answer the question.\n",
    "# Use query for at most {top_k} results.\n",
    "# Table information:\n",
    "# 1. `transactions` with columns: `Account_No`, `Date`, `Transaction_details`, `Value_date`, `Withdrawal_amount`, `Deposit_amount`, `Balance_amount`\n",
    "# \"\"\""
   ]
  },
  {
   "cell_type": "code",
   "execution_count": 14,
   "metadata": {},
   "outputs": [],
   "source": [
    "mysql_prompt = \"\"\"\n",
    "You are expert in converting the natural language into MYSQL query. Given an input question, first create a syntactically correct MySQL query to run, then look at the results of the query and return the answer to the input question.\n",
    "Unless the user specifies in the question a specific number of examples to obtain, query for at most {top_k} results using the LIMIT clause as per MySQL. You can order the results to return the most informative data in the database.\n",
    "Never query for all columns from a table. You must query only the columns that are needed to answer the question. \n",
    "Pay attention to use only the column names given in the below table information and never use any columns that does not exist. Be careful to not query for columns that do not exist. Also, pay attention to which column is in which table.\n",
    "Pay attention to use CURDATE() function to get the current date, if the question involves \"today\",\"this year\",\"this month\",\"this week\". \n",
    "Pay attention to Emphasize using only the values present in the SQLResult to answer the question and refrain from assuming answers beyond the SQLResult.\n",
    "Table information:\n",
    "1. `transactions` with columns: `Account_No`, `Date`, `Transaction_details`, `Value_date`, `Withdrawal_amount`, `Deposit_amount`, `Balance_amount`\n",
    "\n",
    "Use the following format:\n",
    "\n",
    "Question: Question here\n",
    "SQLQuery: SQL Query to run with no pre-amble\n",
    "SQLResult: Result of the SQLQuery\n",
    "Answer: Final answer here\n",
    "\n",
    "No pre-amble.\n",
    "\"\"\""
   ]
  },
  {
   "cell_type": "code",
   "execution_count": 15,
   "metadata": {},
   "outputs": [],
   "source": [
    "from langchain.prompts import FewShotPromptTemplate\n",
    "from langchain.chains.sql_database.prompt import PROMPT_SUFFIX,_mysql_prompt"
   ]
  },
  {
   "cell_type": "code",
   "execution_count": 16,
   "metadata": {},
   "outputs": [
    {
     "name": "stdout",
     "output_type": "stream",
     "text": [
      "You are a MySQL expert. Given an input question, first create a syntactically correct MySQL query to run, then look at the results of the query and return the answer to the input question.\n",
      "Unless the user specifies in the question a specific number of examples to obtain, query for at most {top_k} results using the LIMIT clause as per MySQL. You can order the results to return the most informative data in the database.\n",
      "Never query for all columns from a table. You must query only the columns that are needed to answer the question. Wrap each column name in backticks (`) to denote them as delimited identifiers.\n",
      "Pay attention to use only the column names you can see in the tables below. Be careful to not query for columns that do not exist. Also, pay attention to which column is in which table.\n",
      "Pay attention to use CURDATE() function to get the current date, if the question involves \"today\".\n",
      "\n",
      "Use the following format:\n",
      "\n",
      "Question: Question here\n",
      "SQLQuery: SQL Query to run\n",
      "SQLResult: Result of the SQLQuery\n",
      "Answer: Final answer here\n",
      "\n",
      "\n"
     ]
    }
   ],
   "source": [
    "print(_mysql_prompt)"
   ]
  },
  {
   "cell_type": "code",
   "execution_count": 17,
   "metadata": {},
   "outputs": [
    {
     "name": "stdout",
     "output_type": "stream",
     "text": [
      "Only use the following tables:\n",
      "{table_info}\n",
      "\n",
      "Question: {input}\n"
     ]
    }
   ],
   "source": [
    "print(PROMPT_SUFFIX)"
   ]
  },
  {
   "cell_type": "code",
   "execution_count": 18,
   "metadata": {},
   "outputs": [],
   "source": [
    "from langchain.prompts.prompt import PromptTemplate\n",
    "\n",
    "example_prompt = PromptTemplate(\n",
    "    input_variables=[\"Question\", \"SQLQuery\", \"SQLResult\",\"Answer\",],\n",
    "    template=\"\\nQuestion: {Question}\\nSQLQuery: {SQLQuery}\\nSQLResult: {SQLResult}\\nAnswer: {Answer}\",\n",
    ")"
   ]
  },
  {
   "cell_type": "code",
   "execution_count": 19,
   "metadata": {},
   "outputs": [
    {
     "name": "stdout",
     "output_type": "stream",
     "text": [
      "Only use the following tables:\n",
      "{table_info}\n",
      "\n",
      "Question: {input}\n"
     ]
    }
   ],
   "source": [
    "print(PROMPT_SUFFIX)"
   ]
  },
  {
   "cell_type": "code",
   "execution_count": 20,
   "metadata": {},
   "outputs": [],
   "source": [
    "suffix_eg=\"Question: {input}\""
   ]
  },
  {
   "cell_type": "code",
   "execution_count": 21,
   "metadata": {},
   "outputs": [
    {
     "name": "stdout",
     "output_type": "stream",
     "text": [
      "Question: {input}\n"
     ]
    }
   ],
   "source": [
    "print(suffix_eg)"
   ]
  },
  {
   "cell_type": "code",
   "execution_count": 22,
   "metadata": {},
   "outputs": [],
   "source": [
    "few_shot_prompt = FewShotPromptTemplate(\n",
    "    example_selector=example_selector,\n",
    "    example_prompt=example_prompt,\n",
    "    prefix=mysql_prompt,\n",
    "    # suffix=\"Question: {input}\",\n",
    "    suffix=PROMPT_SUFFIX,\n",
    "    input_variables=[\"input\", \"table_info\", \"top_k\"], #These variables are used in the prefix and suffix\n",
    ")"
   ]
  },
  {
   "cell_type": "code",
   "execution_count": 23,
   "metadata": {},
   "outputs": [],
   "source": [
    "new_chain = SQLDatabaseChain.from_llm(llm, db, verbose=True, prompt=few_shot_prompt)\n"
   ]
  },
  {
   "cell_type": "code",
   "execution_count": 24,
   "metadata": {},
   "outputs": [
    {
     "name": "stdout",
     "output_type": "stream",
     "text": [
      "input_variables=['input', 'table_info', 'top_k'] example_selector=SemanticSimilarityExampleSelector(vectorstore=<langchain_community.vectorstores.chroma.Chroma object at 0x000001984E3C0290>, k=2, example_keys=None, input_keys=None, vectorstore_kwargs=None) example_prompt=PromptTemplate(input_variables=['Answer', 'Question', 'SQLQuery', 'SQLResult'], template='\\nQuestion: {Question}\\nSQLQuery: {SQLQuery}\\nSQLResult: {SQLResult}\\nAnswer: {Answer}') suffix='Only use the following tables:\\n{table_info}\\n\\nQuestion: {input}' prefix='\\nYou are expert in converting the natural language into MYSQL query. Given an input question, first create a syntactically correct MySQL query to run, then look at the results of the query and return the answer to the input question.\\nUnless the user specifies in the question a specific number of examples to obtain, query for at most {top_k} results using the LIMIT clause as per MySQL. You can order the results to return the most informative data in the database.\\nNever query for all columns from a table. You must query only the columns that are needed to answer the question. \\nPay attention to use only the column names given in the below table information and never use any columns that does not exist. Be careful to not query for columns that do not exist. Also, pay attention to which column is in which table.\\nPay attention to use CURDATE() function to get the current date, if the question involves \"today\",\"this year\",\"this month\",\"this week\". \\nPay attention to Emphasize using only the values present in the SQLResult to answer the question and refrain from assuming answers beyond the SQLResult.\\nTable information:\\n1. `transactions` with columns: `Account_No`, `Date`, `Transaction_details`, `Value_date`, `Withdrawal_amount`, `Deposit_amount`, `Balance_amount`\\n\\nUse the following format:\\n\\nQuestion: Question here\\nSQLQuery: SQL Query to run with no pre-amble\\nSQLResult: Result of the SQLQuery\\nAnswer: Final answer here\\n\\nNo pre-amble.\\n'\n"
     ]
    }
   ],
   "source": [
    "print(few_shot_prompt)"
   ]
  },
  {
   "cell_type": "code",
   "execution_count": 25,
   "metadata": {},
   "outputs": [],
   "source": [
    "# result = new_chain(\"What was my total earning last week as my account number is 409000493201'\")"
   ]
  },
  {
   "cell_type": "code",
   "execution_count": 26,
   "metadata": {},
   "outputs": [
    {
     "name": "stdout",
     "output_type": "stream",
     "text": [
      "['Income of last 3 months. ?', 'Total expenses/spendings of last 8 months ?', 'Total saving of last month  ?', 'How many transactions did I make in last 2 week', 'Amount spent last week', 'Expenses for each day this month ?', 'savings of previous year for each month', 'Amount Saved each year', 'Savings of last 2 year', 'Expenses of each day of last week', 'Amount spent this year ?', 'amount/money saved each month previous year ?', 'What is my total income last quarter?', 'income of the previous year', 'income of the first 4 month of previous year', 'amount I lost each year?', 'What is my average spendings of last 11 transactions?', 'How much did I spend each quarter this year?', 'In which date did i make my highest transaction of this month and what was the amount?', 'How much amount did I spent on February month ?', 'What were my total expenditures by month in the previous year?', 'Which is my highest earning month this year ? I also want the amount along with month']\n"
     ]
    }
   ],
   "source": [
    "example_questions = [shot['Question'].strip() for shot in few_shots]\n",
    "print(example_questions)"
   ]
  },
  {
   "cell_type": "code",
   "execution_count": 27,
   "metadata": {},
   "outputs": [
    {
     "name": "stderr",
     "output_type": "stream",
     "text": [
      "c:\\Users\\Prabal Kuinkel\\Desktop\\ARL-Intern\\privategpt\\privategpt\\Lib\\site-packages\\huggingface_hub\\file_download.py:1132: FutureWarning: `resume_download` is deprecated and will be removed in version 1.0.0. Downloads always resume when possible. If you want to force a new download, use `force_download=True`.\n",
      "  warnings.warn(\n"
     ]
    }
   ],
   "source": [
    "from sentence_transformers import SentenceTransformer\n",
    "model = SentenceTransformer('sentence-transformers/all-MiniLM-L6-v2')\n",
    "# sentence-transformers/all-mpnet-base-v2"
   ]
  },
  {
   "cell_type": "code",
   "execution_count": 28,
   "metadata": {},
   "outputs": [],
   "source": [
    "example_embeddings = model.encode(example_questions)"
   ]
  },
  {
   "cell_type": "code",
   "execution_count": 29,
   "metadata": {},
   "outputs": [],
   "source": [
    "from sklearn.metrics.pairwise import cosine_similarity  \n",
    "# Function to determine if a user question is relevant to the database context\n",
    "def is_question_relevant(user_question, similarity_threshold=0.40):\n",
    "    user_embedding = model.encode([user_question])[0]  \n",
    "    \n",
    "    # calculating the cosine similarity between user question and example questions\n",
    "    similarity_scores = cosine_similarity(user_embedding.reshape(1, -1), example_embeddings)[0]\n",
    "    print(similarity_scores)\n",
    "    \n",
    "    max_similarity_score = max(similarity_scores)\n",
    "    print(max_similarity_score)\n",
    "    return max_similarity_score > similarity_threshold"
   ]
  },
  {
   "cell_type": "code",
   "execution_count": 30,
   "metadata": {},
   "outputs": [
    {
     "name": "stderr",
     "output_type": "stream",
     "text": [
      "c:\\Users\\Prabal Kuinkel\\Desktop\\ARL-Intern\\privategpt\\privategpt\\Lib\\site-packages\\guardrails\\validators\\__init__.py:51: FutureWarning: \n",
      "    Importing validators from `guardrails.validators` is deprecated.\n",
      "    All validators are now available in the Guardrails Hub. Please install\n",
      "    and import them from the hub instead. All validators will be\n",
      "    removed from this module in the next major release.\n",
      "\n",
      "    Install with: `guardrails hub install hub://<namespace>/<validator_name>`\n",
      "    Import as: from guardrails.hub import `ValidatorName`\n",
      "    \n",
      "  warn(\n"
     ]
    }
   ],
   "source": [
    "from guardrails import Guard, OnFailAction\n",
    "from guardrails.hub import CompetitorCheck, ToxicLanguage\n",
    "from guardrails.hub import ProfanityFree"
   ]
  },
  {
   "cell_type": "code",
   "execution_count": 31,
   "metadata": {},
   "outputs": [
    {
     "name": "stderr",
     "output_type": "stream",
     "text": [
      "c:\\Users\\Prabal Kuinkel\\Desktop\\ARL-Intern\\privategpt\\privategpt\\Lib\\site-packages\\huggingface_hub\\file_download.py:1132: FutureWarning: `resume_download` is deprecated and will be removed in version 1.0.0. Downloads always resume when possible. If you want to force a new download, use `force_download=True`.\n",
      "  warnings.warn(\n"
     ]
    }
   ],
   "source": [
    "\n",
    "guard = Guard().use_many(\n",
    "    CompetitorCheck([\"khalti\", \"fusemachine\",\"Deerhold\",\"Deerwalk\",\"Cotiviti\"], on_fail=OnFailAction.EXCEPTION),\n",
    "    ToxicLanguage(threshold=0.9, validation_method=\"sentence\", on_fail=OnFailAction.EXCEPTION),\n",
    "    ProfanityFree(on_fail=OnFailAction.EXCEPTION))\n"
   ]
  },
  {
   "cell_type": "code",
   "execution_count": 32,
   "metadata": {},
   "outputs": [],
   "source": [
    "# Function to handle user queries\n",
    "def handle_user_query(user_question):\n",
    "    if is_question_relevant(user_question):\n",
    "        # response=new_chain(user_question)\n",
    "        return True\n",
    "    else:\n",
    "        return \"Your Question is not Relevant to the Context\""
   ]
  },
  {
   "cell_type": "code",
   "execution_count": 33,
   "metadata": {},
   "outputs": [],
   "source": [
    "user_question = \"What is my savings of the last 3 years ?\""
   ]
  },
  {
   "cell_type": "code",
   "execution_count": 34,
   "metadata": {},
   "outputs": [
    {
     "name": "stdout",
     "output_type": "stream",
     "text": [
      "[0.62203085 0.5301127  0.65680283 0.29704326 0.49454123 0.41833997\n",
      " 0.65930134 0.66089296 0.822416   0.3708954  0.5733789  0.6783072\n",
      " 0.5384306  0.47432396 0.47007614 0.55697775 0.44578117 0.5639241\n",
      " 0.2888667  0.4308848  0.55995584 0.43826628]\n",
      "0.822416\n"
     ]
    }
   ],
   "source": [
    "try:\n",
    "    # Validate the user question\n",
    "    guard.validate(user_question)  # If validation fails, an exception will be thrown\n",
    "    # If validation passes, handle the user query\n",
    "    response = handle_user_query(user_question)\n",
    "except Exception as e:\n",
    "    response = str(e)"
   ]
  },
  {
   "cell_type": "code",
   "execution_count": 35,
   "metadata": {},
   "outputs": [
    {
     "name": "stdout",
     "output_type": "stream",
     "text": [
      "True\n"
     ]
    }
   ],
   "source": [
    "print(response)"
   ]
  },
  {
   "cell_type": "code",
   "execution_count": 36,
   "metadata": {},
   "outputs": [
    {
     "data": {
      "text/plain": [
       "[{'Answer': 'Your savings of last 2 year are:\\n         2022:2270453, 2023:-895783 \\n                2024:-912470 .',\n",
       "  'Question': 'Savings of last 2 year  ',\n",
       "  'SQLQuery': 'SELECT YEAR(Value_date) AS Year, SUM(Deposit_amount) - SUM(Withdrawal_amount) AS Net_Savings FROM transactions WHERE Value_date >= DATE_SUB(CURRENT_DATE(), INTERVAL 2 YEAR) GROUP BY YEAR(Value_date) ',\n",
       "  'SQLResult': \"\\n       [(2022, Decimal('2270453')),\\n    (2023, Decimal('-895783')),\\n    (2024, Decimal('-912470'))]\\n\\n        \"},\n",
       " {'Answer': 'You saved following amounts previous year :\\n        January: -311244, February: 9101, March: 3476, April: -15971, May: 322249, June: 172560, July: 361471, \\n        August: 446844, September: 93215, October: 73917, November: 294502, December: 404028 ',\n",
       "  'Question': 'amount/money saved each month previous year ?',\n",
       "  'SQLQuery': 'SELECT YEAR(Value_date) AS Year, MONTH(Value_date) AS Month, SUM(Deposit_amount) - SUM(Withdrawal_amount) AS Savings FROM transactions WHERE YEAR(Value_date) = YEAR(CURRENT_DATE - INTERVAL 1 YEAR) GROUP BY YEAR(Value_date), MONTH(Value_date) ',\n",
       "  'SQLResult': \"\\n[(2023, 1, Decimal('-311244')),\\n(2023, 2, Decimal('9101')),\\n(2023, 3, Decimal('3476')),\\n(2023, 4, Decimal('-15971')),\\n(2023, 5, Decimal('322249')),\\n(2023, 6, Decimal('-172560')),\\n(2023, 7, Decimal('361471')),\\n(2023, 8, Decimal('-446844')),\\n(2023, 9, Decimal('93215')),\\n(2023, 10, Decimal('-73917')),\\n(2023, 11, Decimal('294502')),\\n(2023, 12, Decimal('-404028'))]\\n        \"}]"
      ]
     },
     "execution_count": 36,
     "metadata": {},
     "output_type": "execute_result"
    }
   ],
   "source": [
    "example_selector.select_examples({\"Question\":\"What is my savings of the last 3 years ?\"})"
   ]
  },
  {
   "cell_type": "code",
   "execution_count": 37,
   "metadata": {},
   "outputs": [
    {
     "name": "stderr",
     "output_type": "stream",
     "text": [
      "c:\\Users\\Prabal Kuinkel\\Desktop\\ARL-Intern\\privategpt\\privategpt\\Lib\\site-packages\\langchain_core\\_api\\deprecation.py:119: LangChainDeprecationWarning: The method `Chain.__call__` was deprecated in langchain 0.1.0 and will be removed in 0.3.0. Use invoke instead.\n",
      "  warn_deprecated(\n"
     ]
    },
    {
     "name": "stdout",
     "output_type": "stream",
     "text": [
      "\n",
      "\n",
      "\u001b[1m> Entering new SQLDatabaseChain chain...\u001b[0m\n",
      "[INST] What is my savings of the last 3 years ? [/INST]\n",
      "SQLQuery:"
     ]
    }
   ],
   "source": [
    "if response==True:\n",
    "    new_chain(f\"[INST] {user_question} [/INST]\")\n",
    "else:\n",
    "    print(response)"
   ]
  }
 ],
 "metadata": {
  "kernelspec": {
   "display_name": "privategpt",
   "language": "python",
   "name": "python3"
  },
  "language_info": {
   "codemirror_mode": {
    "name": "ipython",
    "version": 3
   },
   "file_extension": ".py",
   "mimetype": "text/x-python",
   "name": "python",
   "nbconvert_exporter": "python",
   "pygments_lexer": "ipython3",
   "version": "3.11.7"
  }
 },
 "nbformat": 4,
 "nbformat_minor": 2
}

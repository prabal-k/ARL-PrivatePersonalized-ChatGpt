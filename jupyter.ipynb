{
 "cells": [
  {
   "cell_type": "code",
   "execution_count": 1,
   "metadata": {},
   "outputs": [],
   "source": [
    "# to load the fine tuned model\n",
    "from langchain.llms import CTransformers "
   ]
  },
  {
   "cell_type": "code",
   "execution_count": 2,
   "metadata": {},
   "outputs": [
    {
     "name": "stderr",
     "output_type": "stream",
     "text": [
      "c:\\Users\\Prabal Kuinkel\\Desktop\\ARL-Intern\\privategpt\\privategpt\\Lib\\site-packages\\tqdm\\auto.py:21: TqdmWarning: IProgress not found. Please update jupyter and ipywidgets. See https://ipywidgets.readthedocs.io/en/stable/user_install.html\n",
      "  from .autonotebook import tqdm as notebook_tqdm\n"
     ]
    }
   ],
   "source": [
    "#Loading the model from local storage and adjusting the necessary parameter . \n",
    "#temperature parameter ranges from 0 to 1 where lower value means less creative with straightforward response where higher values means more creative but chances of response being inaccurate\n",
    "# max_new_tokens is context window for llm (i.e total tokens llm can accept at a time) \n",
    "#context_length is the number of tokens  that can be generated as response by llm\n",
    "llm = CTransformers(model=\"model\\\\nous-research-finetuned-1epoch.Q4_K_M.gguf\",\n",
    "                        model_type=\"llama\", config={'max_new_tokens':5990,'temperature':0.6,'context_length': 5990})"
   ]
  },
  {
   "cell_type": "code",
   "execution_count": 3,
   "metadata": {},
   "outputs": [
    {
     "name": "stdout",
     "output_type": "stream",
     "text": [
      "\n",
      "CREATE TABLE transactions (\n",
      "\t`Account_No` VARCHAR(50) NOT NULL, \n",
      "\t`Transaction_details` TEXT, \n",
      "\t`Withdrawal_amount` INTEGER, \n",
      "\t`Deposit_amount` INTEGER, \n",
      "\t`Balance_amount` INTEGER, \n",
      "\t`Value_date` DATE, \n",
      "\t`Date` DATE\n",
      ")COLLATE utf8mb4_0900_ai_ci ENGINE=InnoDB DEFAULT CHARSET=utf8mb4\n",
      "\n",
      "/*\n",
      "3 rows from transactions table:\n",
      "Account_No\tTransaction_details\tWithdrawal_amount\tDeposit_amount\tBalance_amount\tValue_date\tDate\n",
      "409000611074\tTRF FROM  Indiaforensic SERVICES\t0\t1000000\t1000000\t2022-11-16\t2022-11-16\n",
      "409000611074\tTRF FROM  Indiaforensic SERVICES\t0\t1000000\t2000000\t2022-11-22\t2022-11-22\n",
      "409000611074\tFDRL/INTERNAL FUND TRANSFE\t0\t500000\t2500000\t2022-12-05\t2022-12-05\n",
      "*/\n"
     ]
    }
   ],
   "source": [
    "from langchain_community.utilities import SQLDatabase\n",
    "\n",
    "\n",
    "# MySQL connection URI\n",
    "username = 'root'\n",
    "password = 'prabal9869'\n",
    "host = '127.0.0.1'\n",
    "dbname = 'arl_bank'  # Database name\n",
    "\n",
    "# Constructing the MySQL URI\n",
    "mysql_uri = f\"mysql+pymysql://{username}:{password}@{host}/{dbname}\"\n",
    "\n",
    "# # Initializing SQLDatabase object for MySQL\n",
    "db = SQLDatabase.from_uri(mysql_uri, sample_rows_in_table_info=3)\n",
    "print(db.table_info)"
   ]
  },
  {
   "cell_type": "code",
   "execution_count": 4,
   "metadata": {},
   "outputs": [],
   "source": [
    "from langchain_experimental.sql import SQLDatabaseChain\n",
    "db_chain = SQLDatabaseChain.from_llm(llm=llm,db=db,verbose=True)\n"
   ]
  },
  {
   "cell_type": "markdown",
   "metadata": {},
   "source": [
    "# FEW SHORT LEARNING"
   ]
  },
  {
   "cell_type": "code",
   "execution_count": 5,
   "metadata": {},
   "outputs": [],
   "source": [
    "#Few_shorts\n",
    "\n",
    "#This few shots example consists of more questions that the model was not trained on and the model uses these as references.\n",
    "\n",
    "few_shots=[\n",
    "    {\n",
    "        'Question':\" Income of last 3 months. ?\",\n",
    "        'SQLQuery':\"\"\"SELECT SUM(Deposit_amount) AS Total_Income FROM transactions WHERE Value_date >= DATE_SUB(CURRENT_DATE(), INTERVAL 3 MONTH) \"\"\",\n",
    "        'SQLResult':\"1530205868\",\n",
    "        'Answer':\"The income of last 3 months is 1530205868 .\"\n",
    "    }  \n",
    ",\n",
    "    {\n",
    "        'Question':\"How many transactions did I make in last 2 week as my account number is 409000493201? \",\n",
    "        'SQLQuery':\"\"\"SELECT COUNT(*) AS Total_Transactions FROM transactions WHERE Value_date >= DATE_SUB(CURRENT_DATE(), INTERVAL 2 WEEK) AND ACCOUNT_NO= '409000493201' \"\"\",\n",
    "        'SQLResult':\"162\",\n",
    "        'Answer':\"You made 162 transactions in last 2 week.\"\n",
    "    }\n",
    "    ,\n",
    "     {\n",
    "        'Question':\"Amount spent last week as my account number is 409000493201?\",\n",
    "        'SQLQuery':\"\"\"SELECT SUM(Withdrawal_amount) AS Total_Spending FROM transactions WHERE year(value_date) = year(curdate()) and week(value_date)=week(curdate())-1  AND ACCOUNT_NO= '409000493201' \"\"\",\n",
    "        'SQLResult':\"626764\",\n",
    "        'Answer':\"You spent total RS. 626764 last week .\"\n",
    "    }\n",
    "    , {\n",
    "        'Question': \"Expenses for each day this month ?\",\n",
    "        'SQLQuery': \"\"\"SELECT value_date, SUM(Withdrawal_amount) AS Total_Expenses FROM transactions WHERE YEAR(Value_date) = YEAR(CURRENT_DATE()) AND MONTH(Value_date) = MONTH(CURRENT_DATE()) GROUP BY value_date \"\"\",\n",
    "        'SQLResult':\n",
    "        \"\"\"\n",
    "[(2024, 6, 2, Decimal('183648')),\n",
    "(2024, 6, 3, Decimal('80666')),\n",
    "(2024, 6, 4, Decimal('135504')),\n",
    "(2024, 6, 5, Decimal('92031')),\n",
    "(2024, 6, 6, Decimal('118475')),\n",
    "(2024, 6, 7, Decimal('16440')),\n",
    "(2024, 6, 9, Decimal('62112')),\n",
    "(2024, 6, 10, Decimal('10331'))]\n",
    "\"\"\"\n",
    "        ,\n",
    "        'Answer': \"\"\"The total_expenses for each day of this month are:\n",
    "        2024 June, 2:RS. 183648,\n",
    "        2024 June, 3:RS. 80666,\n",
    "        2024 June, 4:RS. 135504,\n",
    "        2024 June, 5:RS. 92031,\n",
    "        2024 June, 6:RS. 118475,\n",
    "        2024 June, 7:RS. 16440,\n",
    "        2024 June, 9:RS. 62112,\n",
    "        2024 June, 10:RS. 10331\n",
    "        \"\"\"\n",
    "    },\n",
    "    {\n",
    "        'Question':\"savings of previous year for each month \",\n",
    "        'SQLQuery':\"\"\"SELECT year(Value_date), MONTH(Value_date) AS Month, (SUM(Deposit_amount) - SUM(Withdrawal_amount)) AS Total_Savings FROM transactions WHERE YEAR(Value_date) = YEAR(CURRENT_DATE() - INTERVAL 1 YEAR) GROUP BY year(value_date), MONTH(Value_date) ORDER BY MONTH(Value_date); \"\"\",\n",
    "        'SQLResult':\"\"\"\n",
    "       [(2023, 1, Decimal('-311244')),\n",
    "        (2023, 2, Decimal('9101')),\n",
    "        (2023, 3, Decimal('3476')),\n",
    "        (2023, 4, Decimal('-15971')),\n",
    "        (2023, 5, Decimal('322249')),\n",
    "        (2023, 6, Decimal('-172560')),\n",
    "        (2023, 7, Decimal('361471')),\n",
    "        (2023, 8, Decimal('-446844')),\n",
    "        (2023, 9, Decimal('93215')),\n",
    "        (2023, 10, Decimal('-73917')),\n",
    "        (2023, 11, Decimal('294502')),\n",
    "        (2023, 12, Decimal('-404028'))]\n",
    "        \"\"\",\n",
    "        'Answer':\"\"\"\n",
    "        Your Savings for each month of previous year are:\n",
    "        January:RS. -311244, February:RS. 9101, March:RS. 3476\n",
    "        April:RS. -15971, May:RS. 322249, June:RS. -172560\n",
    "        July:RS. 361471, August:RS. -446844, September:RS. 93215\n",
    "        October:RS. -73917, November:RS. 294502, December:RS. -404028 \"\"\"\n",
    "    },\n",
    "     {\n",
    "        'Question':\"Amount Saved each year\",\n",
    "        'SQLQuery':\"\"\"SELECT YEAR(Value_date) AS Year,SUM(Deposit_amount) - SUM(Withdrawal_amount) AS Savings FROM transactions GROUP BY YEAR(Value_date) \"\"\",\n",
    "        'SQLResult':\"\"\"\n",
    "      [(2021, Decimal('497766')),\n",
    "        (2022, Decimal('272458')),\n",
    "        (2023, Decimal('-340550')),\n",
    "        (2024, Decimal('-148114'))]\n",
    "       \"\"\",\n",
    "        'Answer':\"\"\"You saved following amount each year:\n",
    "                2021:RS. 497766, 2022:RS. 272458, 2023:RS. -340550\n",
    "                2024:RS. -148114 \"\"\"\n",
    "    }\n",
    "    ,\n",
    "     {\n",
    "        'Question':\"Savings of last 2 year as my account number is 409000493201? \",\n",
    "        'SQLQuery':\"\"\"SELECT YEAR(Value_date) AS Year, SUM(Deposit_amount) - SUM(Withdrawal_amount) AS Net_Savings FROM transactions WHERE Value_date >= DATE_SUB(CURRENT_DATE(), INTERVAL 2 YEAR) AND ACCOUNT_NO= '409000493201' GROUP BY YEAR(Value_date) \"\"\",\n",
    "        'SQLResult':\"\"\"\n",
    "       [(2022, Decimal('2270453')),\n",
    "    (2023, Decimal('-895783')),\n",
    "    (2024, Decimal('-912470'))]\n",
    "\n",
    "        \"\"\",\n",
    "        'Answer':\"\"\"Your savings of last 2 year are:\n",
    "         2022:RS. 2270453, 2023:RS.-895783 \n",
    "                2024:RS. -912470 .\"\"\"\n",
    "    }\n",
    "\n",
    "    #&&&&&&&&&&&&&&&&&&&&\n",
    "    ,\n",
    "     {\n",
    "        'Question':\"Expenses of each day of last week for account number 409000438611  \",\n",
    "        'SQLQuery':\"\"\"SELECT DATE(Value_date) AS Date, SUM(Withdrawal_amount) AS Total_Spending FROM transactions WHERE  YEAR(Value_date) = YEAR(CURDATE()) AND week(Value_date) = week(CURDATE())-1 and account_no='409000438611' GROUP BY DATE(Value_date)\"\"\",\n",
    "        'SQLResult':\"\"\"\n",
    "       [(2024-07-14, Decimal('12500000')),\n",
    "    (2024-07-15, Decimal('4900000')),\n",
    "    (2024-07-16, Decimal('3901373')),\n",
    "    (2024-07-17, Decimal('4400000')),\n",
    "    (2024-07-18, Decimal('4800000')),\n",
    "    (2024-07-19, Decimal('2700000'))]\n",
    "        \"\"\",\n",
    "        'Answer':\"\"\"You spend following amount each day last week:\n",
    "        July 14:RS. 12500000, July 15:RS. 3901373, July 16:RS. 3901373, July 17:RS. 4400000, July 18:RS. 4800000, July 19:RS. 2700000 \"\"\"\n",
    "    }\n",
    "    ,\n",
    "    {\n",
    "        'Question':\"Amount spent this year as my account number is 409000493201??\",\n",
    "        'SQLQuery':\"\"\"SELECT year(Value_date) as Year,sum(Withdrawal_amount) AS Total_Expenses FROM transactions WHERE year(Value_date) = year(curdate()) AND ACCOUNT_NO= '409000493201' group by year(Value_date) \"\"\",\n",
    "        'SQLResult':\"\"\"[(2024, Decimal('6527128485'))]\"\"\",\n",
    "        'Answer':\"You spent RS. 6527128485 on 2024\"\n",
    "    },\n",
    "    {\n",
    "    'Question': \"What is my consistent income in last 2 months as my account number is 409000493201  ?\",\n",
    "    'SQLQuery': \"\"\"SELECT AVG(Monthly_Income) AS Consistent_Income \n",
    "    FROM (SELECT YEAR(Value_date) AS Year, MONTH(Value_date) AS Month, SUM(Deposit_amount) AS Monthly_Income FROM transactions WHERE  Value_date >= \n",
    "    DATE_SUB(CURRENT_DATE(), INTERVAL 2 MONTH) AND ACCOUNT_NO= '409000493201'\n",
    "    GROUP BY  YEAR(Value_date), MONTH(Value_date)) AS Income_Last_3_Months;\n",
    "    \"\"\",\n",
    "    'SQLResult': \"2466666.6667\",\n",
    "    'Answer': \"The consistent income of last 2 months is RS. 2466666.6667\"\n",
    "}\n",
    "    ,\n",
    "    {\n",
    "        'Question':\"amount/money saved each month previous year ?\",\n",
    "        'SQLQuery':\"\"\"SELECT YEAR(Value_date) AS Year, MONTH(Value_date) AS Month, SUM(Deposit_amount) - SUM(Withdrawal_amount) AS Savings FROM transactions WHERE YEAR(Value_date) = YEAR(DATE_SUB(CURRENT_DATE(), INTERVAL 1 YEAR)) GROUP BY YEAR(Value_date), MONTH(Value_date) \"\"\",\n",
    "        'SQLResult':\"\"\"\n",
    "[(2023, 1, Decimal('-311244')),\n",
    "(2023, 2, Decimal('9101')),\n",
    "(2023, 3, Decimal('3476')),\n",
    "(2023, 4, Decimal('-15971')),\n",
    "(2023, 5, Decimal('322249')),\n",
    "(2023, 6, Decimal('-172560')),\n",
    "(2023, 7, Decimal('361471')),\n",
    "(2023, 8, Decimal('-446844')),\n",
    "(2023, 9, Decimal('93215')),\n",
    "(2023, 10, Decimal('-73917')),\n",
    "(2023, 11, Decimal('294502')),\n",
    "(2023, 12, Decimal('-404028'))]\n",
    "        \"\"\",\n",
    "        'Answer':\"\"\"You saved following amounts previous year :\n",
    "        January: -311244, February: 9101, March: 3476, April: -15971, May: 322249, June: 172560, July: 361471, \n",
    "        August: 446844, September: 93215, October: 73917, November: 294502, December: 404028 \"\"\"\n",
    "    }\n",
    "    ,\n",
    "{\n",
    "    'Question': \"What is my total income last quarter?\",\n",
    "    'SQLQuery': \"\"\"SELECT SUM(Deposit_amount) AS Total_Income FROM transactions WHERE YEAR(Value_date) = YEAR(CURRENT_DATE()) AND QUARTER(Value_date) = QUARTER(CURRENT_DATE()) - 1\"\"\",\n",
    "    'SQLResult':\"2055417596\",\n",
    "    'Answer':\"Your total income last quater was RS. 2055417596.\"\n",
    "}\n",
    "     ,\n",
    "      {\n",
    "        'Question':\"income of the previous year \",\n",
    "        'SQLQuery':\"\"\"SELECT SUM(Deposit_amount) AS Total_Income FROM transactions WHERE YEAR(Value_date) = YEAR(CURRENT_DATE()) - 1 \"\"\",\n",
    "        'SQLResult':\"38593214103\",\n",
    "        'Answer':\"Your income previous ysear was 38593214103.\"\n",
    "    }\n",
    "    ,\n",
    "      {\n",
    "        'Question':\"income of the first 4 month of previous year \",\n",
    "        'SQLQuery':\"\"\"SELECT SUM(Deposit_amount) AS Total_Income FROM transactions WHERE MONTH(Value_date) IN (1,2,3,4) AND YEAR(Value_date) = YEAR(CURRENT_DATE) - 1 \"\"\",\n",
    "        'SQLResult':\"17847505444\",\n",
    "        'Answer':\"Your income of first 4 month of previous year was 17847505444.\"\n",
    "    }\n",
    "    ,\n",
    "    {\n",
    "    'Question': \"amount I lost each year?\",\n",
    "    'SQLQuery': \"\"\" SELECT YEAR(Value_date) AS Year,SUM(Withdrawal_amount) - SUM(Deposit_amount) AS Losses FROM transactions GROUP BY YEAR(Value_date) \"\"\",\n",
    "    'SQLResult': \"\"\"[\n",
    "        (2022, Decimal('256395842')),\n",
    "        (2023, Decimal('552520828')),\n",
    "        (2024, Decimal('505236609')),\n",
    "        (2021, Decimal('1251859488')),\n",
    "        (2020, Decimal('694854538'))]\"\"\"\n",
    "    ,\n",
    "    'Answer': \"You lost RS. 694854538 in 2020, RS. 1251859488 in 2021, RS. 256395842 in 2022,RS. 552520828 in 2023, and RS. 505236609 in 2024.\"\n",
    "}\n",
    ",\n",
    "{\n",
    "    \"Question\": \"What is my average spendings of last 11 transactions?\",\n",
    "    \"SQLQuery\": \"\"\"SELECT AVG(Withdrawal_amount) AS Average_Spending FROM (SELECT Withdrawal_amount FROM transactions WHERE Withdrawal_amount \n",
    "                IS NOT NULL ORDER BY Value_date DESC LIMIT 11) AS Last11Transactions\"\"\",\n",
    "    \"SQLResult\":\"1138377.5455\",\n",
    "    'Answer': \"1138377.5455 is your average spendings of last 11 transactions .\" \n",
    "}\n",
    ",\n",
    "{\n",
    "    'Question': \"How much did I spend each quarter this year?\",\n",
    "    'SQLQuery': \"\"\"SELECT QUARTER(Value_date) AS Quarter, SUM(Withdrawal_amount) AS Total_Spending\n",
    "                   FROM transactions WHERE YEAR(Value_date) = YEAR(CURRENT_DATE()) GROUP BY QUARTER(Value_date)\"\"\",\n",
    "    'SQLResult':\"\"\"[(1, Decimal('5885524375')),\n",
    "                    (2, Decimal('2689194690')),\n",
    "                    (3, Decimal('263256582'))]\"\"\",\n",
    "    'Answer': \"\"\"Spendings for each quater is :\n",
    "                    Quarter-1:RS. 5885524375, Quarter-2:RS. 2689194690, Quarter-3:RS. 263256582\"\"\"\n",
    "},\n",
    "\n",
    "{\n",
    "    'Question': \"In which date did i make my highest transaction of this month and what was the amount?\",\n",
    "    'SQLQuery': \"SELECT Value_date, MAX(Withdrawal_amount) AS Highest_Transaction_Amount FROM transactions WHERE Value_date >= DATE_SUB(CURRENT_DATE(), INTERVAL 1 MONTH) GROUP BY Value_date ORDER BY Highest_Transaction_Amount DESC LIMIT 1\",\n",
    "    'SQLResult': \"[(2024-06-25, Decimal('10000000'))]\",\n",
    "    'Answer': \"You made the highest transaction on Junt 25th and the amount is RS. 10000000\"\n",
    "}\n",
    ",\n",
    " {\n",
    "        'Question': \"How much amount did I spent on February month ?\",\n",
    "        'SQLQuery': \"\"\"SELECT SUM(Withdrawal_amount) AS Spending_February FROM transactions WHERE YEAR(Value_date) = YEAR(CURRENT_DATE()) AND MONTH(Value_date) = 2\"\"\",\n",
    "        'SQLResult': \"1985783353\",\n",
    "        'Answer': \"You spent RS. 1985783353 on February month.\"\n",
    "    },\n",
    "    {\n",
    "        'Question': \"What were my total expenditures by month in the previous year?\",\n",
    "        'SQLQuery': \"\"\"SELECT YEAR(Value_date) AS Year, MONTH(Value_date) AS Month, SUM(Withdrawal_amount) AS Total_Expenditures FROM transactions WHERE YEAR(Value_date) = YEAR(CURRENT_DATE()) - 1 GROUP BY YEAR(Value_date), MONTH(Value_date)\"\"\",\n",
    "        'SQLResult':\"\"\"[(2023, 1, Decimal('4530730974')), (2023, 2, Decimal('4616646063')), (2023, 3, Decimal('5276664685')), (2023, 4, Decimal('4571039249')), (2023, 5, Decimal('3557364039')), (2023, 6, Decimal('3262112460')), (2023, 7, Decimal('3142750834')), (2023, 8, Decimal('2875423837')), (2023, 9, Decimal('2727745395')), (2023, 10, Decimal('2537575257')), (2023, 11, Decimal('2818821756')), (2023, 12, Decimal('2246381750'))]\"\"\",\n",
    "        'Answer': \"\"\"Expenditure for each month previous year:\n",
    "            January:RS. 4530730974, February: RS. 4616646063, March: RS. 5276664685, April: RS. 4571039249, May:RS. 3557364039, June: RS. 3262112460, July:RS. 3142750834, August:RS. 2875423837, September:RS. 2727745395, October:RS. 2537575257, November:RS. 2818821756, December:RS. 2246381750 \"\"\"\n",
    "}\n",
    "\n",
    ",{\n",
    "        'Question': \"Which is my highest earning month this year ? I also want the amount along with month\",\n",
    "        'SQLQuery': \"\"\"SELECT MONTH(Value_date) AS Month, SUM(Deposit_amount) AS Total_Earnings FROM transactions WHERE YEAR(Value_date) = YEAR(CURRENT_DATE()) GROUP BY MONTH(Value_date) ORDER BY Total_Earnings DESC limit 1\"\"\",\n",
    "    'SQLResult': \"[(1, Decimal('1893013978'))]\",\n",
    "        'Answer': \"Your highest earning month this year is June with amount 1893013978.\"\n",
    "    }\n",
    "    ,{\n",
    "        'Question': \"What was my total spending last week? as my account number is 409000438611 \",\n",
    "        'SQLQuery': \"\"\"SELECT sum(Withdrawal_amount) AS Total_Expenses FROM transactions WHERE  YEAR(Value_date) = YEAR(CURDATE()) AND week(Value_date) = week(CURDATE())-1  \n",
    "        AND ACCOUNT_NO= '409000438611'\"\"\",\n",
    "        'SQLResult': \"33201373\",\n",
    "        'Answer': \"Your total expenses last week was RS. 33201373.\"\n",
    "    },\n",
    "#     {\n",
    "#     \"Question\": \"Can you give me a breakdown of my expenses for each day this week?\",\n",
    "#     \"SQLQuery\": \"SELECT DATE(Value_date) AS Date, SUM(Withdrawal_amount) AS Daily_Expenses FROM transactions WHERE YEAR(Value_date) = YEAR(CURDATE()) AND WEEK(Value_date) = WEEK(CURDATE()) GROUP BY DATE(Value_date) ORDER BY Date ASC\",\n",
    "#     'SQLResult':\"\"\"(2024-07-21, Decimal('9967448')),\n",
    "#         (2024-07-22, Decimal(32142360'))\"\"\",\n",
    "#     'Answer': \"Daily expenses for the week: July 21st: RS. 9967448, July 22nd: RS. 32142360.\"\n",
    "# }\n",
    "# {\n",
    "#         'Question': \"How much did i save last month as my account number is 409000493201 \",\n",
    "#         'SQLQuery': \"\"\"  SELECT  SUM(Deposit_amount) - SUM(Withdrawal_amount) AS Total_Savings\n",
    "# FROM transactions WHERE year(value_date) = year(curdate()) and month(value_date)=month(curdate()) -1 AND Account_No = '409000493201';\n",
    "# \"\"\",\n",
    "#     'SQLResult': \"89804\",\n",
    "#         'Answer': \"Your savings last month was RS. 89804.\"\n",
    "#     }\n",
    "#     ,\n",
    "    {\n",
    "        'Question': \"What was my total income and total spending last month? as my account number is 409000425051 \",\n",
    "        'SQLQuery': \"\"\"  SELECT SUM(Deposit_amount) AS Total_Income, SUM(Withdrawal_amount) AS Total_Spending FROM transactions WHERE YEAR(Value_date) = YEAR(CURRENT_DATE()) AND MONTH(Value_date) = MONTH(CURRENT_DATE()) - 1 AND Account_No = '409000493201'; \"\"\",\n",
    "    'SQLResult': \"[(Decimal('4700000'), Decimal('4610196'))]\",\n",
    "        'Answer': \"Your total income last month was RS. 4700000 and total spending was RS. 4610196 .\"\n",
    "    },\n",
    "    {\n",
    "    'Question': \"Breakdown my expenses for each week for the last month as my account number is 409000493201.\",\n",
    "    'SQLQuery': \"\"\"SELECT WEEK(Value_date) AS Week, SUM(Withdrawal_amount) AS Weekly_Expenses \n",
    "                   FROM transactions \n",
    "                   WHERE Account_No = '409000493201' \n",
    "                   AND Value_date >= DATE_SUB(LAST_DAY(DATE_SUB(CURDATE(), INTERVAL 1 MONTH)), INTERVAL DAY(LAST_DAY(DATE_SUB(CURDATE(), INTERVAL 1 MONTH)))-1 DAY)\n",
    "                   AND Value_date <= LAST_DAY(DATE_SUB(CURDATE(), INTERVAL 1 MONTH))\n",
    "                   GROUP BY 1 \"\"\",\n",
    "    'SQLResult': \"\"\"[(22, Decimal('1113224')),\n",
    "                    (23, Decimal('1030576')),\n",
    "                    (23, Decimal('1394682')),\n",
    "                    (24, Decimal('847515')),\n",
    "                    (25, Decimal('224199'))]\"\"\",\n",
    "    'Answer': \"\"\" Your expenses were:\n",
    "    1st week : RS. 1113224,\n",
    "    2nd week :RS. 1030576,\n",
    "    3rd week: RS. 1394682,\n",
    "    4th week:RS. 847515 , \n",
    "    5th week:RS. 224199\"\"\"\n",
    "  \n",
    "}\n",
    ",\n",
    "{\n",
    "        'Question': \"What is my total income for this year so far as my account number is 409000611074?\",\n",
    "        'SQLQuery': \"\"\"SELECT SUM(Deposit_amount) AS Total_Income \n",
    "FROM transactions \n",
    "WHERE YEAR(Value_date) = YEAR(CURDATE()) \n",
    "AND Account_No = '409000611074';\n",
    " \"\"\",\n",
    "    'SQLResult': \"59000000\",\n",
    "        'Answer': \"The total income this year is RS. 59000000 \"\n",
    "    },\n",
    "    {\n",
    "        'Question': \"How much did I spend in the last quarter of the previous year? as my account number is 409000611074?\",\n",
    "        'SQLQuery': \"\"\"SELECT SUM(Withdrawal_amount) AS Total_Spending \n",
    "FROM transactions \n",
    "WHERE YEAR(Value_date) = YEAR(CURDATE()) - 1 \n",
    "AND Account_No = '409000611074'\n",
    "AND QUARTER(Value_date) = 4; \"\"\",\n",
    "    'SQLResult': \"32120960\",\n",
    "        'Answer': \"Your spendings of last quater is RS.32120960 \"\n",
    "    },\n",
    "    {\n",
    "        'Question':  \"Can you give me a monthly breakdown of my income for the past 6 months? as my account number is 409000493201\",\n",
    "        'SQLQuery': \"\"\" SELECT YEAR(Value_date) AS Year, MONTH(Value_date) AS Month, SUM(Deposit_amount) AS Monthly_Income \n",
    "FROM transactions \n",
    "WHERE Value_date >= DATE_SUB(CURDATE(), INTERVAL 6 MONTH) \n",
    "AND Account_No = '409000493201'\n",
    "GROUP BY YEAR(Value_date), MONTH(Value_date);\"\"\",\n",
    "    'SQLResult': \"\"\"[(2024,1, Decimal('715160')),\n",
    "                    (2024,2, Decimal('4584217')),\n",
    "                    (2024,3, Decimal('9112141')),\n",
    "                    (2024,4, Decimal('11443808')),\n",
    "                    (2024,5, Decimal('5411781')),\n",
    "                    (2024,6, Decimal('4700000')),\n",
    "                    (2024,7, Decimal('2100000'))]\"\"\",\n",
    "        'Answer': \"\"\"Here is the breakdown of your monthly income for past 6 months:\n",
    "        January: RS. 715160,\n",
    "        February: RS. 4584217,\n",
    "        March: RS. 9112141,\n",
    "        April: RS. 11443808,\n",
    "        May: RS. 5411781,\n",
    "        June: RS. 4700000,\n",
    "        July: RS. 2100000\n",
    "        \"\"\"\n",
    "    },\n",
    "    {\n",
    "        'Question': \"What is the total amount of money deposited over the past year for account number 409000493201?\",\n",
    "        'SQLQuery': \"\"\" SELECT SUM(Deposit_amount) AS Total_Deposits \n",
    "FROM transactions \n",
    "WHERE YEAR(Value_date) = YEAR(CURDATE()) - 1 \n",
    "AND Account_No = '409000493201'\"\"\",\n",
    "    'SQLResult': \"39109096\",\n",
    "        'Answer': \"The total amount of money deposited over the past year is Rs. 39109096\"\n",
    "    },\n",
    "    #$$$$$$\n",
    "\n",
    "{\n",
    "    'Question': \"What were my total losses for each month last year for account number 409000493201?\",\n",
    "    'SQLQuery': \"\"\"SELECT MONTH(Value_date) AS Month, SUM(Withdrawal_amount) - SUM(Deposit_amount) AS Monthly_Losses \n",
    "                   FROM transactions \n",
    "                   WHERE YEAR(Value_date) = YEAR(CURDATE()) - 1 \n",
    "                   AND Account_No = '409000493201'\n",
    "                   GROUP BY MONTH(Value_date);\"\"\",\n",
    "    'SQLResult': \"\"\"[(1, Decimal('463794')),\n",
    "                    (2, Decimal('-5936')),\n",
    "                    (3, Decimal('-262405')),\n",
    "                    (4, Decimal('403300')),\n",
    "                    (5, Decimal('-170150')),\n",
    "                    (6, Decimal('-363342')),\n",
    "                    (7, Decimal('456354')),\n",
    "                    (8, Decimal('-486051')),\n",
    "                    (9, Decimal('267825')),\n",
    "                    (10, Decimal('-179758')),\n",
    "                    (11, Decimal('74787')),\n",
    "                    (12, Decimal('-122188'))]\"\"\",\n",
    "    'Answer': \"\"\"Your loss for each month last year is:\n",
    "    January: RS. 463794,\n",
    "     February:RS.-5936,\n",
    "     March:RS. -262405,\n",
    "     April:RS. 403300,\n",
    "     May:RS. -170150,\n",
    "     June:RS. -363342,\n",
    "     July:RS. 456354,\n",
    "     August:RS. -486051,\n",
    "     September:RS. 267825,\n",
    "     October:RS. -179758,\n",
    "     November:RS. 74787,\n",
    "     December:RS. -122188\"\"\"\n",
    "},\n",
    "{\n",
    "    'Question': \"What is the highest single deposit amount made this year for account number 409000493201?\",\n",
    "    'SQLQuery': \"\"\"SELECT MAX(Deposit_amount) AS Highest_Deposit \n",
    "                   FROM transactions \n",
    "                   WHERE YEAR(Value_date) = YEAR(CURDATE()) \n",
    "                   AND Account_No = '409000493201';\"\"\",\n",
    "    'SQLResult': \"615753\",\n",
    "    'Answer': \"The highest deposit made this year is RS. 615753\"\n",
    "},\n",
    "{\n",
    "    'Question': \"How much did I spend on the 1st and 2nd of this month for account number 409000493201?\",\n",
    "    'SQLQuery': \"\"\"SELECT DATE(Value_date) AS Date, SUM(Withdrawal_amount) AS Daily_Spending \n",
    "                   FROM transactions \n",
    "                   WHERE YEAR(Value_date) = YEAR(CURDATE()) \n",
    "                   AND MONTH(Value_date) = MONTH(CURDATE()) \n",
    "                   AND DAY(Value_date) IN (1, 2) \n",
    "                   AND Account_No = '409000493201'\n",
    "                   GROUP BY DATE(Value_date);\"\"\",\n",
    "    'SQLResult': \"\"\"[(2024-07-01, Decimal('116967')),\n",
    "                    (2024-07-02, Decimal('90749'))\"\"\",\n",
    "    'Answer': \"\"\"You spent following amount :\n",
    "    07-01: RS. 116967,\n",
    "     07-02: RS. 90749 \"\"\"\n",
    "},\n",
    "{\n",
    "    'Question': \"Can you show my total savings for each quarter of the current year for account number 409000493201?\",\n",
    "    'SQLQuery': \"\"\"SELECT QUARTER(Value_date) AS Quarter, SUM(Deposit_amount) - SUM(Withdrawal_amount) AS Quarterly_Savings \n",
    "                   FROM transactions \n",
    "                   WHERE YEAR(Value_date) = YEAR(CURDATE()) \n",
    "                   AND Account_No = '409000493201'\n",
    "                   GROUP BY QUARTER(Value_date);\"\"\",\n",
    "    'SQLResult': \"\"\"[(1, Decimal('-566948')),\n",
    "                    (2, Decimal('-74404')),\n",
    "                    (3, Decimal('44031'))]\"\"\",\n",
    "    'Answer': \"1st quater : you lossed RS. -566948 ,2nd quater : you lossed RS. 74404 ,3rd quater : you earned RS 44031\"\n",
    "},\n",
    "#From below down the model has not been fine tuned with the question\n",
    "{\n",
    "    'Question': \"I want to buy a car worth RS. 5,00,000 in next 2 years . So how much should i save each month to buy the car  for account number 409000493201?\",\n",
    "    'SQLQuery': \"\"\"SELECT round(AVG(Monthly_Savings),2) AS Average_Monthly_Savings\n",
    "FROM (\n",
    "    SELECT YEAR(Value_date) AS Year, MONTH(Value_date) AS Month, \n",
    "           SUM(Deposit_amount - Withdrawal_amount) AS Monthly_Savings\n",
    "    FROM transactions\n",
    "    WHERE Account_No = '409000493201'\n",
    "    GROUP BY YEAR(Value_date), MONTH(Value_date)\n",
    ") AS Monthly_Savings_Calculation;\"\"\",\n",
    "    'SQLResult': \"\"\"9385.33\"\"\",\n",
    "    'Answer': \"\"\"Lets think step by step:\n",
    "        step-1) Determine Total Number of Months:\n",
    "        Time frame: 2 years (12 months in 1 year So 2 years * 12 months = 24) = 24 months\n",
    "    step-2) Calculate Required Monthly Savings:\n",
    "        Target amount: RS 500000\n",
    "        Required monthly savings:(It is obtained by dividing the total amount by Time frame) i.e RS. 500000 / 24 months = RS. 20,833.33\n",
    "    step-3) Compare Current Savings with Required Savings:\n",
    "        Current average monthly savings: RS 9385.33\n",
    "        Difference needed:  RS. 20,833.33 - RS 9385.33 = RS. 11,448\n",
    "    step-4) Conclusion: To reach the goal of saving RS 5,00,000 in 2 years. increase monthly savings to RS 20,833.33 .The additional amount to save each month is RS. 11,448 \"\"\"\n",
    "}\n",
    ",\n",
    "{\n",
    "    'Question': \"I want to buy a car worth RS 6,00,000 in next 3 years . So how much should i save each month to buy the car ? as my account number is 409000438611. \",\n",
    "    'SQLQuery': \"\"\"SELECT AVG(Monthly_Savings) AS Average_Monthly_Savings\n",
    "FROM (\n",
    "    SELECT YEAR(Value_date) AS Year, MONTH(Value_date) AS Month, \n",
    "           SUM(Deposit_amount - Withdrawal_amount) AS Monthly_Savings\n",
    "    FROM transactions\n",
    "    WHERE Account_No = '409000438611'\n",
    "    GROUP BY YEAR(Value_date), MONTH(Value_date)\n",
    ") AS Monthly_Savings_Calculation;\"\"\",\n",
    "    'SQLResult': \"\"\"9627.44\"\"\",\n",
    "    'Answer': \"\"\"Lets think step by step:\n",
    "        step-1) Determine Total Number of Months:\n",
    "        Time frame: 3 years (12 months in 1 year So 3 years * 12 months = 36) = 36 months\n",
    "\n",
    "    step-2) Calculate Required Monthly Savings:\n",
    "        Target amount: RS 6,00,000\n",
    "        Required monthly savings:(It is obtained by dividing the total amount by Time frame)RS 600000 / 36 months = RS 16,666.67\n",
    "\n",
    "    step-3) Compare Current Savings with Required Savings:\n",
    "        Current average monthly savings: RS 9627.44\n",
    "        Difference needed: RS 16,666.67 - RS 9,627.44 = RS 7,039.23\n",
    "\n",
    "    step-4) Conclusion: To reach the goal of saving RS 6,00,000 in 3 years, increase monthly savings to RS 16,666.67 The additional amount to save each month is RS 7,039.23\"\"\"\n",
    "}\n",
    ",\n",
    "\n",
    "{\n",
    "    'Question': \"What is my average monthly income in first 6 month this year? as my account number is 409000493201. \",\n",
    "    'SQLQuery': \"\"\"SELECT AVG(Monthly_Income) AS Average_Income \n",
    "FROM (\n",
    "    SELECT YEAR(Value_date) AS Year, MONTH(Value_date) AS Month, SUM(Deposit_amount) AS Monthly_Income \n",
    "    FROM transactions \n",
    "    WHERE YEAR(Value_date) = YEAR(CURRENT_DATE()) \n",
    "      AND MONTH(Value_date) BETWEEN 1 AND 6\n",
    "      AND Account_No = '409000493201'\n",
    "    GROUP BY YEAR(Value_date), MONTH(Value_date)\n",
    ") AS Income_First_6_Months;\n",
    "\"\"\",\n",
    "    'SQLResult': \"\"\"6352764.1667 \"\"\",\n",
    "    'Answer': \"\"\"Your Average monthly income of the first 6 month this year is RS. 6352764.1667\"\"\"\n",
    "    },\n",
    "    {\n",
    "    \"Question\": \"How many transactions did I make last quarter ? as my account number is 409000493201.\",\n",
    "    \"SQLQuery\": \"SELECT COUNT(*) AS Total_Transactions FROM transactions WHERE YEAR(Value_date) = YEAR(CURRENT_DATE()) AND QUARTER(Value_date) = QUARTER(CURRENT_DATE()) - 1 AND Account_No = '409000493201';\",\n",
    "    'SQLResult': \"\"\"145\"\"\",\n",
    "    'Answer': \"\"\"You made 145 transactions last quater.\"\"\"\n",
    "}\n",
    ",\n",
    "{\n",
    "    'Question': \"What is my total number of transactions each month this year?\",\n",
    "    'SQLQuery':\"\"\" SELECT MONTH(Value_date) AS Month, COUNT(*) AS Total_Transactions\n",
    "                   FROM transactions\n",
    "                   WHERE YEAR(Value_date) = YEAR(CURRENT_DATE())\n",
    "                   GROUP BY MONTH(Value_date);\"\"\",\n",
    "    'SQLResult': \"\"\"[(1, 3567),\n",
    " (2, 3468),\n",
    " (3, 2752),\n",
    " (4, 2729),\n",
    " (5, 2603),\n",
    " (6, 2653),\n",
    " (7, 1923)]\"\"\",\n",
    "'Answer':\"\"\" You made following number of transactions each month this year:\n",
    "January: 3567, February: 3468, March: 2752, April: 2729, May: 2603, June: 2653, July: 1923\"\"\"\n",
    "}\n",
    ",\n",
    "{\n",
    "    \"Question\": \"What is my net worth as of today?\",\n",
    "    \"SQLQuery\": \"SELECT Balance_amount AS Net_Worth FROM transactions WHERE Account_No = '409000493201' ORDER BY Value_date DESC LIMIT 1;\",\n",
    "    'SQLResult': \"\"\"743583 \"\"\",\n",
    "    'Answer': \"\"\"Your net worth as of today is RS. 743583\"\"\"\n",
    "}\n",
    ",\n",
    "{\n",
    "    'Question': \"How many withdrawals did I make this year?\",\n",
    "    'SQLQuery': \"\"\"SELECT COUNT(*) AS Total_Withdrawals\n",
    "                   FROM transactions\n",
    "                   WHERE YEAR(Value_date) = YEAR(CURRENT_DATE())\n",
    "                   AND Withdrawal_amount IS NOT NULL\"\"\",\n",
    "    'SQLResult': \"\"\"19695 \"\"\",\n",
    "    'Answer': \"\"\"Your made 19695 transaction this year.\"\"\"\n",
    "},\n",
    "{\n",
    "    'Question': \"What is the average daily spending in the last month?\",\n",
    "    'SQLQuery': \"\"\"SELECT AVG(Daily_Spending) AS Average_Daily_Spending\n",
    "                   FROM (\n",
    "                       SELECT DATE(Value_date) AS Date, SUM(Withdrawal_amount) AS Daily_Spending\n",
    "                       FROM transactions\n",
    "                       WHERE Value_date >= DATE_SUB(CURRENT_DATE(), INTERVAL 1 MONTH)\n",
    "                       GROUP BY DATE(Value_date)\n",
    "                   ) AS DailySpending\"\"\",\n",
    "    'SQLResult': \"\"\"18662884.0417 \"\"\",\n",
    "    'Answer': \"\"\"Your average daily spending last month was RS. 18662884.0417\"\"\"\n",
    "},\n",
    "{\n",
    "    'Question': \"What is my largest withdrawal amount this year? as my account number is 409000425051\",\n",
    "    'SQLQuery': \"\"\"SELECT MAX(Withdrawal_amount) AS Largest_Withdrawal\n",
    "                   FROM transactions\n",
    "                   WHERE YEAR(Value_date) = YEAR(CURRENT_DATE())\n",
    "                   And Account_no='409000425051'\"\"\",\n",
    "    'SQLResult': \"\"\"354000000 \"\"\",\n",
    "    'Answer': \"\"\"Your largest withdrawal amount this year is RS. 354000000\"\"\"\n",
    "}\n",
    "\n",
    "\n",
    "\n",
    "]\n",
    "\n"
   ]
  },
  {
   "cell_type": "code",
   "execution_count": 6,
   "metadata": {},
   "outputs": [
    {
     "data": {
      "text/plain": [
       "'c:\\\\Users\\\\Prabal Kuinkel\\\\Desktop\\\\ARL-Intern\\\\privategpt'"
      ]
     },
     "execution_count": 6,
     "metadata": {},
     "output_type": "execute_result"
    }
   ],
   "source": [
    "pwd"
   ]
  },
  {
   "cell_type": "code",
   "execution_count": 7,
   "metadata": {},
   "outputs": [],
   "source": [
    "import os\n",
    "\n",
    "# Define the path to save the vector store\n",
    "CHROMA_DIR = \"vectorstore/chroma\"\n",
    "CHROMA_DB_PATH = os.path.join(CHROMA_DIR, \"index\")"
   ]
  },
  {
   "cell_type": "code",
   "execution_count": 8,
   "metadata": {},
   "outputs": [
    {
     "name": "stdout",
     "output_type": "stream",
     "text": [
      "Directory created or already exists: vectorstore/chroma\n"
     ]
    }
   ],
   "source": [
    "try:\n",
    "    # Ensure the vectorstore directory exists\n",
    "    os.makedirs(CHROMA_DIR, exist_ok=True)\n",
    "    print(f\"Directory created or already exists: {CHROMA_DIR}\")\n",
    "except FileNotFoundError as e:\n",
    "    print(f\"Error creating directory: {e}\")\n",
    "except Exception as e:\n",
    "    print(f\"An unexpected error occurred: {e}\")"
   ]
  },
  {
   "cell_type": "code",
   "execution_count": 9,
   "metadata": {},
   "outputs": [
    {
     "name": "stderr",
     "output_type": "stream",
     "text": [
      "c:\\Users\\Prabal Kuinkel\\Desktop\\ARL-Intern\\privategpt\\privategpt\\Lib\\site-packages\\langchain_core\\_api\\deprecation.py:119: LangChainDeprecationWarning: The class `HuggingFaceEmbeddings` was deprecated in LangChain 0.2.2 and will be removed in 0.3.0. An updated version of the class exists in the langchain-huggingface package and should be used instead. To use it run `pip install -U langchain-huggingface` and import as `from langchain_huggingface import HuggingFaceEmbeddings`.\n",
      "  warn_deprecated(\n",
      "c:\\Users\\Prabal Kuinkel\\Desktop\\ARL-Intern\\privategpt\\privategpt\\Lib\\site-packages\\huggingface_hub\\file_download.py:1132: FutureWarning: `resume_download` is deprecated and will be removed in version 1.0.0. Downloads always resume when possible. If you want to force a new download, use `force_download=True`.\n",
      "  warnings.warn(\n"
     ]
    }
   ],
   "source": [
    "from langchain.embeddings import HuggingFaceEmbeddings\n",
    "from langchain.vectorstores import Chroma\n",
    "embeddings = HuggingFaceEmbeddings(model_name='sentence-transformers/all-mpnet-base-v2')"
   ]
  },
  {
   "cell_type": "code",
   "execution_count": 10,
   "metadata": {},
   "outputs": [
    {
     "name": "stdout",
     "output_type": "stream",
     "text": [
      "Creating new embeddings and saving to Chroma vector store.\n",
      "New embeddings created and saved at: vectorstore/chroma\\index\n"
     ]
    },
    {
     "name": "stderr",
     "output_type": "stream",
     "text": [
      "c:\\Users\\Prabal Kuinkel\\Desktop\\ARL-Intern\\privategpt\\privategpt\\Lib\\site-packages\\langchain_core\\_api\\deprecation.py:119: LangChainDeprecationWarning: Since Chroma 0.4.x the manual persistence method is no longer supported as docs are automatically persisted.\n",
      "  warn_deprecated(\n"
     ]
    }
   ],
   "source": [
    "# Check if the vector store already exists\n",
    "if os.path.exists(CHROMA_DB_PATH):\n",
    "    print(\"Loading embeddings from existing Chroma vector store.\")\n",
    "    vectorstore = Chroma(persist_directory=CHROMA_DB_PATH, embedding_function=embeddings)\n",
    "else:\n",
    "    print(\"Creating new embeddings and saving to Chroma vector store.\")\n",
    "    # Create embeddings and vector store\n",
    "    to_vectorize = [\" \".join(example.values()) for example in few_shots]\n",
    "    vectorstore = Chroma.from_texts(to_vectorize, embeddings, metadatas=few_shots, persist_directory=CHROMA_DB_PATH)\n",
    "    vectorstore.persist()\n",
    "    print(f\"New embeddings created and saved at: {CHROMA_DB_PATH}\")"
   ]
  },
  {
   "cell_type": "code",
   "execution_count": 11,
   "metadata": {},
   "outputs": [],
   "source": [
    "from langchain.prompts import SemanticSimilarityExampleSelector\n",
    "\n",
    "example_selector = SemanticSimilarityExampleSelector(\n",
    "    vectorstore=vectorstore,\n",
    "    k=2,\n",
    ")\n",
    "\n",
    "# give me the Breakdown of income for each day this week as my account number is 409000493201'"
   ]
  },
  {
   "cell_type": "code",
   "execution_count": 12,
   "metadata": {},
   "outputs": [],
   "source": [
    "# Test the example selector with a query\n",
    "selected_examples = example_selector.select_examples(\n",
    "    {\"Question\": \"what was my savings last month ?\"}\n",
    ")"
   ]
  },
  {
   "cell_type": "code",
   "execution_count": 13,
   "metadata": {},
   "outputs": [
    {
     "data": {
      "text/plain": [
       "[{'Answer': 'Your total income last month was RS. 4700000 and total spending was RS. 4610196 .',\n",
       "  'Question': 'What was my total income and total spending last month? as my account number is 409000425051 ',\n",
       "  'SQLQuery': \"  SELECT SUM(Deposit_amount) AS Total_Income, SUM(Withdrawal_amount) AS Total_Spending FROM transactions WHERE YEAR(Value_date) = YEAR(CURRENT_DATE()) AND MONTH(Value_date) = MONTH(CURRENT_DATE()) - 1 AND Account_No = '409000493201'; \",\n",
       "  'SQLResult': \"[(Decimal('4700000'), Decimal('4610196'))]\"},\n",
       " {'Answer': 'You spent following amount :\\n    07-01: RS. 116967,\\n     07-02: RS. 90749 ',\n",
       "  'Question': 'How much did I spend on the 1st and 2nd of this month for account number 409000493201?',\n",
       "  'SQLQuery': \"SELECT DATE(Value_date) AS Date, SUM(Withdrawal_amount) AS Daily_Spending \\n                   FROM transactions \\n                   WHERE YEAR(Value_date) = YEAR(CURDATE()) \\n                   AND MONTH(Value_date) = MONTH(CURDATE()) \\n                   AND DAY(Value_date) IN (1, 2) \\n                   AND Account_No = '409000493201'\\n                   GROUP BY DATE(Value_date);\",\n",
       "  'SQLResult': \"[(2024-07-01, Decimal('116967')),\\n                    (2024-07-02, Decimal('90749'))\"}]"
      ]
     },
     "execution_count": 13,
     "metadata": {},
     "output_type": "execute_result"
    }
   ],
   "source": [
    "selected_examples"
   ]
  },
  {
   "cell_type": "code",
   "execution_count": 14,
   "metadata": {},
   "outputs": [],
   "source": [
    "# # Define the custom prompt for SQL database interactions\n",
    "# custom_mysql_prompt = \"\"\"\n",
    "# You are a MySQL expert. Given an input question, first create a syntactically correct MySQL query to run, then look at the results of the query and return the answer to the input question. Prepare the correct MySQL query by looking at the top {top_k} similar queries.\n",
    "# Unless the user specifies in the question a specific number of examples to obtain, query for at most {top_k} results using the LIMIT clause as per MySQL. You can order the results to return the most informative data in the database.\n",
    "# Never query for all columns from a table. You must query only the columns that are needed to answer the question.\n",
    "# Pay attention to use only the column names you can see in the tables below. Be careful to not query for columns that do not exist. \n",
    "# Pay attention to use CURDATE() function to get the current date, if the question involves \"today\",\"this year\",\"this month\" ,\"this week\".\n",
    "\n",
    "# Table information:\n",
    "# 1. `transactions` with columns: `Account_No`, `Date`, `Transaction_details`, `Value_date`, `Withdrawal_amount`, `Deposit_amount`, `Balance_amount`\n",
    "\n",
    "# Remember to only use the provided table columns and structure your queries to handle the specified requests accurately.Only answer the question given by the user and dont assume any question by yourself.\n",
    "#  \"\"\""
   ]
  },
  {
   "cell_type": "code",
   "execution_count": 15,
   "metadata": {},
   "outputs": [],
   "source": [
    "# # Define the custom prompt for SQL database interactions\n",
    "# custom_mysql_prompt = \"\"\"You are an expert in converting natural language into MySQL query.Only use the columns that are specified and needed to answer the question.\n",
    "# Use query for at most {top_k} results.\n",
    "# Table information:\n",
    "# 1. `transactions` with columns: `Account_No`, `Date`, `Transaction_details`, `Value_date`, `Withdrawal_amount`, `Deposit_amount`, `Balance_amount`\n",
    "# \"\"\""
   ]
  },
  {
   "cell_type": "code",
   "execution_count": 16,
   "metadata": {},
   "outputs": [],
   "source": [
    "mysql_prompt = \"\"\"\n",
    "You are an expert in converting natural language questions into MySQL queries. Your task is to generate a syntactically correct MySQL query based on the given input question, execute the query, and then provide an answer based on the query results.\n",
    "Guidelines:\n",
    "1. Construct a MySQL query to fetch data relevant to the user's question. Ensure the query is syntactically correct.\n",
    "2. If the question does not specify the number of examples, use the LIMIT clause to restrict the results to at most {top_k} entries. Prioritize ordering the data to show the most informative entries.\n",
    "3. Query only the necessary columns needed to answer the question. Avoid selecting all columns from a table.\n",
    "4. Only use the column names specified in the table schema below. Do not reference any non-existent columns. Ensure each column name corresponds to the correct table.\n",
    "5. Use the CURDATE() function for questions related to \"today,\" \"this year,\" \"this month,\" or \"this week.\"\n",
    "6. Base your answer solely on the data returned in the SQLResult. Avoid assumptions beyond the provided data.\n",
    "7. Answer only the user's question without introducing new questions or information.\n",
    "\n",
    "Table information:\n",
    "1. `transactions` with columns: `Account_No`, `Date`, `Transaction_details`, `Value_date`, `Withdrawal_amount`, `Deposit_amount`, `Balance_amount`\n",
    "\n",
    "Format:\n",
    "Question: [\"The user's question\"]\n",
    "SQLQuery: [\"Your MySQL query without any preamble\"]\n",
    "SQLResult: [\"The result of the MySQL query\"]\n",
    "Answer: [\"The answer based on the SQLResult\"]\n",
    "\"\"\"\n"
   ]
  },
  {
   "cell_type": "code",
   "execution_count": 17,
   "metadata": {},
   "outputs": [],
   "source": [
    "# Guidelines:\n",
    "# 1. Construct a MySQL query to fetch data relevant to the user's question. Ensure the query is syntactically correct.\n",
    "# 2. If the question does not specify the number of examples, use the LIMIT clause to restrict the results to at most {top_k} entries. Prioritize ordering the data to show the most informative entries.\n",
    "# 3. Query only the necessary columns needed to answer the question. Avoid selecting all columns from a table.\n",
    "# 4. Only use the column names specified in the table schema below. Do not reference any non-existent columns. Ensure each column name corresponds to the correct table.\n",
    "# 5. Use the CURDATE() function for questions related to \"today,\" \"this year,\" \"this month,\" or \"this week.\"\n",
    "# 6. Base your answer solely on the data returned in the SQLResult. Avoid assumptions beyond the provided data.\n",
    "# 7. Answer only the user's question without introducing new questions or information.\n"
   ]
  },
  {
   "cell_type": "code",
   "execution_count": 18,
   "metadata": {},
   "outputs": [],
   "source": [
    "from langchain.prompts import FewShotPromptTemplate\n",
    "from langchain.chains.sql_database.prompt import PROMPT_SUFFIX,_mysql_prompt"
   ]
  },
  {
   "cell_type": "code",
   "execution_count": 19,
   "metadata": {},
   "outputs": [
    {
     "name": "stdout",
     "output_type": "stream",
     "text": [
      "You are a MySQL expert. Given an input question, first create a syntactically correct MySQL query to run, then look at the results of the query and return the answer to the input question.\n",
      "Unless the user specifies in the question a specific number of examples to obtain, query for at most {top_k} results using the LIMIT clause as per MySQL. You can order the results to return the most informative data in the database.\n",
      "Never query for all columns from a table. You must query only the columns that are needed to answer the question. Wrap each column name in backticks (`) to denote them as delimited identifiers.\n",
      "Pay attention to use only the column names you can see in the tables below. Be careful to not query for columns that do not exist. Also, pay attention to which column is in which table.\n",
      "Pay attention to use CURDATE() function to get the current date, if the question involves \"today\".\n",
      "\n",
      "Use the following format:\n",
      "\n",
      "Question: Question here\n",
      "SQLQuery: SQL Query to run\n",
      "SQLResult: Result of the SQLQuery\n",
      "Answer: Final answer here\n",
      "\n",
      "\n"
     ]
    }
   ],
   "source": [
    "print(_mysql_prompt)"
   ]
  },
  {
   "cell_type": "code",
   "execution_count": 20,
   "metadata": {},
   "outputs": [
    {
     "name": "stdout",
     "output_type": "stream",
     "text": [
      "Only use the following tables:\n",
      "{table_info}\n",
      "\n",
      "Question: {input}\n"
     ]
    }
   ],
   "source": [
    "print(PROMPT_SUFFIX)"
   ]
  },
  {
   "cell_type": "code",
   "execution_count": 21,
   "metadata": {},
   "outputs": [],
   "source": [
    "from langchain.prompts.prompt import PromptTemplate\n",
    "example_prompt = PromptTemplate(\n",
    "    input_variables=[\"Question\", \"SQLQuery\", \"SQLResult\",\"Answer\",],\n",
    "    template=\"\\nQuestion: {Question}\\nSQLQuery: {SQLQuery}\\nSQLResult: {SQLResult}\\nAnswer: {Answer}\",\n",
    ")"
   ]
  },
  {
   "cell_type": "code",
   "execution_count": 22,
   "metadata": {},
   "outputs": [
    {
     "name": "stdout",
     "output_type": "stream",
     "text": [
      "Only use the following tables:\n",
      "{table_info}\n",
      "\n",
      "Question: {input}\n"
     ]
    }
   ],
   "source": [
    "print(PROMPT_SUFFIX)"
   ]
  },
  {
   "cell_type": "code",
   "execution_count": 23,
   "metadata": {},
   "outputs": [],
   "source": [
    "suffix_eg=\"Question: {input}\""
   ]
  },
  {
   "cell_type": "code",
   "execution_count": 24,
   "metadata": {},
   "outputs": [
    {
     "name": "stdout",
     "output_type": "stream",
     "text": [
      "Question: {input}\n"
     ]
    }
   ],
   "source": [
    "print(suffix_eg)"
   ]
  },
  {
   "cell_type": "code",
   "execution_count": 25,
   "metadata": {},
   "outputs": [],
   "source": [
    "few_shot_prompt = FewShotPromptTemplate(\n",
    "    example_selector=example_selector,\n",
    "    example_prompt=example_prompt,\n",
    "    prefix=mysql_prompt,\n",
    "    suffix=\"Question: {input}\",\n",
    "    input_variables=[\"input\", \"top_k\"], #These variables are used in the prefix and suffix\n",
    ")"
   ]
  },
  {
   "cell_type": "code",
   "execution_count": 26,
   "metadata": {},
   "outputs": [],
   "source": [
    "new_chain = SQLDatabaseChain.from_llm(llm, db, verbose=True, prompt=few_shot_prompt)"
   ]
  },
  {
   "cell_type": "code",
   "execution_count": 27,
   "metadata": {},
   "outputs": [
    {
     "name": "stdout",
     "output_type": "stream",
     "text": [
      "input_variables=['input', 'top_k'] example_selector=SemanticSimilarityExampleSelector(vectorstore=<langchain_community.vectorstores.chroma.Chroma object at 0x0000024E9AAB8D50>, k=2, example_keys=None, input_keys=None, vectorstore_kwargs=None) example_prompt=PromptTemplate(input_variables=['Answer', 'Question', 'SQLQuery', 'SQLResult'], template='\\nQuestion: {Question}\\nSQLQuery: {SQLQuery}\\nSQLResult: {SQLResult}\\nAnswer: {Answer}') suffix='Question: {input}' prefix='\\nYou are an expert in converting natural language questions into MySQL queries. Your task is to generate a syntactically correct MySQL query based on the given input question, execute the query, and then provide an answer based on the query results.\\nGuidelines:\\n1. Construct a MySQL query to fetch data relevant to the user\\'s question. Ensure the query is syntactically correct.\\n2. If the question does not specify the number of examples, use the LIMIT clause to restrict the results to at most {top_k} entries. Prioritize ordering the data to show the most informative entries.\\n3. Query only the necessary columns needed to answer the question. Avoid selecting all columns from a table.\\n4. Only use the column names specified in the table schema below. Do not reference any non-existent columns. Ensure each column name corresponds to the correct table.\\n5. Use the CURDATE() function for questions related to \"today,\" \"this year,\" \"this month,\" or \"this week.\"\\n6. Base your answer solely on the data returned in the SQLResult. Avoid assumptions beyond the provided data.\\n7. Answer only the user\\'s question without introducing new questions or information.\\n\\nTable information:\\n1. `transactions` with columns: `Account_No`, `Date`, `Transaction_details`, `Value_date`, `Withdrawal_amount`, `Deposit_amount`, `Balance_amount`\\n\\nFormat:\\nQuestion: [\"The user\\'s question\"]\\nSQLQuery: [\"Your MySQL query without any preamble\"]\\nSQLResult: [\"The result of the MySQL query\"]\\nAnswer: [\"The answer based on the SQLResult\"]\\n'\n"
     ]
    }
   ],
   "source": [
    "print(few_shot_prompt)"
   ]
  },
  {
   "cell_type": "code",
   "execution_count": 28,
   "metadata": {},
   "outputs": [],
   "source": [
    "# result = new_chain(\"What was my total earning last week as my account number is 409000493201'\")"
   ]
  },
  {
   "cell_type": "code",
   "execution_count": 29,
   "metadata": {},
   "outputs": [
    {
     "name": "stdout",
     "output_type": "stream",
     "text": [
      "['Income of last 3 months. ?', 'How many transactions did I make in last 2 week as my account number is 409000493201?', 'Amount spent last week as my account number is 409000493201?', 'Expenses for each day this month ?', 'savings of previous year for each month', 'Amount Saved each year', 'Savings of last 2 year as my account number is 409000493201?', 'Expenses of each day of last week for account number 409000438611', 'Amount spent this year as my account number is 409000493201??', 'What is my consistent income in last 2 months as my account number is 409000493201  ?', 'amount/money saved each month previous year ?', 'What is my total income last quarter?', 'income of the previous year', 'income of the first 4 month of previous year', 'amount I lost each year?', 'What is my average spendings of last 11 transactions?', 'How much did I spend each quarter this year?', 'In which date did i make my highest transaction of this month and what was the amount?', 'How much amount did I spent on February month ?', 'What were my total expenditures by month in the previous year?', 'Which is my highest earning month this year ? I also want the amount along with month', 'What was my total spending last week? as my account number is 409000438611', 'What was my total income and total spending last month? as my account number is 409000425051', 'Breakdown my expenses for each week for the last month as my account number is 409000493201.', 'What is my total income for this year so far as my account number is 409000611074?', 'How much did I spend in the last quarter of the previous year? as my account number is 409000611074?', 'Can you give me a monthly breakdown of my income for the past 6 months? as my account number is 409000493201', 'What is the total amount of money deposited over the past year for account number 409000493201?', 'What were my total losses for each month last year for account number 409000493201?', 'What is the highest single deposit amount made this year for account number 409000493201?', 'How much did I spend on the 1st and 2nd of this month for account number 409000493201?', 'Can you show my total savings for each quarter of the current year for account number 409000493201?', 'I want to buy a car worth RS. 5,00,000 in next 2 years . So how much should i save each month to buy the car  for account number 409000493201?', 'I want to buy a car worth RS 6,00,000 in next 3 years . So how much should i save each month to buy the car ? as my account number is 409000438611.', 'What is my average monthly income in first 6 month this year? as my account number is 409000493201.', 'How many transactions did I make last quarter ? as my account number is 409000493201.', 'What is my total number of transactions each month this year?', 'How many withdrawals did I make this year?', 'What is the average daily spending in the last month?', 'What is my largest withdrawal amount this year? as my account number is 409000425051']\n"
     ]
    }
   ],
   "source": [
    "example_questions = [shot['Question'].strip() for shot in few_shots]\n",
    "print(example_questions)"
   ]
  },
  {
   "cell_type": "code",
   "execution_count": 30,
   "metadata": {},
   "outputs": [
    {
     "name": "stderr",
     "output_type": "stream",
     "text": [
      "c:\\Users\\Prabal Kuinkel\\Desktop\\ARL-Intern\\privategpt\\privategpt\\Lib\\site-packages\\huggingface_hub\\file_download.py:1132: FutureWarning: `resume_download` is deprecated and will be removed in version 1.0.0. Downloads always resume when possible. If you want to force a new download, use `force_download=True`.\n",
      "  warnings.warn(\n"
     ]
    }
   ],
   "source": [
    "from sentence_transformers import SentenceTransformer\n",
    "# sentence-transformers/all-mpnet-base-v2\n",
    "from sentence_transformers import SentenceTransformer\n",
    "\n",
    "model = SentenceTransformer('sentence-transformers/all-mpnet-base-v2')\n"
   ]
  },
  {
   "cell_type": "code",
   "execution_count": 31,
   "metadata": {},
   "outputs": [],
   "source": [
    "example_embeddings = model.encode(example_questions)"
   ]
  },
  {
   "cell_type": "code",
   "execution_count": 32,
   "metadata": {},
   "outputs": [],
   "source": [
    "from sklearn.metrics.pairwise import cosine_similarity  \n",
    "# Function to determine if a user question is relevant to the database context\n",
    "def is_question_relevant(user_question, similarity_threshold=0.40):\n",
    "    user_embedding = model.encode([user_question])[0]  \n",
    "    \n",
    "    # calculating the cosine similarity between user question and example questions\n",
    "    similarity_scores = cosine_similarity(user_embedding.reshape(1, -1), example_embeddings)[0]\n",
    "    print(similarity_scores)\n",
    "    \n",
    "    max_similarity_score = max(similarity_scores)\n",
    "    print(max_similarity_score)\n",
    "    return max_similarity_score > similarity_threshold"
   ]
  },
  {
   "cell_type": "code",
   "execution_count": 33,
   "metadata": {},
   "outputs": [
    {
     "name": "stderr",
     "output_type": "stream",
     "text": [
      "c:\\Users\\Prabal Kuinkel\\Desktop\\ARL-Intern\\privategpt\\privategpt\\Lib\\site-packages\\guardrails\\validators\\__init__.py:51: FutureWarning: \n",
      "    Importing validators from `guardrails.validators` is deprecated.\n",
      "    All validators are now available in the Guardrails Hub. Please install\n",
      "    and import them from the hub instead. All validators will be\n",
      "    removed from this module in the next major release.\n",
      "\n",
      "    Install with: `guardrails hub install hub://<namespace>/<validator_name>`\n",
      "    Import as: from guardrails.hub import `ValidatorName`\n",
      "    \n",
      "  warn(\n"
     ]
    }
   ],
   "source": [
    "from guardrails import Guard, OnFailAction\n",
    "from guardrails.hub import CompetitorCheck, ToxicLanguage\n",
    "from guardrails.hub import ProfanityFree"
   ]
  },
  {
   "cell_type": "code",
   "execution_count": 34,
   "metadata": {},
   "outputs": [
    {
     "name": "stderr",
     "output_type": "stream",
     "text": [
      "c:\\Users\\Prabal Kuinkel\\Desktop\\ARL-Intern\\privategpt\\privategpt\\Lib\\site-packages\\huggingface_hub\\file_download.py:1132: FutureWarning: `resume_download` is deprecated and will be removed in version 1.0.0. Downloads always resume when possible. If you want to force a new download, use `force_download=True`.\n",
      "  warnings.warn(\n"
     ]
    }
   ],
   "source": [
    "\n",
    "guard = Guard().use_many(\n",
    "    CompetitorCheck([\"khalti\", \"fusemachine\",\"Deerhold\",\"Deerwalk\",\"Cotiviti\"], on_fail=OnFailAction.EXCEPTION),\n",
    "    ToxicLanguage(threshold=0.9, validation_method=\"sentence\", on_fail=OnFailAction.EXCEPTION),\n",
    "    ProfanityFree(on_fail=OnFailAction.EXCEPTION))\n"
   ]
  },
  {
   "cell_type": "code",
   "execution_count": 35,
   "metadata": {},
   "outputs": [],
   "source": [
    "# Function to handle user queries\n",
    "def handle_user_query(user_question):\n",
    "    if is_question_relevant(user_question):\n",
    "        # response=new_chain(user_question)\n",
    "        return True\n",
    "    else:\n",
    "        return \"Your Question is not Relevant to the Context\""
   ]
  },
  {
   "cell_type": "code",
   "execution_count": 36,
   "metadata": {},
   "outputs": [],
   "source": [
    "acc_no =\"as my account number is 409000611074\""
   ]
  },
  {
   "cell_type": "code",
   "execution_count": 37,
   "metadata": {},
   "outputs": [
    {
     "name": "stdout",
     "output_type": "stream",
     "text": [
      "what was my savings last month ?  \n"
     ]
    }
   ],
   "source": [
    "# I want to buy a car worth RS. 500000 in next 2 years . So how much should i save each month to buy the car  for account number 409000493201?\n",
    "user_question = f\"what was my savings last month ?  \"\n",
    "print(user_question)"
   ]
  },
  {
   "cell_type": "code",
   "execution_count": 38,
   "metadata": {},
   "outputs": [
    {
     "name": "stdout",
     "output_type": "stream",
     "text": [
      "[0.60203314 0.54559606 0.61633825 0.5932877  0.58444315 0.56527376\n",
      " 0.60219204 0.4719022  0.5953816  0.5544629  0.64762926 0.65715337\n",
      " 0.38640147 0.41634578 0.4967081  0.5363411  0.6930816  0.55434394\n",
      " 0.78462815 0.6880093  0.53249955 0.667287   0.6415483  0.5532886\n",
      " 0.6024281  0.6724714  0.5295236  0.57863104 0.5700383  0.46911293\n",
      " 0.70733666 0.60420024 0.45137304 0.4374778  0.5718559  0.5586995\n",
      " 0.58897936 0.59999925 0.67592335 0.5357217 ]\n",
      "0.78462815\n"
     ]
    }
   ],
   "source": [
    "try:\n",
    "    # Validate the user question\n",
    "    guard.validate(user_question)  # If validation fails, an exception will be thrown\n",
    "    # If validation passes, handle the user query\n",
    "    response = handle_user_query(user_question)\n",
    "except Exception as e:\n",
    "    response = str(e)"
   ]
  },
  {
   "cell_type": "code",
   "execution_count": 39,
   "metadata": {},
   "outputs": [
    {
     "name": "stdout",
     "output_type": "stream",
     "text": [
      "True\n"
     ]
    }
   ],
   "source": [
    "print(response)"
   ]
  },
  {
   "cell_type": "code",
   "execution_count": 40,
   "metadata": {},
   "outputs": [
    {
     "data": {
      "text/plain": [
       "[{'Answer': 'Your total income last month was RS. 4700000 and total spending was RS. 4610196 .',\n",
       "  'Question': 'What was my total income and total spending last month? as my account number is 409000425051 ',\n",
       "  'SQLQuery': \"  SELECT SUM(Deposit_amount) AS Total_Income, SUM(Withdrawal_amount) AS Total_Spending FROM transactions WHERE YEAR(Value_date) = YEAR(CURRENT_DATE()) AND MONTH(Value_date) = MONTH(CURRENT_DATE()) - 1 AND Account_No = '409000493201'; \",\n",
       "  'SQLResult': \"[(Decimal('4700000'), Decimal('4610196'))]\"},\n",
       " {'Answer': 'You spent following amount :\\n    07-01: RS. 116967,\\n     07-02: RS. 90749 ',\n",
       "  'Question': 'How much did I spend on the 1st and 2nd of this month for account number 409000493201?',\n",
       "  'SQLQuery': \"SELECT DATE(Value_date) AS Date, SUM(Withdrawal_amount) AS Daily_Spending \\n                   FROM transactions \\n                   WHERE YEAR(Value_date) = YEAR(CURDATE()) \\n                   AND MONTH(Value_date) = MONTH(CURDATE()) \\n                   AND DAY(Value_date) IN (1, 2) \\n                   AND Account_No = '409000493201'\\n                   GROUP BY DATE(Value_date);\",\n",
       "  'SQLResult': \"[(2024-07-01, Decimal('116967')),\\n                    (2024-07-02, Decimal('90749'))\"}]"
      ]
     },
     "execution_count": 40,
     "metadata": {},
     "output_type": "execute_result"
    }
   ],
   "source": [
    "example_selector.select_examples({f\"Question\":\"what was my savings last month ? \"})"
   ]
  },
  {
   "cell_type": "code",
   "execution_count": 41,
   "metadata": {},
   "outputs": [
    {
     "name": "stderr",
     "output_type": "stream",
     "text": [
      "c:\\Users\\Prabal Kuinkel\\Desktop\\ARL-Intern\\privategpt\\privategpt\\Lib\\site-packages\\langchain_core\\_api\\deprecation.py:119: LangChainDeprecationWarning: The method `Chain.__call__` was deprecated in langchain 0.1.0 and will be removed in 0.3.0. Use invoke instead.\n",
      "  warn_deprecated(\n"
     ]
    },
    {
     "name": "stdout",
     "output_type": "stream",
     "text": [
      "\n",
      "\n",
      "\u001b[1m> Entering new SQLDatabaseChain chain...\u001b[0m\n",
      "what was my savings last month ?  \n",
      "SQLQuery:\u001b[32;1m\u001b[1;3mSELECT Balance_amount - Value_amount AS Savings FROM transactions WHERE YEAR(Value_date) = YEAR(CURRENT_DATE()) AND MONTH(Value_date) = MONTH(CURRENT_DATE()) - 1\u001b[0m"
     ]
    },
    {
     "ename": "OperationalError",
     "evalue": "(pymysql.err.OperationalError) (1054, \"Unknown column 'Value_amount' in 'field list'\")\n[SQL: SELECT Balance_amount - Value_amount AS Savings FROM transactions WHERE YEAR(Value_date) = YEAR(CURRENT_DATE()) AND MONTH(Value_date) = MONTH(CURRENT_DATE()) - 1]\n(Background on this error at: https://sqlalche.me/e/20/e3q8)",
     "output_type": "error",
     "traceback": [
      "\u001b[1;31m---------------------------------------------------------------------------\u001b[0m",
      "\u001b[1;31mOperationalError\u001b[0m                          Traceback (most recent call last)",
      "File \u001b[1;32mc:\\Users\\Prabal Kuinkel\\Desktop\\ARL-Intern\\privategpt\\privategpt\\Lib\\site-packages\\sqlalchemy\\engine\\base.py:1967\u001b[0m, in \u001b[0;36mConnection._exec_single_context\u001b[1;34m(self, dialect, context, statement, parameters)\u001b[0m\n\u001b[0;32m   1966\u001b[0m     \u001b[38;5;28;01mif\u001b[39;00m \u001b[38;5;129;01mnot\u001b[39;00m evt_handled:\n\u001b[1;32m-> 1967\u001b[0m         \u001b[38;5;28;43mself\u001b[39;49m\u001b[38;5;241;43m.\u001b[39;49m\u001b[43mdialect\u001b[49m\u001b[38;5;241;43m.\u001b[39;49m\u001b[43mdo_execute\u001b[49m\u001b[43m(\u001b[49m\n\u001b[0;32m   1968\u001b[0m \u001b[43m            \u001b[49m\u001b[43mcursor\u001b[49m\u001b[43m,\u001b[49m\u001b[43m \u001b[49m\u001b[43mstr_statement\u001b[49m\u001b[43m,\u001b[49m\u001b[43m \u001b[49m\u001b[43meffective_parameters\u001b[49m\u001b[43m,\u001b[49m\u001b[43m \u001b[49m\u001b[43mcontext\u001b[49m\n\u001b[0;32m   1969\u001b[0m \u001b[43m        \u001b[49m\u001b[43m)\u001b[49m\n\u001b[0;32m   1971\u001b[0m \u001b[38;5;28;01mif\u001b[39;00m \u001b[38;5;28mself\u001b[39m\u001b[38;5;241m.\u001b[39m_has_events \u001b[38;5;129;01mor\u001b[39;00m \u001b[38;5;28mself\u001b[39m\u001b[38;5;241m.\u001b[39mengine\u001b[38;5;241m.\u001b[39m_has_events:\n",
      "File \u001b[1;32mc:\\Users\\Prabal Kuinkel\\Desktop\\ARL-Intern\\privategpt\\privategpt\\Lib\\site-packages\\sqlalchemy\\engine\\default.py:924\u001b[0m, in \u001b[0;36mDefaultDialect.do_execute\u001b[1;34m(self, cursor, statement, parameters, context)\u001b[0m\n\u001b[0;32m    923\u001b[0m \u001b[38;5;28;01mdef\u001b[39;00m \u001b[38;5;21mdo_execute\u001b[39m(\u001b[38;5;28mself\u001b[39m, cursor, statement, parameters, context\u001b[38;5;241m=\u001b[39m\u001b[38;5;28;01mNone\u001b[39;00m):\n\u001b[1;32m--> 924\u001b[0m     \u001b[43mcursor\u001b[49m\u001b[38;5;241;43m.\u001b[39;49m\u001b[43mexecute\u001b[49m\u001b[43m(\u001b[49m\u001b[43mstatement\u001b[49m\u001b[43m,\u001b[49m\u001b[43m \u001b[49m\u001b[43mparameters\u001b[49m\u001b[43m)\u001b[49m\n",
      "File \u001b[1;32mc:\\Users\\Prabal Kuinkel\\Desktop\\ARL-Intern\\privategpt\\privategpt\\Lib\\site-packages\\pymysql\\cursors.py:153\u001b[0m, in \u001b[0;36mCursor.execute\u001b[1;34m(self, query, args)\u001b[0m\n\u001b[0;32m    151\u001b[0m query \u001b[38;5;241m=\u001b[39m \u001b[38;5;28mself\u001b[39m\u001b[38;5;241m.\u001b[39mmogrify(query, args)\n\u001b[1;32m--> 153\u001b[0m result \u001b[38;5;241m=\u001b[39m \u001b[38;5;28;43mself\u001b[39;49m\u001b[38;5;241;43m.\u001b[39;49m\u001b[43m_query\u001b[49m\u001b[43m(\u001b[49m\u001b[43mquery\u001b[49m\u001b[43m)\u001b[49m\n\u001b[0;32m    154\u001b[0m \u001b[38;5;28mself\u001b[39m\u001b[38;5;241m.\u001b[39m_executed \u001b[38;5;241m=\u001b[39m query\n",
      "File \u001b[1;32mc:\\Users\\Prabal Kuinkel\\Desktop\\ARL-Intern\\privategpt\\privategpt\\Lib\\site-packages\\pymysql\\cursors.py:322\u001b[0m, in \u001b[0;36mCursor._query\u001b[1;34m(self, q)\u001b[0m\n\u001b[0;32m    321\u001b[0m \u001b[38;5;28mself\u001b[39m\u001b[38;5;241m.\u001b[39m_clear_result()\n\u001b[1;32m--> 322\u001b[0m \u001b[43mconn\u001b[49m\u001b[38;5;241;43m.\u001b[39;49m\u001b[43mquery\u001b[49m\u001b[43m(\u001b[49m\u001b[43mq\u001b[49m\u001b[43m)\u001b[49m\n\u001b[0;32m    323\u001b[0m \u001b[38;5;28mself\u001b[39m\u001b[38;5;241m.\u001b[39m_do_get_result()\n",
      "File \u001b[1;32mc:\\Users\\Prabal Kuinkel\\Desktop\\ARL-Intern\\privategpt\\privategpt\\Lib\\site-packages\\pymysql\\connections.py:563\u001b[0m, in \u001b[0;36mConnection.query\u001b[1;34m(self, sql, unbuffered)\u001b[0m\n\u001b[0;32m    562\u001b[0m \u001b[38;5;28mself\u001b[39m\u001b[38;5;241m.\u001b[39m_execute_command(COMMAND\u001b[38;5;241m.\u001b[39mCOM_QUERY, sql)\n\u001b[1;32m--> 563\u001b[0m \u001b[38;5;28mself\u001b[39m\u001b[38;5;241m.\u001b[39m_affected_rows \u001b[38;5;241m=\u001b[39m \u001b[38;5;28;43mself\u001b[39;49m\u001b[38;5;241;43m.\u001b[39;49m\u001b[43m_read_query_result\u001b[49m\u001b[43m(\u001b[49m\u001b[43munbuffered\u001b[49m\u001b[38;5;241;43m=\u001b[39;49m\u001b[43munbuffered\u001b[49m\u001b[43m)\u001b[49m\n\u001b[0;32m    564\u001b[0m \u001b[38;5;28;01mreturn\u001b[39;00m \u001b[38;5;28mself\u001b[39m\u001b[38;5;241m.\u001b[39m_affected_rows\n",
      "File \u001b[1;32mc:\\Users\\Prabal Kuinkel\\Desktop\\ARL-Intern\\privategpt\\privategpt\\Lib\\site-packages\\pymysql\\connections.py:825\u001b[0m, in \u001b[0;36mConnection._read_query_result\u001b[1;34m(self, unbuffered)\u001b[0m\n\u001b[0;32m    824\u001b[0m     result \u001b[38;5;241m=\u001b[39m MySQLResult(\u001b[38;5;28mself\u001b[39m)\n\u001b[1;32m--> 825\u001b[0m     \u001b[43mresult\u001b[49m\u001b[38;5;241;43m.\u001b[39;49m\u001b[43mread\u001b[49m\u001b[43m(\u001b[49m\u001b[43m)\u001b[49m\n\u001b[0;32m    826\u001b[0m \u001b[38;5;28mself\u001b[39m\u001b[38;5;241m.\u001b[39m_result \u001b[38;5;241m=\u001b[39m result\n",
      "File \u001b[1;32mc:\\Users\\Prabal Kuinkel\\Desktop\\ARL-Intern\\privategpt\\privategpt\\Lib\\site-packages\\pymysql\\connections.py:1199\u001b[0m, in \u001b[0;36mMySQLResult.read\u001b[1;34m(self)\u001b[0m\n\u001b[0;32m   1198\u001b[0m \u001b[38;5;28;01mtry\u001b[39;00m:\n\u001b[1;32m-> 1199\u001b[0m     first_packet \u001b[38;5;241m=\u001b[39m \u001b[38;5;28;43mself\u001b[39;49m\u001b[38;5;241;43m.\u001b[39;49m\u001b[43mconnection\u001b[49m\u001b[38;5;241;43m.\u001b[39;49m\u001b[43m_read_packet\u001b[49m\u001b[43m(\u001b[49m\u001b[43m)\u001b[49m\n\u001b[0;32m   1201\u001b[0m     \u001b[38;5;28;01mif\u001b[39;00m first_packet\u001b[38;5;241m.\u001b[39mis_ok_packet():\n",
      "File \u001b[1;32mc:\\Users\\Prabal Kuinkel\\Desktop\\ARL-Intern\\privategpt\\privategpt\\Lib\\site-packages\\pymysql\\connections.py:775\u001b[0m, in \u001b[0;36mConnection._read_packet\u001b[1;34m(self, packet_type)\u001b[0m\n\u001b[0;32m    774\u001b[0m         \u001b[38;5;28mself\u001b[39m\u001b[38;5;241m.\u001b[39m_result\u001b[38;5;241m.\u001b[39munbuffered_active \u001b[38;5;241m=\u001b[39m \u001b[38;5;28;01mFalse\u001b[39;00m\n\u001b[1;32m--> 775\u001b[0m     \u001b[43mpacket\u001b[49m\u001b[38;5;241;43m.\u001b[39;49m\u001b[43mraise_for_error\u001b[49m\u001b[43m(\u001b[49m\u001b[43m)\u001b[49m\n\u001b[0;32m    776\u001b[0m \u001b[38;5;28;01mreturn\u001b[39;00m packet\n",
      "File \u001b[1;32mc:\\Users\\Prabal Kuinkel\\Desktop\\ARL-Intern\\privategpt\\privategpt\\Lib\\site-packages\\pymysql\\protocol.py:219\u001b[0m, in \u001b[0;36mMysqlPacket.raise_for_error\u001b[1;34m(self)\u001b[0m\n\u001b[0;32m    218\u001b[0m     \u001b[38;5;28mprint\u001b[39m(\u001b[38;5;124m\"\u001b[39m\u001b[38;5;124merrno =\u001b[39m\u001b[38;5;124m\"\u001b[39m, errno)\n\u001b[1;32m--> 219\u001b[0m \u001b[43merr\u001b[49m\u001b[38;5;241;43m.\u001b[39;49m\u001b[43mraise_mysql_exception\u001b[49m\u001b[43m(\u001b[49m\u001b[38;5;28;43mself\u001b[39;49m\u001b[38;5;241;43m.\u001b[39;49m\u001b[43m_data\u001b[49m\u001b[43m)\u001b[49m\n",
      "File \u001b[1;32mc:\\Users\\Prabal Kuinkel\\Desktop\\ARL-Intern\\privategpt\\privategpt\\Lib\\site-packages\\pymysql\\err.py:150\u001b[0m, in \u001b[0;36mraise_mysql_exception\u001b[1;34m(data)\u001b[0m\n\u001b[0;32m    149\u001b[0m     errorclass \u001b[38;5;241m=\u001b[39m InternalError \u001b[38;5;28;01mif\u001b[39;00m errno \u001b[38;5;241m<\u001b[39m \u001b[38;5;241m1000\u001b[39m \u001b[38;5;28;01melse\u001b[39;00m OperationalError\n\u001b[1;32m--> 150\u001b[0m \u001b[38;5;28;01mraise\u001b[39;00m errorclass(errno, errval)\n",
      "\u001b[1;31mOperationalError\u001b[0m: (1054, \"Unknown column 'Value_amount' in 'field list'\")",
      "\nThe above exception was the direct cause of the following exception:\n",
      "\u001b[1;31mOperationalError\u001b[0m                          Traceback (most recent call last)",
      "Cell \u001b[1;32mIn[41], line 2\u001b[0m\n\u001b[0;32m      1\u001b[0m \u001b[38;5;28;01mif\u001b[39;00m response\u001b[38;5;241m==\u001b[39m\u001b[38;5;28;01mTrue\u001b[39;00m:\n\u001b[1;32m----> 2\u001b[0m     result\u001b[38;5;241m=\u001b[39m\u001b[43mnew_chain\u001b[49m\u001b[43m(\u001b[49m\u001b[43muser_question\u001b[49m\u001b[43m)\u001b[49m\n\u001b[0;32m      3\u001b[0m \u001b[38;5;28;01melse\u001b[39;00m:\n\u001b[0;32m      4\u001b[0m     \u001b[38;5;28mprint\u001b[39m(response)\n",
      "File \u001b[1;32mc:\\Users\\Prabal Kuinkel\\Desktop\\ARL-Intern\\privategpt\\privategpt\\Lib\\site-packages\\langchain_core\\_api\\deprecation.py:148\u001b[0m, in \u001b[0;36mdeprecated.<locals>.deprecate.<locals>.warning_emitting_wrapper\u001b[1;34m(*args, **kwargs)\u001b[0m\n\u001b[0;32m    146\u001b[0m     warned \u001b[38;5;241m=\u001b[39m \u001b[38;5;28;01mTrue\u001b[39;00m\n\u001b[0;32m    147\u001b[0m     emit_warning()\n\u001b[1;32m--> 148\u001b[0m \u001b[38;5;28;01mreturn\u001b[39;00m \u001b[43mwrapped\u001b[49m\u001b[43m(\u001b[49m\u001b[38;5;241;43m*\u001b[39;49m\u001b[43margs\u001b[49m\u001b[43m,\u001b[49m\u001b[43m \u001b[49m\u001b[38;5;241;43m*\u001b[39;49m\u001b[38;5;241;43m*\u001b[39;49m\u001b[43mkwargs\u001b[49m\u001b[43m)\u001b[49m\n",
      "File \u001b[1;32mc:\\Users\\Prabal Kuinkel\\Desktop\\ARL-Intern\\privategpt\\privategpt\\Lib\\site-packages\\langchain\\chains\\base.py:383\u001b[0m, in \u001b[0;36mChain.__call__\u001b[1;34m(self, inputs, return_only_outputs, callbacks, tags, metadata, run_name, include_run_info)\u001b[0m\n\u001b[0;32m    351\u001b[0m \u001b[38;5;250m\u001b[39m\u001b[38;5;124;03m\"\"\"Execute the chain.\u001b[39;00m\n\u001b[0;32m    352\u001b[0m \n\u001b[0;32m    353\u001b[0m \u001b[38;5;124;03mArgs:\u001b[39;00m\n\u001b[1;32m   (...)\u001b[0m\n\u001b[0;32m    374\u001b[0m \u001b[38;5;124;03m        `Chain.output_keys`.\u001b[39;00m\n\u001b[0;32m    375\u001b[0m \u001b[38;5;124;03m\"\"\"\u001b[39;00m\n\u001b[0;32m    376\u001b[0m config \u001b[38;5;241m=\u001b[39m {\n\u001b[0;32m    377\u001b[0m     \u001b[38;5;124m\"\u001b[39m\u001b[38;5;124mcallbacks\u001b[39m\u001b[38;5;124m\"\u001b[39m: callbacks,\n\u001b[0;32m    378\u001b[0m     \u001b[38;5;124m\"\u001b[39m\u001b[38;5;124mtags\u001b[39m\u001b[38;5;124m\"\u001b[39m: tags,\n\u001b[0;32m    379\u001b[0m     \u001b[38;5;124m\"\u001b[39m\u001b[38;5;124mmetadata\u001b[39m\u001b[38;5;124m\"\u001b[39m: metadata,\n\u001b[0;32m    380\u001b[0m     \u001b[38;5;124m\"\u001b[39m\u001b[38;5;124mrun_name\u001b[39m\u001b[38;5;124m\"\u001b[39m: run_name,\n\u001b[0;32m    381\u001b[0m }\n\u001b[1;32m--> 383\u001b[0m \u001b[38;5;28;01mreturn\u001b[39;00m \u001b[38;5;28;43mself\u001b[39;49m\u001b[38;5;241;43m.\u001b[39;49m\u001b[43minvoke\u001b[49m\u001b[43m(\u001b[49m\n\u001b[0;32m    384\u001b[0m \u001b[43m    \u001b[49m\u001b[43minputs\u001b[49m\u001b[43m,\u001b[49m\n\u001b[0;32m    385\u001b[0m \u001b[43m    \u001b[49m\u001b[43mcast\u001b[49m\u001b[43m(\u001b[49m\u001b[43mRunnableConfig\u001b[49m\u001b[43m,\u001b[49m\u001b[43m \u001b[49m\u001b[43m{\u001b[49m\u001b[43mk\u001b[49m\u001b[43m:\u001b[49m\u001b[43m \u001b[49m\u001b[43mv\u001b[49m\u001b[43m \u001b[49m\u001b[38;5;28;43;01mfor\u001b[39;49;00m\u001b[43m \u001b[49m\u001b[43mk\u001b[49m\u001b[43m,\u001b[49m\u001b[43m \u001b[49m\u001b[43mv\u001b[49m\u001b[43m \u001b[49m\u001b[38;5;129;43;01min\u001b[39;49;00m\u001b[43m \u001b[49m\u001b[43mconfig\u001b[49m\u001b[38;5;241;43m.\u001b[39;49m\u001b[43mitems\u001b[49m\u001b[43m(\u001b[49m\u001b[43m)\u001b[49m\u001b[43m \u001b[49m\u001b[38;5;28;43;01mif\u001b[39;49;00m\u001b[43m \u001b[49m\u001b[43mv\u001b[49m\u001b[43m \u001b[49m\u001b[38;5;129;43;01mis\u001b[39;49;00m\u001b[43m \u001b[49m\u001b[38;5;129;43;01mnot\u001b[39;49;00m\u001b[43m \u001b[49m\u001b[38;5;28;43;01mNone\u001b[39;49;00m\u001b[43m}\u001b[49m\u001b[43m)\u001b[49m\u001b[43m,\u001b[49m\n\u001b[0;32m    386\u001b[0m \u001b[43m    \u001b[49m\u001b[43mreturn_only_outputs\u001b[49m\u001b[38;5;241;43m=\u001b[39;49m\u001b[43mreturn_only_outputs\u001b[49m\u001b[43m,\u001b[49m\n\u001b[0;32m    387\u001b[0m \u001b[43m    \u001b[49m\u001b[43minclude_run_info\u001b[49m\u001b[38;5;241;43m=\u001b[39;49m\u001b[43minclude_run_info\u001b[49m\u001b[43m,\u001b[49m\n\u001b[0;32m    388\u001b[0m \u001b[43m\u001b[49m\u001b[43m)\u001b[49m\n",
      "File \u001b[1;32mc:\\Users\\Prabal Kuinkel\\Desktop\\ARL-Intern\\privategpt\\privategpt\\Lib\\site-packages\\langchain\\chains\\base.py:166\u001b[0m, in \u001b[0;36mChain.invoke\u001b[1;34m(self, input, config, **kwargs)\u001b[0m\n\u001b[0;32m    164\u001b[0m \u001b[38;5;28;01mexcept\u001b[39;00m \u001b[38;5;167;01mBaseException\u001b[39;00m \u001b[38;5;28;01mas\u001b[39;00m e:\n\u001b[0;32m    165\u001b[0m     run_manager\u001b[38;5;241m.\u001b[39mon_chain_error(e)\n\u001b[1;32m--> 166\u001b[0m     \u001b[38;5;28;01mraise\u001b[39;00m e\n\u001b[0;32m    167\u001b[0m run_manager\u001b[38;5;241m.\u001b[39mon_chain_end(outputs)\n\u001b[0;32m    169\u001b[0m \u001b[38;5;28;01mif\u001b[39;00m include_run_info:\n",
      "File \u001b[1;32mc:\\Users\\Prabal Kuinkel\\Desktop\\ARL-Intern\\privategpt\\privategpt\\Lib\\site-packages\\langchain\\chains\\base.py:156\u001b[0m, in \u001b[0;36mChain.invoke\u001b[1;34m(self, input, config, **kwargs)\u001b[0m\n\u001b[0;32m    153\u001b[0m \u001b[38;5;28;01mtry\u001b[39;00m:\n\u001b[0;32m    154\u001b[0m     \u001b[38;5;28mself\u001b[39m\u001b[38;5;241m.\u001b[39m_validate_inputs(inputs)\n\u001b[0;32m    155\u001b[0m     outputs \u001b[38;5;241m=\u001b[39m (\n\u001b[1;32m--> 156\u001b[0m         \u001b[38;5;28;43mself\u001b[39;49m\u001b[38;5;241;43m.\u001b[39;49m\u001b[43m_call\u001b[49m\u001b[43m(\u001b[49m\u001b[43minputs\u001b[49m\u001b[43m,\u001b[49m\u001b[43m \u001b[49m\u001b[43mrun_manager\u001b[49m\u001b[38;5;241;43m=\u001b[39;49m\u001b[43mrun_manager\u001b[49m\u001b[43m)\u001b[49m\n\u001b[0;32m    157\u001b[0m         \u001b[38;5;28;01mif\u001b[39;00m new_arg_supported\n\u001b[0;32m    158\u001b[0m         \u001b[38;5;28;01melse\u001b[39;00m \u001b[38;5;28mself\u001b[39m\u001b[38;5;241m.\u001b[39m_call(inputs)\n\u001b[0;32m    159\u001b[0m     )\n\u001b[0;32m    161\u001b[0m     final_outputs: Dict[\u001b[38;5;28mstr\u001b[39m, Any] \u001b[38;5;241m=\u001b[39m \u001b[38;5;28mself\u001b[39m\u001b[38;5;241m.\u001b[39mprep_outputs(\n\u001b[0;32m    162\u001b[0m         inputs, outputs, return_only_outputs\n\u001b[0;32m    163\u001b[0m     )\n\u001b[0;32m    164\u001b[0m \u001b[38;5;28;01mexcept\u001b[39;00m \u001b[38;5;167;01mBaseException\u001b[39;00m \u001b[38;5;28;01mas\u001b[39;00m e:\n",
      "File \u001b[1;32mc:\\Users\\Prabal Kuinkel\\Desktop\\ARL-Intern\\privategpt\\privategpt\\Lib\\site-packages\\langchain_experimental\\sql\\base.py:204\u001b[0m, in \u001b[0;36mSQLDatabaseChain._call\u001b[1;34m(self, inputs, run_manager)\u001b[0m\n\u001b[0;32m    200\u001b[0m \u001b[38;5;28;01mexcept\u001b[39;00m \u001b[38;5;167;01mException\u001b[39;00m \u001b[38;5;28;01mas\u001b[39;00m exc:\n\u001b[0;32m    201\u001b[0m     \u001b[38;5;66;03m# Append intermediate steps to exception, to aid in logging and later\u001b[39;00m\n\u001b[0;32m    202\u001b[0m     \u001b[38;5;66;03m# improvement of few shot prompt seeds\u001b[39;00m\n\u001b[0;32m    203\u001b[0m     exc\u001b[38;5;241m.\u001b[39mintermediate_steps \u001b[38;5;241m=\u001b[39m intermediate_steps  \u001b[38;5;66;03m# type: ignore\u001b[39;00m\n\u001b[1;32m--> 204\u001b[0m     \u001b[38;5;28;01mraise\u001b[39;00m exc\n",
      "File \u001b[1;32mc:\\Users\\Prabal Kuinkel\\Desktop\\ARL-Intern\\privategpt\\privategpt\\Lib\\site-packages\\langchain_experimental\\sql\\base.py:149\u001b[0m, in \u001b[0;36mSQLDatabaseChain._call\u001b[1;34m(self, inputs, run_manager)\u001b[0m\n\u001b[0;32m    147\u001b[0m     \u001b[38;5;28;01mif\u001b[39;00m SQL_RESULT \u001b[38;5;129;01min\u001b[39;00m sql_cmd:\n\u001b[0;32m    148\u001b[0m         sql_cmd \u001b[38;5;241m=\u001b[39m sql_cmd\u001b[38;5;241m.\u001b[39msplit(SQL_RESULT)[\u001b[38;5;241m0\u001b[39m]\u001b[38;5;241m.\u001b[39mstrip()\n\u001b[1;32m--> 149\u001b[0m     result \u001b[38;5;241m=\u001b[39m \u001b[38;5;28;43mself\u001b[39;49m\u001b[38;5;241;43m.\u001b[39;49m\u001b[43mdatabase\u001b[49m\u001b[38;5;241;43m.\u001b[39;49m\u001b[43mrun\u001b[49m\u001b[43m(\u001b[49m\u001b[43msql_cmd\u001b[49m\u001b[43m)\u001b[49m\n\u001b[0;32m    150\u001b[0m     intermediate_steps\u001b[38;5;241m.\u001b[39mappend(\u001b[38;5;28mstr\u001b[39m(result))  \u001b[38;5;66;03m# output: sql exec\u001b[39;00m\n\u001b[0;32m    151\u001b[0m \u001b[38;5;28;01melse\u001b[39;00m:\n",
      "File \u001b[1;32mc:\\Users\\Prabal Kuinkel\\Desktop\\ARL-Intern\\privategpt\\privategpt\\Lib\\site-packages\\langchain_community\\utilities\\sql_database.py:498\u001b[0m, in \u001b[0;36mSQLDatabase.run\u001b[1;34m(self, command, fetch, include_columns, parameters, execution_options)\u001b[0m\n\u001b[0;32m    484\u001b[0m \u001b[38;5;28;01mdef\u001b[39;00m \u001b[38;5;21mrun\u001b[39m(\n\u001b[0;32m    485\u001b[0m     \u001b[38;5;28mself\u001b[39m,\n\u001b[0;32m    486\u001b[0m     command: Union[\u001b[38;5;28mstr\u001b[39m, Executable],\n\u001b[1;32m   (...)\u001b[0m\n\u001b[0;32m    491\u001b[0m     execution_options: Optional[Dict[\u001b[38;5;28mstr\u001b[39m, Any]] \u001b[38;5;241m=\u001b[39m \u001b[38;5;28;01mNone\u001b[39;00m,\n\u001b[0;32m    492\u001b[0m ) \u001b[38;5;241m-\u001b[39m\u001b[38;5;241m>\u001b[39m Union[\u001b[38;5;28mstr\u001b[39m, Sequence[Dict[\u001b[38;5;28mstr\u001b[39m, Any]], Result[Any]]:\n\u001b[0;32m    493\u001b[0m \u001b[38;5;250m    \u001b[39m\u001b[38;5;124;03m\"\"\"Execute a SQL command and return a string representing the results.\u001b[39;00m\n\u001b[0;32m    494\u001b[0m \n\u001b[0;32m    495\u001b[0m \u001b[38;5;124;03m    If the statement returns rows, a string of the results is returned.\u001b[39;00m\n\u001b[0;32m    496\u001b[0m \u001b[38;5;124;03m    If the statement returns no rows, an empty string is returned.\u001b[39;00m\n\u001b[0;32m    497\u001b[0m \u001b[38;5;124;03m    \"\"\"\u001b[39;00m\n\u001b[1;32m--> 498\u001b[0m     result \u001b[38;5;241m=\u001b[39m \u001b[38;5;28;43mself\u001b[39;49m\u001b[38;5;241;43m.\u001b[39;49m\u001b[43m_execute\u001b[49m\u001b[43m(\u001b[49m\n\u001b[0;32m    499\u001b[0m \u001b[43m        \u001b[49m\u001b[43mcommand\u001b[49m\u001b[43m,\u001b[49m\u001b[43m \u001b[49m\u001b[43mfetch\u001b[49m\u001b[43m,\u001b[49m\u001b[43m \u001b[49m\u001b[43mparameters\u001b[49m\u001b[38;5;241;43m=\u001b[39;49m\u001b[43mparameters\u001b[49m\u001b[43m,\u001b[49m\u001b[43m \u001b[49m\u001b[43mexecution_options\u001b[49m\u001b[38;5;241;43m=\u001b[39;49m\u001b[43mexecution_options\u001b[49m\n\u001b[0;32m    500\u001b[0m \u001b[43m    \u001b[49m\u001b[43m)\u001b[49m\n\u001b[0;32m    502\u001b[0m     \u001b[38;5;28;01mif\u001b[39;00m fetch \u001b[38;5;241m==\u001b[39m \u001b[38;5;124m\"\u001b[39m\u001b[38;5;124mcursor\u001b[39m\u001b[38;5;124m\"\u001b[39m:\n\u001b[0;32m    503\u001b[0m         \u001b[38;5;28;01mreturn\u001b[39;00m result\n",
      "File \u001b[1;32mc:\\Users\\Prabal Kuinkel\\Desktop\\ARL-Intern\\privategpt\\privategpt\\Lib\\site-packages\\langchain_community\\utilities\\sql_database.py:463\u001b[0m, in \u001b[0;36mSQLDatabase._execute\u001b[1;34m(self, command, fetch, parameters, execution_options)\u001b[0m\n\u001b[0;32m    461\u001b[0m \u001b[38;5;28;01melse\u001b[39;00m:\n\u001b[0;32m    462\u001b[0m     \u001b[38;5;28;01mraise\u001b[39;00m \u001b[38;5;167;01mTypeError\u001b[39;00m(\u001b[38;5;124mf\u001b[39m\u001b[38;5;124m\"\u001b[39m\u001b[38;5;124mQuery expression has unknown type: \u001b[39m\u001b[38;5;132;01m{\u001b[39;00m\u001b[38;5;28mtype\u001b[39m(command)\u001b[38;5;132;01m}\u001b[39;00m\u001b[38;5;124m\"\u001b[39m)\n\u001b[1;32m--> 463\u001b[0m cursor \u001b[38;5;241m=\u001b[39m \u001b[43mconnection\u001b[49m\u001b[38;5;241;43m.\u001b[39;49m\u001b[43mexecute\u001b[49m\u001b[43m(\u001b[49m\n\u001b[0;32m    464\u001b[0m \u001b[43m    \u001b[49m\u001b[43mcommand\u001b[49m\u001b[43m,\u001b[49m\n\u001b[0;32m    465\u001b[0m \u001b[43m    \u001b[49m\u001b[43mparameters\u001b[49m\u001b[43m,\u001b[49m\n\u001b[0;32m    466\u001b[0m \u001b[43m    \u001b[49m\u001b[43mexecution_options\u001b[49m\u001b[38;5;241;43m=\u001b[39;49m\u001b[43mexecution_options\u001b[49m\u001b[43m,\u001b[49m\n\u001b[0;32m    467\u001b[0m \u001b[43m\u001b[49m\u001b[43m)\u001b[49m\n\u001b[0;32m    469\u001b[0m \u001b[38;5;28;01mif\u001b[39;00m cursor\u001b[38;5;241m.\u001b[39mreturns_rows:\n\u001b[0;32m    470\u001b[0m     \u001b[38;5;28;01mif\u001b[39;00m fetch \u001b[38;5;241m==\u001b[39m \u001b[38;5;124m\"\u001b[39m\u001b[38;5;124mall\u001b[39m\u001b[38;5;124m\"\u001b[39m:\n",
      "File \u001b[1;32mc:\\Users\\Prabal Kuinkel\\Desktop\\ARL-Intern\\privategpt\\privategpt\\Lib\\site-packages\\sqlalchemy\\engine\\base.py:1418\u001b[0m, in \u001b[0;36mConnection.execute\u001b[1;34m(self, statement, parameters, execution_options)\u001b[0m\n\u001b[0;32m   1416\u001b[0m     \u001b[38;5;28;01mraise\u001b[39;00m exc\u001b[38;5;241m.\u001b[39mObjectNotExecutableError(statement) \u001b[38;5;28;01mfrom\u001b[39;00m \u001b[38;5;21;01merr\u001b[39;00m\n\u001b[0;32m   1417\u001b[0m \u001b[38;5;28;01melse\u001b[39;00m:\n\u001b[1;32m-> 1418\u001b[0m     \u001b[38;5;28;01mreturn\u001b[39;00m \u001b[43mmeth\u001b[49m\u001b[43m(\u001b[49m\n\u001b[0;32m   1419\u001b[0m \u001b[43m        \u001b[49m\u001b[38;5;28;43mself\u001b[39;49m\u001b[43m,\u001b[49m\n\u001b[0;32m   1420\u001b[0m \u001b[43m        \u001b[49m\u001b[43mdistilled_parameters\u001b[49m\u001b[43m,\u001b[49m\n\u001b[0;32m   1421\u001b[0m \u001b[43m        \u001b[49m\u001b[43mexecution_options\u001b[49m\u001b[43m \u001b[49m\u001b[38;5;129;43;01mor\u001b[39;49;00m\u001b[43m \u001b[49m\u001b[43mNO_OPTIONS\u001b[49m\u001b[43m,\u001b[49m\n\u001b[0;32m   1422\u001b[0m \u001b[43m    \u001b[49m\u001b[43m)\u001b[49m\n",
      "File \u001b[1;32mc:\\Users\\Prabal Kuinkel\\Desktop\\ARL-Intern\\privategpt\\privategpt\\Lib\\site-packages\\sqlalchemy\\sql\\elements.py:515\u001b[0m, in \u001b[0;36mClauseElement._execute_on_connection\u001b[1;34m(self, connection, distilled_params, execution_options)\u001b[0m\n\u001b[0;32m    513\u001b[0m     \u001b[38;5;28;01mif\u001b[39;00m TYPE_CHECKING:\n\u001b[0;32m    514\u001b[0m         \u001b[38;5;28;01massert\u001b[39;00m \u001b[38;5;28misinstance\u001b[39m(\u001b[38;5;28mself\u001b[39m, Executable)\n\u001b[1;32m--> 515\u001b[0m     \u001b[38;5;28;01mreturn\u001b[39;00m \u001b[43mconnection\u001b[49m\u001b[38;5;241;43m.\u001b[39;49m\u001b[43m_execute_clauseelement\u001b[49m\u001b[43m(\u001b[49m\n\u001b[0;32m    516\u001b[0m \u001b[43m        \u001b[49m\u001b[38;5;28;43mself\u001b[39;49m\u001b[43m,\u001b[49m\u001b[43m \u001b[49m\u001b[43mdistilled_params\u001b[49m\u001b[43m,\u001b[49m\u001b[43m \u001b[49m\u001b[43mexecution_options\u001b[49m\n\u001b[0;32m    517\u001b[0m \u001b[43m    \u001b[49m\u001b[43m)\u001b[49m\n\u001b[0;32m    518\u001b[0m \u001b[38;5;28;01melse\u001b[39;00m:\n\u001b[0;32m    519\u001b[0m     \u001b[38;5;28;01mraise\u001b[39;00m exc\u001b[38;5;241m.\u001b[39mObjectNotExecutableError(\u001b[38;5;28mself\u001b[39m)\n",
      "File \u001b[1;32mc:\\Users\\Prabal Kuinkel\\Desktop\\ARL-Intern\\privategpt\\privategpt\\Lib\\site-packages\\sqlalchemy\\engine\\base.py:1640\u001b[0m, in \u001b[0;36mConnection._execute_clauseelement\u001b[1;34m(self, elem, distilled_parameters, execution_options)\u001b[0m\n\u001b[0;32m   1628\u001b[0m compiled_cache: Optional[CompiledCacheType] \u001b[38;5;241m=\u001b[39m execution_options\u001b[38;5;241m.\u001b[39mget(\n\u001b[0;32m   1629\u001b[0m     \u001b[38;5;124m\"\u001b[39m\u001b[38;5;124mcompiled_cache\u001b[39m\u001b[38;5;124m\"\u001b[39m, \u001b[38;5;28mself\u001b[39m\u001b[38;5;241m.\u001b[39mengine\u001b[38;5;241m.\u001b[39m_compiled_cache\n\u001b[0;32m   1630\u001b[0m )\n\u001b[0;32m   1632\u001b[0m compiled_sql, extracted_params, cache_hit \u001b[38;5;241m=\u001b[39m elem\u001b[38;5;241m.\u001b[39m_compile_w_cache(\n\u001b[0;32m   1633\u001b[0m     dialect\u001b[38;5;241m=\u001b[39mdialect,\n\u001b[0;32m   1634\u001b[0m     compiled_cache\u001b[38;5;241m=\u001b[39mcompiled_cache,\n\u001b[1;32m   (...)\u001b[0m\n\u001b[0;32m   1638\u001b[0m     linting\u001b[38;5;241m=\u001b[39m\u001b[38;5;28mself\u001b[39m\u001b[38;5;241m.\u001b[39mdialect\u001b[38;5;241m.\u001b[39mcompiler_linting \u001b[38;5;241m|\u001b[39m compiler\u001b[38;5;241m.\u001b[39mWARN_LINTING,\n\u001b[0;32m   1639\u001b[0m )\n\u001b[1;32m-> 1640\u001b[0m ret \u001b[38;5;241m=\u001b[39m \u001b[38;5;28;43mself\u001b[39;49m\u001b[38;5;241;43m.\u001b[39;49m\u001b[43m_execute_context\u001b[49m\u001b[43m(\u001b[49m\n\u001b[0;32m   1641\u001b[0m \u001b[43m    \u001b[49m\u001b[43mdialect\u001b[49m\u001b[43m,\u001b[49m\n\u001b[0;32m   1642\u001b[0m \u001b[43m    \u001b[49m\u001b[43mdialect\u001b[49m\u001b[38;5;241;43m.\u001b[39;49m\u001b[43mexecution_ctx_cls\u001b[49m\u001b[38;5;241;43m.\u001b[39;49m\u001b[43m_init_compiled\u001b[49m\u001b[43m,\u001b[49m\n\u001b[0;32m   1643\u001b[0m \u001b[43m    \u001b[49m\u001b[43mcompiled_sql\u001b[49m\u001b[43m,\u001b[49m\n\u001b[0;32m   1644\u001b[0m \u001b[43m    \u001b[49m\u001b[43mdistilled_parameters\u001b[49m\u001b[43m,\u001b[49m\n\u001b[0;32m   1645\u001b[0m \u001b[43m    \u001b[49m\u001b[43mexecution_options\u001b[49m\u001b[43m,\u001b[49m\n\u001b[0;32m   1646\u001b[0m \u001b[43m    \u001b[49m\u001b[43mcompiled_sql\u001b[49m\u001b[43m,\u001b[49m\n\u001b[0;32m   1647\u001b[0m \u001b[43m    \u001b[49m\u001b[43mdistilled_parameters\u001b[49m\u001b[43m,\u001b[49m\n\u001b[0;32m   1648\u001b[0m \u001b[43m    \u001b[49m\u001b[43melem\u001b[49m\u001b[43m,\u001b[49m\n\u001b[0;32m   1649\u001b[0m \u001b[43m    \u001b[49m\u001b[43mextracted_params\u001b[49m\u001b[43m,\u001b[49m\n\u001b[0;32m   1650\u001b[0m \u001b[43m    \u001b[49m\u001b[43mcache_hit\u001b[49m\u001b[38;5;241;43m=\u001b[39;49m\u001b[43mcache_hit\u001b[49m\u001b[43m,\u001b[49m\n\u001b[0;32m   1651\u001b[0m \u001b[43m\u001b[49m\u001b[43m)\u001b[49m\n\u001b[0;32m   1652\u001b[0m \u001b[38;5;28;01mif\u001b[39;00m has_events:\n\u001b[0;32m   1653\u001b[0m     \u001b[38;5;28mself\u001b[39m\u001b[38;5;241m.\u001b[39mdispatch\u001b[38;5;241m.\u001b[39mafter_execute(\n\u001b[0;32m   1654\u001b[0m         \u001b[38;5;28mself\u001b[39m,\n\u001b[0;32m   1655\u001b[0m         elem,\n\u001b[1;32m   (...)\u001b[0m\n\u001b[0;32m   1659\u001b[0m         ret,\n\u001b[0;32m   1660\u001b[0m     )\n",
      "File \u001b[1;32mc:\\Users\\Prabal Kuinkel\\Desktop\\ARL-Intern\\privategpt\\privategpt\\Lib\\site-packages\\sqlalchemy\\engine\\base.py:1846\u001b[0m, in \u001b[0;36mConnection._execute_context\u001b[1;34m(self, dialect, constructor, statement, parameters, execution_options, *args, **kw)\u001b[0m\n\u001b[0;32m   1844\u001b[0m     \u001b[38;5;28;01mreturn\u001b[39;00m \u001b[38;5;28mself\u001b[39m\u001b[38;5;241m.\u001b[39m_exec_insertmany_context(dialect, context)\n\u001b[0;32m   1845\u001b[0m \u001b[38;5;28;01melse\u001b[39;00m:\n\u001b[1;32m-> 1846\u001b[0m     \u001b[38;5;28;01mreturn\u001b[39;00m \u001b[38;5;28;43mself\u001b[39;49m\u001b[38;5;241;43m.\u001b[39;49m\u001b[43m_exec_single_context\u001b[49m\u001b[43m(\u001b[49m\n\u001b[0;32m   1847\u001b[0m \u001b[43m        \u001b[49m\u001b[43mdialect\u001b[49m\u001b[43m,\u001b[49m\u001b[43m \u001b[49m\u001b[43mcontext\u001b[49m\u001b[43m,\u001b[49m\u001b[43m \u001b[49m\u001b[43mstatement\u001b[49m\u001b[43m,\u001b[49m\u001b[43m \u001b[49m\u001b[43mparameters\u001b[49m\n\u001b[0;32m   1848\u001b[0m \u001b[43m    \u001b[49m\u001b[43m)\u001b[49m\n",
      "File \u001b[1;32mc:\\Users\\Prabal Kuinkel\\Desktop\\ARL-Intern\\privategpt\\privategpt\\Lib\\site-packages\\sqlalchemy\\engine\\base.py:1986\u001b[0m, in \u001b[0;36mConnection._exec_single_context\u001b[1;34m(self, dialect, context, statement, parameters)\u001b[0m\n\u001b[0;32m   1983\u001b[0m     result \u001b[38;5;241m=\u001b[39m context\u001b[38;5;241m.\u001b[39m_setup_result_proxy()\n\u001b[0;32m   1985\u001b[0m \u001b[38;5;28;01mexcept\u001b[39;00m \u001b[38;5;167;01mBaseException\u001b[39;00m \u001b[38;5;28;01mas\u001b[39;00m e:\n\u001b[1;32m-> 1986\u001b[0m     \u001b[38;5;28;43mself\u001b[39;49m\u001b[38;5;241;43m.\u001b[39;49m\u001b[43m_handle_dbapi_exception\u001b[49m\u001b[43m(\u001b[49m\n\u001b[0;32m   1987\u001b[0m \u001b[43m        \u001b[49m\u001b[43me\u001b[49m\u001b[43m,\u001b[49m\u001b[43m \u001b[49m\u001b[43mstr_statement\u001b[49m\u001b[43m,\u001b[49m\u001b[43m \u001b[49m\u001b[43meffective_parameters\u001b[49m\u001b[43m,\u001b[49m\u001b[43m \u001b[49m\u001b[43mcursor\u001b[49m\u001b[43m,\u001b[49m\u001b[43m \u001b[49m\u001b[43mcontext\u001b[49m\n\u001b[0;32m   1988\u001b[0m \u001b[43m    \u001b[49m\u001b[43m)\u001b[49m\n\u001b[0;32m   1990\u001b[0m \u001b[38;5;28;01mreturn\u001b[39;00m result\n",
      "File \u001b[1;32mc:\\Users\\Prabal Kuinkel\\Desktop\\ARL-Intern\\privategpt\\privategpt\\Lib\\site-packages\\sqlalchemy\\engine\\base.py:2353\u001b[0m, in \u001b[0;36mConnection._handle_dbapi_exception\u001b[1;34m(self, e, statement, parameters, cursor, context, is_sub_exec)\u001b[0m\n\u001b[0;32m   2351\u001b[0m \u001b[38;5;28;01melif\u001b[39;00m should_wrap:\n\u001b[0;32m   2352\u001b[0m     \u001b[38;5;28;01massert\u001b[39;00m sqlalchemy_exception \u001b[38;5;129;01mis\u001b[39;00m \u001b[38;5;129;01mnot\u001b[39;00m \u001b[38;5;28;01mNone\u001b[39;00m\n\u001b[1;32m-> 2353\u001b[0m     \u001b[38;5;28;01mraise\u001b[39;00m sqlalchemy_exception\u001b[38;5;241m.\u001b[39mwith_traceback(exc_info[\u001b[38;5;241m2\u001b[39m]) \u001b[38;5;28;01mfrom\u001b[39;00m \u001b[38;5;21;01me\u001b[39;00m\n\u001b[0;32m   2354\u001b[0m \u001b[38;5;28;01melse\u001b[39;00m:\n\u001b[0;32m   2355\u001b[0m     \u001b[38;5;28;01massert\u001b[39;00m exc_info[\u001b[38;5;241m1\u001b[39m] \u001b[38;5;129;01mis\u001b[39;00m \u001b[38;5;129;01mnot\u001b[39;00m \u001b[38;5;28;01mNone\u001b[39;00m\n",
      "File \u001b[1;32mc:\\Users\\Prabal Kuinkel\\Desktop\\ARL-Intern\\privategpt\\privategpt\\Lib\\site-packages\\sqlalchemy\\engine\\base.py:1967\u001b[0m, in \u001b[0;36mConnection._exec_single_context\u001b[1;34m(self, dialect, context, statement, parameters)\u001b[0m\n\u001b[0;32m   1965\u001b[0m                 \u001b[38;5;28;01mbreak\u001b[39;00m\n\u001b[0;32m   1966\u001b[0m     \u001b[38;5;28;01mif\u001b[39;00m \u001b[38;5;129;01mnot\u001b[39;00m evt_handled:\n\u001b[1;32m-> 1967\u001b[0m         \u001b[38;5;28;43mself\u001b[39;49m\u001b[38;5;241;43m.\u001b[39;49m\u001b[43mdialect\u001b[49m\u001b[38;5;241;43m.\u001b[39;49m\u001b[43mdo_execute\u001b[49m\u001b[43m(\u001b[49m\n\u001b[0;32m   1968\u001b[0m \u001b[43m            \u001b[49m\u001b[43mcursor\u001b[49m\u001b[43m,\u001b[49m\u001b[43m \u001b[49m\u001b[43mstr_statement\u001b[49m\u001b[43m,\u001b[49m\u001b[43m \u001b[49m\u001b[43meffective_parameters\u001b[49m\u001b[43m,\u001b[49m\u001b[43m \u001b[49m\u001b[43mcontext\u001b[49m\n\u001b[0;32m   1969\u001b[0m \u001b[43m        \u001b[49m\u001b[43m)\u001b[49m\n\u001b[0;32m   1971\u001b[0m \u001b[38;5;28;01mif\u001b[39;00m \u001b[38;5;28mself\u001b[39m\u001b[38;5;241m.\u001b[39m_has_events \u001b[38;5;129;01mor\u001b[39;00m \u001b[38;5;28mself\u001b[39m\u001b[38;5;241m.\u001b[39mengine\u001b[38;5;241m.\u001b[39m_has_events:\n\u001b[0;32m   1972\u001b[0m     \u001b[38;5;28mself\u001b[39m\u001b[38;5;241m.\u001b[39mdispatch\u001b[38;5;241m.\u001b[39mafter_cursor_execute(\n\u001b[0;32m   1973\u001b[0m         \u001b[38;5;28mself\u001b[39m,\n\u001b[0;32m   1974\u001b[0m         cursor,\n\u001b[1;32m   (...)\u001b[0m\n\u001b[0;32m   1978\u001b[0m         context\u001b[38;5;241m.\u001b[39mexecutemany,\n\u001b[0;32m   1979\u001b[0m     )\n",
      "File \u001b[1;32mc:\\Users\\Prabal Kuinkel\\Desktop\\ARL-Intern\\privategpt\\privategpt\\Lib\\site-packages\\sqlalchemy\\engine\\default.py:924\u001b[0m, in \u001b[0;36mDefaultDialect.do_execute\u001b[1;34m(self, cursor, statement, parameters, context)\u001b[0m\n\u001b[0;32m    923\u001b[0m \u001b[38;5;28;01mdef\u001b[39;00m \u001b[38;5;21mdo_execute\u001b[39m(\u001b[38;5;28mself\u001b[39m, cursor, statement, parameters, context\u001b[38;5;241m=\u001b[39m\u001b[38;5;28;01mNone\u001b[39;00m):\n\u001b[1;32m--> 924\u001b[0m     \u001b[43mcursor\u001b[49m\u001b[38;5;241;43m.\u001b[39;49m\u001b[43mexecute\u001b[49m\u001b[43m(\u001b[49m\u001b[43mstatement\u001b[49m\u001b[43m,\u001b[49m\u001b[43m \u001b[49m\u001b[43mparameters\u001b[49m\u001b[43m)\u001b[49m\n",
      "File \u001b[1;32mc:\\Users\\Prabal Kuinkel\\Desktop\\ARL-Intern\\privategpt\\privategpt\\Lib\\site-packages\\pymysql\\cursors.py:153\u001b[0m, in \u001b[0;36mCursor.execute\u001b[1;34m(self, query, args)\u001b[0m\n\u001b[0;32m    149\u001b[0m     \u001b[38;5;28;01mpass\u001b[39;00m\n\u001b[0;32m    151\u001b[0m query \u001b[38;5;241m=\u001b[39m \u001b[38;5;28mself\u001b[39m\u001b[38;5;241m.\u001b[39mmogrify(query, args)\n\u001b[1;32m--> 153\u001b[0m result \u001b[38;5;241m=\u001b[39m \u001b[38;5;28;43mself\u001b[39;49m\u001b[38;5;241;43m.\u001b[39;49m\u001b[43m_query\u001b[49m\u001b[43m(\u001b[49m\u001b[43mquery\u001b[49m\u001b[43m)\u001b[49m\n\u001b[0;32m    154\u001b[0m \u001b[38;5;28mself\u001b[39m\u001b[38;5;241m.\u001b[39m_executed \u001b[38;5;241m=\u001b[39m query\n\u001b[0;32m    155\u001b[0m \u001b[38;5;28;01mreturn\u001b[39;00m result\n",
      "File \u001b[1;32mc:\\Users\\Prabal Kuinkel\\Desktop\\ARL-Intern\\privategpt\\privategpt\\Lib\\site-packages\\pymysql\\cursors.py:322\u001b[0m, in \u001b[0;36mCursor._query\u001b[1;34m(self, q)\u001b[0m\n\u001b[0;32m    320\u001b[0m conn \u001b[38;5;241m=\u001b[39m \u001b[38;5;28mself\u001b[39m\u001b[38;5;241m.\u001b[39m_get_db()\n\u001b[0;32m    321\u001b[0m \u001b[38;5;28mself\u001b[39m\u001b[38;5;241m.\u001b[39m_clear_result()\n\u001b[1;32m--> 322\u001b[0m \u001b[43mconn\u001b[49m\u001b[38;5;241;43m.\u001b[39;49m\u001b[43mquery\u001b[49m\u001b[43m(\u001b[49m\u001b[43mq\u001b[49m\u001b[43m)\u001b[49m\n\u001b[0;32m    323\u001b[0m \u001b[38;5;28mself\u001b[39m\u001b[38;5;241m.\u001b[39m_do_get_result()\n\u001b[0;32m    324\u001b[0m \u001b[38;5;28;01mreturn\u001b[39;00m \u001b[38;5;28mself\u001b[39m\u001b[38;5;241m.\u001b[39mrowcount\n",
      "File \u001b[1;32mc:\\Users\\Prabal Kuinkel\\Desktop\\ARL-Intern\\privategpt\\privategpt\\Lib\\site-packages\\pymysql\\connections.py:563\u001b[0m, in \u001b[0;36mConnection.query\u001b[1;34m(self, sql, unbuffered)\u001b[0m\n\u001b[0;32m    561\u001b[0m     sql \u001b[38;5;241m=\u001b[39m sql\u001b[38;5;241m.\u001b[39mencode(\u001b[38;5;28mself\u001b[39m\u001b[38;5;241m.\u001b[39mencoding, \u001b[38;5;124m\"\u001b[39m\u001b[38;5;124msurrogateescape\u001b[39m\u001b[38;5;124m\"\u001b[39m)\n\u001b[0;32m    562\u001b[0m \u001b[38;5;28mself\u001b[39m\u001b[38;5;241m.\u001b[39m_execute_command(COMMAND\u001b[38;5;241m.\u001b[39mCOM_QUERY, sql)\n\u001b[1;32m--> 563\u001b[0m \u001b[38;5;28mself\u001b[39m\u001b[38;5;241m.\u001b[39m_affected_rows \u001b[38;5;241m=\u001b[39m \u001b[38;5;28;43mself\u001b[39;49m\u001b[38;5;241;43m.\u001b[39;49m\u001b[43m_read_query_result\u001b[49m\u001b[43m(\u001b[49m\u001b[43munbuffered\u001b[49m\u001b[38;5;241;43m=\u001b[39;49m\u001b[43munbuffered\u001b[49m\u001b[43m)\u001b[49m\n\u001b[0;32m    564\u001b[0m \u001b[38;5;28;01mreturn\u001b[39;00m \u001b[38;5;28mself\u001b[39m\u001b[38;5;241m.\u001b[39m_affected_rows\n",
      "File \u001b[1;32mc:\\Users\\Prabal Kuinkel\\Desktop\\ARL-Intern\\privategpt\\privategpt\\Lib\\site-packages\\pymysql\\connections.py:825\u001b[0m, in \u001b[0;36mConnection._read_query_result\u001b[1;34m(self, unbuffered)\u001b[0m\n\u001b[0;32m    823\u001b[0m \u001b[38;5;28;01melse\u001b[39;00m:\n\u001b[0;32m    824\u001b[0m     result \u001b[38;5;241m=\u001b[39m MySQLResult(\u001b[38;5;28mself\u001b[39m)\n\u001b[1;32m--> 825\u001b[0m     \u001b[43mresult\u001b[49m\u001b[38;5;241;43m.\u001b[39;49m\u001b[43mread\u001b[49m\u001b[43m(\u001b[49m\u001b[43m)\u001b[49m\n\u001b[0;32m    826\u001b[0m \u001b[38;5;28mself\u001b[39m\u001b[38;5;241m.\u001b[39m_result \u001b[38;5;241m=\u001b[39m result\n\u001b[0;32m    827\u001b[0m \u001b[38;5;28;01mif\u001b[39;00m result\u001b[38;5;241m.\u001b[39mserver_status \u001b[38;5;129;01mis\u001b[39;00m \u001b[38;5;129;01mnot\u001b[39;00m \u001b[38;5;28;01mNone\u001b[39;00m:\n",
      "File \u001b[1;32mc:\\Users\\Prabal Kuinkel\\Desktop\\ARL-Intern\\privategpt\\privategpt\\Lib\\site-packages\\pymysql\\connections.py:1199\u001b[0m, in \u001b[0;36mMySQLResult.read\u001b[1;34m(self)\u001b[0m\n\u001b[0;32m   1197\u001b[0m \u001b[38;5;28;01mdef\u001b[39;00m \u001b[38;5;21mread\u001b[39m(\u001b[38;5;28mself\u001b[39m):\n\u001b[0;32m   1198\u001b[0m     \u001b[38;5;28;01mtry\u001b[39;00m:\n\u001b[1;32m-> 1199\u001b[0m         first_packet \u001b[38;5;241m=\u001b[39m \u001b[38;5;28;43mself\u001b[39;49m\u001b[38;5;241;43m.\u001b[39;49m\u001b[43mconnection\u001b[49m\u001b[38;5;241;43m.\u001b[39;49m\u001b[43m_read_packet\u001b[49m\u001b[43m(\u001b[49m\u001b[43m)\u001b[49m\n\u001b[0;32m   1201\u001b[0m         \u001b[38;5;28;01mif\u001b[39;00m first_packet\u001b[38;5;241m.\u001b[39mis_ok_packet():\n\u001b[0;32m   1202\u001b[0m             \u001b[38;5;28mself\u001b[39m\u001b[38;5;241m.\u001b[39m_read_ok_packet(first_packet)\n",
      "File \u001b[1;32mc:\\Users\\Prabal Kuinkel\\Desktop\\ARL-Intern\\privategpt\\privategpt\\Lib\\site-packages\\pymysql\\connections.py:775\u001b[0m, in \u001b[0;36mConnection._read_packet\u001b[1;34m(self, packet_type)\u001b[0m\n\u001b[0;32m    773\u001b[0m     \u001b[38;5;28;01mif\u001b[39;00m \u001b[38;5;28mself\u001b[39m\u001b[38;5;241m.\u001b[39m_result \u001b[38;5;129;01mis\u001b[39;00m \u001b[38;5;129;01mnot\u001b[39;00m \u001b[38;5;28;01mNone\u001b[39;00m \u001b[38;5;129;01mand\u001b[39;00m \u001b[38;5;28mself\u001b[39m\u001b[38;5;241m.\u001b[39m_result\u001b[38;5;241m.\u001b[39munbuffered_active \u001b[38;5;129;01mis\u001b[39;00m \u001b[38;5;28;01mTrue\u001b[39;00m:\n\u001b[0;32m    774\u001b[0m         \u001b[38;5;28mself\u001b[39m\u001b[38;5;241m.\u001b[39m_result\u001b[38;5;241m.\u001b[39munbuffered_active \u001b[38;5;241m=\u001b[39m \u001b[38;5;28;01mFalse\u001b[39;00m\n\u001b[1;32m--> 775\u001b[0m     \u001b[43mpacket\u001b[49m\u001b[38;5;241;43m.\u001b[39;49m\u001b[43mraise_for_error\u001b[49m\u001b[43m(\u001b[49m\u001b[43m)\u001b[49m\n\u001b[0;32m    776\u001b[0m \u001b[38;5;28;01mreturn\u001b[39;00m packet\n",
      "File \u001b[1;32mc:\\Users\\Prabal Kuinkel\\Desktop\\ARL-Intern\\privategpt\\privategpt\\Lib\\site-packages\\pymysql\\protocol.py:219\u001b[0m, in \u001b[0;36mMysqlPacket.raise_for_error\u001b[1;34m(self)\u001b[0m\n\u001b[0;32m    217\u001b[0m \u001b[38;5;28;01mif\u001b[39;00m DEBUG:\n\u001b[0;32m    218\u001b[0m     \u001b[38;5;28mprint\u001b[39m(\u001b[38;5;124m\"\u001b[39m\u001b[38;5;124merrno =\u001b[39m\u001b[38;5;124m\"\u001b[39m, errno)\n\u001b[1;32m--> 219\u001b[0m \u001b[43merr\u001b[49m\u001b[38;5;241;43m.\u001b[39;49m\u001b[43mraise_mysql_exception\u001b[49m\u001b[43m(\u001b[49m\u001b[38;5;28;43mself\u001b[39;49m\u001b[38;5;241;43m.\u001b[39;49m\u001b[43m_data\u001b[49m\u001b[43m)\u001b[49m\n",
      "File \u001b[1;32mc:\\Users\\Prabal Kuinkel\\Desktop\\ARL-Intern\\privategpt\\privategpt\\Lib\\site-packages\\pymysql\\err.py:150\u001b[0m, in \u001b[0;36mraise_mysql_exception\u001b[1;34m(data)\u001b[0m\n\u001b[0;32m    148\u001b[0m \u001b[38;5;28;01mif\u001b[39;00m errorclass \u001b[38;5;129;01mis\u001b[39;00m \u001b[38;5;28;01mNone\u001b[39;00m:\n\u001b[0;32m    149\u001b[0m     errorclass \u001b[38;5;241m=\u001b[39m InternalError \u001b[38;5;28;01mif\u001b[39;00m errno \u001b[38;5;241m<\u001b[39m \u001b[38;5;241m1000\u001b[39m \u001b[38;5;28;01melse\u001b[39;00m OperationalError\n\u001b[1;32m--> 150\u001b[0m \u001b[38;5;28;01mraise\u001b[39;00m errorclass(errno, errval)\n",
      "\u001b[1;31mOperationalError\u001b[0m: (pymysql.err.OperationalError) (1054, \"Unknown column 'Value_amount' in 'field list'\")\n[SQL: SELECT Balance_amount - Value_amount AS Savings FROM transactions WHERE YEAR(Value_date) = YEAR(CURRENT_DATE()) AND MONTH(Value_date) = MONTH(CURRENT_DATE()) - 1]\n(Background on this error at: https://sqlalche.me/e/20/e3q8)"
     ]
    }
   ],
   "source": [
    "if response==True:\n",
    "    result=new_chain(user_question)\n",
    "else:\n",
    "    print(response)"
   ]
  },
  {
   "cell_type": "code",
   "execution_count": null,
   "metadata": {},
   "outputs": [],
   "source": [
    "print(result)"
   ]
  },
  {
   "cell_type": "code",
   "execution_count": null,
   "metadata": {},
   "outputs": [],
   "source": []
  }
 ],
 "metadata": {
  "kernelspec": {
   "display_name": "privategpt",
   "language": "python",
   "name": "python3"
  },
  "language_info": {
   "codemirror_mode": {
    "name": "ipython",
    "version": 3
   },
   "file_extension": ".py",
   "mimetype": "text/x-python",
   "name": "python",
   "nbconvert_exporter": "python",
   "pygments_lexer": "ipython3",
   "version": "3.11.7"
  }
 },
 "nbformat": 4,
 "nbformat_minor": 2
}

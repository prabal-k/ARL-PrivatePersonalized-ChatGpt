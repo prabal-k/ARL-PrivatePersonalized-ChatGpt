{
 "cells": [
  {
   "cell_type": "code",
   "execution_count": 1,
   "metadata": {},
   "outputs": [],
   "source": [
    "from langchain.llms import CTransformers  # to load the llama2 model"
   ]
  },
  {
   "cell_type": "code",
   "execution_count": 2,
   "metadata": {},
   "outputs": [
    {
     "name": "stderr",
     "output_type": "stream",
     "text": [
      "c:\\Users\\Prabal Kuinkel\\Desktop\\ARL-Intern\\privategpt\\privategpt\\Lib\\site-packages\\tqdm\\auto.py:21: TqdmWarning: IProgress not found. Please update jupyter and ipywidgets. See https://ipywidgets.readthedocs.io/en/stable/user_install.html\n",
      "  from .autonotebook import tqdm as notebook_tqdm\n"
     ]
    }
   ],
   "source": [
    "llm = CTransformers(model=\"model\\Llama2-nl-sql2.gguf\",\n",
    "                        model_type=\"llama\", config={'max_new_tokens':3990,'temperature': 0.6,'context_length': 3990})"
   ]
  },
  {
   "cell_type": "code",
   "execution_count": 3,
   "metadata": {},
   "outputs": [],
   "source": [
    "# llm(\" Please write me a SQL statement that answers the following question: How many transactions did I make this month \")"
   ]
  },
  {
   "cell_type": "code",
   "execution_count": 4,
   "metadata": {},
   "outputs": [
    {
     "name": "stdout",
     "output_type": "stream",
     "text": [
      "\n",
      "CREATE TABLE transactions (\n",
      "\t`Account_No` VARCHAR(50) NOT NULL, \n",
      "\t`Transaction_details` TEXT, \n",
      "\t`Withdrawal_amount` INTEGER, \n",
      "\t`Deposit_amount` INTEGER, \n",
      "\t`Balance_amount` INTEGER, \n",
      "\t`Value_date` DATE, \n",
      "\t`Date` DATE\n",
      ")ENGINE=InnoDB COLLATE utf8mb4_0900_ai_ci DEFAULT CHARSET=utf8mb4\n",
      "\n",
      "/*\n",
      "3 rows from transactions table:\n",
      "Account_No\tTransaction_details\tWithdrawal_amount\tDeposit_amount\tBalance_amount\tValue_date\tDate\n",
      "409000611074'\tTRF FROM  Indiaforensic SERVICES\t0\t1000000\t1000000\t2022-10-21\t2022-10-21\n",
      "409000611074'\tTRF FROM  Indiaforensic SERVICES\t0\t1000000\t2000000\t2022-10-27\t2022-10-27\n",
      "409000611074'\tFDRL/INTERNAL FUND TRANSFE\t0\t500000\t2500000\t2022-11-09\t2022-11-09\n",
      "*/\n"
     ]
    }
   ],
   "source": [
    "from langchain_community.utilities import SQLDatabase\n",
    "\n",
    "\n",
    "# MySQL connection URI\n",
    "username = 'root'\n",
    "password = 'prabal9869'\n",
    "host = '127.0.0.1'\n",
    "dbname = 'arl_bank'  # Database name\n",
    "\n",
    "# Constructing the MySQL URI\n",
    "mysql_uri = f\"mysql+pymysql://{username}:{password}@{host}/{dbname}\"\n",
    "\n",
    "# # Initializing SQLDatabase object for MySQL\n",
    "db = SQLDatabase.from_uri(mysql_uri, sample_rows_in_table_info=3)\n",
    "print(db.table_info)"
   ]
  },
  {
   "cell_type": "code",
   "execution_count": 5,
   "metadata": {},
   "outputs": [],
   "source": [
    "from langchain_experimental.sql import SQLDatabaseChain\n",
    "\n",
    "db_chain = SQLDatabaseChain.from_llm(llm=llm,db=db,verbose=True)\n"
   ]
  },
  {
   "cell_type": "markdown",
   "metadata": {},
   "source": [
    "# FEW SHORT LEARNING"
   ]
  },
  {
   "cell_type": "code",
   "execution_count": 6,
   "metadata": {},
   "outputs": [],
   "source": [
    "#Few_shorts\n",
    "\n",
    "few_shots=[\n",
    "    {\n",
    "        'Question':\" Income of last 3 months. ?\",\n",
    "        'SQLQuery':\"\"\"SELECT SUM(Deposit_amount) AS Total_Income FROM transactions WHERE Value_date >= DATE_SUB(CURRENT_DATE(), INTERVAL 3 MONTH) \"\"\",\n",
    "        'SQLResult':\"1530205868\",\n",
    "        'Answer':\"1530205868 is the income of last 3 months.\"\n",
    "    }\n",
    "    ,\n",
    "\n",
    "    {\n",
    "        'Question':\"Total expenses/spendings of last 8 months ?\",\n",
    "        'SQLQuery':\"\"\"SELECT SUM(Withdrawal_amount) AS Total_Expenses FROM transactions WHERE Value_date >= DATE_SUB(CURRENT_DATE(), INTERVAL 8 MONTH) \"\"\",\n",
    "        'SQLResult':\"11274528407\",\n",
    "        'Answer':\"11274528407 is the total expenses of last 8 months.\"\n",
    "    }\n",
    "    ,\n",
    "      {\n",
    "        'Question':\"Total saving of last month as my account number is 409000493201'  ?\",\n",
    "        'SQLQuery':\"\"\"SELECT (SUM(Deposit_amount) - SUM(Withdrawal_amount)) AS Savings_Last_Month FROM \n",
    "transactions WHERE Account_No = \"409000493201'\" AND YEAR(Value_date) = YEAR(CURRENT_DATE() \n",
    "- INTERVAL 1 MONTH) AND MONTH(Value_date) = MONTH(CURRENT_DATE() - INTERVAL 1 MONTH);\n",
    "        \"\"\",\n",
    "        'SQLResult':\"-193509\",\n",
    "        'Answer':\"You lost -193509 last month.\"\n",
    "    }\n",
    ",\n",
    "    {\n",
    "        'Question':\"How many transactions did I make in last 2 week  \",\n",
    "        'SQLQuery':\"\"\"SELECT COUNT(*) AS Total_Transactions FROM transactions WHERE Value_date >= DATE_SUB(CURRENT_DATE(), INTERVAL 2 WEEK) \"\"\",\n",
    "        'SQLResult':\"162\",\n",
    "        'Answer':\"You made 162 transactions in last 2 week.\"\n",
    "    },\n",
    "     {\n",
    "        'Question':\"Amount spent last week \",\n",
    "        'SQLQuery':\"\"\"SELECT SUM(Withdrawal_amount) AS Total_Spending FROM transactions WHERE Value_date >= DATE_SUB(CURRENT_DATE(), INTERVAL 1 WEEK) \"\"\",\n",
    "        'SQLResult':\"\",\n",
    "        'Answer':\"0 is your total spending last week.\"\n",
    "    }\n",
    "    , {\n",
    "        'Question': \"Expenses for each day this month ?\",\n",
    "        'SQLQuery': \"\"\"SELECT Date, SUM(Withdrawal_amount) AS Total_Expenses FROM transactions WHERE YEAR(Value_date) = YEAR(CURRENT_DATE()) AND MONTH(Value_date) = MONTH(CURRENT_DATE()) GROUP BY Date \"\"\",\n",
    "        'SQLResult':\n",
    "        \"\"\"\n",
    "Date                        Total_Expenses\n",
    "2024-06-02                   183648\n",
    "2024-06-03                   80666\n",
    "2024-06-04                   135504\n",
    "2024-06-05                   92031\n",
    "2024-06-06                   118475\n",
    "2024-06-07                   16440\n",
    "2024-06-09                   62112\n",
    "2024-06-10                   10331\n",
    "\"\"\"\n",
    "        ,\n",
    "        'Answer': \"\"\"The total_expenses is 183648,80666,135504,92031,118475,16440,62112,10331 for the year 2024 month of 6 and date 02,03,04,05,06,07,09 and 10.  \"\"\"         \n",
    "    },\n",
    "    {\n",
    "        'Question':\"savings of previous year for each month \",\n",
    "        'SQLQuery':\"\"\"SELECT MONTH(Value_date) AS Month, (SUM(Deposit_amount) - SUM(Withdrawal_amount)) AS Total_Savings FROM transactions WHERE YEAR(Value_date) = YEAR(CURRENT_DATE() - INTERVAL 1 YEAR) GROUP BY MONTH(Value_date) ORDER BY MONTH(Value_date) \"\"\",\n",
    "        'SQLResult':\"\"\"\n",
    "        Date                Total_Expenses\n",
    "        1                       -311244\n",
    "        2                          9101\n",
    "        3                         3476          \n",
    "        4                       -15971\n",
    "        5                       322249\n",
    "        6                       -172560\n",
    "        7                       361471\n",
    "        8                       -446844\n",
    "        9                       93215\n",
    "        10                      -73917\n",
    "        11                      294502\n",
    "        12                      -404028\"\"\",\n",
    "        'Answer':\"Month-1:-311244, Month-2:9101, Month-3:3476\"\n",
    "    },\n",
    "     {\n",
    "        'Question':\"Amount Saved each year\",\n",
    "        'SQLQuery':\"\"\"SELECT YEAR(Value_date) AS Year,SUM(Deposit_amount) - SUM(Withdrawal_amount) AS Savings FROM transactions GROUP BY YEAR(Value_date) \"\"\",\n",
    "        'SQLResult':\"\"\"\n",
    "        Year                Savings\n",
    "        2021                 497766\n",
    "        2022                 272458 \n",
    "        2023                 -340550          \n",
    "        2024                 -148114\n",
    "       \"\"\",\n",
    "        'Answer':\"You saved 497766 in 2021 ,272458 in 2022, -340550 in 2023 and -148114 in 2024.\"\n",
    "    }\n",
    "    ,\n",
    "     {\n",
    "        'Question':\"Savings of last 2 year  \",\n",
    "        'SQLQuery':\"\"\"SELECT YEAR(Value_date) AS Year, SUM(Deposit_amount) - SUM(Withdrawal_amount) AS Net_Savings FROM transactions WHERE Value_date >= DATE_SUB(CURRENT_DATE(), INTERVAL 2 YEAR) GROUP BY YEAR(Value_date) \"\"\",\n",
    "        'SQLResult':\"\"\"\n",
    "        Year                Savings\n",
    "        2022                 2270453\n",
    "        2023                 -895783          \n",
    "        2024                 -912470\n",
    "        \"\"\",\n",
    "        'Answer':\"You saved 2270453 in 2022, -89578 in 2023 and -912470 in 2024.\"\n",
    "    }\n",
    "    ,\n",
    "     {\n",
    "        'Question':\"Expenses of each day of last week  \",\n",
    "        'SQLQuery':\"\"\"SELECT DATE(Value_date) AS Date, SUM(Withdrawal_amount) AS Total_Spending FROM transactions WHERE Value_date >= DATE_SUB(CURDATE(), INTERVAL 1 WEEK) GROUP BY DATE(Value_date) \"\"\",\n",
    "        'SQLResult':\"\"\"\n",
    "        Year                Savings\n",
    "        2024-06-06           118475\n",
    "        2024-06-07           16440         \n",
    "        2024-06-09           62112\n",
    "        2024-06-10           10331\n",
    "\n",
    "        \"\"\",\n",
    "        'Answer':\"You spend 118475,16440,62112,10331.\"\n",
    "    },\n",
    "    {\n",
    "        'Question':\"Amount spent this year ?\",\n",
    "        'SQLQuery':\"\"\"SELECT year(Value_date) as Year,sum(Withdrawal_amount) AS Total_Expenses FROM transactions WHERE year(Value_date) = year(curdate()) group by year(Value_date) \"\"\",\n",
    "        'SQLResult':\"\"\"\n",
    "        Year                Total_Expenses\n",
    "       2024                    6527128485\n",
    "        \"\"\",\n",
    "        'Answer':\"You spent 36616174 this year.\"\n",
    "    },\n",
    "    {\n",
    "        'Question':\"amount/money saved each month previous year ?\",\n",
    "        'SQLQuery':\"\"\"SELECT YEAR(Value_date) AS Year, MONTH(Value_date) AS Month, SUM(Deposit_amount) - SUM(Withdrawal_amount) AS Savings FROM transactions WHERE YEAR(Value_date) = YEAR(CURRENT_DATE - INTERVAL 1 YEAR) GROUP BY YEAR(Value_date), MONTH(Value_date) \"\"\",\n",
    "        'SQLResult':\"\"\"\n",
    "        Year            Month              Savings\n",
    "       2023              1                  -311244\n",
    "       2023             2                       9101\n",
    "       2023             3                       3476    \n",
    "       2023             4                       -15971\n",
    "       2023             5                       322249\n",
    "       2023             6                       -172560\n",
    "        2023             7                   361471\n",
    "       2023             8                       -446844\n",
    "       2023             9                       93215    \n",
    "       2023             10                       -73917\n",
    "       2023            11                       294502\n",
    "       2023             12                       -404028\n",
    "        \"\"\",\n",
    "        'Answer':\"You lost 311244 in month 1 ,saved 9101,3476 in month 2 and month 3  previous year.\"\n",
    "    }\n",
    "     ,\n",
    "      {\n",
    "        'Question':\"income of the previous year \",\n",
    "        'SQLQuery':\"\"\"SELECT SUM(Deposit_amount) AS Total_Income FROM transactions WHERE YEAR(Value_date) = YEAR(CURRENT_DATE) - 1 \"\"\",\n",
    "        'SQLResult':\"38593214103\",\n",
    "        'Answer':\"Your income previous ysear was 38593214103.\"\n",
    "    }\n",
    "    ,\n",
    "      {\n",
    "        'Question':\"income of the first 4 month of previous year \",\n",
    "        'SQLQuery':\"\"\"SELECT SUM(Deposit_amount) AS Total_Income FROM transactions WHERE MONTH(Value_date) IN (1,2,3,4) AND YEAR(Value_date) = YEAR(CURRENT_DATE) - 1 \"\"\",\n",
    "        'SQLResult':\"17847505444\",\n",
    "        'Answer':\"Your income of first 4 month of previous year was 17847505444.\"\n",
    "    },\n",
    "    {\n",
    "    'Question': \"amount I lost each year?\",\n",
    "    'SQLQuery': \"\"\"\n",
    "                SELECT YEAR(Value_date) AS Year,SUM(Withdrawal_amount) - SUM(Deposit_amount) AS Losses \n",
    "                FROM transactions \n",
    "                GROUP BY YEAR(Value_date);\n",
    "                \"\"\",\n",
    "    'SQLResult': \"\"\"[\n",
    "        (2022, Decimal('211175202')),\n",
    "        (2023, Decimal('575324140')),\n",
    "        (2024, Decimal('490771857')),\n",
    "        (2021, Decimal('906602921')),\n",
    "        (2020, Decimal('1076993185'))\n",
    "\n",
    "    ]\"\"\"\n",
    "    ,\n",
    "    'Answer': \"You lost 497766 in 2021, 272458 in 2022, -340550 in 2023, and -148114 in 2024.\"\n",
    "}\n",
    "\n",
    "]\n",
    "\n"
   ]
  },
  {
   "cell_type": "code",
   "execution_count": 7,
   "metadata": {},
   "outputs": [],
   "source": [
    "# # Define a function to transform the few_shots into the desired format\n",
    "# import json\n",
    "# def transform_few_shots(few_shots):\n",
    "#     transformed = []\n",
    "#     for shot in few_shots:\n",
    "#         input_text = shot['Question']\n",
    "#         output_text = shot['Answer']\n",
    "#         reformatted_text = f'<s>[INST] {input_text} [/INST] {output_text} </s>'\n",
    "#         transformed.append({'text': reformatted_text})\n",
    "#     return transformed\n",
    "\n",
    "# # Transform the few_shots\n",
    "# transformed_few_shots = transform_few_shots(few_shots)\n",
    "\n",
    "# # Save the transformed few_shots to a file\n",
    "# with open('transformed_few_shots.json', 'w') as f:\n",
    "#     json.dump(transformed_few_shots, f, indent=4)"
   ]
  },
  {
   "cell_type": "code",
   "execution_count": 8,
   "metadata": {},
   "outputs": [
    {
     "name": "stderr",
     "output_type": "stream",
     "text": [
      "c:\\Users\\Prabal Kuinkel\\Desktop\\ARL-Intern\\privategpt\\privategpt\\Lib\\site-packages\\langchain_core\\_api\\deprecation.py:119: LangChainDeprecationWarning: The class `HuggingFaceEmbeddings` was deprecated in LangChain 0.2.2 and will be removed in 0.3.0. An updated version of the class exists in the langchain-huggingface package and should be used instead. To use it run `pip install -U langchain-huggingface` and import as `from langchain_huggingface import HuggingFaceEmbeddings`.\n",
      "  warn_deprecated(\n",
      "c:\\Users\\Prabal Kuinkel\\Desktop\\ARL-Intern\\privategpt\\privategpt\\Lib\\site-packages\\huggingface_hub\\file_download.py:1132: FutureWarning: `resume_download` is deprecated and will be removed in version 1.0.0. Downloads always resume when possible. If you want to force a new download, use `force_download=True`.\n",
      "  warnings.warn(\n"
     ]
    }
   ],
   "source": [
    "from langchain.prompts import SemanticSimilarityExampleSelector\n",
    "from langchain.embeddings import HuggingFaceEmbeddings\n",
    "from langchain.vectorstores import Chroma\n",
    "\n",
    "embeddings = HuggingFaceEmbeddings(model_name='sentence-transformers/all-mpnet-base-v2')\n",
    "\n",
    "to_vectorize = [\" \".join(example.values()) for example in few_shots]"
   ]
  },
  {
   "cell_type": "code",
   "execution_count": 9,
   "metadata": {},
   "outputs": [
    {
     "data": {
      "text/plain": [
       "[' Income of last 3 months. ? SELECT SUM(Deposit_amount) AS Total_Income FROM transactions WHERE Value_date >= DATE_SUB(CURRENT_DATE(), INTERVAL 3 MONTH)  1530205868 1530205868 is the income of last 3 months.',\n",
       " 'Total expenses/spendings of last 8 months ? SELECT SUM(Withdrawal_amount) AS Total_Expenses FROM transactions WHERE Value_date >= DATE_SUB(CURRENT_DATE(), INTERVAL 8 MONTH)  11274528407 11274528407 is the total expenses of last 8 months.',\n",
       " 'Total saving of last month as my account number is 409000493201\\'  ? SELECT (SUM(Deposit_amount) - SUM(Withdrawal_amount)) AS Savings_Last_Month FROM \\ntransactions WHERE Account_No = \"409000493201\\'\" AND YEAR(Value_date) = YEAR(CURRENT_DATE() \\n- INTERVAL 1 MONTH) AND MONTH(Value_date) = MONTH(CURRENT_DATE() - INTERVAL 1 MONTH);\\n         -193509 You lost -193509 last month.',\n",
       " 'How many transactions did I make in last 2 week   SELECT COUNT(*) AS Total_Transactions FROM transactions WHERE Value_date >= DATE_SUB(CURRENT_DATE(), INTERVAL 2 WEEK)  162 You made 162 transactions in last 2 week.',\n",
       " 'Amount spent last week  SELECT SUM(Withdrawal_amount) AS Total_Spending FROM transactions WHERE Value_date >= DATE_SUB(CURRENT_DATE(), INTERVAL 1 WEEK)   0 is your total spending last week.',\n",
       " 'Expenses for each day this month ? SELECT Date, SUM(Withdrawal_amount) AS Total_Expenses FROM transactions WHERE YEAR(Value_date) = YEAR(CURRENT_DATE()) AND MONTH(Value_date) = MONTH(CURRENT_DATE()) GROUP BY Date  \\nDate                        Total_Expenses\\n2024-06-02                   183648\\n2024-06-03                   80666\\n2024-06-04                   135504\\n2024-06-05                   92031\\n2024-06-06                   118475\\n2024-06-07                   16440\\n2024-06-09                   62112\\n2024-06-10                   10331\\n The total_expenses is 183648,80666,135504,92031,118475,16440,62112,10331 for the year 2024 month of 6 and date 02,03,04,05,06,07,09 and 10.  ',\n",
       " 'savings of previous year for each month  SELECT MONTH(Value_date) AS Month, (SUM(Deposit_amount) - SUM(Withdrawal_amount)) AS Total_Savings FROM transactions WHERE YEAR(Value_date) = YEAR(CURRENT_DATE() - INTERVAL 1 YEAR) GROUP BY MONTH(Value_date) ORDER BY MONTH(Value_date)  \\n        Date                Total_Expenses\\n        1                       -311244\\n        2                          9101\\n        3                         3476          \\n        4                       -15971\\n        5                       322249\\n        6                       -172560\\n        7                       361471\\n        8                       -446844\\n        9                       93215\\n        10                      -73917\\n        11                      294502\\n        12                      -404028 Month-1:-311244, Month-2:9101, Month-3:3476',\n",
       " 'Amount Saved each year SELECT YEAR(Value_date) AS Year,SUM(Deposit_amount) - SUM(Withdrawal_amount) AS Savings FROM transactions GROUP BY YEAR(Value_date)  \\n        Year                Savings\\n        2021                 497766\\n        2022                 272458 \\n        2023                 -340550          \\n        2024                 -148114\\n        You saved 497766 in 2021 ,272458 in 2022, -340550 in 2023 and -148114 in 2024.',\n",
       " 'Savings of last 2 year   SELECT YEAR(Value_date) AS Year, SUM(Deposit_amount) - SUM(Withdrawal_amount) AS Net_Savings FROM transactions WHERE Value_date >= DATE_SUB(CURRENT_DATE(), INTERVAL 2 YEAR) GROUP BY YEAR(Value_date)  \\n        Year                Savings\\n        2022                 2270453\\n        2023                 -895783          \\n        2024                 -912470\\n         You saved 2270453 in 2022, -89578 in 2023 and -912470 in 2024.',\n",
       " 'Expenses of each day of last week   SELECT DATE(Value_date) AS Date, SUM(Withdrawal_amount) AS Total_Spending FROM transactions WHERE Value_date >= DATE_SUB(CURDATE(), INTERVAL 1 WEEK) GROUP BY DATE(Value_date)  \\n        Year                Savings\\n        2024-06-06           118475\\n        2024-06-07           16440         \\n        2024-06-09           62112\\n        2024-06-10           10331\\n\\n         You spend 118475,16440,62112,10331.',\n",
       " 'Amount spent this year ? SELECT year(Value_date) as Year,sum(Withdrawal_amount) AS Total_Expenses FROM transactions WHERE year(Value_date) = year(curdate()) group by year(Value_date)  \\n        Year                Total_Expenses\\n       2024                    6527128485\\n         You spent 36616174 this year.',\n",
       " 'amount/money saved each month previous year ? SELECT YEAR(Value_date) AS Year, MONTH(Value_date) AS Month, SUM(Deposit_amount) - SUM(Withdrawal_amount) AS Savings FROM transactions WHERE YEAR(Value_date) = YEAR(CURRENT_DATE - INTERVAL 1 YEAR) GROUP BY YEAR(Value_date), MONTH(Value_date)  \\n        Year            Month              Savings\\n       2023              1                  -311244\\n       2023             2                       9101\\n       2023             3                       3476    \\n       2023             4                       -15971\\n       2023             5                       322249\\n       2023             6                       -172560\\n        2023             7                   361471\\n       2023             8                       -446844\\n       2023             9                       93215    \\n       2023             10                       -73917\\n       2023            11                       294502\\n       2023             12                       -404028\\n         You lost 311244 in month 1 ,saved 9101,3476 in month 2 and month 3  previous year.',\n",
       " 'income of the previous year  SELECT SUM(Deposit_amount) AS Total_Income FROM transactions WHERE YEAR(Value_date) = YEAR(CURRENT_DATE) - 1  38593214103 Your income previous ysear was 38593214103.',\n",
       " 'income of the first 4 month of previous year  SELECT SUM(Deposit_amount) AS Total_Income FROM transactions WHERE MONTH(Value_date) IN (1,2,3,4) AND YEAR(Value_date) = YEAR(CURRENT_DATE) - 1  17847505444 Your income of first 4 month of previous year was 17847505444.',\n",
       " \"amount I lost each year? \\n                SELECT YEAR(Value_date) AS Year,SUM(Withdrawal_amount) - SUM(Deposit_amount) AS Losses \\n                FROM transactions \\n                GROUP BY YEAR(Value_date);\\n                 [\\n        (2022, Decimal('211175202')),\\n        (2023, Decimal('575324140')),\\n        (2024, Decimal('490771857')),\\n        (2021, Decimal('906602921')),\\n        (2020, Decimal('1076993185'))\\n\\n    ] You lost 497766 in 2021, 272458 in 2022, -340550 in 2023, and -148114 in 2024.\"]"
      ]
     },
     "execution_count": 9,
     "metadata": {},
     "output_type": "execute_result"
    }
   ],
   "source": [
    "to_vectorize "
   ]
  },
  {
   "cell_type": "code",
   "execution_count": 10,
   "metadata": {},
   "outputs": [],
   "source": [
    "vectorstore = Chroma.from_texts(to_vectorize, embeddings, metadatas=few_shots)"
   ]
  },
  {
   "cell_type": "code",
   "execution_count": 11,
   "metadata": {},
   "outputs": [
    {
     "data": {
      "text/plain": [
       "[{'Answer': 'You made 162 transactions in last 2 week.',\n",
       "  'Question': 'How many transactions did I make in last 2 week  ',\n",
       "  'SQLQuery': 'SELECT COUNT(*) AS Total_Transactions FROM transactions WHERE Value_date >= DATE_SUB(CURRENT_DATE(), INTERVAL 2 WEEK) ',\n",
       "  'SQLResult': '162'}]"
      ]
     },
     "execution_count": 11,
     "metadata": {},
     "output_type": "execute_result"
    }
   ],
   "source": [
    "example_selector = SemanticSimilarityExampleSelector(\n",
    "    vectorstore=vectorstore,\n",
    "    k=1,\n",
    ")\n",
    "example_selector.select_examples({\"Question\": \"How many transactions did I make this month  \"})\n",
    "\n",
    "# give me the Breakdown of income for each day this week as my account number is 409000493201'"
   ]
  },
  {
   "cell_type": "code",
   "execution_count": 12,
   "metadata": {},
   "outputs": [],
   "source": [
    "# # Define the custom prompt for SQL database interactions\n",
    "# custom_mysql_prompt = \"\"\"\n",
    "# You are a MySQL expert. Given an input question, first create a syntactically correct MySQL query to run, then look at the results of the query and return the answer to the input question. Prepare the correct MySQL query by looking at the top {top_k} similar queries.\n",
    "# Unless the user specifies in the question a specific number of examples to obtain, query for at most {top_k} results using the LIMIT clause as per MySQL. You can order the results to return the most informative data in the database.\n",
    "# Never query for all columns from a table. You must query only the columns that are needed to answer the question.\n",
    "# Pay attention to use only the column names you can see in the tables below. Be careful to not query for columns that do not exist. \n",
    "# Pay attention to use CURDATE() function to get the current date, if the question involves \"today\",\"this year\",\"this month\" ,\"this week\".\n",
    "\n",
    "# Table information:\n",
    "# 1. `transactions` with columns: `Account_No`, `Date`, `Transaction_details`, `Value_date`, `Withdrawal_amount`, `Deposit_amount`, `Balance_amount`\n",
    "\n",
    "# Remember to only use the provided table columns and structure your queries to handle the specified requests accurately.Only answer the question given by the user and dont assume any question by yourself.\n",
    "#  \"\"\""
   ]
  },
  {
   "cell_type": "code",
   "execution_count": 13,
   "metadata": {},
   "outputs": [],
   "source": [
    "# # Define the custom prompt for SQL database interactions\n",
    "# custom_mysql_prompt = \"\"\"You are an expert in converting natural language into MySQL query.Only use the columns that are specified and needed to answer the question.\n",
    "# Use query for at most {top_k} results.\n",
    "# Table information:\n",
    "# 1. `transactions` with columns: `Account_No`, `Date`, `Transaction_details`, `Value_date`, `Withdrawal_amount`, `Deposit_amount`, `Balance_amount`\n",
    "# \"\"\""
   ]
  },
  {
   "cell_type": "code",
   "execution_count": 14,
   "metadata": {},
   "outputs": [],
   "source": [
    "mysql_prompt = \"\"\"\n",
    "You are a MySQL expert. Given an input question, first create a syntactically correct MySQL query to run, then look at the results of the query and return the answer to the input question.\n",
    "Unless the user specifies in the question a specific number of examples to obtain, query for at most {top_k} results using the LIMIT clause as per MySQL. You can order the results to return the most informative data in the database.\n",
    "Never query for all columns from a table. You must query only the columns that are needed to answer the question. \n",
    "Pay attention to use only the column names given in the below table information and never use any columns that does not exist. Be careful to not query for columns that do not exist. Also, pay attention to which column is in which table.\n",
    "Pay attention to use CURDATE() function to get the current date, if the question involves \"today\",\"this year\",\"this month\",\"this week\".\n",
    "\n",
    "Table information:\n",
    "1. `transactions` with columns: `Account_No`, `Date`, `Transaction_details`, `Value_date`, `Withdrawal_amount`, `Deposit_amount`, `Balance_amount`\n",
    "\"\"\""
   ]
  },
  {
   "cell_type": "code",
   "execution_count": 15,
   "metadata": {},
   "outputs": [],
   "source": [
    "from langchain.prompts import FewShotPromptTemplate\n",
    "from langchain.chains.sql_database.prompt import PROMPT_SUFFIX,_mysql_prompt"
   ]
  },
  {
   "cell_type": "code",
   "execution_count": 16,
   "metadata": {},
   "outputs": [
    {
     "name": "stdout",
     "output_type": "stream",
     "text": [
      "You are a MySQL expert. Given an input question, first create a syntactically correct MySQL query to run, then look at the results of the query and return the answer to the input question.\n",
      "Unless the user specifies in the question a specific number of examples to obtain, query for at most {top_k} results using the LIMIT clause as per MySQL. You can order the results to return the most informative data in the database.\n",
      "Never query for all columns from a table. You must query only the columns that are needed to answer the question. Wrap each column name in backticks (`) to denote them as delimited identifiers.\n",
      "Pay attention to use only the column names you can see in the tables below. Be careful to not query for columns that do not exist. Also, pay attention to which column is in which table.\n",
      "Pay attention to use CURDATE() function to get the current date, if the question involves \"today\".\n",
      "\n",
      "Use the following format:\n",
      "\n",
      "Question: Question here\n",
      "SQLQuery: SQL Query to run\n",
      "SQLResult: Result of the SQLQuery\n",
      "Answer: Final answer here\n",
      "\n",
      "\n"
     ]
    }
   ],
   "source": [
    "print(_mysql_prompt)"
   ]
  },
  {
   "cell_type": "code",
   "execution_count": 17,
   "metadata": {},
   "outputs": [
    {
     "name": "stdout",
     "output_type": "stream",
     "text": [
      "Only use the following tables:\n",
      "{table_info}\n",
      "\n",
      "Question: {input}\n"
     ]
    }
   ],
   "source": [
    "print(PROMPT_SUFFIX)"
   ]
  },
  {
   "cell_type": "code",
   "execution_count": 18,
   "metadata": {},
   "outputs": [],
   "source": [
    "from langchain.prompts.prompt import PromptTemplate\n",
    "\n",
    "example_prompt = PromptTemplate(\n",
    "    input_variables=[\"Answer\", \"Question\", \"SQLQuery\",\"SQLResult\",],\n",
    "    template=\"\\nAnswer: {Answer}\\nQuestion: {Question}\\nSQLQuery: {SQLQuery}\\nSQLResult: {SQLResult}\",\n",
    ")"
   ]
  },
  {
   "cell_type": "code",
   "execution_count": 19,
   "metadata": {},
   "outputs": [
    {
     "name": "stdout",
     "output_type": "stream",
     "text": [
      "Only use the following tables:\n",
      "{table_info}\n",
      "\n",
      "Question: {input}\n"
     ]
    }
   ],
   "source": [
    "print(PROMPT_SUFFIX)"
   ]
  },
  {
   "cell_type": "code",
   "execution_count": 20,
   "metadata": {},
   "outputs": [],
   "source": [
    "suffix_eg=\"Question: {input}\""
   ]
  },
  {
   "cell_type": "code",
   "execution_count": 21,
   "metadata": {},
   "outputs": [
    {
     "name": "stdout",
     "output_type": "stream",
     "text": [
      "Question: {input}\n"
     ]
    }
   ],
   "source": [
    "print(suffix_eg)"
   ]
  },
  {
   "cell_type": "code",
   "execution_count": 22,
   "metadata": {},
   "outputs": [],
   "source": [
    "few_shot_prompt = FewShotPromptTemplate(\n",
    "    example_selector=example_selector,\n",
    "    example_prompt=example_prompt,\n",
    "    prefix=mysql_prompt,\n",
    "    suffix=\"Question: {input}\",\n",
    "    input_variables=[\"input\", \"top_k\"], \n",
    ")"
   ]
  },
  {
   "cell_type": "code",
   "execution_count": 23,
   "metadata": {},
   "outputs": [],
   "source": [
    "new_chain = SQLDatabaseChain.from_llm(llm, db, verbose=True, prompt=few_shot_prompt)\n"
   ]
  },
  {
   "cell_type": "code",
   "execution_count": 24,
   "metadata": {},
   "outputs": [
    {
     "name": "stdout",
     "output_type": "stream",
     "text": [
      "input_variables=['input', 'top_k'] example_selector=SemanticSimilarityExampleSelector(vectorstore=<langchain_community.vectorstores.chroma.Chroma object at 0x0000023677F21010>, k=1, example_keys=None, input_keys=None, vectorstore_kwargs=None) example_prompt=PromptTemplate(input_variables=['Answer', 'Question', 'SQLQuery', 'SQLResult'], template='\\nAnswer: {Answer}\\nQuestion: {Question}\\nSQLQuery: {SQLQuery}\\nSQLResult: {SQLResult}') suffix='Question: {input}' prefix='\\nYou are a MySQL expert. Given an input question, first create a syntactically correct MySQL query to run, then look at the results of the query and return the answer to the input question.\\nUnless the user specifies in the question a specific number of examples to obtain, query for at most {top_k} results using the LIMIT clause as per MySQL. You can order the results to return the most informative data in the database.\\nNever query for all columns from a table. You must query only the columns that are needed to answer the question. \\nPay attention to use only the column names given in the below table information and never use any columns that does not exist. Be careful to not query for columns that do not exist. Also, pay attention to which column is in which table.\\nPay attention to use CURDATE() function to get the current date, if the question involves \"today\",\"this year\",\"this month\",\"this week\".\\n\\nTable information:\\n1. `transactions` with columns: `Account_No`, `Date`, `Transaction_details`, `Value_date`, `Withdrawal_amount`, `Deposit_amount`, `Balance_amount`\\n'\n"
     ]
    }
   ],
   "source": [
    "print(few_shot_prompt)"
   ]
  },
  {
   "cell_type": "code",
   "execution_count": 25,
   "metadata": {},
   "outputs": [],
   "source": [
    "# result = new_chain(\"What was my total earning last week as my account number is 409000493201'\")"
   ]
  },
  {
   "cell_type": "code",
   "execution_count": 26,
   "metadata": {},
   "outputs": [
    {
     "name": "stdout",
     "output_type": "stream",
     "text": [
      "['Income of last 3 months. ?', 'Total expenses/spendings of last 8 months ?', \"Total saving of last month as my account number is 409000493201'  ?\", 'How many transactions did I make in last 2 week', 'Amount spent last week', 'Expenses for each day this month ?', 'savings of previous year for each month', 'Amount Saved each year', 'Savings of last 2 year', 'Expenses of each day of last week', 'Amount spent this year ?', 'amount/money saved each month previous year ?', 'income of the previous year', 'income of the first 4 month of previous year', 'amount I lost each year?']\n"
     ]
    }
   ],
   "source": [
    "example_questions = [shot['Question'].strip() for shot in few_shots]\n",
    "print(example_questions)"
   ]
  },
  {
   "cell_type": "code",
   "execution_count": 27,
   "metadata": {},
   "outputs": [
    {
     "name": "stderr",
     "output_type": "stream",
     "text": [
      "c:\\Users\\Prabal Kuinkel\\Desktop\\ARL-Intern\\privategpt\\privategpt\\Lib\\site-packages\\huggingface_hub\\file_download.py:1132: FutureWarning: `resume_download` is deprecated and will be removed in version 1.0.0. Downloads always resume when possible. If you want to force a new download, use `force_download=True`.\n",
      "  warnings.warn(\n"
     ]
    }
   ],
   "source": [
    "from sentence_transformers import SentenceTransformer\n",
    "model = SentenceTransformer('sentence-transformers/all-mpnet-base-v2')"
   ]
  },
  {
   "cell_type": "code",
   "execution_count": 28,
   "metadata": {},
   "outputs": [],
   "source": [
    "example_embeddings = model.encode(example_questions)"
   ]
  },
  {
   "cell_type": "code",
   "execution_count": 29,
   "metadata": {},
   "outputs": [],
   "source": [
    "from sklearn.metrics.pairwise import cosine_similarity  \n",
    "# Function to determine if a user question is relevant to the database context\n",
    "def is_question_relevant(user_question, similarity_threshold=0.60):\n",
    "    user_embedding = model.encode([user_question])[0]  \n",
    "    \n",
    "    # calculating the cosine similarity between user question and example questions\n",
    "    similarity_scores = cosine_similarity(user_embedding.reshape(1, -1), example_embeddings)[0]\n",
    "    print(similarity_scores)\n",
    "    \n",
    "    max_similarity_score = max(similarity_scores)\n",
    "    print(max_similarity_score)\n",
    "    return max_similarity_score > similarity_threshold"
   ]
  },
  {
   "cell_type": "code",
   "execution_count": 30,
   "metadata": {},
   "outputs": [
    {
     "name": "stderr",
     "output_type": "stream",
     "text": [
      "c:\\Users\\Prabal Kuinkel\\Desktop\\ARL-Intern\\privategpt\\privategpt\\Lib\\site-packages\\guardrails\\validators\\__init__.py:51: FutureWarning: \n",
      "    Importing validators from `guardrails.validators` is deprecated.\n",
      "    All validators are now available in the Guardrails Hub. Please install\n",
      "    and import them from the hub instead. All validators will be\n",
      "    removed from this module in the next major release.\n",
      "\n",
      "    Install with: `guardrails hub install hub://<namespace>/<validator_name>`\n",
      "    Import as: from guardrails.hub import `ValidatorName`\n",
      "    \n",
      "  warn(\n"
     ]
    }
   ],
   "source": [
    "from guardrails import Guard, OnFailAction\n",
    "from guardrails.hub import CompetitorCheck, ToxicLanguage\n",
    "from guardrails.hub import ProfanityFree"
   ]
  },
  {
   "cell_type": "code",
   "execution_count": 31,
   "metadata": {},
   "outputs": [
    {
     "name": "stderr",
     "output_type": "stream",
     "text": [
      "c:\\Users\\Prabal Kuinkel\\Desktop\\ARL-Intern\\privategpt\\privategpt\\Lib\\site-packages\\huggingface_hub\\file_download.py:1132: FutureWarning: `resume_download` is deprecated and will be removed in version 1.0.0. Downloads always resume when possible. If you want to force a new download, use `force_download=True`.\n",
      "  warnings.warn(\n"
     ]
    }
   ],
   "source": [
    "\n",
    "guard = Guard().use_many(\n",
    "    CompetitorCheck([\"khalti\", \"fusemachine\"], on_fail=OnFailAction.EXCEPTION),\n",
    "    ToxicLanguage(threshold=0.9, validation_method=\"sentence\", on_fail=OnFailAction.EXCEPTION),\n",
    "    ProfanityFree(on_fail=OnFailAction.EXCEPTION))\n"
   ]
  },
  {
   "cell_type": "code",
   "execution_count": 32,
   "metadata": {},
   "outputs": [],
   "source": [
    "# Function to handle user queries\n",
    "def handle_user_query(user_question):\n",
    "    if is_question_relevant(user_question):\n",
    "        # response=new_chain(user_question)\n",
    "        return True\n",
    "    else:\n",
    "        return \"Your Question is not Relevant\""
   ]
  },
  {
   "cell_type": "code",
   "execution_count": 33,
   "metadata": {},
   "outputs": [],
   "source": [
    "user_question = \"Give me the average spendings of mine each month in this year\""
   ]
  },
  {
   "cell_type": "code",
   "execution_count": 34,
   "metadata": {},
   "outputs": [
    {
     "name": "stdout",
     "output_type": "stream",
     "text": [
      "[0.61915165 0.6830846  0.58956814 0.46739852 0.57483757 0.6680057\n",
      " 0.4967662  0.443633   0.4657925  0.5154394  0.58743286 0.488149\n",
      " 0.40804064 0.4355242  0.4264807 ]\n",
      "0.6830846\n"
     ]
    }
   ],
   "source": [
    "try:\n",
    "    # Validate the user question\n",
    "    guard.validate(user_question)  # If validation fails, an exception will be thrown\n",
    "    # If validation passes, handle the user query\n",
    "    response = handle_user_query(user_question)\n",
    "except Exception as e:\n",
    "    response = str(e)"
   ]
  },
  {
   "cell_type": "code",
   "execution_count": 35,
   "metadata": {},
   "outputs": [
    {
     "name": "stdout",
     "output_type": "stream",
     "text": [
      "True\n"
     ]
    }
   ],
   "source": [
    "print(response)"
   ]
  },
  {
   "cell_type": "code",
   "execution_count": 38,
   "metadata": {},
   "outputs": [
    {
     "name": "stderr",
     "output_type": "stream",
     "text": [
      "c:\\Users\\Prabal Kuinkel\\Desktop\\ARL-Intern\\privategpt\\privategpt\\Lib\\site-packages\\langchain_core\\_api\\deprecation.py:119: LangChainDeprecationWarning: The method `Chain.__call__` was deprecated in langchain 0.1.0 and will be removed in 0.3.0. Use invoke instead.\n",
      "  warn_deprecated(\n"
     ]
    },
    {
     "name": "stdout",
     "output_type": "stream",
     "text": [
      "\n",
      "\n",
      "\u001b[1m> Entering new SQLDatabaseChain chain...\u001b[0m\n",
      "Give me the average spendings of mine each month in this year\n",
      "SQLQuery:\u001b[32;1m\u001b[1;3mSELECT AVG(Value_date) AS Average_Monthly_Spending FROM transactions WHERE YEAR(Value_date) = YEAR(CURRENT_DATE()) GROUP BY DATE(Value_date)\u001b[0m\n",
      "SQLResult: \u001b[33;1m\u001b[1;3m[(Decimal('20240102.0000'),), (Decimal('20240103.0000'),), (Decimal('20240104.0000'),), (Decimal('20240106.0000'),), (Decimal('20240107.0000'),), (Decimal('20240109.0000'),), (Decimal('20240110.0000'),), (Decimal('20240111.0000'),), (Decimal('20240112.0000'),), (Decimal('20240113.0000'),), (Decimal('20240116.0000'),), (Decimal('20240117.0000'),), (Decimal('20240118.0000'),), (Decimal('20240119.0000'),), (Decimal('20240120.0000'),), (Decimal('20240121.0000'),), (Decimal('20240123.0000'),), (Decimal('20240125.0000'),), (Decimal('20240126.0000'),), (Decimal('20240127.0000'),), (Decimal('20240128.0000'),), (Decimal('20240130.0000'),), (Decimal('20240131.0000'),), (Decimal('20240201.0000'),), (Decimal('20240202.0000'),), (Decimal('20240203.0000'),), (Decimal('20240206.0000'),), (Decimal('20240207.0000'),), (Decimal('20240208.0000'),), (Decimal('20240210.0000'),), (Decimal('20240211.0000'),), (Decimal('20240213.0000'),), (Decimal('20240214.0000'),), (Decimal('20240215.0000'),), (Decimal('20240216.0000'),), (Decimal('20240217.0000'),), (Decimal('20240220.0000'),), (Decimal('20240221.0000'),), (Decimal('20240222.0000'),), (Decimal('20240223.0000'),), (Decimal('20240224.0000'),), (Decimal('20240225.0000'),), (Decimal('20240227.0000'),), (Decimal('20240228.0000'),), (Decimal('20240301.0000'),), (Decimal('20240302.0000'),), (Decimal('20240305.0000'),), (Decimal('20240306.0000'),), (Decimal('20240307.0000'),), (Decimal('20240308.0000'),), (Decimal('20240309.0000'),), (Decimal('20240310.0000'),), (Decimal('20240312.0000'),), (Decimal('20240313.0000'),), (Decimal('20240315.0000'),), (Decimal('20240316.0000'),), (Decimal('20240319.0000'),), (Decimal('20240320.0000'),), (Decimal('20240321.0000'),), (Decimal('20240322.0000'),), (Decimal('20240323.0000'),), (Decimal('20240324.0000'),), (Decimal('20240326.0000'),), (Decimal('20240327.0000'),), (Decimal('20240328.0000'),), (Decimal('20240329.0000'),), (Decimal('20240330.0000'),), (Decimal('20240402.0000'),), (Decimal('20240403.0000'),), (Decimal('20240404.0000'),), (Decimal('20240405.0000'),), (Decimal('20240406.0000'),), (Decimal('20240407.0000'),), (Decimal('20240409.0000'),), (Decimal('20240410.0000'),), (Decimal('20240411.0000'),), (Decimal('20240412.0000'),), (Decimal('20240413.0000'),), (Decimal('20240416.0000'),), (Decimal('20240418.0000'),), (Decimal('20240419.0000'),), (Decimal('20240420.0000'),), (Decimal('20240421.0000'),), (Decimal('20240423.0000'),), (Decimal('20240424.0000'),), (Decimal('20240425.0000'),), (Decimal('20240426.0000'),), (Decimal('20240427.0000'),), (Decimal('20240428.0000'),), (Decimal('20240430.0000'),), (Decimal('20240501.0000'),), (Decimal('20240502.0000'),), (Decimal('20240503.0000'),), (Decimal('20240504.0000'),), (Decimal('20240507.0000'),), (Decimal('20240508.0000'),), (Decimal('20240509.0000'),), (Decimal('20240510.0000'),), (Decimal('20240511.0000'),), (Decimal('20240512.0000'),), (Decimal('20240514.0000'),), (Decimal('20240515.0000'),), (Decimal('20240516.0000'),), (Decimal('20240517.0000'),), (Decimal('20240518.0000'),), (Decimal('20240521.0000'),), (Decimal('20240522.0000'),), (Decimal('20240523.0000'),), (Decimal('20240524.0000'),), (Decimal('20240525.0000'),), (Decimal('20240601.0000'),), (Decimal('20240105.0000'),), (Decimal('20240209.0000'),), (Decimal('20240229.0000'),), (Decimal('20240314.0000'),), (Decimal('20240526.0000'),), (Decimal('20240528.0000'),), (Decimal('20240529.0000'),), (Decimal('20240530.0000'),), (Decimal('20240531.0000'),), (Decimal('20240604.0000'),), (Decimal('20240605.0000'),), (Decimal('20240606.0000'),), (Decimal('20240607.0000'),), (Decimal('20240608.0000'),), (Decimal('20240609.0000'),), (Decimal('20240611.0000'),), (Decimal('20240612.0000'),), (Decimal('20240613.0000'),), (Decimal('20240614.0000'),), (Decimal('20240615.0000'),), (Decimal('20240618.0000'),), (Decimal('20240619.0000'),), (Decimal('20240620.0000'),), (Decimal('20240621.0000'),), (Decimal('20240622.0000'),), (Decimal('20240623.0000'),), (Decimal('20240625.0000'),), (Decimal('20240626.0000'),), (Decimal('20240122.0000'),), (Decimal('20240124.0000'),), (Decimal('20240204.0000'),), (Decimal('20240205.0000'),), (Decimal('20240218.0000'),), (Decimal('20240226.0000'),), (Decimal('20240303.0000'),), (Decimal('20240311.0000'),), (Decimal('20240331.0000'),), (Decimal('20240417.0000'),), (Decimal('20240602.0000'),), (Decimal('20240610.0000'),)]\u001b[0m\n",
      "Answer:"
     ]
    }
   ],
   "source": [
    "if response==True:\n",
    "    new_chain(user_question)\n",
    "else:\n",
    "    print(response)"
   ]
  },
  {
   "cell_type": "code",
   "execution_count": 37,
   "metadata": {},
   "outputs": [],
   "source": [
    "# db_chain.run(\"\"\"SELECT SUM(Deposit_amount) - SUM(Withdrawal_amount) \n",
    "#              AS Savings FROM transactions WHERE Account_No = \"409000493201'\" AND year(Value_date) = year(curdate())\"\"\")"
   ]
  },
  {
   "cell_type": "code",
   "execution_count": null,
   "metadata": {},
   "outputs": [],
   "source": []
  }
 ],
 "metadata": {
  "kernelspec": {
   "display_name": "privategpt",
   "language": "python",
   "name": "python3"
  },
  "language_info": {
   "codemirror_mode": {
    "name": "ipython",
    "version": 3
   },
   "file_extension": ".py",
   "mimetype": "text/x-python",
   "name": "python",
   "nbconvert_exporter": "python",
   "pygments_lexer": "ipython3",
   "version": "3.11.7"
  }
 },
 "nbformat": 4,
 "nbformat_minor": 2
}

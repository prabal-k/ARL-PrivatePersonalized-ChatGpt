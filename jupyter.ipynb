{
 "cells": [
  {
   "cell_type": "code",
   "execution_count": 1,
   "metadata": {},
   "outputs": [],
   "source": [
    "from langchain.llms import CTransformers  # to load the llama2 model"
   ]
  },
  {
   "cell_type": "code",
   "execution_count": 2,
   "metadata": {},
   "outputs": [
    {
     "name": "stderr",
     "output_type": "stream",
     "text": [
      "c:\\Users\\Prabal Kuinkel\\Desktop\\ARL-Intern\\privategpt\\privategpt\\Lib\\site-packages\\tqdm\\auto.py:21: TqdmWarning: IProgress not found. Please update jupyter and ipywidgets. See https://ipywidgets.readthedocs.io/en/stable/user_install.html\n",
      "  from .autonotebook import tqdm as notebook_tqdm\n"
     ]
    }
   ],
   "source": [
    "llm = CTransformers(model=\"model\\llama-2-7b-chat.ggmlv3.q3_K_M.bin\",\n",
    "                        model_type=\"llama\", config={'max_new_tokens':3900,'temperature': 0.2,'context_length': 3800})"
   ]
  },
  {
   "cell_type": "code",
   "execution_count": 3,
   "metadata": {},
   "outputs": [
    {
     "name": "stdout",
     "output_type": "stream",
     "text": [
      "\n",
      "CREATE TABLE transactions (\n",
      "\t`Account_No` VARCHAR(50) NOT NULL, \n",
      "\t`Transaction_details` TEXT, \n",
      "\t`Withdrawal_amount` INTEGER, \n",
      "\t`Deposit_amount` INTEGER, \n",
      "\t`Balance_amount` INTEGER, \n",
      "\t`Value_date` DATE, \n",
      "\t`Date` DATE\n",
      ")COLLATE utf8mb4_0900_ai_ci DEFAULT CHARSET=utf8mb4 ENGINE=InnoDB\n",
      "\n",
      "/*\n",
      "3 rows from transactions table:\n",
      "Account_No\tTransaction_details\tWithdrawal_amount\tDeposit_amount\tBalance_amount\tValue_date\tDate\n",
      "409000611074'\tTRF FROM  Indiaforensic SERVICES\t0\t1000000\t1000000\t2022-10-05\t2022-10-05\n",
      "409000611074'\tTRF FROM  Indiaforensic SERVICES\t0\t1000000\t2000000\t2022-10-11\t2022-10-11\n",
      "409000611074'\tFDRL/INTERNAL FUND TRANSFE\t0\t500000\t2500000\t2022-10-24\t2022-10-24\n",
      "*/\n"
     ]
    }
   ],
   "source": [
    "from langchain_community.utilities import SQLDatabase\n",
    "\n",
    "\n",
    "# MySQL connection URI\n",
    "username = 'root'\n",
    "password = 'prabal9869'\n",
    "host = '127.0.0.1'\n",
    "dbname = 'arl_bank'  # Database name\n",
    "\n",
    "# Constructing the MySQL URI\n",
    "mysql_uri = f\"mysql+pymysql://{username}:{password}@{host}/{dbname}\"\n",
    "\n",
    "# # Initializing SQLDatabase object for MySQL\n",
    "db = SQLDatabase.from_uri(mysql_uri, sample_rows_in_table_info=3)\n",
    "print(db.table_info)"
   ]
  },
  {
   "cell_type": "code",
   "execution_count": 4,
   "metadata": {},
   "outputs": [],
   "source": [
    "from langchain_experimental.sql import SQLDatabaseChain\n",
    "\n",
    "db_chain = SQLDatabaseChain.from_llm(llm=llm,db=db,verbose=True)\n"
   ]
  },
  {
   "cell_type": "markdown",
   "metadata": {},
   "source": [
    "# FEW SHORT LEARNING"
   ]
  },
  {
   "cell_type": "code",
   "execution_count": 5,
   "metadata": {},
   "outputs": [],
   "source": [
    "few_shots=[\n",
    "    {\n",
    "        'Question':\" Income of last 3 months.My Account Number is 409000493201'. ?\",\n",
    "        'SQLQuery':\"\"\"SELECT SUM(Deposit_amount) AS Total_Income FROM transactions WHERE Account_No = \"409000493201'\" AND Value_date >= DATE_SUB(CURRENT_DATE(), INTERVAL 3 MONTH);\n",
    "        \"\"\",\n",
    "        'SQLResult':\"16725509\",\n",
    "        'Answer':\"16725509 is the income of last 3 months.\"\n",
    "    },\n",
    "\n",
    "    {\n",
    "        'Question':\"Total expenses of last 8 months for account number 409000611074' ?\",\n",
    "        'SQLQuery':\"\"\"SELECT SUM(Withdrawal_amount) AS Total_Expenses FROM transactions WHERE \n",
    "Account_No = \"409000611074'\" AND Value_date >= DATE_SUB(CURRENT_DATE(), INTERVAL 8 MONTH);\n",
    "        \"\"\",\n",
    "        'SQLResult':\"75124046\",\n",
    "        'Answer':\"75124046 is the total expenses of last 8 months.\"\n",
    "    },\n",
    "      {\n",
    "        'Question':\"Total saving of last month as my account number is 409000493201'  ?\",\n",
    "        'SQLQuery':\"\"\"SELECT (SUM(Deposit_amount) - SUM(Withdrawal_amount)) AS Savings_Last_Month FROM \n",
    "transactions WHERE Account_No = \"409000493201'\" AND YEAR(Value_date) = YEAR(CURRENT_DATE() \n",
    "- INTERVAL 1 MONTH) AND MONTH(Value_date) = MONTH(CURRENT_DATE() - INTERVAL 1 MONTH);\n",
    "        \"\"\",\n",
    "        'SQLResult':\"-193509\",\n",
    "        'Answer':\"You saved -193509 last month.\"\n",
    "    },\n",
    "    {\n",
    "        'Question':\"How many transactions did I make in last 2 week as my account number is 409000493201' \",\n",
    "        'SQLQuery':\"\"\"SELECT COUNT(*) AS Total_Transactions FROM transactions WHERE \n",
    "Account_No = \"409000493201'\" AND Value_date >= DATE_SUB(CURRENT_DATE(), INTERVAL 2 WEEK);\n",
    "        \"\"\",\n",
    "        'SQLResult':\"24\",\n",
    "        'Answer':\"You made 24 transactions in last 2 week.\"\n",
    "    },\n",
    "     {\n",
    "        'Question':\"Amount spent last week as my account number is 409000493201' \",\n",
    "        'SQLQuery':\"\"\"SELECT SUM(Withdrawal_amount) AS Total_Spending FROM transactions WHERE Account_No = \"409000493201'\" AND \n",
    "Value_date >= DATE_SUB(CURRENT_DATE(), INTERVAL 1 WEEK);\n",
    "        \"\"\",\n",
    "        'SQLResult':\"515559\",\n",
    "        'Answer':\"515559 is your total spending last week.\"\n",
    "    }\n",
    "    , {\n",
    "        'Question': \"Expenses for each day this month as my account number is  409000493201' ?\",\n",
    "        'SQLQuery': \"\"\"SELECT Date, SUM(Withdrawal_amount) AS Total_Expenses FROM transactions WHERE Account_No = \"409000493201'\" AND YEAR(Value_date) = YEAR(CURRENT_DATE()) AND MONTH(Value_date) = MONTH(CURRENT_DATE()) GROUP BY Date;\n",
    "\"\"\",\n",
    "        'SQLResult':\n",
    "        \"\"\"\n",
    "Date                        Total_Expenses\n",
    "2024-06-02                   183648\n",
    "2024-06-03                   80666\n",
    "2024-06-04                   135504\n",
    "2024-06-05                   92031\n",
    "2024-06-06                   118475\n",
    "2024-06-07                   16440\n",
    "2024-06-09                   62112\n",
    "2024-06-10                   10331\n",
    "\"\"\"\n",
    "        ,\n",
    "        'Answer': \"\"\"The total_expenses is 183648,80666,135504,92031,118475,16440,62112,10331 for the year 2024 month of 6 and date 02,03,04,05,06,07,09 and 10.  \"\"\"         \n",
    "    },\n",
    "    {\n",
    "        'Question':\"savings of previous year for each month as my account number is 409000493201' \",\n",
    "        'SQLQuery':\"\"\"SELECT MONTH(Value_date) AS Month, (SUM(Deposit_amount) - SUM(Withdrawal_amount)) AS Total_Savings \n",
    "FROM transactions WHERE Account_No = \"409000493201'\" AND YEAR(Value_date) = YEAR(CURRENT_DATE() - INTERVAL 1 YEAR) GROUP BY MONTH(Value_date) ORDER BY MONTH(Value_date);\n",
    "        \"\"\",\n",
    "        'SQLResult':\"\"\"\n",
    "        Date                Total_Expenses\n",
    "        1                       -311244\n",
    "        2                          9101\n",
    "        3                         3476          \n",
    "        4                       -15971\n",
    "        5                       322249\n",
    "        6                       -172560\n",
    "        7                       361471\n",
    "        8                       -446844\n",
    "        9                       93215\n",
    "        10                      -73917\n",
    "        11                      294502\n",
    "        12                      -404028\"\"\",\n",
    "        'Answer':\"Month-1:-311244, Month-2:9101, Month-3:3476\"\n",
    "    },\n",
    "     {\n",
    "        'Question':\"Amount Saved each year as my account number is  409000493201'\",\n",
    "        'SQLQuery':\"\"\"SELECT YEAR(Value_date) AS Year,SUM(Deposit_amount) - SUM(Withdrawal_amount) AS Savings\n",
    "                FROM transactions WHERE Account_No = \"409000493201'\" GROUP BY YEAR(Value_date);\n",
    "        \"\"\",\n",
    "        'SQLResult':\"\"\"\n",
    "        Year                Savings\n",
    "        2021                 497766\n",
    "        2022                 272458 \n",
    "        2023                 -340550          \n",
    "        2024                 -148114\n",
    "       \"\"\",\n",
    "        'Answer':\"You saved 497766 in 2021 ,272458 in 2022, -340550 in 2023 and -148114 in 2024.\"\n",
    "    }\n",
    "    ,\n",
    "     {\n",
    "        'Question':\"Savings of last 2 year as my account number is 409000611074' \",\n",
    "        'SQLQuery':\"\"\"SELECT YEAR(Value_date) AS Year, SUM(Deposit_amount) - SUM(Withdrawal_amount) AS Net_Savings FROM transactions WHERE Account_No = \"409000611074'\" AND Value_date >= DATE_SUB(CURRENT_DATE(), INTERVAL 2 YEAR) GROUP BY YEAR(Value_date);\n",
    "        \"\"\",\n",
    "        'SQLResult':\"\"\"\n",
    "        Year                Savings\n",
    "        2022                 2270453\n",
    "        2023                 -895783          \n",
    "        2024                 -912470\n",
    "        \"\"\",\n",
    "        'Answer':\"You saved 2270453 in 2022, -89578 in 2023 and -912470 in 2024.\"\n",
    "    }\n",
    "    ,\n",
    "     {\n",
    "        'Question':\"Expenses of each day of last week for account number 409000493201' \",\n",
    "        'SQLQuery':\"\"\"SELECT DATE(Value_date) AS Date, SUM(Withdrawal_amount) AS Total_Spending \n",
    "FROM transactions WHERE Account_No = '409000493201'AND Value_date >= DATE_SUB(CURDATE(), INTERVAL 1 WEEK) GROUP BY DATE(Value_date);\n",
    "\n",
    "        \"\"\",\n",
    "        'SQLResult':\"\"\"\n",
    "        Year                Savings\n",
    "        2024-06-06           118475\n",
    "        2024-06-07           16440         \n",
    "        2024-06-09           62112\n",
    "        2024-06-10           10331\n",
    "\n",
    "        \"\"\",\n",
    "        'Answer':\"You spend 118475,16440,62112,10331.\"\n",
    "    },\n",
    "    {\n",
    "        'Question':\"Amount spent this year as my account number is 409000493201' ?\",\n",
    "        'SQLQuery':\"\"\"SELECT year(Value_date) as Year,sum(Withdrawal_amount) AS Total_Expenses FROM transactions WHERE \n",
    "Account_No = \"409000493201'\" AND year(Value_date) = year(curdate())\n",
    "group by year(Value_date);\n",
    "        \"\"\",\n",
    "        'SQLResult':\"\"\"\n",
    "        Year                Total_Expenses\n",
    "       2024                    36616174\n",
    "\n",
    "        \"\"\",\n",
    "        'Answer':\"You spent 36616174 this year.\"\n",
    "    }\n",
    "    \n",
    "]\n",
    "\n"
   ]
  },
  {
   "cell_type": "code",
   "execution_count": 6,
   "metadata": {},
   "outputs": [
    {
     "name": "stderr",
     "output_type": "stream",
     "text": [
      "c:\\Users\\Prabal Kuinkel\\Desktop\\ARL-Intern\\privategpt\\privategpt\\Lib\\site-packages\\langchain_core\\_api\\deprecation.py:119: LangChainDeprecationWarning: The class `HuggingFaceEmbeddings` was deprecated in LangChain 0.2.2 and will be removed in 0.3.0. An updated version of the class exists in the langchain-huggingface package and should be used instead. To use it run `pip install -U langchain-huggingface` and import as `from langchain_huggingface import HuggingFaceEmbeddings`.\n",
      "  warn_deprecated(\n",
      "c:\\Users\\Prabal Kuinkel\\Desktop\\ARL-Intern\\privategpt\\privategpt\\Lib\\site-packages\\huggingface_hub\\file_download.py:1132: FutureWarning: `resume_download` is deprecated and will be removed in version 1.0.0. Downloads always resume when possible. If you want to force a new download, use `force_download=True`.\n",
      "  warnings.warn(\n"
     ]
    }
   ],
   "source": [
    "from langchain.prompts import SemanticSimilarityExampleSelector\n",
    "from langchain.embeddings import HuggingFaceEmbeddings\n",
    "from langchain.vectorstores import Chroma\n",
    "import json\n",
    "\n",
    "\n",
    "embeddings = HuggingFaceEmbeddings(model_name='sentence-transformers/all-mpnet-base-v2')\n",
    "\n",
    "to_vectorize = [\" \".join(example.values()) for example in few_shots]"
   ]
  },
  {
   "cell_type": "code",
   "execution_count": 7,
   "metadata": {},
   "outputs": [
    {
     "data": {
      "text/plain": [
       "[' Income of last 3 months.My Account Number is 409000493201\\'. ? SELECT SUM(Deposit_amount) AS Total_Income FROM transactions WHERE Account_No = \"409000493201\\'\" AND Value_date >= DATE_SUB(CURRENT_DATE(), INTERVAL 3 MONTH);\\n         16725509 16725509 is the income of last 3 months.',\n",
       " 'Total expenses of last 8 months for account number 409000611074\\' ? SELECT SUM(Withdrawal_amount) AS Total_Expenses FROM transactions WHERE \\nAccount_No = \"409000611074\\'\" AND Value_date >= DATE_SUB(CURRENT_DATE(), INTERVAL 8 MONTH);\\n         75124046 75124046 is the total expenses of last 8 months.',\n",
       " 'Total saving of last month as my account number is 409000493201\\'  ? SELECT (SUM(Deposit_amount) - SUM(Withdrawal_amount)) AS Savings_Last_Month FROM \\ntransactions WHERE Account_No = \"409000493201\\'\" AND YEAR(Value_date) = YEAR(CURRENT_DATE() \\n- INTERVAL 1 MONTH) AND MONTH(Value_date) = MONTH(CURRENT_DATE() - INTERVAL 1 MONTH);\\n         -193509 You saved -193509 last month.',\n",
       " 'How many transactions did I make in last 2 week as my account number is 409000493201\\'  SELECT COUNT(*) AS Total_Transactions FROM transactions WHERE \\nAccount_No = \"409000493201\\'\" AND Value_date >= DATE_SUB(CURRENT_DATE(), INTERVAL 2 WEEK);\\n         24 You made 24 transactions in last 2 week.',\n",
       " 'Amount spent last week as my account number is 409000493201\\'  SELECT SUM(Withdrawal_amount) AS Total_Spending FROM transactions WHERE Account_No = \"409000493201\\'\" AND \\nValue_date >= DATE_SUB(CURRENT_DATE(), INTERVAL 1 WEEK);\\n         515559 515559 is your total spending last week.',\n",
       " 'Expenses for each day this month as my account number is  409000493201\\' ? SELECT Date, SUM(Withdrawal_amount) AS Total_Expenses FROM transactions WHERE Account_No = \"409000493201\\'\" AND YEAR(Value_date) = YEAR(CURRENT_DATE()) AND MONTH(Value_date) = MONTH(CURRENT_DATE()) GROUP BY Date;\\n \\nDate                        Total_Expenses\\n2024-06-02                   183648\\n2024-06-03                   80666\\n2024-06-04                   135504\\n2024-06-05                   92031\\n2024-06-06                   118475\\n2024-06-07                   16440\\n2024-06-09                   62112\\n2024-06-10                   10331\\n The total_expenses is 183648,80666,135504,92031,118475,16440,62112,10331 for the year 2024 month of 6 and date 02,03,04,05,06,07,09 and 10.  ',\n",
       " 'savings of previous year for each month as my account number is 409000493201\\'  SELECT MONTH(Value_date) AS Month, (SUM(Deposit_amount) - SUM(Withdrawal_amount)) AS Total_Savings \\nFROM transactions WHERE Account_No = \"409000493201\\'\" AND YEAR(Value_date) = YEAR(CURRENT_DATE() - INTERVAL 1 YEAR) GROUP BY MONTH(Value_date) ORDER BY MONTH(Value_date);\\n         \\n        Date                Total_Expenses\\n        1                       -311244\\n        2                          9101\\n        3                         3476          \\n        4                       -15971\\n        5                       322249\\n        6                       -172560\\n        7                       361471\\n        8                       -446844\\n        9                       93215\\n        10                      -73917\\n        11                      294502\\n        12                      -404028 Month-1:-311244, Month-2:9101, Month-3:3476',\n",
       " 'Amount Saved each year as my account number is  409000493201\\' SELECT YEAR(Value_date) AS Year,SUM(Deposit_amount) - SUM(Withdrawal_amount) AS Savings\\n                FROM transactions WHERE Account_No = \"409000493201\\'\" GROUP BY YEAR(Value_date);\\n         \\n        Year                Savings\\n        2021                 497766\\n        2022                 272458 \\n        2023                 -340550          \\n        2024                 -148114\\n        You saved 497766 in 2021 ,272458 in 2022, -340550 in 2023 and -148114 in 2024.',\n",
       " 'Savings of last 2 year as my account number is 409000611074\\'  SELECT YEAR(Value_date) AS Year, SUM(Deposit_amount) - SUM(Withdrawal_amount) AS Net_Savings FROM transactions WHERE Account_No = \"409000611074\\'\" AND Value_date >= DATE_SUB(CURRENT_DATE(), INTERVAL 2 YEAR) GROUP BY YEAR(Value_date);\\n         \\n        Year                Savings\\n        2022                 2270453\\n        2023                 -895783          \\n        2024                 -912470\\n         You saved 2270453 in 2022, -89578 in 2023 and -912470 in 2024.',\n",
       " \"Expenses of each day of last week for account number 409000493201'  SELECT DATE(Value_date) AS Date, SUM(Withdrawal_amount) AS Total_Spending \\nFROM transactions WHERE Account_No = '409000493201'AND Value_date >= DATE_SUB(CURDATE(), INTERVAL 1 WEEK) GROUP BY DATE(Value_date);\\n\\n         \\n        Year                Savings\\n        2024-06-06           118475\\n        2024-06-07           16440         \\n        2024-06-09           62112\\n        2024-06-10           10331\\n\\n         You spend 118475,16440,62112,10331.\",\n",
       " 'Amount spent this year as my account number is 409000493201\\' ? SELECT year(Value_date) as Year,sum(Withdrawal_amount) AS Total_Expenses FROM transactions WHERE \\nAccount_No = \"409000493201\\'\" AND year(Value_date) = year(curdate())\\ngroup by year(Value_date);\\n         \\n        Year                Total_Expenses\\n       2024                    36616174\\n\\n         You spent 36616174 this year.']"
      ]
     },
     "execution_count": 7,
     "metadata": {},
     "output_type": "execute_result"
    }
   ],
   "source": [
    "to_vectorize "
   ]
  },
  {
   "cell_type": "code",
   "execution_count": 8,
   "metadata": {},
   "outputs": [],
   "source": [
    "\n",
    "vectorstore = Chroma.from_texts(to_vectorize, embeddings, metadatas=few_shots)"
   ]
  },
  {
   "cell_type": "code",
   "execution_count": 9,
   "metadata": {},
   "outputs": [
    {
     "data": {
      "text/plain": [
       "[{'Answer': 'You saved -193509 last month.',\n",
       "  'Question': \"Total saving of last month as my account number is 409000493201'  ?\",\n",
       "  'SQLQuery': 'SELECT (SUM(Deposit_amount) - SUM(Withdrawal_amount)) AS Savings_Last_Month FROM \\ntransactions WHERE Account_No = \"409000493201\\'\" AND YEAR(Value_date) = YEAR(CURRENT_DATE() \\n- INTERVAL 1 MONTH) AND MONTH(Value_date) = MONTH(CURRENT_DATE() - INTERVAL 1 MONTH);\\n        ',\n",
       "  'SQLResult': '-193509'}]"
      ]
     },
     "execution_count": 9,
     "metadata": {},
     "output_type": "execute_result"
    }
   ],
   "source": [
    "example_selector = SemanticSimilarityExampleSelector(\n",
    "    vectorstore=vectorstore,\n",
    "    k=1,\n",
    ")\n",
    "example_selector.select_examples({\"Question\": \"How much amount did i save this year as my account number is 409000493201'  \"})"
   ]
  },
  {
   "cell_type": "code",
   "execution_count": 10,
   "metadata": {},
   "outputs": [],
   "source": [
    "# Define the custom prompt for SQL database interactions\n",
    "custom_mysql_prompt = \"\"\"You are a MySQL expert. Given an input question, first create a syntactically correct MySQL query to run, then look at the results of the query and return the answer to the input question. Prepare the correct MySQL query by looking at the top {top_k} similar queries.\n",
    "Unless the user specifies in the question a specific number of examples to obtain, query for at most {top_k} results using the LIMIT clause as per MySQL. You can order the results to return the most informative data in the database.\n",
    "Never query for all columns from a table. You must query only the columns that are needed to answer the question. Wrap each column name in backticks (`) to denote them as delimited identifiers.\n",
    "Pay attention to use only the column names you can see in the tables below. Be careful to not query for columns that do not exist. Also, pay attention to which column is in which table.\n",
    "Pay attention to use CURDATE() function to get the current date, if the question involves \"today\",\"this year\",\"this month\" ,\"this week\".\n",
    "\n",
    "Table information:\n",
    "1. `transactions` with columns: `Account_No`, `Date`, `Transaction_details`, `Value_date`, `Withdrawal_amount`, `Deposit_amount`, `Balance_amount`\n",
    "\n",
    "Remember to only use the provided table columns and structure your queries to handle the specified requests accurately.Only answer the question given by the user and dont assume any question by yourself.\n",
    " \"\"\""
   ]
  },
  {
   "cell_type": "code",
   "execution_count": 11,
   "metadata": {},
   "outputs": [],
   "source": [
    "from langchain.prompts import FewShotPromptTemplate\n",
    "from langchain.chains.sql_database.prompt import PROMPT_SUFFIX"
   ]
  },
  {
   "cell_type": "code",
   "execution_count": 12,
   "metadata": {},
   "outputs": [],
   "source": [
    "from langchain.prompts.prompt import PromptTemplate\n",
    "\n",
    "example_prompt = PromptTemplate(\n",
    "    input_variables=[\"Question\", \"SQLQuery\", \"SQLResult\",\"Answer\",],\n",
    "    template=\"\\nQuestion: {Question}\\nSQLQuery: {SQLQuery}\\nSQLResult: {SQLResult}\\nAnswer: {Answer}\",\n",
    ")"
   ]
  },
  {
   "cell_type": "code",
   "execution_count": 13,
   "metadata": {},
   "outputs": [
    {
     "name": "stdout",
     "output_type": "stream",
     "text": [
      "Only use the following tables:\n",
      "{table_info}\n",
      "\n",
      "Question: {input}\n"
     ]
    }
   ],
   "source": [
    "print(PROMPT_SUFFIX)"
   ]
  },
  {
   "cell_type": "code",
   "execution_count": 14,
   "metadata": {},
   "outputs": [],
   "source": [
    "suffix_eg=\"Question: {input}\""
   ]
  },
  {
   "cell_type": "code",
   "execution_count": 15,
   "metadata": {},
   "outputs": [
    {
     "name": "stdout",
     "output_type": "stream",
     "text": [
      "Question: {input}\n"
     ]
    }
   ],
   "source": [
    "print(suffix_eg)"
   ]
  },
  {
   "cell_type": "code",
   "execution_count": 16,
   "metadata": {},
   "outputs": [],
   "source": [
    "few_shot_prompt = FewShotPromptTemplate(\n",
    "    example_selector=example_selector,\n",
    "    example_prompt=example_prompt,\n",
    "    prefix=custom_mysql_prompt,\n",
    "    suffix=suffix_eg,\n",
    "    input_variables=[\"input\", \"top_k\"], \n",
    ")"
   ]
  },
  {
   "cell_type": "code",
   "execution_count": 17,
   "metadata": {},
   "outputs": [],
   "source": [
    "new_chain = SQLDatabaseChain.from_llm(llm, db, verbose=True, prompt=few_shot_prompt)\n"
   ]
  },
  {
   "cell_type": "code",
   "execution_count": 18,
   "metadata": {},
   "outputs": [
    {
     "name": "stdout",
     "output_type": "stream",
     "text": [
      "input_variables=['input', 'top_k'] example_selector=SemanticSimilarityExampleSelector(vectorstore=<langchain_community.vectorstores.chroma.Chroma object at 0x000001A008137290>, k=1, example_keys=None, input_keys=None, vectorstore_kwargs=None) example_prompt=PromptTemplate(input_variables=['Answer', 'Question', 'SQLQuery', 'SQLResult'], template='\\nQuestion: {Question}\\nSQLQuery: {SQLQuery}\\nSQLResult: {SQLResult}\\nAnswer: {Answer}') suffix='Question: {input}' prefix='You are a MySQL expert. Given an input question, first create a syntactically correct MySQL query to run, then look at the results of the query and return the answer to the input question. Prepare the correct MySQL query by looking at the top {top_k} similar queries.\\nUnless the user specifies in the question a specific number of examples to obtain, query for at most {top_k} results using the LIMIT clause as per MySQL. You can order the results to return the most informative data in the database.\\nNever query for all columns from a table. You must query only the columns that are needed to answer the question. Wrap each column name in backticks (`) to denote them as delimited identifiers.\\nPay attention to use only the column names you can see in the tables below. Be careful to not query for columns that do not exist. Also, pay attention to which column is in which table.\\nPay attention to use CURDATE() function to get the current date, if the question involves \"today\",\"this year\",\"this month\" ,\"this week\".\\n\\nTable information:\\n1. `transactions` with columns: `Account_No`, `Date`, `Transaction_details`, `Value_date`, `Withdrawal_amount`, `Deposit_amount`, `Balance_amount`\\n\\nRemember to only use the provided table columns and structure your queries to handle the specified requests accurately.Only answer the question given by the user and dont assume any question by yourself.\\n '\n"
     ]
    }
   ],
   "source": [
    "print(few_shot_prompt)"
   ]
  },
  {
   "cell_type": "code",
   "execution_count": 19,
   "metadata": {},
   "outputs": [],
   "source": [
    "# result = new_chain(\"What was my total earning last week as my account number is 409000493201'\")"
   ]
  },
  {
   "cell_type": "code",
   "execution_count": 20,
   "metadata": {},
   "outputs": [
    {
     "name": "stdout",
     "output_type": "stream",
     "text": [
      "[\"Income of last 3 months.My Account Number is 409000493201'. ?\", \"Total expenses of last 8 months for account number 409000611074' ?\", \"Total saving of last month as my account number is 409000493201'  ?\", \"How many transactions did I make in last 2 week as my account number is 409000493201'\", \"Amount spent last week as my account number is 409000493201'\", \"Expenses for each day this month as my account number is  409000493201' ?\", \"savings of previous year for each month as my account number is 409000493201'\", \"Amount Saved each year as my account number is  409000493201'\", \"Savings of last 2 year as my account number is 409000611074'\", \"Expenses of each day of last week for account number 409000493201'\", \"Amount spent this year as my account number is 409000493201' ?\"]\n"
     ]
    }
   ],
   "source": [
    "example_questions = [shot['Question'].strip() for shot in few_shots]\n",
    "print(example_questions)"
   ]
  },
  {
   "cell_type": "code",
   "execution_count": 21,
   "metadata": {},
   "outputs": [
    {
     "name": "stderr",
     "output_type": "stream",
     "text": [
      "c:\\Users\\Prabal Kuinkel\\Desktop\\ARL-Intern\\privategpt\\privategpt\\Lib\\site-packages\\huggingface_hub\\file_download.py:1132: FutureWarning: `resume_download` is deprecated and will be removed in version 1.0.0. Downloads always resume when possible. If you want to force a new download, use `force_download=True`.\n",
      "  warnings.warn(\n"
     ]
    }
   ],
   "source": [
    "from sentence_transformers import SentenceTransformer\n",
    "model = SentenceTransformer('sentence-transformers/all-mpnet-base-v2')"
   ]
  },
  {
   "cell_type": "code",
   "execution_count": 22,
   "metadata": {},
   "outputs": [],
   "source": [
    "example_embeddings = model.encode(example_questions)"
   ]
  },
  {
   "cell_type": "code",
   "execution_count": 64,
   "metadata": {},
   "outputs": [],
   "source": [
    "from sklearn.metrics.pairwise import cosine_similarity  \n",
    "# Function to determine if a user question is relevant to the database context\n",
    "def is_question_relevant(user_question, similarity_threshold=0.76):\n",
    "    user_embedding = model.encode([user_question])[0]  \n",
    "    \n",
    "    # calculating the cosine similarity between user question and example questions\n",
    "    similarity_scores = cosine_similarity(user_embedding.reshape(1, -1), example_embeddings)[0]\n",
    "    print(similarity_scores)\n",
    "    \n",
    "    max_similarity_score = max(similarity_scores)\n",
    "    print(max_similarity_score)\n",
    "    return max_similarity_score > similarity_threshold"
   ]
  },
  {
   "cell_type": "code",
   "execution_count": 65,
   "metadata": {},
   "outputs": [],
   "source": [
    "from guardrails import Guard, OnFailAction\n",
    "from guardrails.hub import CompetitorCheck, ToxicLanguage\n",
    "from guardrails.hub import ProfanityFree"
   ]
  },
  {
   "cell_type": "code",
   "execution_count": 66,
   "metadata": {},
   "outputs": [
    {
     "name": "stderr",
     "output_type": "stream",
     "text": [
      "c:\\Users\\Prabal Kuinkel\\Desktop\\ARL-Intern\\privategpt\\privategpt\\Lib\\site-packages\\huggingface_hub\\file_download.py:1132: FutureWarning: `resume_download` is deprecated and will be removed in version 1.0.0. Downloads always resume when possible. If you want to force a new download, use `force_download=True`.\n",
      "  warnings.warn(\n"
     ]
    }
   ],
   "source": [
    "\n",
    "\n",
    "guard = Guard().use_many(\n",
    "    CompetitorCheck([\"khalti\", \"fusemachine\"], on_fail=OnFailAction.EXCEPTION),\n",
    "    ToxicLanguage(threshold=0.9, validation_method=\"sentence\", on_fail=OnFailAction.EXCEPTION),\n",
    "    ProfanityFree(on_fail=OnFailAction.EXCEPTION))\n",
    "\n"
   ]
  },
  {
   "cell_type": "code",
   "execution_count": 67,
   "metadata": {},
   "outputs": [],
   "source": [
    "# Function to handle user queries\n",
    "def handle_user_query(user_question):\n",
    "    if is_question_relevant(user_question):\n",
    "        # response=new_chain(user_question)\n",
    "        return True\n",
    "    else:\n",
    "        return \"Your Question is not Relevant\""
   ]
  },
  {
   "cell_type": "code",
   "execution_count": 85,
   "metadata": {},
   "outputs": [],
   "source": [
    "user_question = \"what khalti is as my account number is 409000493201' \""
   ]
  },
  {
   "cell_type": "code",
   "execution_count": 86,
   "metadata": {},
   "outputs": [],
   "source": [
    "try:\n",
    "    # Validate the user question\n",
    "    guard.validate(user_question)  # If validation fails, an exception will be thrown\n",
    "    # If validation passes, handle the user query\n",
    "    response = handle_user_query(user_question)\n",
    "except Exception as e:\n",
    "    response = str(e)"
   ]
  },
  {
   "cell_type": "code",
   "execution_count": 87,
   "metadata": {},
   "outputs": [
    {
     "name": "stdout",
     "output_type": "stream",
     "text": [
      "Validation failed for field with errors: Found the following competitors: [['khalti']]. Please avoid naming those competitors next time\n"
     ]
    }
   ],
   "source": [
    "print(response)"
   ]
  },
  {
   "cell_type": "code",
   "execution_count": 88,
   "metadata": {},
   "outputs": [
    {
     "name": "stdout",
     "output_type": "stream",
     "text": [
      "Validation failed for field with errors: Found the following competitors: [['khalti']]. Please avoid naming those competitors next time\n"
     ]
    }
   ],
   "source": [
    "if response==True:\n",
    "    new_chain(user_question)\n",
    "else:\n",
    "    print(response)"
   ]
  },
  {
   "cell_type": "code",
   "execution_count": 31,
   "metadata": {},
   "outputs": [],
   "source": [
    "# db_chain.run(\"\"\"SELECT SUM(Deposit_amount) - SUM(Withdrawal_amount) \n",
    "#              AS Savings FROM transactions WHERE Account_No = \"409000493201'\" AND year(Value_date) = year(curdate())\"\"\")"
   ]
  },
  {
   "cell_type": "code",
   "execution_count": null,
   "metadata": {},
   "outputs": [],
   "source": []
  }
 ],
 "metadata": {
  "kernelspec": {
   "display_name": "privategpt",
   "language": "python",
   "name": "python3"
  },
  "language_info": {
   "codemirror_mode": {
    "name": "ipython",
    "version": 3
   },
   "file_extension": ".py",
   "mimetype": "text/x-python",
   "name": "python",
   "nbconvert_exporter": "python",
   "pygments_lexer": "ipython3",
   "version": "3.11.7"
  }
 },
 "nbformat": 4,
 "nbformat_minor": 2
}

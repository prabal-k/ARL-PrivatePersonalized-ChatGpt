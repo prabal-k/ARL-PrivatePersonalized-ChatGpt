{
 "cells": [
  {
   "cell_type": "code",
   "execution_count": 7,
   "metadata": {},
   "outputs": [
    {
     "name": "stdout",
     "output_type": "stream",
     "text": [
      "\n",
      "CREATE TABLE transactions (\n",
      "\t`Account_No` VARCHAR(50) NOT NULL, \n",
      "\t`Transaction_details` TEXT, \n",
      "\t`Withdrawal_amount` INTEGER, \n",
      "\t`Deposit_amount` INTEGER, \n",
      "\t`Balance_amount` INTEGER, \n",
      "\t`Value_date` DATE, \n",
      "\t`Date` DATE\n",
      ")DEFAULT CHARSET=utf8mb4 COLLATE utf8mb4_0900_ai_ci ENGINE=InnoDB\n",
      "\n",
      "/*\n",
      "3 rows from transactions table:\n",
      "Account_No\tTransaction_details\tWithdrawal_amount\tDeposit_amount\tBalance_amount\tValue_date\tDate\n",
      "409000611074'\tTRF FROM  Indiaforensic SERVICES\t0\t1000000\t1000000\t2022-10-05\t2022-10-05\n",
      "409000611074'\tTRF FROM  Indiaforensic SERVICES\t0\t1000000\t2000000\t2022-10-11\t2022-10-11\n",
      "409000611074'\tFDRL/INTERNAL FUND TRANSFE\t0\t500000\t2500000\t2022-10-24\t2022-10-24\n",
      "*/\n",
      "{'transactions': ['`Transaction_details`', '`Withdrawal_amount`', '`Deposit_amount`', '`Balance_amount`', '`Value_date`', '`Date`']}\n"
     ]
    }
   ],
   "source": [
    "from langchain.llms import CTransformers  # to load the llama2 model\n",
    "from langchain_community.utilities import SQLDatabase\n",
    "from langchain_experimental.sql import SQLDatabaseChain\n",
    "from langchain.prompts import FewShotPromptTemplate\n",
    "from langchain.prompts.prompt import PromptTemplate\n",
    "import spacy\n",
    "import json\n",
    "from langchain.embeddings import HuggingFaceEmbeddings\n",
    "from langchain.vectorstores import Chroma\n",
    "from langchain.prompts import SemanticSimilarityExampleSelector\n",
    "\n",
    "# Load spaCy model\n",
    "nlp = spacy.load(\"en_core_web_sm\")\n",
    "\n",
    "# MySQL connection URI\n",
    "username = 'root'\n",
    "password = 'prabal9869'\n",
    "host = '127.0.0.1'\n",
    "dbname = 'arl_bank'  # Database name\n",
    "\n",
    "# Constructing the MySQL URI\n",
    "mysql_uri = f\"mysql+pymysql://{username}:{password}@{host}/{dbname}\"\n",
    "\n",
    "# Initializing SQLDatabase object for MySQL\n",
    "db = SQLDatabase.from_uri(mysql_uri, sample_rows_in_table_info=3)\n",
    "print(db.table_info)\n",
    "\n",
    "# Extract table and column information from the database object\n",
    "table_info = db.table_info\n",
    "\n",
    "# Extract column names from the CREATE TABLE statement\n",
    "# Find the start and end index of the column names section\n",
    "start_index = table_info.find('(')\n",
    "end_index = table_info.rfind(')')\n",
    "\n",
    "# Extract the column names substring\n",
    "column_names_str = table_info[start_index + 1:end_index]\n",
    "\n",
    "# Split the column names by comma and remove any leading/trailing whitespace\n",
    "column_names_list = [col.strip().split()[0] for col in column_names_str.split(',')]\n",
    "\n",
    "# Assuming the first column is the primary key and should not be included in the dictionary\n",
    "column_names = {table_info.split()[2]: column_names_list[1:]}  # Assuming table name is after 'CREATE TABLE' and before '('\n",
    "\n",
    "print(column_names)\n"
   ]
  },
  {
   "cell_type": "code",
   "execution_count": 8,
   "metadata": {},
   "outputs": [],
   "source": [
    "def extract_columns_from_query(query):\n",
    "    doc = nlp(query)\n",
    "    columns = []\n",
    "    for token in doc:\n",
    "        if token.pos_ in [\"NOUN\", \"PROPN\"]:  # Assuming columns are typically nouns or proper nouns\n",
    "            columns.append(token.text)\n",
    "    return set(columns)\n"
   ]
  },
  {
   "cell_type": "code",
   "execution_count": 9,
   "metadata": {},
   "outputs": [
    {
     "name": "stderr",
     "output_type": "stream",
     "text": [
      "c:\\Users\\Prabal Kuinkel\\Desktop\\ARL-Intern\\privategpt\\privategpt\\Lib\\site-packages\\langchain_core\\_api\\deprecation.py:119: LangChainDeprecationWarning: The class `HuggingFaceEmbeddings` was deprecated in LangChain 0.2.2 and will be removed in 0.3.0. An updated version of the class exists in the langchain-huggingface package and should be used instead. To use it run `pip install -U langchain-huggingface` and import as `from langchain_huggingface import HuggingFaceEmbeddings`.\n",
      "  warn_deprecated(\n",
      "c:\\Users\\Prabal Kuinkel\\Desktop\\ARL-Intern\\privategpt\\privategpt\\Lib\\site-packages\\sentence_transformers\\cross_encoder\\CrossEncoder.py:11: TqdmWarning: IProgress not found. Please update jupyter and ipywidgets. See https://ipywidgets.readthedocs.io/en/stable/user_install.html\n",
      "  from tqdm.autonotebook import tqdm, trange\n",
      "c:\\Users\\Prabal Kuinkel\\Desktop\\ARL-Intern\\privategpt\\privategpt\\Lib\\site-packages\\huggingface_hub\\file_download.py:1132: FutureWarning: `resume_download` is deprecated and will be removed in version 1.0.0. Downloads always resume when possible. If you want to force a new download, use `force_download=True`.\n",
      "  warnings.warn(\n"
     ]
    },
    {
     "data": {
      "text/plain": [
       "[{'Answer': \"Sorry, I don't have access to the information.\",\n",
       "  'Question': 'Will it rain today?',\n",
       "  'SQLQuery': '',\n",
       "  'SQLResult': ''}]"
      ]
     },
     "execution_count": 9,
     "metadata": {},
     "output_type": "execute_result"
    }
   ],
   "source": [
    "# Define few-shot examples\n",
    "few_shots = [\n",
    "    {\n",
    "        'Question': \"What is my income in my last 3 months. My Account Number is 409000493201?\",\n",
    "        'SQLQuery': \"\"\"SELECT SUM(Deposit_amount) AS Total_Income FROM transactions WHERE Account_No = \"409000493201\" AND Value_date >= DATE_SUB(CURRENT_DATE(), INTERVAL 3 MONTH);\"\"\",\n",
    "        'SQLResult': \"16725509\",\n",
    "        'Answer': \"16725509 is the income of last 3 months.\"\n",
    "    },\n",
    "    {\n",
    "        'Question': \"What is the total expenses of last 8 months for account number 409000611074?\",\n",
    "        'SQLQuery': \"\"\"SELECT SUM(Withdrawal_amount) AS Total_Expenses FROM transactions WHERE Account_No = \"409000611074\" AND Value_date >= DATE_SUB(CURRENT_DATE(), INTERVAL 8 MONTH);\"\"\",\n",
    "        'SQLResult': \"75124046\",\n",
    "        'Answer': \"75124046 is the total expenses of last 8 months.\"\n",
    "    },\n",
    "    {\n",
    "        'Question': \"How much did I save last month as my account number is 409000493201?\",\n",
    "        'SQLQuery': \"\"\"SELECT (SUM(Deposit_amount) - SUM(Withdrawal_amount)) AS Savings_Last_Month FROM transactions WHERE Account_No = \"409000493201\" AND YEAR(Value_date) = YEAR(CURRENT_DATE() - INTERVAL 1 MONTH) AND MONTH(Value_date) = MONTH(CURRENT_DATE() - INTERVAL 1 MONTH);\"\"\",\n",
    "        'SQLResult': \"-193509\",\n",
    "        'Answer': \"You saved -193509 last month.\"\n",
    "    },\n",
    "    {\n",
    "        'Question': \"How many transactions did I make in last 2 week as my account number is 409000493201?\",\n",
    "        'SQLQuery': \"\"\"SELECT COUNT(*) AS Total_Transactions FROM transactions WHERE Account_No = \"409000493201\" AND Value_date >= DATE_SUB(CURRENT_DATE(), INTERVAL 2 WEEK);\"\"\",\n",
    "        'SQLResult': \"24\",\n",
    "        'Answer': \"You made 24 transactions in last 2 week.\"\n",
    "    },\n",
    "    {\n",
    "        'Question': \"What was my total spending last week as my account number is 409000493201?\",\n",
    "        'SQLQuery': \"\"\"SELECT SUM(Withdrawal_amount) AS Total_Spending FROM transactions WHERE Account_No = \"409000493201\" AND Value_date >= DATE_SUB(CURRENT_DATE(), INTERVAL 1 WEEK);\"\"\",\n",
    "        'SQLResult': \"515559\",\n",
    "        'Answer': \"515559 is your total spending last week.\"\n",
    "    },\n",
    "    {\n",
    "        'Question': \"Give me a breakdown of my expenses for each day this month as my account number is 409000493201?\",\n",
    "        'SQLQuery': \"\"\"SELECT Date, SUM(Withdrawal_amount) AS Total_Expenses FROM transactions WHERE Account_No = \"409000493201\" AND YEAR(Value_date) = YEAR(CURRENT_DATE()) AND MONTH(Value_date) = MONTH(CURRENT_DATE()) GROUP BY Date;\"\"\",\n",
    "        'SQLResult': \"\"\"\n",
    "Date                        Total_Expenses\n",
    "2024-06-02                   183648\n",
    "2024-06-03                   80666\n",
    "2024-06-04                   135504\n",
    "2024-06-05                   92031\n",
    "2024-06-06                   118475\n",
    "2024-06-07                   16440\n",
    "2024-06-09                   62112\n",
    "2024-06-10                   10331\n",
    "\"\"\",\n",
    "        'Answer': \"The total expenses are 183648, 80666, 135504, 92031, 118475, 16440, 62112, 10331 for the year 2024 month of 6 and date 02, 03, 04, 05, 06, 07, 09 and 10.\"\n",
    "    },\n",
    "    {\n",
    "        'Question': \"Will it rain today?\",\n",
    "        'SQLQuery': None,\n",
    "        'SQLResult': None,\n",
    "        'Answer': \"Sorry, I don't have access to the information.\"\n",
    "    }\n",
    "]\n",
    "\n",
    "embeddings = HuggingFaceEmbeddings(model_name='sentence-transformers/all-MiniLM-L6-v2')\n",
    "\n",
    "# Convert lists and dictionaries to JSON strings, filtering out None values\n",
    "to_vectorize = [\n",
    "    \" \".join(\n",
    "        [json.dumps(value) if isinstance(value, (list, dict)) else (value if value is not None else \"\") for value in example.values()]\n",
    "    )\n",
    "    for example in few_shots\n",
    "]\n",
    "\n",
    "# Convert metadata to JSON strings, replacing None with an empty string\n",
    "metadatas = [\n",
    "    {k: json.dumps(v) if isinstance(v, (list, dict)) else (v if v is not None else \"\") for k, v in example.items()}\n",
    "    for example in few_shots\n",
    "]\n",
    "\n",
    "vectorstore = Chroma.from_texts(to_vectorize, embeddings, metadatas=metadatas)\n",
    "\n",
    "example_selector = SemanticSimilarityExampleSelector(\n",
    "    vectorstore=vectorstore,\n",
    "    k=1,\n",
    ")\n",
    "example_selector.select_examples({\"Question\": \"Do dogs bark?\"})\n"
   ]
  },
  {
   "cell_type": "code",
   "execution_count": 10,
   "metadata": {},
   "outputs": [],
   "source": [
    "# Define the custom prompt for SQL database interactions\n",
    "custom_mysql_prompt = \"\"\"You are an expert in converting natural language into MySQL queries. Follow these instructions carefully to ensure accuracy:\n",
    "1. Only use the columns specified in the table information provided below.\n",
    "2. Before proceeding, check if the columns mentioned in the user's natural language query are found in the database. If not, respond with \"Sorry, I don't have access to the information.\"\n",
    "3. If the columns mentioned in the user's natural language are not found, send the response \"Sorry, no information available\" and abort/exit without proceeding further.\n",
    "4. Use the CURDATE() function to get the current date when the question involves \"today,\" \"last month,\" \"last year,\" or \"last week.\"\n",
    "5. Ensure that your queries are syntactically correct and optimized for performance.\n",
    "6. Provide clear, accurate, and concise SQL queries without making assumptions beyond the given data.\n",
    "\n",
    "Table information:\n",
    "1. `transactions` with columns: `Account_No`, `Date`, `Transaction_details`, `Value_date`, `Withdrawal_amount`, `Deposit_amount`, `Balance_amount`\n",
    "\n",
    "Use queries for at most {top_k} results.\n",
    "Remember to only use the provided table columns and structure your queries to handle the specified requests accurately.\"\"\"\n",
    "\n",
    "example_prompt = PromptTemplate(\n",
    "    input_variables=[\"Question\", \"SQLQuery\", \"SQLResult\", \"Answer\"],\n",
    "    template=\"\\nQuestion: {Question}\\nSQLQuery: {SQLQuery}\\nSQLResult: {SQLResult}\\nAnswer: {Answer}\",\n",
    ")\n",
    "\n",
    "suffix_eg = \"Question: {input}\"\n",
    "\n",
    "few_shot_prompt = FewShotPromptTemplate(\n",
    "    example_selector=example_selector,\n",
    "    example_prompt=example_prompt,\n",
    "    prefix=custom_mysql_prompt,\n",
    "    suffix=suffix_eg,\n",
    "    input_variables=[\"input\", \"top_k\"],  # These variables are used in the prefix and suffix\n",
    ")\n"
   ]
  },
  {
   "cell_type": "code",
   "execution_count": 24,
   "metadata": {},
   "outputs": [],
   "source": [
    "class CustomSQLDatabaseChain(SQLDatabaseChain):\n",
    "    def __init__(self, llm, db, prompt, verbose=False):\n",
    "        super().__init__(llm=llm, db=db, prompt=prompt, verbose=verbose)\n",
    "\n",
    "    def _call(self, inputs):\n",
    "        query = inputs['input']\n",
    "        \n",
    "        # Extract columns from user query\n",
    "        columns_in_query = extract_columns_from_query(query)\n",
    "        \n",
    "        # Validate columns against the schema\n",
    "        valid_columns = set()\n",
    "        for table, cols in self.db.table_info.items():  # Use self.db.table_info\n",
    "            valid_columns.update([col['name'] for col in cols['columns']])\n",
    "        \n",
    "        if not columns_in_query.issubset(valid_columns):\n",
    "            return {\"output\": \"Sorry, information is not available\"}\n",
    "        \n",
    "        # Proceed with the original SQLDatabaseChain\n",
    "        return super()._call(inputs)\n"
   ]
  },
  {
   "cell_type": "code",
   "execution_count": 25,
   "metadata": {},
   "outputs": [
    {
     "name": "stderr",
     "output_type": "stream",
     "text": [
      "c:\\Users\\Prabal Kuinkel\\Desktop\\ARL-Intern\\privategpt\\privategpt\\Lib\\site-packages\\langchain_experimental\\sql\\base.py:77: UserWarning: Directly instantiating an SQLDatabaseChain with an llm is deprecated. Please instantiate with llm_chain argument or using the from_llm class method.\n",
      "  warnings.warn(\n"
     ]
    },
    {
     "ename": "KeyError",
     "evalue": "'database'",
     "output_type": "error",
     "traceback": [
      "\u001b[1;31m---------------------------------------------------------------------------\u001b[0m",
      "\u001b[1;31mKeyError\u001b[0m                                  Traceback (most recent call last)",
      "Cell \u001b[1;32mIn[25], line 6\u001b[0m\n\u001b[0;32m      2\u001b[0m llm \u001b[38;5;241m=\u001b[39m CTransformers(model\u001b[38;5;241m=\u001b[39m\u001b[38;5;124m\"\u001b[39m\u001b[38;5;124mmodel/llama-2-7b-chat.ggmlv3.q4_0.bin\u001b[39m\u001b[38;5;124m\"\u001b[39m,\n\u001b[0;32m      3\u001b[0m                     model_type\u001b[38;5;241m=\u001b[39m\u001b[38;5;124m\"\u001b[39m\u001b[38;5;124mllama\u001b[39m\u001b[38;5;124m\"\u001b[39m, config\u001b[38;5;241m=\u001b[39m{\u001b[38;5;124m'\u001b[39m\u001b[38;5;124mmax_new_tokens\u001b[39m\u001b[38;5;124m'\u001b[39m: \u001b[38;5;241m3800\u001b[39m, \u001b[38;5;124m'\u001b[39m\u001b[38;5;124mtemperature\u001b[39m\u001b[38;5;124m'\u001b[39m: \u001b[38;5;241m0.5\u001b[39m, \u001b[38;5;124m'\u001b[39m\u001b[38;5;124mcontext_length\u001b[39m\u001b[38;5;124m'\u001b[39m: \u001b[38;5;241m3600\u001b[39m})\n\u001b[0;32m      5\u001b[0m \u001b[38;5;66;03m# Initialize the custom chain\u001b[39;00m\n\u001b[1;32m----> 6\u001b[0m custom_chain \u001b[38;5;241m=\u001b[39m \u001b[43mCustomSQLDatabaseChain\u001b[49m\u001b[43m(\u001b[49m\u001b[43mllm\u001b[49m\u001b[38;5;241;43m=\u001b[39;49m\u001b[43mllm\u001b[49m\u001b[43m,\u001b[49m\u001b[43m \u001b[49m\u001b[43mdb\u001b[49m\u001b[38;5;241;43m=\u001b[39;49m\u001b[43mdb\u001b[49m\u001b[43m,\u001b[49m\u001b[43m \u001b[49m\u001b[43mprompt\u001b[49m\u001b[38;5;241;43m=\u001b[39;49m\u001b[43mfew_shot_prompt\u001b[49m\u001b[43m,\u001b[49m\u001b[43m \u001b[49m\u001b[43mverbose\u001b[49m\u001b[38;5;241;43m=\u001b[39;49m\u001b[38;5;28;43;01mTrue\u001b[39;49;00m\u001b[43m)\u001b[49m\n\u001b[0;32m      7\u001b[0m \u001b[38;5;66;03m# Example usage\u001b[39;00m\n\u001b[0;32m      8\u001b[0m result \u001b[38;5;241m=\u001b[39m custom_chain({\u001b[38;5;124m\"\u001b[39m\u001b[38;5;124minput\u001b[39m\u001b[38;5;124m\"\u001b[39m: \u001b[38;5;124m\"\u001b[39m\u001b[38;5;124mWill it rain today?\u001b[39m\u001b[38;5;124m\"\u001b[39m})\n",
      "Cell \u001b[1;32mIn[24], line 3\u001b[0m, in \u001b[0;36mCustomSQLDatabaseChain.__init__\u001b[1;34m(self, llm, db, prompt, verbose)\u001b[0m\n\u001b[0;32m      2\u001b[0m \u001b[38;5;28;01mdef\u001b[39;00m \u001b[38;5;21m__init__\u001b[39m(\u001b[38;5;28mself\u001b[39m, llm, db, prompt, verbose\u001b[38;5;241m=\u001b[39m\u001b[38;5;28;01mFalse\u001b[39;00m):\n\u001b[1;32m----> 3\u001b[0m     \u001b[38;5;28;43msuper\u001b[39;49m\u001b[43m(\u001b[49m\u001b[43m)\u001b[49m\u001b[38;5;241;43m.\u001b[39;49m\u001b[38;5;21;43m__init__\u001b[39;49m\u001b[43m(\u001b[49m\u001b[43mllm\u001b[49m\u001b[38;5;241;43m=\u001b[39;49m\u001b[43mllm\u001b[49m\u001b[43m,\u001b[49m\u001b[43m \u001b[49m\u001b[43mdb\u001b[49m\u001b[38;5;241;43m=\u001b[39;49m\u001b[43mdb\u001b[49m\u001b[43m,\u001b[49m\u001b[43m \u001b[49m\u001b[43mprompt\u001b[49m\u001b[38;5;241;43m=\u001b[39;49m\u001b[43mprompt\u001b[49m\u001b[43m,\u001b[49m\u001b[43m \u001b[49m\u001b[43mverbose\u001b[49m\u001b[38;5;241;43m=\u001b[39;49m\u001b[43mverbose\u001b[49m\u001b[43m)\u001b[49m\n",
      "File \u001b[1;32mc:\\Users\\Prabal Kuinkel\\Desktop\\ARL-Intern\\privategpt\\privategpt\\Lib\\site-packages\\pydantic\\v1\\main.py:339\u001b[0m, in \u001b[0;36mBaseModel.__init__\u001b[1;34m(__pydantic_self__, **data)\u001b[0m\n\u001b[0;32m    333\u001b[0m \u001b[38;5;250m\u001b[39m\u001b[38;5;124;03m\"\"\"\u001b[39;00m\n\u001b[0;32m    334\u001b[0m \u001b[38;5;124;03mCreate a new model by parsing and validating input data from keyword arguments.\u001b[39;00m\n\u001b[0;32m    335\u001b[0m \n\u001b[0;32m    336\u001b[0m \u001b[38;5;124;03mRaises ValidationError if the input data cannot be parsed to form a valid model.\u001b[39;00m\n\u001b[0;32m    337\u001b[0m \u001b[38;5;124;03m\"\"\"\u001b[39;00m\n\u001b[0;32m    338\u001b[0m \u001b[38;5;66;03m# Uses something other than `self` the first arg to allow \"self\" as a settable attribute\u001b[39;00m\n\u001b[1;32m--> 339\u001b[0m values, fields_set, validation_error \u001b[38;5;241m=\u001b[39m \u001b[43mvalidate_model\u001b[49m\u001b[43m(\u001b[49m\u001b[43m__pydantic_self__\u001b[49m\u001b[38;5;241;43m.\u001b[39;49m\u001b[38;5;18;43m__class__\u001b[39;49m\u001b[43m,\u001b[49m\u001b[43m \u001b[49m\u001b[43mdata\u001b[49m\u001b[43m)\u001b[49m\n\u001b[0;32m    340\u001b[0m \u001b[38;5;28;01mif\u001b[39;00m validation_error:\n\u001b[0;32m    341\u001b[0m     \u001b[38;5;28;01mraise\u001b[39;00m validation_error\n",
      "File \u001b[1;32mc:\\Users\\Prabal Kuinkel\\Desktop\\ARL-Intern\\privategpt\\privategpt\\Lib\\site-packages\\pydantic\\v1\\main.py:1048\u001b[0m, in \u001b[0;36mvalidate_model\u001b[1;34m(model, input_data, cls)\u001b[0m\n\u001b[0;32m   1046\u001b[0m \u001b[38;5;28;01mfor\u001b[39;00m validator \u001b[38;5;129;01min\u001b[39;00m model\u001b[38;5;241m.\u001b[39m__pre_root_validators__:\n\u001b[0;32m   1047\u001b[0m     \u001b[38;5;28;01mtry\u001b[39;00m:\n\u001b[1;32m-> 1048\u001b[0m         input_data \u001b[38;5;241m=\u001b[39m \u001b[43mvalidator\u001b[49m\u001b[43m(\u001b[49m\u001b[43mcls_\u001b[49m\u001b[43m,\u001b[49m\u001b[43m \u001b[49m\u001b[43minput_data\u001b[49m\u001b[43m)\u001b[49m\n\u001b[0;32m   1049\u001b[0m     \u001b[38;5;28;01mexcept\u001b[39;00m (\u001b[38;5;167;01mValueError\u001b[39;00m, \u001b[38;5;167;01mTypeError\u001b[39;00m, \u001b[38;5;167;01mAssertionError\u001b[39;00m) \u001b[38;5;28;01mas\u001b[39;00m exc:\n\u001b[0;32m   1050\u001b[0m         \u001b[38;5;28;01mreturn\u001b[39;00m {}, \u001b[38;5;28mset\u001b[39m(), ValidationError([ErrorWrapper(exc, loc\u001b[38;5;241m=\u001b[39mROOT_KEY)], cls_)\n",
      "File \u001b[1;32mc:\\Users\\Prabal Kuinkel\\Desktop\\ARL-Intern\\privategpt\\privategpt\\Lib\\site-packages\\langchain_experimental\\sql\\base.py:83\u001b[0m, in \u001b[0;36mSQLDatabaseChain.raise_deprecation\u001b[1;34m(cls, values)\u001b[0m\n\u001b[0;32m     77\u001b[0m warnings\u001b[38;5;241m.\u001b[39mwarn(\n\u001b[0;32m     78\u001b[0m     \u001b[38;5;124m\"\u001b[39m\u001b[38;5;124mDirectly instantiating an SQLDatabaseChain with an llm is deprecated. \u001b[39m\u001b[38;5;124m\"\u001b[39m\n\u001b[0;32m     79\u001b[0m     \u001b[38;5;124m\"\u001b[39m\u001b[38;5;124mPlease instantiate with llm_chain argument or using the from_llm \u001b[39m\u001b[38;5;124m\"\u001b[39m\n\u001b[0;32m     80\u001b[0m     \u001b[38;5;124m\"\u001b[39m\u001b[38;5;124mclass method.\u001b[39m\u001b[38;5;124m\"\u001b[39m\n\u001b[0;32m     81\u001b[0m )\n\u001b[0;32m     82\u001b[0m \u001b[38;5;28;01mif\u001b[39;00m \u001b[38;5;124m\"\u001b[39m\u001b[38;5;124mllm_chain\u001b[39m\u001b[38;5;124m\"\u001b[39m \u001b[38;5;129;01mnot\u001b[39;00m \u001b[38;5;129;01min\u001b[39;00m values \u001b[38;5;129;01mand\u001b[39;00m values[\u001b[38;5;124m\"\u001b[39m\u001b[38;5;124mllm\u001b[39m\u001b[38;5;124m\"\u001b[39m] \u001b[38;5;129;01mis\u001b[39;00m \u001b[38;5;129;01mnot\u001b[39;00m \u001b[38;5;28;01mNone\u001b[39;00m:\n\u001b[1;32m---> 83\u001b[0m     database \u001b[38;5;241m=\u001b[39m \u001b[43mvalues\u001b[49m\u001b[43m[\u001b[49m\u001b[38;5;124;43m\"\u001b[39;49m\u001b[38;5;124;43mdatabase\u001b[39;49m\u001b[38;5;124;43m\"\u001b[39;49m\u001b[43m]\u001b[49m\n\u001b[0;32m     84\u001b[0m     prompt \u001b[38;5;241m=\u001b[39m values\u001b[38;5;241m.\u001b[39mget(\u001b[38;5;124m\"\u001b[39m\u001b[38;5;124mprompt\u001b[39m\u001b[38;5;124m\"\u001b[39m) \u001b[38;5;129;01mor\u001b[39;00m SQL_PROMPTS\u001b[38;5;241m.\u001b[39mget(\n\u001b[0;32m     85\u001b[0m         database\u001b[38;5;241m.\u001b[39mdialect, PROMPT\n\u001b[0;32m     86\u001b[0m     )\n\u001b[0;32m     87\u001b[0m     values[\u001b[38;5;124m\"\u001b[39m\u001b[38;5;124mllm_chain\u001b[39m\u001b[38;5;124m\"\u001b[39m] \u001b[38;5;241m=\u001b[39m LLMChain(llm\u001b[38;5;241m=\u001b[39mvalues[\u001b[38;5;124m\"\u001b[39m\u001b[38;5;124mllm\u001b[39m\u001b[38;5;124m\"\u001b[39m], prompt\u001b[38;5;241m=\u001b[39mprompt)\n",
      "\u001b[1;31mKeyError\u001b[0m: 'database'"
     ]
    }
   ],
   "source": [
    "# Initialize LLM\n",
    "llm = CTransformers(model=\"model/llama-2-7b-chat.ggmlv3.q4_0.bin\",\n",
    "                    model_type=\"llama\", config={'max_new_tokens': 3800, 'temperature': 0.5, 'context_length': 3600})\n",
    "\n",
    "# Initialize the custom chain\n",
    "custom_chain = CustomSQLDatabaseChain(llm=llm, db=db, prompt=few_shot_prompt, verbose=True)\n",
    "# Example usage\n",
    "result = custom_chain({\"input\": \"Will it rain today?\"})\n",
    "print(result['output'])  # Output should be \"Sorry, information is not available\"\n",
    "\n",
    "result = custom_chain({\"input\": \"What is my income in my last 3 months. My Account Number is 409000493201?\"})\n",
    "print(result['output'])  # This will process the query if columns are valid\n"
   ]
  },
  {
   "cell_type": "code",
   "execution_count": null,
   "metadata": {},
   "outputs": [],
   "source": []
  },
  {
   "cell_type": "code",
   "execution_count": 6,
   "metadata": {},
   "outputs": [
    {
     "name": "stdout",
     "output_type": "stream",
     "text": [
      "\n",
      "CREATE TABLE transactions (\n",
      "\t`Account_No` VARCHAR(50) NOT NULL, \n",
      "\t`Transaction_details` TEXT, \n",
      "\t`Withdrawal_amount` INTEGER, \n",
      "\t`Deposit_amount` INTEGER, \n",
      "\t`Balance_amount` INTEGER, \n",
      "\t`Value_date` DATE, \n",
      "\t`Date` DATE\n",
      ")DEFAULT CHARSET=utf8mb4 COLLATE utf8mb4_0900_ai_ci ENGINE=InnoDB\n",
      "\n",
      "/*\n",
      "3 rows from transactions table:\n",
      "Account_No\tTransaction_details\tWithdrawal_amount\tDeposit_amount\tBalance_amount\tValue_date\tDate\n",
      "409000611074'\tTRF FROM  Indiaforensic SERVICES\t0\t1000000\t1000000\t2022-10-05\t2022-10-05\n",
      "409000611074'\tTRF FROM  Indiaforensic SERVICES\t0\t1000000\t2000000\t2022-10-11\t2022-10-11\n",
      "409000611074'\tFDRL/INTERNAL FUND TRANSFE\t0\t500000\t2500000\t2022-10-24\t2022-10-24\n",
      "*/\n"
     ]
    }
   ],
   "source": [
    "print(table_info)"
   ]
  },
  {
   "cell_type": "code",
   "execution_count": null,
   "metadata": {},
   "outputs": [],
   "source": []
  },
  {
   "cell_type": "code",
   "execution_count": null,
   "metadata": {},
   "outputs": [],
   "source": []
  },
  {
   "cell_type": "code",
   "execution_count": null,
   "metadata": {},
   "outputs": [],
   "source": []
  },
  {
   "cell_type": "code",
   "execution_count": null,
   "metadata": {},
   "outputs": [],
   "source": []
  },
  {
   "cell_type": "code",
   "execution_count": null,
   "metadata": {},
   "outputs": [],
   "source": []
  },
  {
   "cell_type": "code",
   "execution_count": null,
   "metadata": {},
   "outputs": [],
   "source": []
  }
 ],
 "metadata": {
  "kernelspec": {
   "display_name": "privategpt",
   "language": "python",
   "name": "python3"
  },
  "language_info": {
   "codemirror_mode": {
    "name": "ipython",
    "version": 3
   },
   "file_extension": ".py",
   "mimetype": "text/x-python",
   "name": "python",
   "nbconvert_exporter": "python",
   "pygments_lexer": "ipython3",
   "version": "3.11.7"
  }
 },
 "nbformat": 4,
 "nbformat_minor": 2
}

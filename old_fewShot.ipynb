{
 "cells": [
  {
   "cell_type": "code",
   "execution_count": null,
   "metadata": {},
   "outputs": [],
   "source": []
  },
  {
   "cell_type": "code",
   "execution_count": null,
   "metadata": {},
   "outputs": [],
   "source": [
    "import mysql.connector\n",
    "\n",
    "# Connect to your MySQL database\n",
    "conn = mysql.connector.connect(\n",
    "    username='root',\n",
    "    password='prabal9869',\n",
    "    host='127.0.0.1',\n",
    "    database='arl_bank'\n",
    ")\n",
    "cursor = conn.cursor()\n",
    "\n",
    "# Example SQL query\n",
    "query = \"\"\"SELECT COUNT(*) AS Total_Withdrawals\n",
    "                   FROM transactions\n",
    "                   WHERE YEAR(Value_date) = YEAR(CURRENT_DATE())\n",
    "                   AND Withdrawal_amount IS NOT NULL\"\"\"\n",
    "\n",
    "# Execute the query\n",
    "cursor.execute(query)\n",
    "\n",
    "# Fetch all rows from the result set\n",
    "rows = cursor.fetchall()\n",
    "\n",
    "# Get column names from cursor description\n",
    "column_names = [desc[0] for desc in cursor.description]\n",
    "\n",
    "# Initialize an empty list to store dictionaries\n",
    "results = []\n",
    "\n",
    "# Iterate over the rows fetched from the database\n",
    "for row in rows:\n",
    "    # Create a dictionary for each row using column names\n",
    "    result_dict = dict(zip(column_names, row))\n",
    "    # Append the dictionary to the results list\n",
    "    results.append(result_dict)\n",
    "\n",
    "# Close cursor and connection\n",
    "cursor.close()\n",
    "conn.close()\n",
    "\n",
    "# Print or further process the results list of dictionaries\n",
    "print(results)\n"
   ]
  },
  {
   "cell_type": "code",
   "execution_count": null,
   "metadata": {},
   "outputs": [],
   "source": [
    "# Use a pipeline as a high-level helper\n",
    "from transformers import pipeline\n",
    "\n",
    "pipe = pipeline(\"text-generation\", model=\"prabal123/finetunedopenllama3B-nl-sql-8E-logical-reasoning-2E-divisive-6\")"
   ]
  },
  {
   "cell_type": "code",
   "execution_count": null,
   "metadata": {},
   "outputs": [],
   "source": []
  }
 ],
 "metadata": {
  "kernelspec": {
   "display_name": "privategpt",
   "language": "python",
   "name": "python3"
  },
  "language_info": {
   "codemirror_mode": {
    "name": "ipython",
    "version": 3
   },
   "file_extension": ".py",
   "mimetype": "text/x-python",
   "name": "python",
   "nbconvert_exporter": "python",
   "pygments_lexer": "ipython3",
   "version": "3.11.7"
  }
 },
 "nbformat": 4,
 "nbformat_minor": 2
}
